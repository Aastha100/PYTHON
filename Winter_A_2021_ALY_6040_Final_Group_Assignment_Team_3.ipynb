{
  "nbformat": 4,
  "nbformat_minor": 0,
  "metadata": {
    "colab": {
      "name": "Winter_A_2021_ALY_6040_Final Group Assignment_Team_3.ipynb",
      "provenance": [],
      "collapsed_sections": []
    },
    "kernelspec": {
      "display_name": "Python 3",
      "language": "python",
      "name": "python3"
    },
    "language_info": {
      "codemirror_mode": {
        "name": "ipython",
        "version": 3
      },
      "file_extension": ".py",
      "mimetype": "text/x-python",
      "name": "python",
      "nbconvert_exporter": "python",
      "pygments_lexer": "ipython3",
      "version": "3.7.4"
    }
  },
  "cells": [
    {
      "cell_type": "code",
      "metadata": {
        "colab": {
          "base_uri": "https://localhost:8080/"
        },
        "id": "c76uySR3wyIe",
        "outputId": "4108b009-271f-422b-b9fd-098a72b06919"
      },
      "source": [
        "!pip install htmltext\n",
        "!pip install prettify\n",
        "!pip install selenium\n",
        "!apt-get update # to update ubuntu to correctly run apt install\n",
        "!apt install chromium-chromedriver\n",
        "!sudo apt install libmysqlclient-dev\n",
        "!pip install mysql\n",
        "!pip install mysql-connector-python-rf\n",
        "\n",
        "\n",
        "#!cp /usr/lib/chromium-browser/chromedriver /usr/bin\n",
        "import sys\n",
        "sys.path.insert(0,'/usr/lib/chromium-browser/chromedriver')\n",
        "from selenium import webdriver\n",
        "from selenium.webdriver.common.keys import Keys\n",
        "from selenium.webdriver.common.by import By\n",
        "\n",
        "from datetime import datetime, date\n",
        "import htmltext\n",
        "import lxml\n",
        "from lxml.html.soupparser import fromstring\n",
        "import math\n",
        "import mysql.connector\n",
        "import numbers\n",
        "import os\n",
        "import prettify\n",
        "from pytz import timezone\n",
        "import pytz\n",
        "from random import randint\n",
        "import regex as re\n",
        "import subprocess\n",
        "import sys\n",
        "import time\n",
        "\n",
        "import requests\n",
        "from bs4 import BeautifulSoup\n",
        "import pandas as pd\n",
        "import seaborn as sns\n",
        "import matplotlib.pyplot as plt\n",
        "from sklearn.linear_model import LinearRegression\n",
        "from sklearn.model_selection import train_test_split as holdout\n",
        "from sklearn.preprocessing import PolynomialFeatures\n",
        "from sklearn import metrics\n",
        "import numpy as np\n",
        "from sklearn.neighbors import KNeighborsClassifier \n",
        "from sklearn.datasets import load_iris \n",
        "import tensorflow as tf\n",
        "from tensorflow import keras\n",
        "from tensorflow.keras import layers\n",
        "from tensorflow.keras.layers.experimental import preprocessing\n",
        "\n",
        "from keras.models import Sequential\n",
        "from keras.layers import Dense\n",
        "from sklearn.metrics import r2_score\n",
        "import matplotlib.pyplot as plt\n",
        "import numpy\n",
        "from sklearn.model_selection import train_test_split\n",
        "print(tf.__version__)\n"
      ],
      "execution_count": null,
      "outputs": [
        {
          "output_type": "stream",
          "text": [
            "Requirement already satisfied: htmltext in /usr/local/lib/python3.7/dist-packages (0.0.7)\n",
            "Requirement already satisfied: lxml in /usr/local/lib/python3.7/dist-packages (from htmltext) (4.2.6)\n",
            "Requirement already satisfied: beautifulsoup4 in /usr/local/lib/python3.7/dist-packages (from htmltext) (4.6.3)\n",
            "Requirement already satisfied: prettify in /usr/local/lib/python3.7/dist-packages (0.1.1)\n",
            "Requirement already satisfied: selenium in /usr/local/lib/python3.7/dist-packages (3.141.0)\n",
            "Requirement already satisfied: urllib3 in /usr/local/lib/python3.7/dist-packages (from selenium) (1.24.3)\n",
            "Hit:1 https://cloud.r-project.org/bin/linux/ubuntu bionic-cran40/ InRelease\n",
            "Ign:2 https://developer.download.nvidia.com/compute/cuda/repos/ubuntu1804/x86_64  InRelease\n",
            "Hit:3 http://security.ubuntu.com/ubuntu bionic-security InRelease\n",
            "Ign:4 https://developer.download.nvidia.com/compute/machine-learning/repos/ubuntu1804/x86_64  InRelease\n",
            "Hit:5 https://developer.download.nvidia.com/compute/cuda/repos/ubuntu1804/x86_64  Release\n",
            "Hit:6 https://developer.download.nvidia.com/compute/machine-learning/repos/ubuntu1804/x86_64  Release\n",
            "Get:7 http://ppa.launchpad.net/c2d4u.team/c2d4u4.0+/ubuntu bionic InRelease [15.9 kB]\n",
            "Hit:8 http://archive.ubuntu.com/ubuntu bionic InRelease\n",
            "Hit:11 http://archive.ubuntu.com/ubuntu bionic-updates InRelease\n",
            "Hit:12 http://archive.ubuntu.com/ubuntu bionic-backports InRelease\n",
            "Hit:13 http://ppa.launchpad.net/cran/libgit2/ubuntu bionic InRelease\n",
            "Hit:14 http://ppa.launchpad.net/deadsnakes/ppa/ubuntu bionic InRelease\n",
            "Hit:15 http://ppa.launchpad.net/graphics-drivers/ppa/ubuntu bionic InRelease\n",
            "Get:16 http://ppa.launchpad.net/c2d4u.team/c2d4u4.0+/ubuntu bionic/main amd64 Packages [889 kB]\n",
            "Fetched 905 kB in 4s (203 kB/s)\n",
            "Reading package lists... Done\n",
            "Reading package lists... Done\n",
            "Building dependency tree       \n",
            "Reading state information... Done\n",
            "chromium-chromedriver is already the newest version (87.0.4280.66-0ubuntu0.18.04.1).\n",
            "0 upgraded, 0 newly installed, 0 to remove and 29 not upgraded.\n",
            "Reading package lists... Done\n",
            "Building dependency tree       \n",
            "Reading state information... Done\n",
            "libmysqlclient-dev is already the newest version (5.7.33-0ubuntu0.18.04.1).\n",
            "0 upgraded, 0 newly installed, 0 to remove and 29 not upgraded.\n",
            "Requirement already satisfied: mysql in /usr/local/lib/python3.7/dist-packages (0.0.2)\n",
            "Requirement already satisfied: mysqlclient in /usr/local/lib/python3.7/dist-packages (from mysql) (2.0.3)\n",
            "Requirement already satisfied: mysql-connector-python-rf in /usr/local/lib/python3.7/dist-packages (2.2.2)\n",
            "2.4.1\n"
          ],
          "name": "stdout"
        }
      ]
    },
    {
      "cell_type": "code",
      "metadata": {
        "id": "j0dWOxuJj8P_"
      },
      "source": [
        "np.set_printoptions(precision=3, suppress=True)"
      ],
      "execution_count": null,
      "outputs": []
    },
    {
      "cell_type": "code",
      "metadata": {
        "id": "wGtlxZq1pFRC"
      },
      "source": [
        "header = {\n",
        "    \"User-Agent\": \"Mozilla/5.0 (Macintosh; Intel Mac OS X 10_15_7) AppleWebKit/537.36 (KHTML, like Gecko) Chrome/87.0.4280.88 Safari/537.36\",\n",
        "    \"Accept-Language\": \"en-US,en;q=0.9\"\n",
        "}"
      ],
      "execution_count": null,
      "outputs": []
    },
    {
      "cell_type": "code",
      "metadata": {
        "id": "Nw3-sU-MpFRE"
      },
      "source": [
        "urls = []\n",
        "links = []\n",
        "x = 'https://www.zillow.com/homes/{}_rb/'\n",
        "zip_code = ['10022', '10007', '10469', '11693', '11203']\n",
        "#'95035','95036','95032','95030','95038','95051'"
      ],
      "execution_count": null,
      "outputs": []
    },
    {
      "cell_type": "code",
      "metadata": {
        "id": "CAvYPRNspFRE"
      },
      "source": [
        "# create links with different zip codes and add into url list\n",
        "for i in zip_code:\n",
        "    new_link = x.format(i)\n",
        "    urls.append(new_link)"
      ],
      "execution_count": null,
      "outputs": []
    },
    {
      "cell_type": "code",
      "metadata": {
        "colab": {
          "base_uri": "https://localhost:8080/"
        },
        "id": "tqBnE4eKpFRF",
        "outputId": "4f981297-4aba-40b7-8b45-ecd542b15b47"
      },
      "source": [
        "print(len(urls))\n",
        "print(urls)"
      ],
      "execution_count": null,
      "outputs": [
        {
          "output_type": "stream",
          "text": [
            "5\n",
            "['https://www.zillow.com/homes/10022_rb/', 'https://www.zillow.com/homes/10007_rb/', 'https://www.zillow.com/homes/10469_rb/', 'https://www.zillow.com/homes/11693_rb/', 'https://www.zillow.com/homes/11203_rb/']\n"
          ],
          "name": "stdout"
        }
      ]
    },
    {
      "cell_type": "code",
      "metadata": {
        "id": "8A0RQEEipFRK"
      },
      "source": [
        "\n",
        "price = []\n",
        "bed=[]\n",
        "bath=[]\n",
        "sqft=[]\n",
        "house_info=[]\n",
        "address = []\n",
        "real_estate = []\n",
        "last_updated = []\n",
        "links = []\n",
        "\n",
        "for url in urls:\n",
        "    response = requests.get(url, headers=header)\n",
        "    data = response.text\n",
        "    soup = BeautifulSoup(data, 'html.parser')\n",
        "\n",
        "    amount = list(soup.find_all('div', class_='list-card-price'))\n",
        "\n",
        "    for i in amount:\n",
        "        price.append(i.text)\n",
        "\n",
        "    for house in soup.find_all('ul', class_='list-card-details'):\n",
        "        house_info.append([i.text for i in house.find_all('li', class_='')])\n",
        "\n",
        "    x = list(soup.find_all('address', class_='list-card-addr'))\n",
        "    for i in x:\n",
        "        address.append(i.text)\n",
        "    \n",
        "    \n",
        "    #detail = soup.find_all('div', {'class': 'list-card-details'}) #This doesn't seem to work, but looks useful\n",
        "    #for i in detail:\n",
        "    #    details.append(detail)\n",
        "        \n",
        "    types = list(soup.find_all('div', {'class': 'list-card-footer'}))\n",
        "    for i in types:\n",
        "        real_estate.append(i.text)\n",
        "        \n",
        "    updated = list(soup.find_all('div', {'class': 'list-card-top'}))\n",
        "    for i in updated:\n",
        "        last_updated.append(i.text)\n",
        "        \n",
        "    link = list(soup.find_all('a',class_= 'list-card-link list-card-link-top-margin'))\n",
        "    for i in link:\n",
        "        links.append(i.get('href'))\n"
      ],
      "execution_count": null,
      "outputs": []
    },
    {
      "cell_type": "code",
      "metadata": {
        "colab": {
          "base_uri": "https://localhost:8080/"
        },
        "id": "6ju9FbVLA2XJ",
        "outputId": "be33c54a-6cdf-47eb-a51e-3058b26935cd"
      },
      "source": [
        "print(links[20])"
      ],
      "execution_count": null,
      "outputs": [
        {
          "output_type": "stream",
          "text": [
            "https://www.zillow.com/homedetails/136-E-56th-St-APT-4G-New-York-NY-10022/244871286_zpid/\n"
          ],
          "name": "stdout"
        }
      ]
    },
    {
      "cell_type": "code",
      "metadata": {
        "id": "ewnOS8DlBn9d"
      },
      "source": [
        "np.set_printoptions(precision=3, suppress=True)"
      ],
      "execution_count": null,
      "outputs": []
    },
    {
      "cell_type": "code",
      "metadata": {
        "id": "tFgsyRdkBpGI"
      },
      "source": [
        "header = {\n",
        "    \"User-Agent\": \"Mozilla/5.0 (Macintosh; Intel Mac OS X 10_15_7) AppleWebKit/537.36 (KHTML, like Gecko) Chrome/87.0.4280.88 Safari/537.36\",\n",
        "    \"Accept-Language\": \"en-US,en;q=0.9\"\n",
        "}"
      ],
      "execution_count": null,
      "outputs": []
    },
    {
      "cell_type": "code",
      "metadata": {
        "id": "NNFhA1Hj3MWb"
      },
      "source": [
        "img=[]\n",
        "for link in links:\n",
        "    response = requests.get(link, headers=header)\n",
        "    data = response.text\n",
        "    soup = BeautifulSoup(data, 'html.parser')\n",
        "    #im = list(soup.find_all('div', class_=\"list-card-top\")[0])\n",
        "    im = list(soup.find_all('div', class_='hdp-photo-carousel'))\n",
        "    for i in im:\n",
        "        image=i.find_all('img')[0]\n",
        "        img.append(image.get('src'))"
      ],
      "execution_count": null,
      "outputs": []
    },
    {
      "cell_type": "code",
      "metadata": {
        "colab": {
          "base_uri": "https://localhost:8080/"
        },
        "id": "bwf_2V7JpFRJ",
        "outputId": "bb218056-9f64-4976-febe-829ed902ddd2"
      },
      "source": [
        "print(len(price))\n",
        "print(len(house_info))\n",
        "print(len(address))\n",
        "print(len(real_estate))\n",
        "print(len(last_updated))\n",
        "print(len(links))\n",
        "print(len(img))"
      ],
      "execution_count": null,
      "outputs": [
        {
          "output_type": "stream",
          "text": [
            "181\n",
            "181\n",
            "181\n",
            "181\n",
            "181\n",
            "181\n",
            "181\n"
          ],
          "name": "stdout"
        }
      ]
    },
    {
      "cell_type": "code",
      "metadata": {
        "colab": {
          "base_uri": "https://localhost:8080/"
        },
        "id": "f-65gRLR36K5",
        "outputId": "8086f493-8905-4c0a-fb91-87efb6e0bcb3"
      },
      "source": [
        "print(links)"
      ],
      "execution_count": null,
      "outputs": [
        {
          "output_type": "stream",
          "text": [
            "['https://www.zillow.com/homedetails/419-E-57th-St-APT-12C-New-York-NY-10022/82774987_zpid/', 'https://www.zillow.com/homedetails/420-E-55th-St-APT-1F-New-York-NY-10022/2076494300_zpid/', 'https://www.zillow.com/homedetails/110-E-57th-St-APT-3F-New-York-NY-10022/2073393313_zpid/', 'https://www.zillow.com/homedetails/212-E-57th-St-APT-5C-New-York-NY-10022/80014153_zpid/', 'https://www.zillow.com/homedetails/303-E-57th-St-APT-9H-New-York-NY-10022/2073522885_zpid/', 'https://www.zillow.com/homedetails/220-E-60th-St-APT-9D-New-York-NY-10022/143150212_zpid/', 'https://www.zillow.com/homedetails/135-E-54th-St-APT-12G-New-York-NY-10022/31528441_zpid/', 'https://www.zillow.com/homedetails/220-E-60th-St-APT-9C-New-York-NY-10022/31535808_zpid/', 'https://www.zillow.com/homedetails/303-E-57th-St-37DE-New-York-NY-10022/2073572102_zpid/', 'https://www.zillow.com/homedetails/333-E-53rd-St-APT-4G-New-York-NY-10022/72525655_zpid/', 'https://www.zillow.com/homedetails/425-E-58th-St-APT-33H-New-York-NY-10022/244873959_zpid/', 'https://www.zillow.com/homedetails/405-E-50th-St-New-York-NY-10022/31532386_zpid/', 'https://www.zillow.com/homedetails/60-Sutton-Pl-S-APT-7AN-New-York-NY-10022/244869985_zpid/', 'https://www.zillow.com/homedetails/227-E-57th-St-APT-7D-New-York-NY-10022/244793730_zpid/', 'https://www.zillow.com/homedetails/415-E-52nd-St-APT-10KC-New-York-NY-10022/72526291_zpid/', 'https://www.zillow.com/homedetails/255-E-49th-St-31ABF-New-York-NY-10022/2077585939_zpid/', 'https://www.zillow.com/homedetails/320-E-57th-St-11D-New-York-NY-10022/244887676_zpid/', 'https://www.zillow.com/homedetails/447-E-57th-St-15-New-York-NY-10022/2073670373_zpid/', 'https://www.zillow.com/homedetails/434-E-52nd-St-APT-6D-New-York-NY-10022/219679867_zpid/', 'https://www.zillow.com/homedetails/227-E-57th-St-APT-8B-New-York-NY-10022/94639117_zpid/', 'https://www.zillow.com/homedetails/136-E-56th-St-APT-4G-New-York-NY-10022/244871286_zpid/', 'https://www.zillow.com/homedetails/16-Sutton-Pl-FLOOR-18B-New-York-NY-10022/123174566_zpid/', 'https://www.zillow.com/homedetails/118-E-60th-St-APT-27H-New-York-NY-10022/89666667_zpid/', 'https://www.zillow.com/homedetails/245-E-54th-St-APT-17D-New-York-NY-10022/119907774_zpid/', 'https://www.zillow.com/homedetails/300-E-54th-St-20KL-New-York-NY-10022/72525741_zpid/', 'https://www.zillow.com/homedetails/781-5th-Ave-APT-1911-New-York-NY-10022/79524276_zpid/', 'https://www.zillow.com/homedetails/300-E-59th-St-APT-506-New-York-NY-10022/114442270_zpid/', 'https://www.zillow.com/homedetails/434-E-52nd-St-APT-9B-New-York-NY-10022/244690888_zpid/', 'https://www.zillow.com/homedetails/303-E-57th-St-APT-32A-New-York-NY-10022/2073861416_zpid/', 'https://www.zillow.com/homedetails/245-E-54th-St-APT-23A-New-York-NY-10022/111033031_zpid/', 'https://www.zillow.com/homedetails/345-E-57th-St-APT-1B-New-York-NY-10022/244891149_zpid/', 'https://www.zillow.com/homedetails/330-E-57th-St-APT-4-New-York-NY-10022/89329879_zpid/', 'https://www.zillow.com/homedetails/641-5th-Ave-23G-New-York-NY-10022/31527569_zpid/', 'https://www.zillow.com/homedetails/400-E-51st-St-APT-27B-New-York-NY-10022/63870339_zpid/', 'https://www.zillow.com/homedetails/781-5th-Ave-815-New-York-NY-10022/244820180_zpid/', 'https://www.zillow.com/homedetails/118-E-60th-St-APT-25E-New-York-NY-10022/244762444_zpid/', 'https://www.zillow.com/homedetails/721-5th-Ave-APT-59B-New-York-NY-10022/2122805433_zpid/', 'https://www.zillow.com/homedetails/240-E-55th-St-APT-LC-New-York-NY-10022/2074354516_zpid/', 'https://www.zillow.com/homedetails/345-E-56th-St-APT-5G-New-York-NY-10022/321910947_zpid/', 'https://www.zillow.com/homedetails/135-E-54th-St-APT-15F-New-York-NY-10022/31528457_zpid/', 'https://www.zillow.com/homedetails/71-Reade-St-APT-2C-New-York-NY-10007/2079316967_zpid/', 'https://www.zillow.com/homedetails/30-Park-Pl-78A-New-York-NY-10007/219636873_zpid/', 'https://www.zillow.com/homedetails/101-Warren-St-APT-1840-New-York-NY-10007/89335558_zpid/', 'https://www.zillow.com/homedetails/99-Warren-St-APT-9H-New-York-NY-10007/2123918273_zpid/', 'https://www.zillow.com/homedetails/295-Greenwich-St-APT-5F-New-York-NY-10007/2073807536_zpid/', 'https://www.zillow.com/homedetails/111-Murray-St-17B-New-York-NY-10007/300199072_zpid/', 'https://www.zillow.com/homedetails/80-Chambers-St-APT-13A-New-York-NY-10007/65316562_zpid/', 'https://www.zillow.com/homedetails/49-Chambers-St-9F-New-York-NY-10007/2074556485_zpid/', 'https://www.zillow.com/homedetails/49-Chambers-St-APT-12A-New-York-NY-10007/2074556491_zpid/', 'https://www.zillow.com/homedetails/111-Murray-St-24W-New-York-NY-10007/300196228_zpid/', 'https://www.zillow.com/homedetails/38-Warren-St-APT-9C-New-York-NY-10007/61965621_zpid/', 'https://www.zillow.com/homedetails/57-Reade-St-APT-14E-New-York-NY-10007/120289560_zpid/', 'https://www.zillow.com/homedetails/30-Warren-St-PENTHOUSE-2-New-York-NY-10007/2075385884_zpid/', 'https://www.zillow.com/homedetails/80-Chambers-St-APT-12D-New-York-NY-10007/63863524_zpid/', 'https://www.zillow.com/homedetails/295-Greenwich-St-APT-10F-New-York-NY-10007/2080216701_zpid/', 'https://www.zillow.com/homedetails/153-Chambers-St-New-York-NY-10007/143077074_zpid/', 'https://www.zillow.com/homedetails/100-Barclay-St-APT-15P-New-York-NY-10007/2095061387_zpid/', 'https://www.zillow.com/homedetails/49-Chambers-St-17C-New-York-NY-10007/2075662675_zpid/', 'https://www.zillow.com/homedetails/49-Chambers-St-PENTHOUSE-D-New-York-NY-10007/2075666149_zpid/', 'https://www.zillow.com/homedetails/80-Chambers-St-APT-11A-New-York-NY-10007/65317328_zpid/', 'https://www.zillow.com/homedetails/100-Barclay-St-APT-14P-New-York-NY-10007/2094803533_zpid/', 'https://www.zillow.com/homedetails/30-Park-Pl-APT-68A-New-York-NY-10007/219636846_zpid/', 'https://www.zillow.com/homedetails/100-Barclay-St-APT-12L-New-York-NY-10007/2095549300_zpid/', 'https://www.zillow.com/homedetails/30-Park-Pl-47E-New-York-NY-10007/219636767_zpid/', 'https://www.zillow.com/homedetails/100-Barclay-St-APT-12S-New-York-NY-10007/2095211996_zpid/', 'https://www.zillow.com/homedetails/100-Barclay-St-APT-12A-New-York-NY-10007/2096800989_zpid/', 'https://www.zillow.com/homedetails/49-Chambers-St-APT-14E-New-York-NY-10007/2076976705_zpid/', 'https://www.zillow.com/homedetails/53-Murray-St-APT-1-New-York-NY-10007/118327098_zpid/', 'https://www.zillow.com/homedetails/100-Barclay-St-APT-12K-New-York-NY-10007/2095594205_zpid/', 'https://www.zillow.com/homedetails/2-Park-Pl-43A-New-York-NY-10007/300200482_zpid/', 'https://www.zillow.com/homedetails/57-Reade-St-APT-10B-New-York-NY-10007/120287294_zpid/', 'https://www.zillow.com/homedetails/101-Warren-St-APT-2420-New-York-NY-10007/89335724_zpid/', 'https://www.zillow.com/homedetails/25-Murray-St-APT-7B-New-York-NY-10007/83934007_zpid/', 'https://www.zillow.com/homedetails/200-Chambers-St-4BC-New-York-NY-10007/2077435861_zpid/', 'https://www.zillow.com/homedetails/37-Warren-St-APT-6A-New-York-NY-10007/122272183_zpid/', 'https://www.zillow.com/homedetails/275-Greenwich-St-APT-2E-New-York-NY-10007/2101233931_zpid/', 'https://www.zillow.com/homedetails/30-Park-Pl-76B-New-York-NY-10007/219636870_zpid/', 'https://www.zillow.com/homedetails/200-Chambers-St-APT-9A-New-York-NY-10007/80006627_zpid/', 'https://www.zillow.com/homedetails/80-Chambers-St-APT-15B-New-York-NY-10007/65316200_zpid/', 'https://www.zillow.com/homedetails/8-Warren-St-FLOOR-7-New-York-NY-10007/83943020_zpid/', 'https://www.zillow.com/homedetails/1752-Givan-Ave-Bronx-NY-10469/79728086_zpid/', 'https://www.zillow.com/homedetails/3452-Ely-Ave-A-Bronx-NY-10469/2077159687_zpid/', 'https://www.zillow.com/homedetails/1754-Hammersley-Ave-Bronx-NY-10469/29830823_zpid/', 'https://www.zillow.com/homedetails/3452-Ely-Ave-Bronx-NY-10469/29833984_zpid/', 'https://www.zillow.com/homedetails/3386-Ely-Ave-Bronx-NY-10469/29833909_zpid/', 'https://www.zillow.com/homedetails/2305-Yates-Ave-Bronx-NY-10469/29819504_zpid/', 'https://www.zillow.com/homedetails/3828-Laconia-Ave-Bronx-NY-10469/29828815_zpid/', 'https://www.zillow.com/homedetails/2924-Grace-Ave-3-Bronx-NY-10469/2084524375_zpid/', 'https://www.zillow.com/homedetails/2537-Hering-Ave-Bronx-NY-10469/29821204_zpid/', 'https://www.zillow.com/homedetails/3544-Corsa-Ave-2FAM-Bronx-NY-10469/2074052471_zpid/', 'https://www.zillow.com/homedetails/1415-Oakley-St-Bronx-NY-10469/29828753_zpid/', 'https://www.zillow.com/homedetails/1261-E-222nd-St-Bronx-NY-10469/29834171_zpid/', 'https://www.zillow.com/homedetails/3366-Boston-Rd-Bronx-NY-10469/83178253_zpid/', 'https://www.zillow.com/homedetails/2935-Hering-Ave-Bronx-NY-10469/29824245_zpid/', 'https://www.zillow.com/homedetails/3356-Corsa-Ave-Bronx-NY-10469/29829822_zpid/', 'https://www.zillow.com/homedetails/2711-Morgan-Ave-Bronx-NY-10469/142671085_zpid/', 'https://www.zillow.com/homedetails/2559-Hering-Ave-Bronx-NY-10469/29821198_zpid/', 'https://www.zillow.com/homedetails/3234-Radcliff-Ave-FLOOR-2-Bronx-NY-10469/2075323239_zpid/', 'https://www.zillow.com/homedetails/2934-Hering-Ave-Bronx-NY-10469/29824267_zpid/', 'https://www.zillow.com/homedetails/1711-Astor-Ave-Bronx-NY-10469/2075380681_zpid/', 'https://www.zillow.com/homedetails/3234-Radcliff-Ave-Bronx-NY-10469/29825495_zpid/', 'https://www.zillow.com/homedetails/2925-Laconia-Ave-A-Bronx-NY-10469/2075424590_zpid/', 'https://www.zillow.com/homedetails/2925-Laconia-Ave-Bronx-NY-10469/29824173_zpid/', 'https://www.zillow.com/homedetails/3297-Bronxwood-Ave-Bronx-NY-10469/64565644_zpid/', 'https://www.zillow.com/homedetails/949-E-221st-St-APT-1-Bronx-NY-10469/2075657030_zpid/', 'https://www.zillow.com/homedetails/926-E-221st-St-A-Bronx-NY-10469/2075657107_zpid/', 'https://www.zillow.com/homedetails/2564-Paulding-Ave-Bronx-NY-10469/29820871_zpid/', 'https://www.zillow.com/homedetails/2333-Gunther-Ave-Bronx-NY-10469/29820277_zpid/', 'https://www.zillow.com/homedetails/985-Duncan-St-Bronx-NY-10469/29826062_zpid/', 'https://www.zillow.com/homedetails/2938-Wilson-Ave-Bronx-NY-10469/29825060_zpid/', 'https://www.zillow.com/homedetails/2783-Hone-Ave-Bronx-NY-10469/29823009_zpid/', 'https://www.zillow.com/homedetails/2819-Bruner-Ave-Bronx-NY-10469/29831447_zpid/', 'https://www.zillow.com/homedetails/1288-Givan-Ave-Bronx-NY-10469/29829347_zpid/', 'https://www.zillow.com/homedetails/2741-Bronxwood-Ave-Bronx-NY-10469/29822942_zpid/', 'https://www.zillow.com/homedetails/1409-Oakley-St-A-Bronx-NY-10469/2076871016_zpid/', 'https://www.zillow.com/homedetails/3236-Corsa-Ave-Bronx-NY-10469/29829969_zpid/', 'https://www.zillow.com/homedetails/3531-Bronxwood-Ave-APT-1D-Bronx-NY-10469/215953345_zpid/', 'https://www.zillow.com/homedetails/3866-Laconia-Ave-Bronx-NY-10469/29828846_zpid/', 'https://www.zillow.com/homedetails/3133-Baychester-Ave-Bronx-NY-10469/29830978_zpid/', 'https://www.zillow.com/homedetails/1416-Burke-Ave-Bronx-NY-10469/29830466_zpid/', 'https://www.zillow.com/homedetails/526-Cross-Bay-Blvd-Broad-Channel-NY-11693/32219184_zpid/', 'https://www.zillow.com/homedetails/151-Beach-96th-St-APT-4C-Far-Rockaway-NY-11693/2075309092_zpid/', 'https://www.zillow.com/homedetails/10-E-7th-Rd-Far-Rockaway-NY-11693/32219233_zpid/', 'https://www.zillow.com/homedetails/151-Beach-96th-St-APT-3D-Far-Rockaway-NY-11693/2075609792_zpid/', 'https://www.zillow.com/homedetails/811-Church-Rd-Broad-Channel-NY-11693/32219355_zpid/', 'https://www.zillow.com/homedetails/91-16-Shore-Front-Pkwy-3C-Far-Rockaway-NY-11693/2075632553_zpid/', 'https://www.zillow.com/homedetails/328-Beach-87-St-Far-Rockaway-NY-11693/2076640230_zpid/', 'https://www.zillow.com/homedetails/151-Beach-96-St-5C-Far-Rockaway-NY-11693/2076692524_zpid/', 'https://www.zillow.com/homedetails/138-Beach-92nd-St-1A-Rockaway-Beach-NY-11693/68316703_zpid/', 'https://www.zillow.com/homedetails/18-23-Channel-Rd-Far-Rockaway-NY-11693/2076875072_zpid/', 'https://www.zillow.com/homedetails/116-E-6th-Rd-Broad-Channel-NY-11693/32219258_zpid/', 'https://www.zillow.com/homedetails/97-10-Rockaway-Beach-Blvd-1-Far-Rockaway-NY-11693/2076926135_zpid/', 'https://www.zillow.com/homedetails/910-Cross-Bay-Blvd-Broad-Channel-NY-11693/32219364_zpid/', 'https://www.zillow.com/homedetails/17-17-Cross-Bay-Blvd-Far-Rockaway-NY-11693/2076976677_zpid/', 'https://www.zillow.com/homedetails/151-Beach-91st-St-Far-Rockaway-NY-11693/112513633_zpid/', 'https://www.zillow.com/homedetails/308-E-8th-Rd-Broad-Channel-NY-11693/32219415_zpid/', 'https://www.zillow.com/homedetails/810-Church-Rd-Broad-Channel-NY-11693/32219383_zpid/', 'https://www.zillow.com/homedetails/155-Beach-95-St-1-10-Far-Rockaway-NY-11693/2077345036_zpid/', 'https://www.zillow.com/homedetails/807-Walton-Rd-Broad-Channel-NY-11693/32219388_zpid/', 'https://www.zillow.com/homedetails/221-Beach-87th-St-Far-Rockaway-NY-11693/32225408_zpid/', 'https://www.zillow.com/homedetails/16-W-11th-Rd-Broad-Channel-NY-11693/32218831_zpid/', 'https://www.zillow.com/homedetails/962-E-49th-St-Brooklyn-NY-11203/30656717_zpid/', 'https://www.zillow.com/homedetails/347-E-59th-St-Brooklyn-NY-11203/30765999_zpid/', 'https://www.zillow.com/homedetails/126-E-39th-St-Brooklyn-NY-11203/30658321_zpid/', 'https://www.zillow.com/homedetails/202-E-59th-St-Brooklyn-NY-11203/30654662_zpid/', 'https://www.zillow.com/homedetails/786-Schenectady-Ave-Brooklyn-NY-11203/30658586_zpid/', 'https://www.zillow.com/homedetails/218-E-34th-St-Brooklyn-NY-11203/30658775_zpid/', 'https://www.zillow.com/homedetails/53-E-59th-St-Brooklyn-NY-11203/30653159_zpid/', 'https://www.zillow.com/homedetails/522-E-51st-St-6-Brooklyn-NY-11203/2073718377_zpid/', 'https://www.zillow.com/homedetails/282-E-35th-St-APT-5E-Brooklyn-NY-11203/244996689_zpid/', 'https://www.zillow.com/homedetails/503-E-49th-St-Brooklyn-NY-11203/30654266_zpid/', 'https://www.zillow.com/homedetails/543-E-52nd-St-Brooklyn-NY-11203/30654934_zpid/', 'https://www.zillow.com/homedetails/902-E-48th-St-Brooklyn-NY-11203/30656626_zpid/', 'https://www.zillow.com/homedetails/733-E-48th-St-Brooklyn-NY-11203/30656105_zpid/', 'https://www.zillow.com/homedetails/3500-Snyder-Ave-APT-6F-Brooklyn-NY-11203/125722737_zpid/', 'https://www.zillow.com/homedetails/3500-Snyder-Ave-APT-6F-Brooklyn-NY-11203/245035324_zpid/', 'https://www.zillow.com/homedetails/3400-Snyder-Ave-APT-5V-Brooklyn-NY-11203/125716297_zpid/', 'https://www.zillow.com/homedetails/282-E-35th-St-APT-2F-Brooklyn-NY-11203/123763156_zpid/', 'https://www.zillow.com/homedetails/648-Maple-St-A1-Brooklyn-NY-11203/2075138055_zpid/', 'https://www.zillow.com/homedetails/135-E-46th-St-Brooklyn-NY-11203/30657897_zpid/', 'https://www.zillow.com/homedetails/704-E-37th-St-Brooklyn-NY-11203/30662354_zpid/', 'https://www.zillow.com/homedetails/885-Albany-Ave-Brooklyn-NY-11203/30659098_zpid/', 'https://www.zillow.com/homedetails/285-E-35th-St-APT-2D-Brooklyn-NY-11203/2075431731_zpid/', 'https://www.zillow.com/homedetails/3400-Snyder-Ave-APT-4M-Brooklyn-NY-11203/244998183_zpid/', 'https://www.zillow.com/homedetails/564-Kingston-Ave-Brooklyn-NY-11203/30657246_zpid/', 'https://www.zillow.com/homedetails/285-E-35th-St-APT-6F-Brooklyn-NY-11203/244996864_zpid/', 'https://www.zillow.com/homedetails/5304-Snyder-Ave-Brooklyn-NY-11203/30654397_zpid/', 'https://www.zillow.com/homedetails/16-E-58th-St-Brooklyn-NY-11203/30652452_zpid/', 'https://www.zillow.com/homedetails/966-E-45th-St-Brooklyn-NY-11203/30663465_zpid/', 'https://www.zillow.com/homedetails/532-E-38th-St-Brooklyn-NY-11203/30661595_zpid/', 'https://www.zillow.com/homedetails/1131-Brooklyn-Ave-Brooklyn-NY-11203/30660619_zpid/', 'https://www.zillow.com/homedetails/581-E-39th-St-Brooklyn-NY-11203/68018721_zpid/', 'https://www.zillow.com/homedetails/715-Lenox-Rd-Brooklyn-NY-11203/30651694_zpid/', 'https://www.zillow.com/homedetails/1340-Schenectady-Ave-Brooklyn-NY-11203/2076827779_zpid/', 'https://www.zillow.com/homedetails/1192-Troy-Ave-Brooklyn-NY-11203/30661973_zpid/', 'https://www.zillow.com/homedetails/502-E-38th-St-Brooklyn-NY-11203/30661582_zpid/', 'https://www.zillow.com/homedetails/28-E-55th-St-Brooklyn-NY-11203/30651275_zpid/', 'https://www.zillow.com/homedetails/208-E-34th-St-Brooklyn-NY-11203/30658773_zpid/', 'https://www.zillow.com/homedetails/331-E-52nd-St-Brooklyn-NY-11203/30652957_zpid/', 'https://www.zillow.com/homedetails/3823-Foster-Ave-FLOOR-2-Brooklyn-NY-11203/2077064082_zpid/', 'https://www.zillow.com/homedetails/216-E-52nd-St-APT-4-Brooklyn-NY-11203/30651783_zpid/']\n"
          ],
          "name": "stdout"
        }
      ]
    },
    {
      "cell_type": "code",
      "metadata": {
        "id": "bA-EUlLD4b11"
      },
      "source": [
        "#Est_payment = []\n",
        "#for url in links:\n",
        "  #response = requests.get(url, headers = header)\n",
        "  #data = response.text\n",
        "  #soup = BeautifulSoup(data, 'html.parser')\n",
        "  #x = soup.find('h5', {'class':'Text-c11n-8-18-0__aiai24-0 StyledHeading-c11n-8-18-0__ktujwe-0 LJxVR sc-oTmZL eWsAfv'})\n",
        "  #for i in x:\n",
        "    #Est_payment.append(i)"
      ],
      "execution_count": null,
      "outputs": []
    },
    {
      "cell_type": "code",
      "metadata": {
        "id": "sg9Js9d0C46I"
      },
      "source": [
        "#print(len(Est_payment))\n",
        "#print(Est_payment[1])"
      ],
      "execution_count": null,
      "outputs": []
    },
    {
      "cell_type": "code",
      "metadata": {
        "colab": {
          "base_uri": "https://localhost:8080/"
        },
        "id": "bMWyHA-pZLXu",
        "outputId": "2c96ad32-1d90-4841-e512-390c42e1cbb1"
      },
      "source": [
        "house=[]\n",
        "for item in house_info:\n",
        "  house.append(''.join(item[:]))\n",
        "print(house)"
      ],
      "execution_count": null,
      "outputs": [
        {
          "output_type": "stream",
          "text": [
            "['3 bds,2 ba,-- sqft', '2 bds,1 ba,900 sqft', '1 bd,1 ba,-- sqft', '2 bds,3 ba,1,260 sqft', '1 bd,1 ba,-- sqft', '1 bd,1 ba,-- sqft', '1 bd,1 ba,800 sqft', '1 bd,1 ba,-- sqft', '4 bds,4 ba,-- sqft', '1 bd,1 ba,-- sqft', '2 bds,3 ba,988,829 sqft', 'Studio,4 ba,3,420 sqft', '1 bd,1 ba,825 sqft', '1 bd,1 ba,93,153 sqft', '3 bds,3 ba,-- sqft', '3 bds,4 ba,2,550 sqft', '1 bd,1 ba,785 sqft', '4 bds,4 ba,-- sqft', '1 bd,1 ba,-- sqft', '1 bd,1 ba,650 sqft', 'Studio,1 ba,197,972 sqft', '3 bds,4 ba,2,200 sqft', '2 bds,2 ba,1,500 sqft', '1 bd,1 ba,-- sqft', '3 bds,2 ba,2,000 sqft', '2 bds,2 ba,1,200 sqft', '2 bds,2 ba,1,305 sqft', 'Studio,1 ba,830 sqft', '2 bds,3 ba,3,000 sqft', '1 bd,1 ba,700 sqft', '1 bd,2 ba,89,349 sqft', '3 bds,3 ba,1,950 sqft', '2 bds,2 ba,1,521 sqft', '3 bds,4 ba,2,347 sqft', '1 bd,2 ba,750 sqft', '1 bd,1 ba,850 sqft', '2 bds,2 ba,1,600 sqft', '1 bd,1 ba,-- sqft', '3 bds,2 ba,1,450 sqft', 'Studio,1 ba,545 sqft', '1 bd,2 ba,845 sqft', '5 bds,7 ba,6,127 sqft', '2 bds,3 ba,1,750 sqft', '2 bds,3 ba,1,647 sqft', '1 bd,1 ba,679 sqft', '2 bds,2 ba,1,573 sqft', '4 bds,2 ba,1,951 sqft', '1 bd,2 ba,968 sqft', '2 bds,2 ba,1,824 sqft', '4 bds,5 ba,2,685 sqft', '2 bds,2 ba,1,850 sqft', 'Studio,1 ba,712 sqft', '3 bds,3 ba,2,652 sqft', '2 bds,2 ba,1,640 sqft', '1 bd,1 ba,-- sqft', '3 bds,3 ba,2,500 sqft', '4 bds,5 ba,3,216 sqft', '1 bd,2 ba,1,266 sqft', '3 bds,4 ba,3,378 sqft', '3 bds,2 ba,1,951 sqft', '4 bds,5 ba,3,208 sqft', '4 bds,6 ba,3,699 sqft', '3 bds,4 ba,2,222 sqft', '3 bds,3 ba,1,794 sqft', '1 bd,2 ba,1,828 sqft', '4 bds,4 ba,2,719 sqft', '4 bds,4 ba,4,000 sqft', '4 bds,4 ba,5,355 sqft', '3 bds,4 ba,2,248 sqft', '3 bds,4 ba,3,957 sqft', '1 bd,1 ba,909 sqft', '3 bds,4 ba,2,388 sqft', '2 bds,4 ba,1,493 sqft', '4 bds,4 ba,2,794 sqft', '3 bds,3 ba,2,366 sqft', '2 bds,2 ba,1,086 sqft', '3 bds,5 ba,3,173 sqft', '3 bds,3 ba,2,201 sqft', '1 bd,1 ba,1,056 sqft', '3 bds,3 ba,2,378 sqft', '5 bds,4 ba,1,850 sqft', '6 bds,4 ba,-- sqft', '2 bds,1 ba,960 sqft', '5 bds,3 ba,2,300 sqft', '3 bds,1 ba,1,360 sqft', '3 bds,2 ba,1,500 sqft', '3 bds,2 ba,1,690 sqft', '7 bds,5 ba,3,354 sqft', '3 bds,3 ba,1,800 sqft', '7 bds,5 ba,2,361 sqft', '4 bds,3 ba,2,125 sqft', '6 bds,4 ba,2,378 sqft', '4 bds,5 ba,-- sqft', '2 bds,3 ba,1,496 sqft', '5 bds,4 ba,-- sqft', '5 bds,3 ba,2,238 sqft', '2 bds,3 ba,1,040 sqft', '5 bds,2 ba,1,948 sqft', '3 bds,2 ba,2,484 sqft', '5,954 sqft lot', '5 bds,2 ba,1,948 sqft', '9 bds,6 ba,-- sqft', '6 bds,7 ba,3,230 sqft', '9 bds,6 ba,2,830 sqft', '6 bds,3 ba,-- sqft', '6 bds,3 ba,-- sqft', '9 bds,4 ba,1,925 sqft', '3 bds,2 ba,2,260 sqft', '5 bds,2 ba,2,016 sqft', '6 bds,3 ba,2,800 sqft', '2 bds,2 ba,1,045 sqft', '3 bds,1 ba,1,146 sqft', '4 bds,2 ba,1,408 sqft', '6 bds,4 ba,3,500 sqft', '3 bds,2 ba,-- sqft', '3 bds,3 ba,1,400 sqft', '2 bds,1 ba,1,000 sqft', '4 bds,3 ba,644 sqft', '7 bds,3 ba,3,060 sqft', '6 bds,3 ba,3,100 sqft', '3 bds,2 ba,-- sqft', '2 bds,2 ba,1,239 sqft', '2 bds,2 ba,-- sqft', '2 bds,2 ba,-- sqft', '3 bds,1 ba,850 sqft', '2 bds,2 ba,1,120 sqft', 'Studio,3 ba,2,000 sqft', '2 bds,2 ba,1,239 sqft', '2 bds,2 ba,1,433 sqft', '6 bds,3 ba,-- sqft', '3 bds,1 ba,-- sqft', '6 bds,6 ba,-- sqft', '1 bd,1 ba,560 sqft', '3 bds,1 ba,-- sqft', '9 bds,7 ba,5,008 sqft', '1,654 sqft lot', '1 bd,1 ba,750 sqft', '13 bds,12 ba,7,132 sqft', '2 bds,1 ba,928 sqft', '5,418 sqft lot', '3 bds,2 ba,1,840 sqft', '3 bds,2 ba,720 sqft', '3 bds,3 ba,1,400 sqft', '3 bds,3 ba,2,056 sqft', '2 bds,2 ba,1,905 sqft', '5 bds,3 ba,-- sqft', '8 bds,2 ba,-- sqft', '3 bds,-- ba,1,696 sqft', '11 bds,6 ba,5,800 sqft', '1 bd,1 ba,1,000 sqft', '3 bds,2 ba,1,404 sqft', '2 bds,2 ba,2,000 sqft', '3 bds,2 ba,1,288 sqft', '3 bds,2 ba,1,560 sqft', '1 bd,1 ba,750 sqft', '1 bd,1 ba,900 sqft', '1 bd,1 ba,-- sqft', '1 bd,1 ba,-- sqft', '3 bds,2 ba,-- sqft', '4 bds,2 ba,-- sqft', '3 bds,2 ba,1,230 sqft', '6 bds,3 ba,-- sqft', '2 bds,1 ba,1,200 sqft', '1 bd,1 ba,114,346 sqft', '-- bds,2 ba,2,948 sqft', '1 bd,1 ba,58,231 sqft', '3 bds,2 ba,-- sqft', '5 bds,3 ba,-- sqft', '3 bds,2 ba,1,260 sqft', '3 bds,1 ba,2,000 sqft', '4 bds,2 ba,-- sqft', '3,007 sqft lot', '2 bds,1 ba,1,700 sqft', '2,000 sqft lot', '3 bds,2 ba,1,216 sqft', '3 bds,1 ba,1,326 sqft', '3 bds,2 ba,1,767 sqft', '-- bds,2 ba,-- sqft', '10 bds,10 ba,6,135 sqft', '4 bds,3 ba,-- sqft', '7 bds,4 ba,3,652 sqft']\n"
          ],
          "name": "stdout"
        }
      ]
    },
    {
      "cell_type": "code",
      "metadata": {
        "colab": {
          "base_uri": "https://localhost:8080/"
        },
        "id": "yysSuoPrpFRL",
        "outputId": "4587eba5-fa52-42f8-f20f-7f066fede782"
      },
      "source": [
        "house_data = []\n",
        "house_data.append(price)\n",
        "#house_data.append(Est_payment)\n",
        "house_data.append(real_estate)\n",
        "house_data.append(last_updated)\n",
        "house_data.append(links)\n",
        "house_data.append(house)\n",
        "house_data.append(address)\n",
        "house_data.append(img)\n",
        "dict = {'price':house_data[0], 'real_estate':house_data[1], 'last_updated':house_data[2], \n",
        "        'link':house_data[3], 'house_info':house_data[4], 'address':house_data[5], 'img_link':house_data[6]}\n",
        "data = pd.DataFrame(dict)\n",
        "print(data.shape)"
      ],
      "execution_count": null,
      "outputs": [
        {
          "output_type": "stream",
          "text": [
            "(181, 7)\n"
          ],
          "name": "stdout"
        }
      ]
    },
    {
      "cell_type": "code",
      "metadata": {
        "id": "2KGi5Z9QpFRL"
      },
      "source": [
        "df = data.copy()"
      ],
      "execution_count": null,
      "outputs": []
    },
    {
      "cell_type": "code",
      "metadata": {
        "colab": {
          "base_uri": "https://localhost:8080/",
          "height": 131
        },
        "id": "n5FYlgq-Q17I",
        "outputId": "0cc0ae52-26e1-488a-9325-fc41a27cff84"
      },
      "source": [
        "df.head(1)"
      ],
      "execution_count": null,
      "outputs": [
        {
          "output_type": "execute_result",
          "data": {
            "text/html": [
              "<div>\n",
              "<style scoped>\n",
              "    .dataframe tbody tr th:only-of-type {\n",
              "        vertical-align: middle;\n",
              "    }\n",
              "\n",
              "    .dataframe tbody tr th {\n",
              "        vertical-align: top;\n",
              "    }\n",
              "\n",
              "    .dataframe thead th {\n",
              "        text-align: right;\n",
              "    }\n",
              "</style>\n",
              "<table border=\"1\" class=\"dataframe\">\n",
              "  <thead>\n",
              "    <tr style=\"text-align: right;\">\n",
              "      <th></th>\n",
              "      <th>price</th>\n",
              "      <th>real_estate</th>\n",
              "      <th>last_updated</th>\n",
              "      <th>link</th>\n",
              "      <th>house_info</th>\n",
              "      <th>address</th>\n",
              "      <th>img_link</th>\n",
              "    </tr>\n",
              "  </thead>\n",
              "  <tbody>\n",
              "    <tr>\n",
              "      <th>0</th>\n",
              "      <td>$1,895,000</td>\n",
              "      <td>LISTING BY: BROWN HARRIS STEVENS (212-452-6289)</td>\n",
              "      <td>1 day on Zillow</td>\n",
              "      <td>https://www.zillow.com/homedetails/419-E-57th-...</td>\n",
              "      <td>3 bds,2 ba,-- sqft</td>\n",
              "      <td>419 E 57th St APT 12C, New York, NY 10022</td>\n",
              "      <td>https://photos.zillowstatic.com/fp/1a9a299fe01...</td>\n",
              "    </tr>\n",
              "  </tbody>\n",
              "</table>\n",
              "</div>"
            ],
            "text/plain": [
              "        price  ...                                           img_link\n",
              "0  $1,895,000  ...  https://photos.zillowstatic.com/fp/1a9a299fe01...\n",
              "\n",
              "[1 rows x 7 columns]"
            ]
          },
          "metadata": {
            "tags": []
          },
          "execution_count": 67
        }
      ]
    },
    {
      "cell_type": "code",
      "metadata": {
        "colab": {
          "base_uri": "https://localhost:8080/"
        },
        "id": "eFWZ41t-kpVl",
        "outputId": "00e54e24-ac4a-44b3-dea8-18c5bf93bc5a"
      },
      "source": [
        "print(df['img_link'][15])"
      ],
      "execution_count": null,
      "outputs": [
        {
          "output_type": "stream",
          "text": [
            "https://photos.zillowstatic.com/fp/0c48a5091a2eb8239ab79d873cd6d487-p_h.jpg\n"
          ],
          "name": "stdout"
        }
      ]
    },
    {
      "cell_type": "code",
      "metadata": {
        "id": "ZjjQa9RaIl0q"
      },
      "source": [
        "#df['est_payment'] = df['est_payment'].apply(lambda x: x[1:])"
      ],
      "execution_count": null,
      "outputs": []
    },
    {
      "cell_type": "code",
      "metadata": {
        "id": "CxNgykLuHQEt"
      },
      "source": [
        "df['real_estate'] = df['real_estate'].replace('LISTING BY: ','',regex=True)"
      ],
      "execution_count": null,
      "outputs": []
    },
    {
      "cell_type": "code",
      "metadata": {
        "colab": {
          "base_uri": "https://localhost:8080/",
          "height": 131
        },
        "id": "eKGunzMPHbBy",
        "outputId": "e8b19c7f-1961-4f72-d582-ccd5099b2284"
      },
      "source": [
        "df.head(1)"
      ],
      "execution_count": null,
      "outputs": [
        {
          "output_type": "execute_result",
          "data": {
            "text/html": [
              "<div>\n",
              "<style scoped>\n",
              "    .dataframe tbody tr th:only-of-type {\n",
              "        vertical-align: middle;\n",
              "    }\n",
              "\n",
              "    .dataframe tbody tr th {\n",
              "        vertical-align: top;\n",
              "    }\n",
              "\n",
              "    .dataframe thead th {\n",
              "        text-align: right;\n",
              "    }\n",
              "</style>\n",
              "<table border=\"1\" class=\"dataframe\">\n",
              "  <thead>\n",
              "    <tr style=\"text-align: right;\">\n",
              "      <th></th>\n",
              "      <th>price</th>\n",
              "      <th>real_estate</th>\n",
              "      <th>last_updated</th>\n",
              "      <th>link</th>\n",
              "      <th>house_info</th>\n",
              "      <th>address</th>\n",
              "      <th>img_link</th>\n",
              "    </tr>\n",
              "  </thead>\n",
              "  <tbody>\n",
              "    <tr>\n",
              "      <th>0</th>\n",
              "      <td>$1,895,000</td>\n",
              "      <td>BROWN HARRIS STEVENS (212-452-6289)</td>\n",
              "      <td>1 day on Zillow</td>\n",
              "      <td>https://www.zillow.com/homedetails/419-E-57th-...</td>\n",
              "      <td>3 bds,2 ba,-- sqft</td>\n",
              "      <td>419 E 57th St APT 12C, New York, NY 10022</td>\n",
              "      <td>https://photos.zillowstatic.com/fp/1a9a299fe01...</td>\n",
              "    </tr>\n",
              "  </tbody>\n",
              "</table>\n",
              "</div>"
            ],
            "text/plain": [
              "        price  ...                                           img_link\n",
              "0  $1,895,000  ...  https://photos.zillowstatic.com/fp/1a9a299fe01...\n",
              "\n",
              "[1 rows x 7 columns]"
            ]
          },
          "metadata": {
            "tags": []
          },
          "execution_count": 70
        }
      ]
    },
    {
      "cell_type": "code",
      "metadata": {
        "id": "Mjqi8WdgbmmS"
      },
      "source": [
        "df[['beds','baths','sq_feet']]=df['house_info'].str.split(',',2, expand=True)"
      ],
      "execution_count": null,
      "outputs": []
    },
    {
      "cell_type": "code",
      "metadata": {
        "id": "P96EtLxapFRL"
      },
      "source": [
        "#df['prices'] = df['price'].apply(lambda x: x[1:])"
      ],
      "execution_count": null,
      "outputs": []
    },
    {
      "cell_type": "code",
      "metadata": {
        "id": "WtyS_XggwyIk"
      },
      "source": [
        "#df[['redundant','baths']] = df['baths'].str.split(',',n=1,expand=True)"
      ],
      "execution_count": null,
      "outputs": []
    },
    {
      "cell_type": "code",
      "metadata": {
        "id": "uo8nQ5sVwyIl"
      },
      "source": [
        "df['sq_feet']=df['sq_feet'].replace(' sqft','',regex=True)"
      ],
      "execution_count": null,
      "outputs": []
    },
    {
      "cell_type": "code",
      "metadata": {
        "id": "xIcruxFPSB30"
      },
      "source": [
        "df['sq_feet'] = df['sq_feet'].replace('lot-', None, regex=True)"
      ],
      "execution_count": null,
      "outputs": []
    },
    {
      "cell_type": "code",
      "metadata": {
        "id": "5tg53VAuSXCt"
      },
      "source": [
        "df['sq_feet'] = df['sq_feet'].replace('--', None,regex=True)\n",
        "df['sq_feet'] = df['sq_feet'].replace('sqft-', None,regex=True)\n",
        "df['sq_feet'] = df['sq_feet'].replace(',','', regex=True)\n",
        "df['sq_feet'] = df['sq_feet'].replace('--', '',regex=True)\n",
        "#df['sq_feet'] = df['sq_feet'].replace('', None,regex=True)\n",
        "df['sq_feet'] = df['sq_feet'].where(pd.notnull(df['sq_feet']), None)"
      ],
      "execution_count": null,
      "outputs": []
    },
    {
      "cell_type": "code",
      "metadata": {
        "id": "ekWWAiXETKCt"
      },
      "source": [
        "df['sq_feet'] = df['sq_feet'].fillna(0)\n",
        "df['sq_feet'] = pd.to_numeric(df['sq_feet'])"
      ],
      "execution_count": null,
      "outputs": []
    },
    {
      "cell_type": "code",
      "metadata": {
        "id": "TO8MbqYAUAOo",
        "colab": {
          "base_uri": "https://localhost:8080/"
        },
        "outputId": "0ea2ded8-531a-47f6-cb86-12ed8db4df9b"
      },
      "source": [
        "df['sq_feet'].dtype"
      ],
      "execution_count": null,
      "outputs": [
        {
          "output_type": "execute_result",
          "data": {
            "text/plain": [
              "dtype('float64')"
            ]
          },
          "metadata": {
            "tags": []
          },
          "execution_count": 76
        }
      ]
    },
    {
      "cell_type": "code",
      "metadata": {
        "id": "OO8GdgvPwyIl"
      },
      "source": [
        "df[['street_name','city','state_zip_code']]=df['address'].str.split(',',n=2, expand=True)"
      ],
      "execution_count": null,
      "outputs": []
    },
    {
      "cell_type": "code",
      "metadata": {
        "id": "I8Y5MHVIwyIl"
      },
      "source": [
        "#drop unnecessary columns\n",
        "feature_drop = ['house_info', 'address']\n",
        "df1 = df.drop(feature_drop, axis=1)"
      ],
      "execution_count": null,
      "outputs": []
    },
    {
      "cell_type": "code",
      "metadata": {
        "id": "kEfH8GWzgfKt",
        "colab": {
          "base_uri": "https://localhost:8080/"
        },
        "outputId": "0cb74d44-b9e6-493e-dd52-7d56a14c7718"
      },
      "source": [
        "print(list(df1.columns.values))"
      ],
      "execution_count": null,
      "outputs": [
        {
          "output_type": "stream",
          "text": [
            "['price', 'real_estate', 'last_updated', 'link', 'img_link', 'beds', 'baths', 'sq_feet', 'street_name', 'city', 'state_zip_code']\n"
          ],
          "name": "stdout"
        }
      ]
    },
    {
      "cell_type": "code",
      "metadata": {
        "id": "2h5aKwPwwyIl"
      },
      "source": [
        "#reorder columns\n",
        "zillow_df = df1[['price','beds','baths','sq_feet','street_name',\n",
        "       'city', 'state_zip_code', 'real_estate', 'last_updated','link', 'img_link']]"
      ],
      "execution_count": null,
      "outputs": []
    },
    {
      "cell_type": "code",
      "metadata": {
        "id": "72iRY_WVa2tp"
      },
      "source": [
        "zillow_df = zillow_df.rename(columns = {\"price\":\"prices\"})"
      ],
      "execution_count": null,
      "outputs": []
    },
    {
      "cell_type": "code",
      "metadata": {
        "id": "jjQqgj59wyIl",
        "colab": {
          "base_uri": "https://localhost:8080/"
        },
        "outputId": "818d2d66-0bc7-42c2-de31-6980d4327585"
      },
      "source": [
        "zillow_df.shape"
      ],
      "execution_count": null,
      "outputs": [
        {
          "output_type": "execute_result",
          "data": {
            "text/plain": [
              "(181, 11)"
            ]
          },
          "metadata": {
            "tags": []
          },
          "execution_count": 82
        }
      ]
    },
    {
      "cell_type": "code",
      "metadata": {
        "colab": {
          "base_uri": "https://localhost:8080/"
        },
        "id": "J4e3zC4_Jozu",
        "outputId": "4c674279-5afc-45b1-e278-095a02751988"
      },
      "source": [
        "zillow_df.info()"
      ],
      "execution_count": null,
      "outputs": [
        {
          "output_type": "stream",
          "text": [
            "<class 'pandas.core.frame.DataFrame'>\n",
            "RangeIndex: 181 entries, 0 to 180\n",
            "Data columns (total 11 columns):\n",
            " #   Column          Non-Null Count  Dtype  \n",
            "---  ------          --------------  -----  \n",
            " 0   prices          181 non-null    object \n",
            " 1   beds            181 non-null    object \n",
            " 2   baths           181 non-null    object \n",
            " 3   sq_feet         180 non-null    float64\n",
            " 4   street_name     181 non-null    object \n",
            " 5   city            181 non-null    object \n",
            " 6   state_zip_code  181 non-null    object \n",
            " 7   real_estate     181 non-null    object \n",
            " 8   last_updated    181 non-null    object \n",
            " 9   link            181 non-null    object \n",
            " 10  img_link        181 non-null    object \n",
            "dtypes: float64(1), object(10)\n",
            "memory usage: 15.7+ KB\n"
          ],
          "name": "stdout"
        }
      ]
    },
    {
      "cell_type": "markdown",
      "metadata": {
        "id": "kn7BTWJywyIm"
      },
      "source": [
        "# Data Cleansing"
      ]
    },
    {
      "cell_type": "code",
      "metadata": {
        "id": "BKPXDFhxwyIm"
      },
      "source": [
        "# Remove K and comma from prices\n",
        "# Convert to float data type\n",
        "#zillow_df['prices'] = zillow_df['prices'].str.replace('K','',regex=True)\n",
        "#zillow_df['prices'] = zillow_df['prices'].str.replace(',','').astype(float)"
      ],
      "execution_count": null,
      "outputs": []
    },
    {
      "cell_type": "code",
      "metadata": {
        "id": "-IpaQV4GwyIn"
      },
      "source": [
        "# Replace Studio and comma with blank\n",
        "# Replace Studio,-- with \n",
        "zillow_df['beds']=zillow_df['beds'].replace('Studio,--', None)\n",
        "zillow_df['beds']=zillow_df['beds'].replace('--', None)\n",
        "zillow_df['beds']=zillow_df['beds'].replace('Studio,','',regex=True)\n",
        "zillow_df['beds']=zillow_df['beds'].replace(',', '',regex=True)\n",
        "zillow_df['beds']=zillow_df['beds'].replace('bd', '',regex=True)\n",
        "zillow_df['beds']=zillow_df['beds'].replace('Studio',None,regex=True)\n",
        "zillow_df['beds']=zillow_df['beds'].replace('s','',regex=True)\n",
        "zillow_df['beds']=zillow_df['beds'].replace('-- ', None)\n",
        "zillow_df['beds'] = zillow_df['beds'].where(pd.notnull(zillow_df['beds']), None)"
      ],
      "execution_count": null,
      "outputs": []
    },
    {
      "cell_type": "code",
      "metadata": {
        "id": "mvM0jtHhh1hH"
      },
      "source": [
        "zillow_df['beds'] = zillow_df['beds'].fillna(0)\n",
        "zillow_df['beds'] = pd.to_numeric(zillow_df['beds'])"
      ],
      "execution_count": null,
      "outputs": []
    },
    {
      "cell_type": "code",
      "metadata": {
        "id": "cEuiiC8fwyIn"
      },
      "source": [
        "# Extract the number of bathrooms\n",
        "zillow_df['baths'] = zillow_df['baths'].replace('--', None, regex=True)\n",
        "zillow_df['baths'] = zillow_df['baths'].replace('ba', '')\n",
        "zillow_df['baths'] = zillow_df['baths'].str.replace(',','')\n",
        "zillow_df['baths'] = zillow_df['baths'].str.split(' ',2, expand=True)"
      ],
      "execution_count": null,
      "outputs": []
    },
    {
      "cell_type": "code",
      "metadata": {
        "id": "dgNwkAtvjR0N"
      },
      "source": [
        "zillow_df['baths'] = zillow_df['baths'].fillna(0)\n",
        "zillow_df['baths'] = pd.to_numeric(zillow_df['baths'])"
      ],
      "execution_count": null,
      "outputs": []
    },
    {
      "cell_type": "code",
      "metadata": {
        "id": "b3pX64McpYI5"
      },
      "source": [
        "zillow_df = zillow_df.where(pd.notnull(zillow_df), None)"
      ],
      "execution_count": null,
      "outputs": []
    },
    {
      "cell_type": "code",
      "metadata": {
        "id": "0VF_i3u-L-eN"
      },
      "source": [
        "zillow_df['sq_feet'] = pd.to_numeric(zillow_df['sq_feet'])"
      ],
      "execution_count": null,
      "outputs": []
    },
    {
      "cell_type": "code",
      "metadata": {
        "id": "usDOQjLuRWg5"
      },
      "source": [
        "#zillow_df['est_payment'] = zillow_df['est_payment'].str.replace(',', '')\n",
        "#zillow_df['est_payment'] = pd.to_numeric(zillow_df['est_payment'])"
      ],
      "execution_count": null,
      "outputs": []
    },
    {
      "cell_type": "code",
      "metadata": {
        "id": "kbHMo6y1wyIn",
        "colab": {
          "base_uri": "https://localhost:8080/"
        },
        "outputId": "919028e7-85b3-445c-990d-cb53814c63ce"
      },
      "source": [
        "zillow_df.info()"
      ],
      "execution_count": null,
      "outputs": [
        {
          "output_type": "stream",
          "text": [
            "<class 'pandas.core.frame.DataFrame'>\n",
            "RangeIndex: 181 entries, 0 to 180\n",
            "Data columns (total 11 columns):\n",
            " #   Column          Non-Null Count  Dtype  \n",
            "---  ------          --------------  -----  \n",
            " 0   prices          181 non-null    object \n",
            " 1   beds            181 non-null    int64  \n",
            " 2   baths           181 non-null    int64  \n",
            " 3   sq_feet         180 non-null    float64\n",
            " 4   street_name     181 non-null    object \n",
            " 5   city            181 non-null    object \n",
            " 6   state_zip_code  181 non-null    object \n",
            " 7   real_estate     181 non-null    object \n",
            " 8   last_updated    181 non-null    object \n",
            " 9   link            181 non-null    object \n",
            " 10  img_link        181 non-null    object \n",
            "dtypes: float64(1), int64(2), object(8)\n",
            "memory usage: 15.7+ KB\n"
          ],
          "name": "stdout"
        }
      ]
    },
    {
      "cell_type": "code",
      "metadata": {
        "id": "-0Wbh6dswyIo"
      },
      "source": [
        "#Trim outliers custom_audience_ads dataset:\n",
        "#starting_percentile = zillow_df['prices'].quantile(.02)\n",
        "#ending_percentile = zillow_df['prices'].quantile(.98)\n",
        "#outliers_df = zillow_df.loc[((zillow_df['prices'] <= starting_percentile) | (zillow_df['prices'] >= ending_percentile))]\n",
        "#df_trimmed = zillow_df.loc[((zillow_df['prices'] > starting_percentile) & (zillow_df['prices'] < ending_percentile))]"
      ],
      "execution_count": null,
      "outputs": []
    },
    {
      "cell_type": "code",
      "metadata": {
        "id": "gyV3h1HgwyIo",
        "colab": {
          "base_uri": "https://localhost:8080/",
          "height": 297
        },
        "outputId": "89655952-4777-4ac7-895e-a672dc9c1d1e"
      },
      "source": [
        "zillow_df.describe()"
      ],
      "execution_count": null,
      "outputs": [
        {
          "output_type": "execute_result",
          "data": {
            "text/html": [
              "<div>\n",
              "<style scoped>\n",
              "    .dataframe tbody tr th:only-of-type {\n",
              "        vertical-align: middle;\n",
              "    }\n",
              "\n",
              "    .dataframe tbody tr th {\n",
              "        vertical-align: top;\n",
              "    }\n",
              "\n",
              "    .dataframe thead th {\n",
              "        text-align: right;\n",
              "    }\n",
              "</style>\n",
              "<table border=\"1\" class=\"dataframe\">\n",
              "  <thead>\n",
              "    <tr style=\"text-align: right;\">\n",
              "      <th></th>\n",
              "      <th>beds</th>\n",
              "      <th>baths</th>\n",
              "      <th>sq_feet</th>\n",
              "    </tr>\n",
              "  </thead>\n",
              "  <tbody>\n",
              "    <tr>\n",
              "      <th>count</th>\n",
              "      <td>181.000000</td>\n",
              "      <td>181.000000</td>\n",
              "      <td>180.000000</td>\n",
              "    </tr>\n",
              "    <tr>\n",
              "      <th>mean</th>\n",
              "      <td>3.182320</td>\n",
              "      <td>13.779006</td>\n",
              "      <td>11498.166667</td>\n",
              "    </tr>\n",
              "    <tr>\n",
              "      <th>std</th>\n",
              "      <td>2.096271</td>\n",
              "      <td>90.674422</td>\n",
              "      <td>76319.008056</td>\n",
              "    </tr>\n",
              "    <tr>\n",
              "      <th>min</th>\n",
              "      <td>1.000000</td>\n",
              "      <td>0.000000</td>\n",
              "      <td>0.000000</td>\n",
              "    </tr>\n",
              "    <tr>\n",
              "      <th>25%</th>\n",
              "      <td>2.000000</td>\n",
              "      <td>1.000000</td>\n",
              "      <td>1078.500000</td>\n",
              "    </tr>\n",
              "    <tr>\n",
              "      <th>50%</th>\n",
              "      <td>3.000000</td>\n",
              "      <td>2.000000</td>\n",
              "      <td>1693.000000</td>\n",
              "    </tr>\n",
              "    <tr>\n",
              "      <th>75%</th>\n",
              "      <td>4.000000</td>\n",
              "      <td>3.000000</td>\n",
              "      <td>2412.000000</td>\n",
              "    </tr>\n",
              "    <tr>\n",
              "      <th>max</th>\n",
              "      <td>13.000000</td>\n",
              "      <td>954.000000</td>\n",
              "      <td>988829.000000</td>\n",
              "    </tr>\n",
              "  </tbody>\n",
              "</table>\n",
              "</div>"
            ],
            "text/plain": [
              "             beds       baths        sq_feet\n",
              "count  181.000000  181.000000     180.000000\n",
              "mean     3.182320   13.779006   11498.166667\n",
              "std      2.096271   90.674422   76319.008056\n",
              "min      1.000000    0.000000       0.000000\n",
              "25%      2.000000    1.000000    1078.500000\n",
              "50%      3.000000    2.000000    1693.000000\n",
              "75%      4.000000    3.000000    2412.000000\n",
              "max     13.000000  954.000000  988829.000000"
            ]
          },
          "metadata": {
            "tags": []
          },
          "execution_count": 93
        }
      ]
    },
    {
      "cell_type": "code",
      "metadata": {
        "id": "gsAQiQ7F_7WF"
      },
      "source": [
        "zillow_df = zillow_df[zillow_df['beds'] < 100]\n",
        "zillow_df = zillow_df[zillow_df['baths'] < 200]\n",
        "zillow_df = zillow_df[zillow_df['sq_feet'] < 100000]"
      ],
      "execution_count": null,
      "outputs": []
    },
    {
      "cell_type": "code",
      "metadata": {
        "id": "nkGnwdQLeDH8"
      },
      "source": [
        "zillow_df['state_zip_code'] = zillow_df['state_zip_code'].str.split(' ', expand=True)[2]"
      ],
      "execution_count": null,
      "outputs": []
    },
    {
      "cell_type": "code",
      "metadata": {
        "id": "BOUmK1dYVPVV"
      },
      "source": [
        "zillow_df.to_csv('zillow_data_team3.csv')"
      ],
      "execution_count": null,
      "outputs": []
    },
    {
      "cell_type": "code",
      "metadata": {
        "colab": {
          "base_uri": "https://localhost:8080/",
          "height": 117
        },
        "id": "GoxxrUJAQ4Kq",
        "outputId": "f690ebde-11b5-47c5-e56a-0c0192e8a58a"
      },
      "source": [
        "zillow_df.head(1)"
      ],
      "execution_count": null,
      "outputs": [
        {
          "output_type": "execute_result",
          "data": {
            "text/html": [
              "<div>\n",
              "<style scoped>\n",
              "    .dataframe tbody tr th:only-of-type {\n",
              "        vertical-align: middle;\n",
              "    }\n",
              "\n",
              "    .dataframe tbody tr th {\n",
              "        vertical-align: top;\n",
              "    }\n",
              "\n",
              "    .dataframe thead th {\n",
              "        text-align: right;\n",
              "    }\n",
              "</style>\n",
              "<table border=\"1\" class=\"dataframe\">\n",
              "  <thead>\n",
              "    <tr style=\"text-align: right;\">\n",
              "      <th></th>\n",
              "      <th>prices</th>\n",
              "      <th>beds</th>\n",
              "      <th>baths</th>\n",
              "      <th>sq_feet</th>\n",
              "      <th>street_name</th>\n",
              "      <th>city</th>\n",
              "      <th>state_zip_code</th>\n",
              "      <th>real_estate</th>\n",
              "      <th>last_updated</th>\n",
              "      <th>link</th>\n",
              "      <th>img_link</th>\n",
              "    </tr>\n",
              "  </thead>\n",
              "  <tbody>\n",
              "    <tr>\n",
              "      <th>1</th>\n",
              "      <td>$580,000</td>\n",
              "      <td>2</td>\n",
              "      <td>1</td>\n",
              "      <td>900.0</td>\n",
              "      <td>420 E 55th St APT 1F</td>\n",
              "      <td>New York</td>\n",
              "      <td>10022</td>\n",
              "      <td>COMPASS</td>\n",
              "      <td>1 day on Zillow</td>\n",
              "      <td>https://www.zillow.com/homedetails/420-E-55th-...</td>\n",
              "      <td>https://photos.zillowstatic.com/fp/3113fa19ad6...</td>\n",
              "    </tr>\n",
              "  </tbody>\n",
              "</table>\n",
              "</div>"
            ],
            "text/plain": [
              "     prices  ...                                           img_link\n",
              "1  $580,000  ...  https://photos.zillowstatic.com/fp/3113fa19ad6...\n",
              "\n",
              "[1 rows x 11 columns]"
            ]
          },
          "metadata": {
            "tags": []
          },
          "execution_count": 97
        }
      ]
    },
    {
      "cell_type": "markdown",
      "metadata": {
        "id": "1P-2b3A5wyIp"
      },
      "source": [
        "# Data Visualization"
      ]
    },
    {
      "cell_type": "markdown",
      "metadata": {
        "id": "E-ZcmyJCTYmN"
      },
      "source": [
        "Baths"
      ]
    },
    {
      "cell_type": "code",
      "metadata": {
        "id": "ywaGQgVNwyIp"
      },
      "source": [
        "zillow_df['baths'].value_counts().plot.barh()\n",
        "plt.title('Distribution of Number of Bathrooms')\n",
        "plt.xlabel('Frequency')\n",
        "plt.ylabel('Number of Bathrooms')"
      ],
      "execution_count": null,
      "outputs": []
    },
    {
      "cell_type": "code",
      "metadata": {
        "id": "xyF50826Tf9E"
      },
      "source": [
        "zillow_df['beds'].value_counts().plot.barh()\n",
        "plt.title('Distribution of Number of Bedrooms')\n",
        "plt.xlabel('Frequency')\n",
        "plt.ylabel('Number of Bedrooms')"
      ],
      "execution_count": null,
      "outputs": []
    },
    {
      "cell_type": "markdown",
      "metadata": {
        "id": "lt_NlO5oTpFE"
      },
      "source": [
        "City"
      ]
    },
    {
      "cell_type": "code",
      "metadata": {
        "id": "BJz1xJs98OAo"
      },
      "source": [
        "plt.figure(figsize=(12,5))\n",
        "sns.countplot(zillow_df['city'])\n",
        "plt.title('Distribution of Cities')\n",
        "plt.xlabel('count')\n",
        "plt.ylabel('Cities')"
      ],
      "execution_count": null,
      "outputs": []
    },
    {
      "cell_type": "markdown",
      "metadata": {
        "id": "WzrWSQBPTq7i"
      },
      "source": [
        "Real Estate"
      ]
    },
    {
      "cell_type": "code",
      "metadata": {
        "id": "nXr2lNZBvMF4"
      },
      "source": [
        "bplot = sns.boxplot(y='city', x='beds', \n",
        "                 data=zillow_df, \n",
        "                 width=0.7,\n",
        "                 palette=\"colorblind\")\n",
        "plt.title('Boxplot numbers of bed group by city')"
      ],
      "execution_count": null,
      "outputs": []
    },
    {
      "cell_type": "code",
      "metadata": {
        "id": "2Nl7JBQ3w40D"
      },
      "source": [
        "bplot = sns.boxplot(y='city', x='baths', \n",
        "                 data=zillow_df, \n",
        "                 width=0.7,\n",
        "                 palette=\"colorblind\")\n",
        "plt.title('Boxplot numbers of baths group by city')"
      ],
      "execution_count": null,
      "outputs": []
    },
    {
      "cell_type": "code",
      "metadata": {
        "id": "PaTh6pnH2vux"
      },
      "source": [
        "bplot = sns.boxplot(y='city', x='prices', \n",
        "                 data=zillow_df, \n",
        "                 width=0.7,\n",
        "                 palette=\"colorblind\")\n",
        "plt.title('Boxplot prices group by city')"
      ],
      "execution_count": null,
      "outputs": []
    },
    {
      "cell_type": "code",
      "metadata": {
        "id": "_x3UXTzwpoXM"
      },
      "source": [
        "dfnewyork= pd.DataFrame(zillow_df, columns = ['', 'Age']) \n",
        "  \n",
        "# print dataframe. \n",
        "df "
      ],
      "execution_count": null,
      "outputs": []
    },
    {
      "cell_type": "code",
      "metadata": {
        "id": "kxPjr-N_pQYS"
      },
      "source": [
        "zillow_df['beds'].value_counts().plot.barh()\n",
        "plt.title('Distribution of Number of Bedrooms')\n",
        "plt.xlabel('Frequency')\n",
        "plt.ylabel('Number of Bedrooms')"
      ],
      "execution_count": null,
      "outputs": []
    },
    {
      "cell_type": "code",
      "metadata": {
        "id": "WOXh-w6R7502"
      },
      "source": [
        "# Listings distribution\n",
        "grouped_df =zillow_df.groupby(by='real_estate',as_index=False)['street_name'].count()\n",
        "sorted_grouped_df =grouped_df.sort_values(by='street_name',ascending=False)\n",
        "top10=sorted_grouped_df.iloc[0:10]"
      ],
      "execution_count": null,
      "outputs": []
    },
    {
      "cell_type": "code",
      "metadata": {
        "id": "d3TWGYvn-Uya"
      },
      "source": [
        "top10"
      ],
      "execution_count": null,
      "outputs": []
    },
    {
      "cell_type": "code",
      "metadata": {
        "id": "QzxD1L2F9GoP"
      },
      "source": [
        "plt.figure(figsize=(20,5))\n",
        "sns.barplot('real_estate','street_name',data=top10)\n",
        "plt.title('Top 10 Real Estates',size=15)"
      ],
      "execution_count": null,
      "outputs": []
    },
    {
      "cell_type": "markdown",
      "metadata": {
        "id": "v7jEcs7VT1Si"
      },
      "source": [
        "Boxplots - prices, square feet, beds, baths"
      ]
    },
    {
      "cell_type": "code",
      "metadata": {
        "id": "SINocUc1wyIq"
      },
      "source": [
        "sns.boxplot(zillow_df['prices'])\n",
        "plt.title('Boxplot of Prices')\n",
        "plt.xlabel('Prices (10 Millions)')"
      ],
      "execution_count": null,
      "outputs": []
    },
    {
      "cell_type": "code",
      "metadata": {
        "id": "AXtUhkDKwyIq"
      },
      "source": [
        "sns.boxplot(zillow_df['sq_feet'])\n",
        "plt.title('Boxplot of Square Feet')\n",
        "plt.xlabel('Squre Feet')"
      ],
      "execution_count": null,
      "outputs": []
    },
    {
      "cell_type": "code",
      "metadata": {
        "id": "TagPOy3cT9-E"
      },
      "source": [
        "sns.boxplot(zillow_df['baths'])\n",
        "plt.title('Boxplot of Bathrooms')\n",
        "plt.xlabel('baths')"
      ],
      "execution_count": null,
      "outputs": []
    },
    {
      "cell_type": "code",
      "metadata": {
        "id": "oLEqqvH0wyIr"
      },
      "source": [
        "sns.boxplot(zillow_df['beds'])\n",
        "plt.title('Boxplot of outlier of beds')\n",
        "plt.xlabel('beds')"
      ],
      "execution_count": null,
      "outputs": []
    },
    {
      "cell_type": "code",
      "metadata": {
        "id": "9rjBSsxrIL7N"
      },
      "source": [
        "zillow_df.head(1)"
      ],
      "execution_count": null,
      "outputs": []
    },
    {
      "cell_type": "code",
      "metadata": {
        "id": "1vAO3MKHIQn2"
      },
      "source": [
        "zillow_df.info()"
      ],
      "execution_count": null,
      "outputs": []
    },
    {
      "cell_type": "code",
      "metadata": {
        "id": "Hw83z0m0nbpD"
      },
      "source": [
        "try:\n",
        "  sns.pairplot(zillow_df[['prices', 'beds', 'baths', 'sq_feet']], diag_kind='kde')\n",
        "except:\n",
        "  sns.pairplot(zillow_df[['prices', 'beds', 'baths']], diag_kind='kde')"
      ],
      "execution_count": null,
      "outputs": []
    },
    {
      "cell_type": "code",
      "metadata": {
        "id": "vLWTU3aWwyIr"
      },
      "source": [
        "df=zillow_df.groupby(['real_estate'])['beds'].mean().to_frame().rename(columns={'id':'count'}).reset_index()"
      ],
      "execution_count": null,
      "outputs": []
    },
    {
      "cell_type": "code",
      "metadata": {
        "id": "MmYHc0fLwyIr"
      },
      "source": [
        "df = df[df['real_estate'] != '/']"
      ],
      "execution_count": null,
      "outputs": []
    },
    {
      "cell_type": "code",
      "metadata": {
        "id": "YoUJ6V9JL-pF"
      },
      "source": [
        "sorted_grouped_df = df.sort_values(by='beds',ascending=False)\n",
        "top10=sorted_grouped_df.iloc[0:10]"
      ],
      "execution_count": null,
      "outputs": []
    },
    {
      "cell_type": "code",
      "metadata": {
        "id": "skQJLyQlMD8V"
      },
      "source": [
        "top10"
      ],
      "execution_count": null,
      "outputs": []
    },
    {
      "cell_type": "code",
      "metadata": {
        "id": "frgLt1YAwyIr"
      },
      "source": [
        "plt.figure(figsize=(12,6))\n",
        "sns.barplot('real_estate','beds',data=top10)\n",
        "plt.title('Top 10 Distribution of Type of Houses in Average')"
      ],
      "execution_count": null,
      "outputs": []
    },
    {
      "cell_type": "code",
      "metadata": {
        "id": "RC0xMztkwyIs"
      },
      "source": [
        "sns.heatmap(zillow_df[['prices','beds','baths']].corr(), annot=True, cmap = 'Reds')\n",
        "plt.show()"
      ],
      "execution_count": null,
      "outputs": []
    },
    {
      "cell_type": "markdown",
      "metadata": {
        "id": "YQ3mAk4_kYQs"
      },
      "source": [
        "#Prediction using Decison Tree model"
      ]
    },
    {
      "cell_type": "code",
      "metadata": {
        "id": "AY8OomoIkgie"
      },
      "source": [
        "df['prices'] = df['price'].apply(lambda x: x[1:])\n",
        "zillow_df['prices'] = zillow_df['prices'].str.replace('$','',regex=True)\n",
        "zillow_df['prices'] = zillow_df['prices'].str.replace('K','',regex=True)\n",
        "zillow_df['prices'] = zillow_df['prices'].str.replace(',','').astype(float)"
      ],
      "execution_count": null,
      "outputs": []
    },
    {
      "cell_type": "code",
      "metadata": {
        "id": "Xt9d-f90ki7L"
      },
      "source": [
        "dff=pd.get_dummies(zillow_df, columns=['state_zip_code'])"
      ],
      "execution_count": null,
      "outputs": []
    },
    {
      "cell_type": "code",
      "metadata": {
        "id": "tlg89rKjkmdA"
      },
      "source": [
        "dff=pd.DataFrame(dff)"
      ],
      "execution_count": null,
      "outputs": []
    },
    {
      "cell_type": "code",
      "metadata": {
        "id": "Rl7UxVeNkySQ"
      },
      "source": [
        "zillow_dff=pd.concat([zillow_df,dff], axis=1)"
      ],
      "execution_count": null,
      "outputs": []
    },
    {
      "cell_type": "code",
      "metadata": {
        "id": "jGE2WnTLk0wD"
      },
      "source": [
        "print(zillow_dff.columns)"
      ],
      "execution_count": null,
      "outputs": []
    },
    {
      "cell_type": "code",
      "metadata": {
        "id": "KRA8Kh2qk221"
      },
      "source": [
        "zillow_data=zillow_dff[['beds', 'baths', 'sq_feet', 'state_zip_code_10007', 'state_zip_code_10022', 'state_zip_code_10469',\n",
        "       'state_zip_code_11203', 'state_zip_code_11693','prices']]\n",
        "\n",
        "X=zillow_data[['beds', 'baths', 'sq_feet', 'state_zip_code_10007', 'state_zip_code_10022', 'state_zip_code_10469',\n",
        "       'state_zip_code_11203', 'state_zip_code_11693']]\n",
        "y=zillow_data['prices']\n",
        "\n",
        "X_train, X_test, y_train, y_test=train_test_split(X, y, random_state=3)\n",
        "\n",
        "clf=DecisionTreeClassifier(max_depth=5)\n",
        "Mul = MultiOutputRegressor(clf).fit(X_train, y_train)\n",
        "\n",
        "y_pred = Mul.predict((X_test)) "
      ],
      "execution_count": null,
      "outputs": []
    },
    {
      "cell_type": "code",
      "metadata": {
        "id": "8BqOaAWqk5en"
      },
      "source": [
        "cross_val_score(Mul, y_test, y_pred, cv=10)"
      ],
      "execution_count": null,
      "outputs": []
    },
    {
      "cell_type": "code",
      "metadata": {
        "id": "-ROMzkx_k8GS"
      },
      "source": [
        "pred= Mul.predict((X)) \n",
        "pred_price=[i[0] for i in pred]\n",
        "print(pred_price)"
      ],
      "execution_count": null,
      "outputs": []
    },
    {
      "cell_type": "code",
      "metadata": {
        "id": "1uUualQfk-SO"
      },
      "source": [
        "percent_of_price = [i / j for i, j in zip(pred_price, y.tolist())] \n",
        "dict_pred_price={'predict_price': pred_price, 'percent_price':percent_of_price}\n",
        "dataf=pd.DataFrame(dict_pred_price)\n",
        "\n",
        "zillow_dtf=pd.concat([zillow_ddf, dataf], axis=1)\n",
        "print(zillow_dtf.columns)"
      ],
      "execution_count": null,
      "outputs": []
    },
    {
      "cell_type": "code",
      "metadata": {
        "id": "9ftkhAh3lBPN"
      },
      "source": [
        "zillow_dtf.drop(['state_zip_code_10007', 'state_zip_code_10022', 'state_zip_code_10469',\n",
        "       'state_zip_code_11203', 'state_zip_code_11693'], axis=1, inplace=True)\n",
        "print(zillow_dtf.head())"
      ],
      "execution_count": null,
      "outputs": []
    },
    {
      "cell_type": "markdown",
      "metadata": {
        "id": "_jhcKQOkwyIs"
      },
      "source": [
        "# Database Setup"
      ]
    },
    {
      "cell_type": "code",
      "metadata": {
        "id": "_yr7mjMVZ2_c"
      },
      "source": [
        "try:\n",
        "  mydb = mysql.connector.connect(user='root5', password='!GoodPassword123!',\n",
        "                        host='34.123.115.192',\n",
        "                        port=3306\n",
        "                        )\n",
        "except:\n",
        "  print(\"Error in fetching ip...  snoozing for 30 seconds and retrying\")\n",
        "  time.sleep(3)"
      ],
      "execution_count": null,
      "outputs": []
    },
    {
      "cell_type": "code",
      "metadata": {
        "id": "Po95RetI-H5s"
      },
      "source": [
        "'''\n",
        "mydb = mysql.connector.connect(user='root5', password='!GoodPassword123!',\n",
        "                          host='34.123.115.192',\n",
        "                          port=3306\n",
        "                          )\n",
        "'''"
      ],
      "execution_count": null,
      "outputs": []
    },
    {
      "cell_type": "code",
      "metadata": {
        "id": "SrGh-OQd-gNM"
      },
      "source": [
        "mycursor = mydb.cursor()"
      ],
      "execution_count": null,
      "outputs": []
    },
    {
      "cell_type": "code",
      "metadata": {
        "id": "Cl80RZbJ-95S"
      },
      "source": [
        "# check if connection is successful or not\n",
        "if (mydb):\n",
        "  print('Connection Successful')\n",
        "else:\n",
        "  print('Unsuccessful')\n",
        "  "
      ],
      "execution_count": null,
      "outputs": []
    },
    {
      "cell_type": "code",
      "metadata": {
        "id": "thxpdnoubWID"
      },
      "source": [
        "mydb"
      ],
      "execution_count": null,
      "outputs": []
    },
    {
      "cell_type": "code",
      "metadata": {
        "id": "-jKvcsC6_9YA"
      },
      "source": [
        "try:\n",
        "  mycursor.execute('Create database zillowdb;')\n",
        "except:\n",
        "  print('Database exists.')"
      ],
      "execution_count": null,
      "outputs": []
    },
    {
      "cell_type": "code",
      "metadata": {
        "id": "rA7EdcFb-pz4"
      },
      "source": [
        "mycursor.execute('Show databases')"
      ],
      "execution_count": null,
      "outputs": []
    },
    {
      "cell_type": "code",
      "metadata": {
        "id": "7WIUKzyF-4Uc"
      },
      "source": [
        "for db in mycursor:\n",
        "  print(db)"
      ],
      "execution_count": null,
      "outputs": []
    },
    {
      "cell_type": "code",
      "metadata": {
        "id": "-2kDm3NO_grG"
      },
      "source": [
        "# point to the right database\n",
        "mydb = mysql.connector.connect(user='root5', password='!GoodPassword123!',\n",
        "                          host='34.123.115.192',\n",
        "                          database= 'zillowdb'\n",
        "                          )"
      ],
      "execution_count": null,
      "outputs": []
    },
    {
      "cell_type": "code",
      "metadata": {
        "id": "vzNOD9XHFss0"
      },
      "source": [
        "mycursor = mydb.cursor()"
      ],
      "execution_count": null,
      "outputs": []
    },
    {
      "cell_type": "code",
      "metadata": {
        "id": "m164Rr2uGKlF"
      },
      "source": [
        "mycursor.execute(\"DROP TABLE IF EXISTS house_details_results_preliminary;\")"
      ],
      "execution_count": null,
      "outputs": []
    },
    {
      "cell_type": "code",
      "metadata": {
        "id": "RrICvIdNCeKr"
      },
      "source": [
        "mycursor.execute(\"\"\"CREATE TABLE house_details_results_preliminary (\n",
        "    prices float NOT NULL, \n",
        "    beds float DEFAULT NULL, \n",
        "    baths float DEFAULT NULL, \n",
        "    sq_feet float DEFAULT NULL, \n",
        "    type varchar(300) DEFAULT NULL, \n",
        "    address varchar(300) DEFAULT NULL,\n",
        "    street_name varchar(300) DEFAULT NULL,\n",
        "    city varchar(300) DEFAULT NULL,\n",
        "    state_zip_code varchar(300) DEFAULT NULL,\n",
        "    real_estate varchar(300) DEFAULT NULL,\n",
        "    last_updated varchar(300) DEFAULT NULL,\n",
        "    link varchar(300) DEFAULT NULL)\"\"\")"
      ],
      "execution_count": null,
      "outputs": []
    },
    {
      "cell_type": "code",
      "metadata": {
        "id": "9ZhJMaOUCgbk"
      },
      "source": [
        "mycursor.execute('Show Tables;')"
      ],
      "execution_count": null,
      "outputs": []
    },
    {
      "cell_type": "code",
      "metadata": {
        "id": "z7dz1MSbHCjI"
      },
      "source": [
        "def insert_results_to_db(zillow_df):\n",
        "  mydb = mysql.connector.connect(user='root5', password='!GoodPassword123!',\n",
        "                        host='34.123.115.192', database= 'zillowdb',\n",
        "                        port=3306\n",
        "                        )\n",
        "  cursor = mydb.cursor()\n",
        "  record_count = 0\n",
        "  cols = \",\".join([str(i) for i in zillow_df.columns.tolist()])\n",
        "  for i, row in zillow_df.iterrows():\n",
        "    sql = \"INSERT INTO house_details_results_preliminary (\" + cols + \") VALUES (\" + \"%s,\"*(len(row)-1) + \"%s)\"\n",
        "    cursor.execute(sql, tuple(row))\n",
        "    mydb.commit()\n",
        "    record_count += 1\n",
        "  mydb.close()\n",
        "  print(record_count)"
      ],
      "execution_count": null,
      "outputs": []
    },
    {
      "cell_type": "code",
      "metadata": {
        "id": "qhGTrNBKe1Pc"
      },
      "source": [
        "a = insert_results_to_db(zillow_df)\n",
        "print(a)"
      ],
      "execution_count": null,
      "outputs": []
    },
    {
      "cell_type": "code",
      "metadata": {
        "id": "8QrCyiORfoYd"
      },
      "source": [
        "dataset = zillow_df.copy()\n",
        "dataset.tail()"
      ],
      "execution_count": null,
      "outputs": []
    },
    {
      "cell_type": "code",
      "metadata": {
        "id": "ZKCsoLzflYwm"
      },
      "source": [
        "#check missing value\n",
        "dataset.isna().sum()"
      ],
      "execution_count": null,
      "outputs": []
    },
    {
      "cell_type": "code",
      "metadata": {
        "id": "OAtNBJeplbM_"
      },
      "source": [
        "dataset.info()"
      ],
      "execution_count": null,
      "outputs": []
    },
    {
      "cell_type": "code",
      "metadata": {
        "id": "a1otgnZkmEtc"
      },
      "source": [
        "#drop irrelevant columns\n",
        "feature_drop = ['real_estate','street_name', 'city','state_zip_code','last_updated', 'link']\n",
        "dataset1 = dataset.drop(feature_drop, axis=1)\n",
        "dataset1"
      ],
      "execution_count": null,
      "outputs": []
    },
    {
      "cell_type": "code",
      "metadata": {
        "id": "ONWz14KjnFmh"
      },
      "source": [
        "#Now split the dataset into a training set and a test set.\n",
        "#Use the test set in the final evaluation of our models.\n",
        "train_dataset = dataset1.sample(frac=0.8, random_state=0)\n",
        "test_dataset = dataset1.drop(train_dataset.index)"
      ],
      "execution_count": null,
      "outputs": []
    },
    {
      "cell_type": "code",
      "metadata": {
        "id": "rT9MnqNIn707"
      },
      "source": [
        "#look at the overall statistics\n",
        "train_dataset.describe().transpose()"
      ],
      "execution_count": null,
      "outputs": []
    },
    {
      "cell_type": "code",
      "metadata": {
        "id": "gsPdDP37oFyP"
      },
      "source": [
        "#Separate the target value price\n",
        "train_features = train_dataset.copy()\n",
        "test_features = test_dataset.copy()\n",
        "\n",
        "train_labels = train_features.pop('prices')\n",
        "test_labels = test_features.pop('prices')"
      ],
      "execution_count": null,
      "outputs": []
    },
    {
      "cell_type": "code",
      "metadata": {
        "id": "awSFbYK_oSsC"
      },
      "source": [
        "#select statistics mean and std\n",
        "train_dataset.describe().transpose()[['mean', 'std']]"
      ],
      "execution_count": null,
      "outputs": []
    },
    {
      "cell_type": "code",
      "metadata": {
        "id": "tj8Ll0lvoaIx"
      },
      "source": [
        "#normalization\n",
        "normalizer = preprocessing.Normalization()\n",
        "normalizer.adapt(np.array(train_features))\n",
        "print(normalizer.mean.numpy())"
      ],
      "execution_count": null,
      "outputs": []
    },
    {
      "cell_type": "code",
      "metadata": {
        "id": "Bs3g7lcsokXY"
      },
      "source": [
        "first = np.array(train_features[:1])\n",
        "\n",
        "with np.printoptions(precision=2, suppress=True):\n",
        "  print('First example:', first)\n",
        "  print()\n",
        "  print('Normalized:', normalizer(first).numpy())"
      ],
      "execution_count": null,
      "outputs": []
    },
    {
      "cell_type": "markdown",
      "metadata": {
        "id": "Lx-ErrvfoyUX"
      },
      "source": [
        "## Linear regression"
      ]
    },
    {
      "cell_type": "code",
      "metadata": {
        "id": "suCeGQaDo821"
      },
      "source": [
        "#Start with a single-variable linear regression, to predict 'prices' from sqf.create the sqf Normalization layer:\n",
        "sqf = np.array(train_features['sq_feet'])\n",
        "sqf_normalizer = preprocessing.Normalization(input_shape=[1,])\n",
        "sqf_normalizer.adapt(sqf)"
      ],
      "execution_count": null,
      "outputs": []
    },
    {
      "cell_type": "code",
      "metadata": {
        "id": "DnfvoN2NpVVe"
      },
      "source": [
        "#Build the sequential model \n",
        "sqf_model = tf.keras.Sequential([\n",
        "    sqf_normalizer,\n",
        "    layers.Dense(units=1)\n",
        "])\n",
        "sqf_model.summary()"
      ],
      "execution_count": null,
      "outputs": []
    },
    {
      "cell_type": "code",
      "metadata": {
        "id": "K0KpwAtMpkTE"
      },
      "source": [
        "sqf_model.predict(sqf[:10])"
      ],
      "execution_count": null,
      "outputs": []
    },
    {
      "cell_type": "code",
      "metadata": {
        "id": "fhtnKeKvpo7w"
      },
      "source": [
        "sqf_model.compile(\n",
        "    optimizer=tf.optimizers.Adam(learning_rate=0.1),\n",
        "    loss='mean_absolute_error')"
      ],
      "execution_count": null,
      "outputs": []
    },
    {
      "cell_type": "code",
      "metadata": {
        "id": "jxHukX09p5ba"
      },
      "source": [
        "%%time\n",
        "history = sqf_model.fit(\n",
        "    train_features['sq_feet'], train_labels,\n",
        "    epochs=100,\n",
        "    # suppress logging\n",
        "    verbose=0,\n",
        "    # Calculate validation results on 20% of the training data\n",
        "    validation_split = 0.2)"
      ],
      "execution_count": null,
      "outputs": []
    },
    {
      "cell_type": "code",
      "metadata": {
        "id": "8FZ3UvqwqPYM"
      },
      "source": [
        "#Visualize the model's training progress \n",
        "hist = pd.DataFrame(history.history)\n",
        "hist['epoch'] = history.epoch\n",
        "hist.tail()"
      ],
      "execution_count": null,
      "outputs": []
    },
    {
      "cell_type": "code",
      "metadata": {
        "id": "dyaM5pOkqa3a"
      },
      "source": [
        "def plot_loss(history):\n",
        "  plt.plot(history.history['loss'], label='loss')\n",
        "  plt.plot(history.history['val_loss'], label='val_loss')\n",
        "  plt.ylim([0, 10000000])\n",
        "  plt.xlabel('Epoch')\n",
        "  plt.ylabel('Error [prices]')\n",
        "  plt.legend()\n",
        "  plt.grid(True)"
      ],
      "execution_count": null,
      "outputs": []
    },
    {
      "cell_type": "code",
      "metadata": {
        "id": "rnyM7Y96rTEa"
      },
      "source": [
        "plot_loss(history)"
      ],
      "execution_count": null,
      "outputs": []
    },
    {
      "cell_type": "code",
      "metadata": {
        "id": "RQLGQBWtsV8o"
      },
      "source": [
        "test_results = {}\n",
        "\n",
        "test_results['sqf_model'] = sqf_model.evaluate(\n",
        "    test_features['sq_feet'],\n",
        "    test_labels, verbose=0)\n",
        "x = tf.linspace(0.0, 7000, 7001)\n",
        "y = sqf_model.predict(x)"
      ],
      "execution_count": null,
      "outputs": []
    },
    {
      "cell_type": "code",
      "metadata": {
        "id": "FiXrXF6Nsj82"
      },
      "source": [
        "def plot_sqf(x, y):\n",
        "  plt.scatter(train_features['sq_feet'], train_labels, label='Data')\n",
        "  plt.plot(x, y, color='k', label='Predictions')\n",
        "  plt.xlabel('sq_feet')\n",
        "  plt.ylabel('prices')\n",
        "  plt.legend()\n",
        "\n",
        "plot_sqf(x, y)"
      ],
      "execution_count": null,
      "outputs": []
    },
    {
      "cell_type": "markdown",
      "metadata": {
        "id": "Inb6rzY-s-9r"
      },
      "source": [
        "Since used single variable to predict prices didn't have good result and linear relationship, we will try to put multiple variables next"
      ]
    },
    {
      "cell_type": "code",
      "metadata": {
        "id": "Lx4Fwtn0tYXb"
      },
      "source": [
        "linear_model = tf.keras.Sequential([\n",
        "    normalizer,\n",
        "    layers.Dense(units=1)\n",
        "])\n",
        "linear_model.predict(train_features[:10])"
      ],
      "execution_count": null,
      "outputs": []
    },
    {
      "cell_type": "code",
      "metadata": {
        "id": "uiWO_Owxthr4"
      },
      "source": [
        "linear_model.layers[1].kernel"
      ],
      "execution_count": null,
      "outputs": []
    },
    {
      "cell_type": "code",
      "metadata": {
        "id": "GJEw-W04uLoS"
      },
      "source": [
        "linear_model.compile(\n",
        "    optimizer=tf.optimizers.Adam(learning_rate=0.1),\n",
        "    loss='mean_absolute_error')"
      ],
      "execution_count": null,
      "outputs": []
    },
    {
      "cell_type": "code",
      "metadata": {
        "id": "4R3AcUeduQ4Y"
      },
      "source": [
        "%%time\n",
        "history = linear_model.fit(\n",
        "    train_features, train_labels, \n",
        "    epochs=100,\n",
        "    # suppress logging\n",
        "    verbose=0,\n",
        "    # Calculate validation results on 20% of the training data\n",
        "    validation_split = 0.2)"
      ],
      "execution_count": null,
      "outputs": []
    },
    {
      "cell_type": "code",
      "metadata": {
        "id": "-vlmJdoBusEu"
      },
      "source": [
        "plot_loss(history)"
      ],
      "execution_count": null,
      "outputs": []
    },
    {
      "cell_type": "code",
      "metadata": {
        "id": "XiJfyjNlvg_9"
      },
      "source": [
        "#Collect the results on the test set\n",
        "test_results['linear_model'] = linear_model.evaluate(\n",
        "    test_features, test_labels, verbose=0)"
      ],
      "execution_count": null,
      "outputs": []
    },
    {
      "cell_type": "markdown",
      "metadata": {
        "id": "eM39KniVvvnB"
      },
      "source": [
        "# DNN regression"
      ]
    },
    {
      "cell_type": "code",
      "metadata": {
        "id": "2p332IgvvyWr"
      },
      "source": [
        "def build_and_compile_model(norm):\n",
        "  model = keras.Sequential([\n",
        "      norm,\n",
        "      layers.Dense(64, activation='relu'),\n",
        "      layers.Dense(64, activation='relu'),\n",
        "      layers.Dense(1)\n",
        "  ])\n",
        "\n",
        "  model.compile(loss='mean_absolute_error',\n",
        "                optimizer=tf.keras.optimizers.Adam(0.001))\n",
        "  return model"
      ],
      "execution_count": null,
      "outputs": []
    },
    {
      "cell_type": "markdown",
      "metadata": {
        "id": "VExvqm5SwGJY"
      },
      "source": [
        "# One variable"
      ]
    },
    {
      "cell_type": "code",
      "metadata": {
        "id": "hfUQ4hb7wHc9"
      },
      "source": [
        "#Start with a DNN model for a single input: \"sq_feet\"\n",
        "dnn_sqf_model = build_and_compile_model(sqf_normalizer)"
      ],
      "execution_count": null,
      "outputs": []
    },
    {
      "cell_type": "code",
      "metadata": {
        "id": "e4EJ7AWDw5ss"
      },
      "source": [
        "dnn_sqf_model.summary()"
      ],
      "execution_count": null,
      "outputs": []
    },
    {
      "cell_type": "code",
      "metadata": {
        "id": "E2tiarqvxEku"
      },
      "source": [
        "#Train the model:\n",
        "history = dnn_sqf_model.fit(\n",
        "    train_features['sq_feet'], train_labels,\n",
        "    validation_split=0.2,\n",
        "    verbose=0, epochs=100)"
      ],
      "execution_count": null,
      "outputs": []
    },
    {
      "cell_type": "code",
      "metadata": {
        "id": "iIHeMfFcxP3B"
      },
      "source": [
        "plot_loss(history)"
      ],
      "execution_count": null,
      "outputs": []
    },
    {
      "cell_type": "code",
      "metadata": {
        "id": "L-VA75t3xUO0"
      },
      "source": [
        "x = tf.linspace(0.0, 7000, 7001)\n",
        "y = dnn_sqf_model.predict(x)"
      ],
      "execution_count": null,
      "outputs": []
    },
    {
      "cell_type": "code",
      "metadata": {
        "id": "E4skBqmExbmu"
      },
      "source": [
        "plot_sqf(x, y)"
      ],
      "execution_count": null,
      "outputs": []
    },
    {
      "cell_type": "code",
      "metadata": {
        "id": "KJMjkJRtjtPr"
      },
      "source": [
        "test_results['dnn_sqf_model'] = dnn_sqf_model.evaluate(\n",
        "    test_features['sq_feet'], test_labels,\n",
        "    verbose=0)"
      ],
      "execution_count": null,
      "outputs": []
    },
    {
      "cell_type": "code",
      "metadata": {
        "id": "6kH-Jk3_j2Ps"
      },
      "source": [
        "dnn_model = build_and_compile_model(normalizer)\n",
        "dnn_model.summary()"
      ],
      "execution_count": null,
      "outputs": []
    },
    {
      "cell_type": "code",
      "metadata": {
        "id": "lBk8xuCFj8bO"
      },
      "source": [
        "%%time\n",
        "history = dnn_model.fit(\n",
        "    train_features, train_labels,\n",
        "    validation_split=0.2,\n",
        "    verbose=0, epochs=100)"
      ],
      "execution_count": null,
      "outputs": []
    },
    {
      "cell_type": "code",
      "metadata": {
        "id": "Chox0zn5kBNg"
      },
      "source": [
        "plot_loss(history)"
      ],
      "execution_count": null,
      "outputs": []
    },
    {
      "cell_type": "code",
      "metadata": {
        "id": "SGRPc-GhkElZ"
      },
      "source": [
        "#Collect the results on the test set:\n",
        "test_results['dnn_model'] = dnn_model.evaluate(test_features, test_labels, verbose=0)"
      ],
      "execution_count": null,
      "outputs": []
    },
    {
      "cell_type": "code",
      "metadata": {
        "id": "5OvPrmx7kML9"
      },
      "source": [
        "pd.DataFrame(test_results, index=['Mean absolute error [sq_feet]']).T"
      ],
      "execution_count": null,
      "outputs": []
    },
    {
      "cell_type": "code",
      "metadata": {
        "id": "tddA97TYkXgp"
      },
      "source": [
        "#Make predictions\n",
        "#Finally, predict have a look at the errors made by the model when making predictions on the test set:"
      ],
      "execution_count": null,
      "outputs": []
    },
    {
      "cell_type": "code",
      "metadata": {
        "id": "Y9MTne0lkaie"
      },
      "source": [
        "test_predictions = dnn_model.predict(test_features).flatten()\n",
        "\n",
        "a = plt.axes(aspect='equal')\n",
        "plt.scatter(test_labels, test_predictions)\n",
        "plt.xlabel('True Values [sq_feet]')\n",
        "plt.ylabel('Predictions [sq_feet]')\n",
        "lims = [0, 50]\n",
        "plt.xlim(lims)\n",
        "plt.ylim(lims)\n",
        "_ = plt.plot(lims, lims)"
      ],
      "execution_count": null,
      "outputs": []
    },
    {
      "cell_type": "code",
      "metadata": {
        "id": "qpOme0crlEay"
      },
      "source": [
        "#It looks like the model predicts unreasonably \n",
        "#let's take a look at the error distribution"
      ],
      "execution_count": null,
      "outputs": []
    },
    {
      "cell_type": "code",
      "metadata": {
        "id": "dLjgqRtSlHcS"
      },
      "source": [
        "error = test_predictions - test_labels\n",
        "plt.hist(error, bins=25)\n",
        "plt.xlabel('Prediction Error [sq_feet]')\n",
        "_ = plt.ylabel('Count')"
      ],
      "execution_count": null,
      "outputs": []
    },
    {
      "cell_type": "code",
      "metadata": {
        "id": "G32R3qK8lUCe"
      },
      "source": [
        "dnn_model.save('dnn_model')"
      ],
      "execution_count": null,
      "outputs": []
    },
    {
      "cell_type": "code",
      "metadata": {
        "id": "rvZ2RkDTlXav"
      },
      "source": [
        "reloaded = tf.keras.models.load_model('dnn_model')\n",
        "\n",
        "test_results['reloaded'] = reloaded.evaluate(\n",
        "    test_features, test_labels, verbose=0)"
      ],
      "execution_count": null,
      "outputs": []
    },
    {
      "cell_type": "code",
      "metadata": {
        "id": "OV-mFNZ3lbV7"
      },
      "source": [
        "pd.DataFrame(test_results, index=['Mean absolute error [sq_feet]']).T"
      ],
      "execution_count": null,
      "outputs": []
    },
    {
      "cell_type": "markdown",
      "metadata": {
        "id": "IpbwU_FUYm96"
      },
      "source": [
        "## Non Linear Regression with Keras and Tensorflow Backend"
      ]
    },
    {
      "cell_type": "code",
      "metadata": {
        "id": "StNGlvGuRjD_"
      },
      "source": [
        "\n",
        "TrainingSet = train_dataset\n",
        "ValidationSet = test_dataset\n",
        "\n",
        "X = pd.DataFrame(dataset1, columns=['beds','baths','sq_feet'])\n",
        "y = pd.Series(dataset1['prices'])\n",
        "\n",
        "X1, X2, Y1, Y2 = train_test_split(X, y, test_size=0.2,random_state=0)\n",
        "\n",
        "# create model\n",
        "model = Sequential()\n",
        "model.add(Dense(20, activation=\"tanh\", input_dim=3, kernel_initializer=\"uniform\"))\n",
        "model.add(Dense(1, activation=\"linear\", kernel_initializer=\"uniform\"))\n",
        "\n",
        "# Compile model\n",
        "model.compile(loss='mse', optimizer='adam', metrics=['accuracy'])\n",
        "\n",
        "# Fit the model\n",
        "model.fit(X1, Y1, epochs=100, batch_size=10,  verbose=2)\n",
        "\n",
        "# Calculate predictions\n",
        "PredTestSet = model.predict(X1)\n",
        "PredValSet = model.predict(X2)\n",
        "\n",
        "# Save predictions\n",
        "numpy.savetxt(\"trainresults.csv\", PredTestSet, delimiter=\",\")\n",
        "numpy.savetxt(\"valresults.csv\", PredValSet, delimiter=\",\")\n",
        "\n",
        "#Plot actual vs predition for training set\n",
        "TestResults = numpy.genfromtxt(\"trainresults.csv\", delimiter=\",\")\n",
        "plt.plot(Y1,TestResults,'ro')\n",
        "plt.title('Training Set')\n",
        "plt.xlabel('Actual')\n",
        "plt.ylabel('Predicted')\n",
        "\n",
        "#Compute R-Square value for training set\n",
        "TestR2Value = r2_score(Y1,TestResults)\n",
        "print(\"Training Set R-Square=\", TestR2Value)\n"
      ],
      "execution_count": null,
      "outputs": []
    },
    {
      "cell_type": "code",
      "metadata": {
        "id": "Xoxiul7pXL4s"
      },
      "source": [
        "#Plot actual vs predition for validation set\n",
        "ValResults = numpy.genfromtxt(\"valresults.csv\", delimiter=\",\")\n",
        "plt.plot(Y2,ValResults,'ro')\n",
        "plt.title('Validation Set')\n",
        "plt.xlabel('Actual')\n",
        "plt.ylabel('Predicted')\n",
        "\n",
        "#Compute R-Square value for validation set\n",
        "ValR2Value = r2_score(Y2,ValResults)\n",
        "print(\"Validation Set R-Square=\",ValR2Value)"
      ],
      "execution_count": null,
      "outputs": []
    }
  ]
}