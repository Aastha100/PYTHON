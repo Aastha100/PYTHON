{
  "nbformat": 4,
  "nbformat_minor": 0,
  "metadata": {
    "kernelspec": {
      "display_name": "Python 3",
      "language": "python",
      "name": "python3"
    },
    "language_info": {
      "codemirror_mode": {
        "name": "ipython",
        "version": 3
      },
      "file_extension": ".py",
      "mimetype": "text/x-python",
      "name": "python",
      "nbconvert_exporter": "python",
      "pygments_lexer": "ipython3",
      "version": "3.7.4"
    },
    "colab": {
      "name": "Web_Scraping_Zillow_Version_2_(HW_2)-2.ipynb",
      "provenance": []
    }
  },
  "cells": [
    {
      "cell_type": "code",
      "metadata": {
        "id": "NYV9ynEEpFQ8"
      },
      "source": [
        "import requests\n",
        "from bs4 import BeautifulSoup\n",
        "import pandas as pd\n",
        "import time"
      ],
      "execution_count": 1,
      "outputs": []
    },
    {
      "cell_type": "code",
      "metadata": {
        "id": "wGtlxZq1pFRC"
      },
      "source": [
        "header = {\n",
        "    \"User-Agent\": \"Mozilla/5.0 (Macintosh; Intel Mac OS X 10_15_7) AppleWebKit/537.36 (KHTML, like Gecko) Chrome/87.0.4280.88 Safari/537.36\",\n",
        "    \"Accept-Language\": \"en-US,en;q=0.9\"\n",
        "}\n"
      ],
      "execution_count": 2,
      "outputs": []
    },
    {
      "cell_type": "code",
      "metadata": {
        "id": "Nw3-sU-MpFRE"
      },
      "source": [
        "urls = []\n",
        "links = []\n",
        "x = 'https://www.zillow.com/homes/{}_rb/'\n",
        "zip_code = ['95121','95135','95134','95148','95035']\n",
        "#'95035','95036','95032','95030','95038','95051'"
      ],
      "execution_count": 3,
      "outputs": []
    },
    {
      "cell_type": "code",
      "metadata": {
        "id": "CAvYPRNspFRE"
      },
      "source": [
        "# create links with different zip codes and add into url list\n",
        "for i in zip_code:\n",
        "    new_link = x.format(i)\n",
        "    urls.append(new_link)"
      ],
      "execution_count": 4,
      "outputs": []
    },
    {
      "cell_type": "code",
      "metadata": {
        "colab": {
          "base_uri": "https://localhost:8080/"
        },
        "id": "tqBnE4eKpFRF",
        "outputId": "aee5f570-81e9-4d86-c933-3c17cf3d703d"
      },
      "source": [
        "print(urls[-1])\n",
        "print(len(urls))\n",
        "print(urls)"
      ],
      "execution_count": 5,
      "outputs": [
        {
          "output_type": "stream",
          "text": [
            "https://www.zillow.com/homes/95035_rb/\n",
            "5\n",
            "['https://www.zillow.com/homes/95121_rb/', 'https://www.zillow.com/homes/95135_rb/', 'https://www.zillow.com/homes/95134_rb/', 'https://www.zillow.com/homes/95148_rb/', 'https://www.zillow.com/homes/95035_rb/']\n"
          ],
          "name": "stdout"
        }
      ]
    },
    {
      "cell_type": "code",
      "metadata": {
        "colab": {
          "base_uri": "https://localhost:8080/",
          "height": 120
        },
        "id": "6dXWTvo_pFRJ",
        "outputId": "cb832b71-98cc-479d-e11d-d3867b6609d8"
      },
      "source": [
        "'''\n",
        "def diagnostic_print(run, data_point0=None, data_point1=None, data_point2=None, data_point3=None):\n",
        "    output_string = \"Run: \" + str(run)\n",
        "    if data_point0 != None:\n",
        "        output_string  = output_string + str(\"  :  \" + str(data_point0))\n",
        "    if data_point1 != None:\n",
        "        output_string  = output_string + str(\"  :  \" + str(data_point1))\n",
        "    if data_point2 != None:\n",
        "        output_string  = output_string + str(\"  :  \" + str(data_point2))\n",
        "    if data_point3 != None:\n",
        "        output_string  = output_string + str(\"  :  \" + str(data_point3))\n",
        "    print(output_string)\n",
        "    \n",
        "# get lists of price, house info, address\n",
        "price = []\n",
        "house_info = []\n",
        "address = []\n",
        "home_type = []\n",
        "last_updated = []\n",
        "links = []\n",
        "\n",
        "url_list = [] #relocated to for loop\n",
        "request_list = [] #relocated to for loop\n",
        "soup_list = [] #relocated to for loop\n",
        "error_flag = 0\n",
        "\n",
        "for url in urls:\n",
        "\n",
        "    #populate URL list with zillow links\n",
        "    url_list.append(url) #This is for zipcodes\n",
        "\n",
        "for i in range(len(url_list)):\n",
        "    #populate the request list with sessions\n",
        "    request_list.append(requests.Session().get(url_list[i], headers=header))\n",
        "\n",
        "    #populate soup list with information from URLs\n",
        "    soup_list.append(BeautifulSoup(request_list[i].content, 'html.parser'))\n",
        "\n",
        "    if i == 0:\n",
        "          diagnostic_print(\"Zip code\", i, url_list[i], request_list[i])\n",
        "    \n",
        "    error_check = str(soup_list[0])\n",
        "    error_checker = error_check.find(\"Please verify you're a human to continue.\")\n",
        "    if error_checker != -1:\n",
        "        error_message = \"Crawling error (captcha).  Will attempt to snooze for 7 mins and see if that helps.\"\n",
        "        error_flag = 1\n",
        "        diagnostic_print(error_message)\n",
        "    time.sleep(10)\n",
        "    continue\n",
        "\n",
        "    response = requests.get(url_list[i], headers=header)\n",
        "    data = response.text\n",
        "\n",
        "    soup = BeautifulSoup(data, 'html.parser')\n",
        "\n",
        "    amount = list(soup.find_all('div', class_='list-card-price'))\n",
        "    for i in amount:\n",
        "        price.append(i.text)\n",
        "\n",
        "    beds = list(soup.find_all('ul',class_='list-card-details'))\n",
        "    for i in beds:\n",
        "        house_info.append(i.text)\n",
        "\n",
        "    x = list(soup.find_all('address',class_='list-card-addr'))\n",
        "    for i in x:\n",
        "        address.append(i.text)\n",
        "\n",
        "    types = list(soup.find_all('div', {'class': 'list-card-footer'}))\n",
        "    for i in types:\n",
        "        home_type.append(i.text)\n",
        "        \n",
        "    updated = list(soup.find_all('div', {'class': 'list-card-top'}))\n",
        "    for i in updated:\n",
        "        last_updated.append(i.text)\n",
        "        \n",
        "    link = list(soup.find_all(class_= 'list-card-link'))\n",
        "    for i in link:\n",
        "        links.append(i.text)\n",
        "\n",
        "    c = list(soup.find_all(\"ul\", class_=\"list-card-details\"))\n",
        "    for i in c:\n",
        "        star_rooms.append(i.text)\n",
        "'''"
      ],
      "execution_count": null,
      "outputs": [
        {
          "output_type": "execute_result",
          "data": {
            "application/vnd.google.colaboratory.intrinsic+json": {
              "type": "string"
            },
            "text/plain": [
              "'\\ndef diagnostic_print(run, data_point0=None, data_point1=None, data_point2=None, data_point3=None):\\n    output_string = \"Run: \" + str(run)\\n    if data_point0 != None:\\n        output_string  = output_string + str(\"  :  \" + str(data_point0))\\n    if data_point1 != None:\\n        output_string  = output_string + str(\"  :  \" + str(data_point1))\\n    if data_point2 != None:\\n        output_string  = output_string + str(\"  :  \" + str(data_point2))\\n    if data_point3 != None:\\n        output_string  = output_string + str(\"  :  \" + str(data_point3))\\n    print(output_string)\\n    \\n# get lists of price, house info, address\\nprice = []\\nhouse_info = []\\naddress = []\\nhome_type = []\\nlast_updated = []\\nlinks = []\\n\\nurl_list = [] #relocated to for loop\\nrequest_list = [] #relocated to for loop\\nsoup_list = [] #relocated to for loop\\nerror_flag = 0\\n\\nfor url in urls:\\n\\n    #populate URL list with zillow links\\n    url_list.append(url) #This is for zipcodes\\n\\nfor i in range(len(url_list)):\\n    #populate the request list with sessions\\n    request_list.append(requests.Session().get(url_list[i], headers=header))\\n\\n    #populate soup list with information from URLs\\n    soup_list.append(BeautifulSoup(request_list[i].content, \\'html.parser\\'))\\n\\n    if i == 0:\\n          diagnostic_print(\"Zip code\", i, url_list[i], request_list[i])\\n    \\n    error_check = str(soup_list[0])\\n    error_checker = error_check.find(\"Please verify you\\'re a human to continue.\")\\n    if error_checker != -1:\\n        error_message = \"Crawling error (captcha).  Will attempt to snooze for 7 mins and see if that helps.\"\\n        error_flag = 1\\n        diagnostic_print(error_message)\\n    time.sleep(10)\\n    continue\\n\\n    response = requests.get(url_list[i], headers=header)\\n    data = response.text\\n\\n    soup = BeautifulSoup(data, \\'html.parser\\')\\n\\n    amount = list(soup.find_all(\\'div\\', class_=\\'list-card-price\\'))\\n    for i in amount:\\n        price.append(i.text)\\n\\n    beds = list(soup.find_all(\\'ul\\',class_=\\'list-card-details\\'))\\n    for i in beds:\\n        house_info.append(i.text)\\n\\n    x = list(soup.find_all(\\'address\\',class_=\\'list-card-addr\\'))\\n    for i in x:\\n        address.append(i.text)\\n\\n    types = list(soup.find_all(\\'div\\', {\\'class\\': \\'list-card-footer\\'}))\\n    for i in types:\\n        home_type.append(i.text)\\n        \\n    updated = list(soup.find_all(\\'div\\', {\\'class\\': \\'list-card-top\\'}))\\n    for i in updated:\\n        last_updated.append(i.text)\\n        \\n    link = list(soup.find_all(class_= \\'list-card-link\\'))\\n    for i in link:\\n        links.append(i.text)\\n\\n    c = list(soup.find_all(\"ul\", class_=\"list-card-details\"))\\n    for i in c:\\n        star_rooms.append(i.text)\\n'"
            ]
          },
          "metadata": {
            "tags": []
          },
          "execution_count": 6
        }
      ]
    },
    {
      "cell_type": "code",
      "metadata": {
        "id": "8A0RQEEipFRK"
      },
      "source": [
        "price = []\n",
        "house_info = []\n",
        "address = []\n",
        "home_type = []\n",
        "last_updated = []\n",
        "star_rooms = []\n",
        "links = []\n",
        "\n",
        "for url in urls:\n",
        "    response = requests.get(url, headers=header)\n",
        "    data = response.text\n",
        "\n",
        "    soup = BeautifulSoup(data, 'html.parser')\n",
        "    amount = list(soup.find_all('div', class_='list-card-price'))\n",
        "    for i in amount:\n",
        "        price.append(i.text)\n",
        "\n",
        "    beds = list(soup.find_all('ul', class_='list-card-details'))\n",
        "    for i in beds:\n",
        "        house_info.append(i.text)\n",
        "\n",
        "    x = list(soup.find_all('address', class_='list-card-addr'))\n",
        "    for i in x:\n",
        "        address.append(i.text)\n",
        "    \n",
        "    c = list(soup.find_all(\"ul\", class_=\"list-card-details\"))\n",
        "    for i in c:\n",
        "        star_rooms.append(i.text)\n",
        "    \n",
        "    #detail = soup.find_all('div', {'class': 'list-card-details'}) #This doesn't seem to work, but looks useful\n",
        "    #for i in detail:\n",
        "    #    details.append(detail)\n",
        "        \n",
        "    types = list(soup.find_all('div', {'class': 'list-card-footer'}))\n",
        "    for i in types:\n",
        "        home_type.append(i.text)\n",
        "        \n",
        "    updated = list(soup.find_all('div', {'class': 'list-card-top'}))\n",
        "    for i in updated:\n",
        "        last_updated.append(i.text)\n",
        "        \n",
        "    link = list(soup.find_all('a',class_= 'list-card-link list-card-link-top-margin'))\n",
        "    for i in link:\n",
        "        links.append(i.get('href'))"
      ],
      "execution_count": 11,
      "outputs": []
    },
    {
      "cell_type": "code",
      "metadata": {
        "colab": {
          "base_uri": "https://localhost:8080/"
        },
        "id": "bwf_2V7JpFRJ",
        "outputId": "04512f19-b491-4028-bc16-c1c834053286"
      },
      "source": [
        "print(len(price))\n",
        "print(len(house_info))\n",
        "print(len(address))\n",
        "print(len(home_type))\n",
        "print(len(star_rooms))\n",
        "print(len(last_updated))\n",
        "print(len(links))"
      ],
      "execution_count": 12,
      "outputs": [
        {
          "output_type": "stream",
          "text": [
            "98\n",
            "98\n",
            "98\n",
            "98\n",
            "98\n",
            "98\n",
            "98\n"
          ],
          "name": "stdout"
        }
      ]
    },
    {
      "cell_type": "code",
      "metadata": {
        "id": "yysSuoPrpFRL",
        "colab": {
          "base_uri": "https://localhost:8080/"
        },
        "outputId": "39205f12-edc5-4d21-b5d2-cefea21ecc07"
      },
      "source": [
        "house_data = []\n",
        "house_data.append(price)\n",
        "house_data.append(house_info)\n",
        "house_data.append(address)\n",
        "house_data.append(home_type)\n",
        "house_data.append(star_rooms)\n",
        "house_data.append(last_updated)\n",
        "house_data.append(links)\n",
        "house_data.append(days_on_zillow)\n",
        "dict = {'price':house_data[0], 'house_info':house_data[1], 'address':house_data[2], 'home type':house_data[3], 'star roome':house_data[4], 'last updated':house_data[5], 'link':house_data[6]}\n",
        "data = pd.DataFrame(dict)\n",
        "print(data.shape)"
      ],
      "execution_count": 13,
      "outputs": [
        {
          "output_type": "stream",
          "text": [
            "(98, 7)\n"
          ],
          "name": "stdout"
        }
      ]
    },
    {
      "cell_type": "code",
      "metadata": {
        "id": "2KGi5Z9QpFRL",
        "colab": {
          "base_uri": "https://localhost:8080/",
          "height": 306
        },
        "outputId": "c455f993-af6b-4856-ab56-c235ddeb6126"
      },
      "source": [
        "data.head()"
      ],
      "execution_count": 14,
      "outputs": [
        {
          "output_type": "execute_result",
          "data": {
            "text/html": [
              "<div>\n",
              "<style scoped>\n",
              "    .dataframe tbody tr th:only-of-type {\n",
              "        vertical-align: middle;\n",
              "    }\n",
              "\n",
              "    .dataframe tbody tr th {\n",
              "        vertical-align: top;\n",
              "    }\n",
              "\n",
              "    .dataframe thead th {\n",
              "        text-align: right;\n",
              "    }\n",
              "</style>\n",
              "<table border=\"1\" class=\"dataframe\">\n",
              "  <thead>\n",
              "    <tr style=\"text-align: right;\">\n",
              "      <th></th>\n",
              "      <th>price</th>\n",
              "      <th>house_info</th>\n",
              "      <th>address</th>\n",
              "      <th>home type</th>\n",
              "      <th>star roome</th>\n",
              "      <th>last updated</th>\n",
              "      <th>link</th>\n",
              "    </tr>\n",
              "  </thead>\n",
              "  <tbody>\n",
              "    <tr>\n",
              "      <th>0</th>\n",
              "      <td>$1,148,000</td>\n",
              "      <td>4 bds,2 ba,1,886 sqft- House for sale</td>\n",
              "      <td>3025 Breen Ct, San Jose, CA 95121</td>\n",
              "      <td></td>\n",
              "      <td>4 bds,2 ba,1,886 sqft- House for sale</td>\n",
              "      <td>51 minutes ago</td>\n",
              "      <td>https://www.zillow.com/homedetails/3025-Breen-...</td>\n",
              "    </tr>\n",
              "    <tr>\n",
              "      <th>1</th>\n",
              "      <td>$2,478,000</td>\n",
              "      <td>5 bds,4 ba,3,868 sqft- House for sale</td>\n",
              "      <td>2272 Quail Bluff Pl, San Jose, CA 95121</td>\n",
              "      <td></td>\n",
              "      <td>5 bds,4 ba,3,868 sqft- House for sale</td>\n",
              "      <td>5 hours ago</td>\n",
              "      <td>https://www.zillow.com/homedetails/2272-Quail-...</td>\n",
              "    </tr>\n",
              "    <tr>\n",
              "      <th>2</th>\n",
              "      <td>$689,000</td>\n",
              "      <td>2 bds,2 ba,936 sqft- Townhouse for sale</td>\n",
              "      <td>2821 Buena Knoll Ct #103, San Jose, CA 95121</td>\n",
              "      <td></td>\n",
              "      <td>2 bds,2 ba,936 sqft- Townhouse for sale</td>\n",
              "      <td>1 day on Zillow</td>\n",
              "      <td>https://www.zillow.com/homedetails/2821-Buena-...</td>\n",
              "    </tr>\n",
              "    <tr>\n",
              "      <th>3</th>\n",
              "      <td>$979,998</td>\n",
              "      <td>4 bds,2 ba,1,400 sqft- House for sale</td>\n",
              "      <td>2511 Hebron Ave, San Jose, CA 95121</td>\n",
              "      <td></td>\n",
              "      <td>4 bds,2 ba,1,400 sqft- House for sale</td>\n",
              "      <td>16 days on Zillow</td>\n",
              "      <td>https://www.zillow.com/homedetails/2511-Hebron...</td>\n",
              "    </tr>\n",
              "    <tr>\n",
              "      <th>4</th>\n",
              "      <td>$1,450,000</td>\n",
              "      <td>4 bds,2 ba,1,618 sqft- House for sale</td>\n",
              "      <td>1049 Idlewood Dr, San Jose, CA 95121</td>\n",
              "      <td></td>\n",
              "      <td>4 bds,2 ba,1,618 sqft- House for sale</td>\n",
              "      <td>34 days on Zillow</td>\n",
              "      <td>https://www.zillow.com/homedetails/1049-Idlewo...</td>\n",
              "    </tr>\n",
              "  </tbody>\n",
              "</table>\n",
              "</div>"
            ],
            "text/plain": [
              "        price  ...                                               link\n",
              "0  $1,148,000  ...  https://www.zillow.com/homedetails/3025-Breen-...\n",
              "1  $2,478,000  ...  https://www.zillow.com/homedetails/2272-Quail-...\n",
              "2    $689,000  ...  https://www.zillow.com/homedetails/2821-Buena-...\n",
              "3    $979,998  ...  https://www.zillow.com/homedetails/2511-Hebron...\n",
              "4  $1,450,000  ...  https://www.zillow.com/homedetails/1049-Idlewo...\n",
              "\n",
              "[5 rows x 7 columns]"
            ]
          },
          "metadata": {
            "tags": []
          },
          "execution_count": 14
        }
      ]
    },
    {
      "cell_type": "code",
      "metadata": {
        "id": "P96EtLxapFRL"
      },
      "source": [
        ""
      ],
      "execution_count": null,
      "outputs": []
    }
  ]
}