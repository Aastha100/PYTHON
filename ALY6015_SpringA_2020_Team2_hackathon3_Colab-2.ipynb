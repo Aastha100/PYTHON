{
  "nbformat": 4,
  "nbformat_minor": 0,
  "metadata": {
    "colab": {
      "name": "ALY6015_SpringA_2020_Team2_hackathon3_Colab.ipynb",
      "provenance": [],
      "collapsed_sections": []
    },
    "kernelspec": {
      "name": "python3",
      "display_name": "Python 3"
    }
  },
  "cells": [
    {
      "cell_type": "markdown",
      "metadata": {
        "id": "SdKMod_YV3LG",
        "colab_type": "text"
      },
      "source": [
        "# **Hackathon3**\n",
        "\n",
        "## 1. EDA\n",
        "\n",
        "## 2. Logistic regression analysis\n",
        "\n",
        "## 3. Random forest\n",
        "\n",
        "## 4. Decision tree\n",
        "\n",
        "## 5. Conclusion \n",
        "\n",
        "Author: Mia (Yuhsin Hou), FangJung(Kristy) Lin, Sijie (Stephanie) Wang, Aastha chachra "
      ]
    },
    {
      "cell_type": "markdown",
      "metadata": {
        "id": "pwCmehKpV-th",
        "colab_type": "text"
      },
      "source": [
        "### Import necessary packages"
      ]
    },
    {
      "cell_type": "code",
      "metadata": {
        "id": "znh3j-7zVuJo",
        "colab_type": "code",
        "outputId": "94045ec5-0b79-4236-af5c-cf78d2d1ca06",
        "colab": {
          "base_uri": "https://localhost:8080/",
          "height": 105
        }
      },
      "source": [
        "import warnings \n",
        "import numpy as np\n",
        "import pandas as pd\n",
        "import os\n",
        "import seaborn as sns\n",
        "import statsmodels.api as sm\n",
        "from matplotlib import pyplot as plt\n",
        "from matplotlib.ticker import PercentFormatter\n",
        "import matplotlib.ticker as ticker\n",
        "from scipy import stats\n",
        "from pylab import rcParams\n",
        "from matplotlib.pyplot import MultipleLocator\n",
        "\n",
        "rcParams['figure.figsize'] = (20, 8)\n",
        "sns.set_style('darkgrid')\n",
        "plt.style.use('seaborn-darkgrid')\n",
        "\n",
        "from sklearn import datasets\n",
        "from sklearn.feature_selection import RFE\n",
        "from sklearn.linear_model import LogisticRegression\n",
        "from sklearn.model_selection import train_test_split\n",
        "from  sklearn.ensemble import RandomForestClassifier\n",
        "from sklearn.model_selection import cross_val_score\n",
        "from sklearn.model_selection import GridSearchCV\n",
        "from sklearn.model_selection import ShuffleSplit\n",
        "from sklearn.metrics import accuracy_score\n",
        "from sklearn.metrics import roc_auc_score\n",
        "from sklearn.metrics import roc_curve\n",
        "from sklearn.utils import resample\n",
        "from sklearn.externals.six import StringIO\n",
        "from sklearn.tree import export_graphviz\n",
        "from IPython.display import Image \n",
        "\n",
        "from sklearn.naive_bayes import GaussianNB\n",
        "from sklearn.preprocessing import StandardScaler\n",
        "from sklearn.pipeline import make_pipeline\n",
        "from patsy import dmatrices\n",
        "from sklearn import metrics\n",
        "from sklearn.metrics import classification_report\n",
        "from sklearn.metrics import confusion_matrix\n",
        "from sklearn.metrics import roc_auc_score\n",
        "from sklearn.metrics import roc_curve\n",
        "from sklearn import tree, metrics\n",
        "from sklearn import preprocessing\n",
        "\n",
        "from sklearn.tree import DecisionTreeClassifier \n",
        "from sklearn.neighbors import KNeighborsClassifier\n",
        "import pydotplus\n",
        "from sklearn.metrics import mean_squared_error,accuracy_score, precision_score,recall_score,f1_score\n",
        "from sklearn.metrics import roc_curve, roc_auc_score\n",
        "from matplotlib.colors import ListedColormap\n",
        "from sklearn import neighbors, datasets\n",
        "import graphviz\n",
        "from sklearn.svm import SVC"
      ],
      "execution_count": 1,
      "outputs": [
        {
          "output_type": "stream",
          "text": [
            "/usr/local/lib/python3.6/dist-packages/statsmodels/tools/_testing.py:19: FutureWarning: pandas.util.testing is deprecated. Use the functions in the public API at pandas.testing instead.\n",
            "  import pandas.util.testing as tm\n",
            "/usr/local/lib/python3.6/dist-packages/sklearn/externals/six.py:31: FutureWarning: The module is deprecated in version 0.21 and will be removed in version 0.23 since we've dropped support for Python 2.7. Please rely on the official version of six (https://pypi.org/project/six/).\n",
            "  \"(https://pypi.org/project/six/).\", FutureWarning)\n"
          ],
          "name": "stderr"
        }
      ]
    },
    {
      "cell_type": "markdown",
      "metadata": {
        "id": "6Hv9WTNfWEiv",
        "colab_type": "text"
      },
      "source": [
        "# **Part 1 - Data preprocessing**"
      ]
    },
    {
      "cell_type": "markdown",
      "metadata": {
        "id": "Af9eYl5UWFbc",
        "colab_type": "text"
      },
      "source": [
        "## Load data"
      ]
    },
    {
      "cell_type": "code",
      "metadata": {
        "id": "4Ll-D-h_VWym",
        "colab_type": "code",
        "outputId": "7af1d614-ec5b-440b-b7ff-e1d4788d18cc",
        "colab": {
          "base_uri": "https://localhost:8080/",
          "height": 162
        }
      },
      "source": [
        "data_path = 'https://docs.google.com/spreadsheets/d/e/2PACX-1vSmZs0T2w34YuStG_-qexNtmwcKZbaFI5pKoAEmoyiA16JKH0CwDQjAQYBA0SzVXEF9A1BshiLwdiS4/pub?gid=702609015&single=true&output=csv'\n",
        "my_df = pd.read_csv(data_path)\n",
        "\n",
        "my_df.head(3)"
      ],
      "execution_count": 3,
      "outputs": [
        {
          "output_type": "execute_result",
          "data": {
            "text/html": [
              "<div>\n",
              "<style scoped>\n",
              "    .dataframe tbody tr th:only-of-type {\n",
              "        vertical-align: middle;\n",
              "    }\n",
              "\n",
              "    .dataframe tbody tr th {\n",
              "        vertical-align: top;\n",
              "    }\n",
              "\n",
              "    .dataframe thead th {\n",
              "        text-align: right;\n",
              "    }\n",
              "</style>\n",
              "<table border=\"1\" class=\"dataframe\">\n",
              "  <thead>\n",
              "    <tr style=\"text-align: right;\">\n",
              "      <th></th>\n",
              "      <th>ID</th>\n",
              "      <th>LIMIT_BAL</th>\n",
              "      <th>SEX</th>\n",
              "      <th>EDUCATION</th>\n",
              "      <th>MARRIAGE</th>\n",
              "      <th>AGE</th>\n",
              "      <th>PAY_0</th>\n",
              "      <th>PAY_2</th>\n",
              "      <th>PAY_3</th>\n",
              "      <th>PAY_4</th>\n",
              "      <th>PAY_5</th>\n",
              "      <th>PAY_6</th>\n",
              "      <th>BILL_AMT1</th>\n",
              "      <th>BILL_AMT2</th>\n",
              "      <th>BILL_AMT3</th>\n",
              "      <th>BILL_AMT4</th>\n",
              "      <th>BILL_AMT5</th>\n",
              "      <th>BILL_AMT6</th>\n",
              "      <th>PAY_AMT1</th>\n",
              "      <th>PAY_AMT2</th>\n",
              "      <th>PAY_AMT3</th>\n",
              "      <th>PAY_AMT4</th>\n",
              "      <th>PAY_AMT5</th>\n",
              "      <th>PAY_AMT6</th>\n",
              "      <th>default.payment.next.month</th>\n",
              "    </tr>\n",
              "  </thead>\n",
              "  <tbody>\n",
              "    <tr>\n",
              "      <th>0</th>\n",
              "      <td>1</td>\n",
              "      <td>20000.0</td>\n",
              "      <td>2</td>\n",
              "      <td>2</td>\n",
              "      <td>1</td>\n",
              "      <td>24</td>\n",
              "      <td>2</td>\n",
              "      <td>2</td>\n",
              "      <td>-1</td>\n",
              "      <td>-1</td>\n",
              "      <td>-2</td>\n",
              "      <td>-2</td>\n",
              "      <td>3913.0</td>\n",
              "      <td>3102.0</td>\n",
              "      <td>689.0</td>\n",
              "      <td>0.0</td>\n",
              "      <td>0.0</td>\n",
              "      <td>0.0</td>\n",
              "      <td>0.0</td>\n",
              "      <td>689.0</td>\n",
              "      <td>0.0</td>\n",
              "      <td>0.0</td>\n",
              "      <td>0.0</td>\n",
              "      <td>0.0</td>\n",
              "      <td>1</td>\n",
              "    </tr>\n",
              "    <tr>\n",
              "      <th>1</th>\n",
              "      <td>2</td>\n",
              "      <td>120000.0</td>\n",
              "      <td>2</td>\n",
              "      <td>2</td>\n",
              "      <td>2</td>\n",
              "      <td>26</td>\n",
              "      <td>-1</td>\n",
              "      <td>2</td>\n",
              "      <td>0</td>\n",
              "      <td>0</td>\n",
              "      <td>0</td>\n",
              "      <td>2</td>\n",
              "      <td>2682.0</td>\n",
              "      <td>1725.0</td>\n",
              "      <td>2682.0</td>\n",
              "      <td>3272.0</td>\n",
              "      <td>3455.0</td>\n",
              "      <td>3261.0</td>\n",
              "      <td>0.0</td>\n",
              "      <td>1000.0</td>\n",
              "      <td>1000.0</td>\n",
              "      <td>1000.0</td>\n",
              "      <td>0.0</td>\n",
              "      <td>2000.0</td>\n",
              "      <td>1</td>\n",
              "    </tr>\n",
              "    <tr>\n",
              "      <th>2</th>\n",
              "      <td>3</td>\n",
              "      <td>90000.0</td>\n",
              "      <td>2</td>\n",
              "      <td>2</td>\n",
              "      <td>2</td>\n",
              "      <td>34</td>\n",
              "      <td>0</td>\n",
              "      <td>0</td>\n",
              "      <td>0</td>\n",
              "      <td>0</td>\n",
              "      <td>0</td>\n",
              "      <td>0</td>\n",
              "      <td>29239.0</td>\n",
              "      <td>14027.0</td>\n",
              "      <td>13559.0</td>\n",
              "      <td>14331.0</td>\n",
              "      <td>14948.0</td>\n",
              "      <td>15549.0</td>\n",
              "      <td>1518.0</td>\n",
              "      <td>1500.0</td>\n",
              "      <td>1000.0</td>\n",
              "      <td>1000.0</td>\n",
              "      <td>1000.0</td>\n",
              "      <td>5000.0</td>\n",
              "      <td>0</td>\n",
              "    </tr>\n",
              "  </tbody>\n",
              "</table>\n",
              "</div>"
            ],
            "text/plain": [
              "   ID  LIMIT_BAL  SEX  ...  PAY_AMT5  PAY_AMT6  default.payment.next.month\n",
              "0   1    20000.0    2  ...       0.0       0.0                           1\n",
              "1   2   120000.0    2  ...       0.0    2000.0                           1\n",
              "2   3    90000.0    2  ...    1000.0    5000.0                           0\n",
              "\n",
              "[3 rows x 25 columns]"
            ]
          },
          "metadata": {
            "tags": []
          },
          "execution_count": 3
        }
      ]
    },
    {
      "cell_type": "markdown",
      "metadata": {
        "id": "4QQ6vRg8WJmK",
        "colab_type": "text"
      },
      "source": [
        "## Interpret data"
      ]
    },
    {
      "cell_type": "code",
      "metadata": {
        "id": "jAiWmY0QVrDt",
        "colab_type": "code",
        "outputId": "ef009017-d0a3-4228-f6dd-af3fe4a96fde",
        "colab": {
          "base_uri": "https://localhost:8080/",
          "height": 442
        }
      },
      "source": [
        "list(my_df)"
      ],
      "execution_count": 4,
      "outputs": [
        {
          "output_type": "execute_result",
          "data": {
            "text/plain": [
              "['ID',\n",
              " 'LIMIT_BAL',\n",
              " 'SEX',\n",
              " 'EDUCATION',\n",
              " 'MARRIAGE',\n",
              " 'AGE',\n",
              " 'PAY_0',\n",
              " 'PAY_2',\n",
              " 'PAY_3',\n",
              " 'PAY_4',\n",
              " 'PAY_5',\n",
              " 'PAY_6',\n",
              " 'BILL_AMT1',\n",
              " 'BILL_AMT2',\n",
              " 'BILL_AMT3',\n",
              " 'BILL_AMT4',\n",
              " 'BILL_AMT5',\n",
              " 'BILL_AMT6',\n",
              " 'PAY_AMT1',\n",
              " 'PAY_AMT2',\n",
              " 'PAY_AMT3',\n",
              " 'PAY_AMT4',\n",
              " 'PAY_AMT5',\n",
              " 'PAY_AMT6',\n",
              " 'default.payment.next.month']"
            ]
          },
          "metadata": {
            "tags": []
          },
          "execution_count": 4
        }
      ]
    },
    {
      "cell_type": "code",
      "metadata": {
        "id": "eIS-zgkWWNxX",
        "colab_type": "code",
        "outputId": "f1117e63-a638-4d58-d7c1-c34d2f797b90",
        "colab": {
          "base_uri": "https://localhost:8080/",
          "height": 34
        }
      },
      "source": [
        "my_df.shape"
      ],
      "execution_count": 5,
      "outputs": [
        {
          "output_type": "execute_result",
          "data": {
            "text/plain": [
              "(30000, 25)"
            ]
          },
          "metadata": {
            "tags": []
          },
          "execution_count": 5
        }
      ]
    },
    {
      "cell_type": "markdown",
      "metadata": {
        "id": "AJHdHQvsWTdb",
        "colab_type": "text"
      },
      "source": [
        "## The type of the columns can be found out as follows:"
      ]
    },
    {
      "cell_type": "code",
      "metadata": {
        "id": "TAedCD7kWQqx",
        "colab_type": "code",
        "outputId": "7f2a515b-d3ce-4b4d-8ffb-fcb95cba8dee",
        "colab": {
          "base_uri": "https://localhost:8080/",
          "height": 459
        }
      },
      "source": [
        "my_df.dtypes"
      ],
      "execution_count": 6,
      "outputs": [
        {
          "output_type": "execute_result",
          "data": {
            "text/plain": [
              "ID                              int64\n",
              "LIMIT_BAL                     float64\n",
              "SEX                             int64\n",
              "EDUCATION                       int64\n",
              "MARRIAGE                        int64\n",
              "AGE                             int64\n",
              "PAY_0                           int64\n",
              "PAY_2                           int64\n",
              "PAY_3                           int64\n",
              "PAY_4                           int64\n",
              "PAY_5                           int64\n",
              "PAY_6                           int64\n",
              "BILL_AMT1                     float64\n",
              "BILL_AMT2                     float64\n",
              "BILL_AMT3                     float64\n",
              "BILL_AMT4                     float64\n",
              "BILL_AMT5                     float64\n",
              "BILL_AMT6                     float64\n",
              "PAY_AMT1                      float64\n",
              "PAY_AMT2                      float64\n",
              "PAY_AMT3                      float64\n",
              "PAY_AMT4                      float64\n",
              "PAY_AMT5                      float64\n",
              "PAY_AMT6                      float64\n",
              "default.payment.next.month      int64\n",
              "dtype: object"
            ]
          },
          "metadata": {
            "tags": []
          },
          "execution_count": 6
        }
      ]
    },
    {
      "cell_type": "markdown",
      "metadata": {
        "id": "BUu3qTK48gWn",
        "colab_type": "text"
      },
      "source": [
        "## Drop the unnecessary column"
      ]
    },
    {
      "cell_type": "code",
      "metadata": {
        "id": "Jo3kwBvn8kDB",
        "colab_type": "code",
        "colab": {
          "base_uri": "https://localhost:8080/",
          "height": 224
        },
        "outputId": "feb2519e-7121-4667-99fd-3d031737d161"
      },
      "source": [
        "my_df.drop(['ID'], axis = 1, inplace =True) \n",
        "my_df.head()"
      ],
      "execution_count": 7,
      "outputs": [
        {
          "output_type": "execute_result",
          "data": {
            "text/html": [
              "<div>\n",
              "<style scoped>\n",
              "    .dataframe tbody tr th:only-of-type {\n",
              "        vertical-align: middle;\n",
              "    }\n",
              "\n",
              "    .dataframe tbody tr th {\n",
              "        vertical-align: top;\n",
              "    }\n",
              "\n",
              "    .dataframe thead th {\n",
              "        text-align: right;\n",
              "    }\n",
              "</style>\n",
              "<table border=\"1\" class=\"dataframe\">\n",
              "  <thead>\n",
              "    <tr style=\"text-align: right;\">\n",
              "      <th></th>\n",
              "      <th>LIMIT_BAL</th>\n",
              "      <th>SEX</th>\n",
              "      <th>EDUCATION</th>\n",
              "      <th>MARRIAGE</th>\n",
              "      <th>AGE</th>\n",
              "      <th>PAY_0</th>\n",
              "      <th>PAY_2</th>\n",
              "      <th>PAY_3</th>\n",
              "      <th>PAY_4</th>\n",
              "      <th>PAY_5</th>\n",
              "      <th>PAY_6</th>\n",
              "      <th>BILL_AMT1</th>\n",
              "      <th>BILL_AMT2</th>\n",
              "      <th>BILL_AMT3</th>\n",
              "      <th>BILL_AMT4</th>\n",
              "      <th>BILL_AMT5</th>\n",
              "      <th>BILL_AMT6</th>\n",
              "      <th>PAY_AMT1</th>\n",
              "      <th>PAY_AMT2</th>\n",
              "      <th>PAY_AMT3</th>\n",
              "      <th>PAY_AMT4</th>\n",
              "      <th>PAY_AMT5</th>\n",
              "      <th>PAY_AMT6</th>\n",
              "      <th>default.payment.next.month</th>\n",
              "    </tr>\n",
              "  </thead>\n",
              "  <tbody>\n",
              "    <tr>\n",
              "      <th>0</th>\n",
              "      <td>20000.0</td>\n",
              "      <td>2</td>\n",
              "      <td>2</td>\n",
              "      <td>1</td>\n",
              "      <td>24</td>\n",
              "      <td>2</td>\n",
              "      <td>2</td>\n",
              "      <td>-1</td>\n",
              "      <td>-1</td>\n",
              "      <td>-2</td>\n",
              "      <td>-2</td>\n",
              "      <td>3913.0</td>\n",
              "      <td>3102.0</td>\n",
              "      <td>689.0</td>\n",
              "      <td>0.0</td>\n",
              "      <td>0.0</td>\n",
              "      <td>0.0</td>\n",
              "      <td>0.0</td>\n",
              "      <td>689.0</td>\n",
              "      <td>0.0</td>\n",
              "      <td>0.0</td>\n",
              "      <td>0.0</td>\n",
              "      <td>0.0</td>\n",
              "      <td>1</td>\n",
              "    </tr>\n",
              "    <tr>\n",
              "      <th>1</th>\n",
              "      <td>120000.0</td>\n",
              "      <td>2</td>\n",
              "      <td>2</td>\n",
              "      <td>2</td>\n",
              "      <td>26</td>\n",
              "      <td>-1</td>\n",
              "      <td>2</td>\n",
              "      <td>0</td>\n",
              "      <td>0</td>\n",
              "      <td>0</td>\n",
              "      <td>2</td>\n",
              "      <td>2682.0</td>\n",
              "      <td>1725.0</td>\n",
              "      <td>2682.0</td>\n",
              "      <td>3272.0</td>\n",
              "      <td>3455.0</td>\n",
              "      <td>3261.0</td>\n",
              "      <td>0.0</td>\n",
              "      <td>1000.0</td>\n",
              "      <td>1000.0</td>\n",
              "      <td>1000.0</td>\n",
              "      <td>0.0</td>\n",
              "      <td>2000.0</td>\n",
              "      <td>1</td>\n",
              "    </tr>\n",
              "    <tr>\n",
              "      <th>2</th>\n",
              "      <td>90000.0</td>\n",
              "      <td>2</td>\n",
              "      <td>2</td>\n",
              "      <td>2</td>\n",
              "      <td>34</td>\n",
              "      <td>0</td>\n",
              "      <td>0</td>\n",
              "      <td>0</td>\n",
              "      <td>0</td>\n",
              "      <td>0</td>\n",
              "      <td>0</td>\n",
              "      <td>29239.0</td>\n",
              "      <td>14027.0</td>\n",
              "      <td>13559.0</td>\n",
              "      <td>14331.0</td>\n",
              "      <td>14948.0</td>\n",
              "      <td>15549.0</td>\n",
              "      <td>1518.0</td>\n",
              "      <td>1500.0</td>\n",
              "      <td>1000.0</td>\n",
              "      <td>1000.0</td>\n",
              "      <td>1000.0</td>\n",
              "      <td>5000.0</td>\n",
              "      <td>0</td>\n",
              "    </tr>\n",
              "    <tr>\n",
              "      <th>3</th>\n",
              "      <td>50000.0</td>\n",
              "      <td>2</td>\n",
              "      <td>2</td>\n",
              "      <td>1</td>\n",
              "      <td>37</td>\n",
              "      <td>0</td>\n",
              "      <td>0</td>\n",
              "      <td>0</td>\n",
              "      <td>0</td>\n",
              "      <td>0</td>\n",
              "      <td>0</td>\n",
              "      <td>46990.0</td>\n",
              "      <td>48233.0</td>\n",
              "      <td>49291.0</td>\n",
              "      <td>28314.0</td>\n",
              "      <td>28959.0</td>\n",
              "      <td>29547.0</td>\n",
              "      <td>2000.0</td>\n",
              "      <td>2019.0</td>\n",
              "      <td>1200.0</td>\n",
              "      <td>1100.0</td>\n",
              "      <td>1069.0</td>\n",
              "      <td>1000.0</td>\n",
              "      <td>0</td>\n",
              "    </tr>\n",
              "    <tr>\n",
              "      <th>4</th>\n",
              "      <td>50000.0</td>\n",
              "      <td>1</td>\n",
              "      <td>2</td>\n",
              "      <td>1</td>\n",
              "      <td>57</td>\n",
              "      <td>-1</td>\n",
              "      <td>0</td>\n",
              "      <td>-1</td>\n",
              "      <td>0</td>\n",
              "      <td>0</td>\n",
              "      <td>0</td>\n",
              "      <td>8617.0</td>\n",
              "      <td>5670.0</td>\n",
              "      <td>35835.0</td>\n",
              "      <td>20940.0</td>\n",
              "      <td>19146.0</td>\n",
              "      <td>19131.0</td>\n",
              "      <td>2000.0</td>\n",
              "      <td>36681.0</td>\n",
              "      <td>10000.0</td>\n",
              "      <td>9000.0</td>\n",
              "      <td>689.0</td>\n",
              "      <td>679.0</td>\n",
              "      <td>0</td>\n",
              "    </tr>\n",
              "  </tbody>\n",
              "</table>\n",
              "</div>"
            ],
            "text/plain": [
              "   LIMIT_BAL  SEX  EDUCATION  ...  PAY_AMT5  PAY_AMT6  default.payment.next.month\n",
              "0    20000.0    2          2  ...       0.0       0.0                           1\n",
              "1   120000.0    2          2  ...       0.0    2000.0                           1\n",
              "2    90000.0    2          2  ...    1000.0    5000.0                           0\n",
              "3    50000.0    2          2  ...    1069.0    1000.0                           0\n",
              "4    50000.0    1          2  ...     689.0     679.0                           0\n",
              "\n",
              "[5 rows x 24 columns]"
            ]
          },
          "metadata": {
            "tags": []
          },
          "execution_count": 7
        }
      ]
    },
    {
      "cell_type": "markdown",
      "metadata": {
        "id": "Ac3AvMyGWZjZ",
        "colab_type": "text"
      },
      "source": [
        "## Check the null data"
      ]
    },
    {
      "cell_type": "code",
      "metadata": {
        "id": "TC1F8SGoWW1t",
        "colab_type": "code",
        "outputId": "ddde8b9f-26b6-4499-f3f3-83580abb1cd1",
        "colab": {
          "base_uri": "https://localhost:8080/",
          "height": 204
        }
      },
      "source": [
        "# Counts all missing values and its percentage.\n",
        "total = my_df.isnull().sum().sort_values(ascending = False)\n",
        "frames = [total]\n",
        "# # pd.concat(): axis=0 means index, axis=1 means column, keys = name of the column.\n",
        "missing_data = pd.concat(frames, axis = 1, keys = ['Total'])\n",
        "missing_data.head()"
      ],
      "execution_count": 8,
      "outputs": [
        {
          "output_type": "execute_result",
          "data": {
            "text/html": [
              "<div>\n",
              "<style scoped>\n",
              "    .dataframe tbody tr th:only-of-type {\n",
              "        vertical-align: middle;\n",
              "    }\n",
              "\n",
              "    .dataframe tbody tr th {\n",
              "        vertical-align: top;\n",
              "    }\n",
              "\n",
              "    .dataframe thead th {\n",
              "        text-align: right;\n",
              "    }\n",
              "</style>\n",
              "<table border=\"1\" class=\"dataframe\">\n",
              "  <thead>\n",
              "    <tr style=\"text-align: right;\">\n",
              "      <th></th>\n",
              "      <th>Total</th>\n",
              "    </tr>\n",
              "  </thead>\n",
              "  <tbody>\n",
              "    <tr>\n",
              "      <th>default.payment.next.month</th>\n",
              "      <td>0</td>\n",
              "    </tr>\n",
              "    <tr>\n",
              "      <th>PAY_AMT6</th>\n",
              "      <td>0</td>\n",
              "    </tr>\n",
              "    <tr>\n",
              "      <th>SEX</th>\n",
              "      <td>0</td>\n",
              "    </tr>\n",
              "    <tr>\n",
              "      <th>EDUCATION</th>\n",
              "      <td>0</td>\n",
              "    </tr>\n",
              "    <tr>\n",
              "      <th>MARRIAGE</th>\n",
              "      <td>0</td>\n",
              "    </tr>\n",
              "  </tbody>\n",
              "</table>\n",
              "</div>"
            ],
            "text/plain": [
              "                            Total\n",
              "default.payment.next.month      0\n",
              "PAY_AMT6                        0\n",
              "SEX                             0\n",
              "EDUCATION                       0\n",
              "MARRIAGE                        0"
            ]
          },
          "metadata": {
            "tags": []
          },
          "execution_count": 8
        }
      ]
    },
    {
      "cell_type": "code",
      "metadata": {
        "id": "pFyZFKba5Prk",
        "colab_type": "code",
        "colab": {
          "base_uri": "https://localhost:8080/",
          "height": 317
        },
        "outputId": "a4a0102f-a2e3-4538-c581-43b5bec3a32f"
      },
      "source": [
        "my_df.describe().round()"
      ],
      "execution_count": 9,
      "outputs": [
        {
          "output_type": "execute_result",
          "data": {
            "text/html": [
              "<div>\n",
              "<style scoped>\n",
              "    .dataframe tbody tr th:only-of-type {\n",
              "        vertical-align: middle;\n",
              "    }\n",
              "\n",
              "    .dataframe tbody tr th {\n",
              "        vertical-align: top;\n",
              "    }\n",
              "\n",
              "    .dataframe thead th {\n",
              "        text-align: right;\n",
              "    }\n",
              "</style>\n",
              "<table border=\"1\" class=\"dataframe\">\n",
              "  <thead>\n",
              "    <tr style=\"text-align: right;\">\n",
              "      <th></th>\n",
              "      <th>LIMIT_BAL</th>\n",
              "      <th>SEX</th>\n",
              "      <th>EDUCATION</th>\n",
              "      <th>MARRIAGE</th>\n",
              "      <th>AGE</th>\n",
              "      <th>PAY_0</th>\n",
              "      <th>PAY_2</th>\n",
              "      <th>PAY_3</th>\n",
              "      <th>PAY_4</th>\n",
              "      <th>PAY_5</th>\n",
              "      <th>PAY_6</th>\n",
              "      <th>BILL_AMT1</th>\n",
              "      <th>BILL_AMT2</th>\n",
              "      <th>BILL_AMT3</th>\n",
              "      <th>BILL_AMT4</th>\n",
              "      <th>BILL_AMT5</th>\n",
              "      <th>BILL_AMT6</th>\n",
              "      <th>PAY_AMT1</th>\n",
              "      <th>PAY_AMT2</th>\n",
              "      <th>PAY_AMT3</th>\n",
              "      <th>PAY_AMT4</th>\n",
              "      <th>PAY_AMT5</th>\n",
              "      <th>PAY_AMT6</th>\n",
              "      <th>default.payment.next.month</th>\n",
              "    </tr>\n",
              "  </thead>\n",
              "  <tbody>\n",
              "    <tr>\n",
              "      <th>count</th>\n",
              "      <td>30000.0</td>\n",
              "      <td>30000.0</td>\n",
              "      <td>30000.0</td>\n",
              "      <td>30000.0</td>\n",
              "      <td>30000.0</td>\n",
              "      <td>30000.0</td>\n",
              "      <td>30000.0</td>\n",
              "      <td>30000.0</td>\n",
              "      <td>30000.0</td>\n",
              "      <td>30000.0</td>\n",
              "      <td>30000.0</td>\n",
              "      <td>30000.0</td>\n",
              "      <td>30000.0</td>\n",
              "      <td>30000.0</td>\n",
              "      <td>30000.0</td>\n",
              "      <td>30000.0</td>\n",
              "      <td>30000.0</td>\n",
              "      <td>30000.0</td>\n",
              "      <td>30000.0</td>\n",
              "      <td>30000.0</td>\n",
              "      <td>30000.0</td>\n",
              "      <td>30000.0</td>\n",
              "      <td>30000.0</td>\n",
              "      <td>30000.0</td>\n",
              "    </tr>\n",
              "    <tr>\n",
              "      <th>mean</th>\n",
              "      <td>167484.0</td>\n",
              "      <td>2.0</td>\n",
              "      <td>2.0</td>\n",
              "      <td>2.0</td>\n",
              "      <td>35.0</td>\n",
              "      <td>-0.0</td>\n",
              "      <td>-0.0</td>\n",
              "      <td>-0.0</td>\n",
              "      <td>-0.0</td>\n",
              "      <td>-0.0</td>\n",
              "      <td>-0.0</td>\n",
              "      <td>51223.0</td>\n",
              "      <td>49179.0</td>\n",
              "      <td>47013.0</td>\n",
              "      <td>43263.0</td>\n",
              "      <td>40311.0</td>\n",
              "      <td>38872.0</td>\n",
              "      <td>5664.0</td>\n",
              "      <td>5921.0</td>\n",
              "      <td>5226.0</td>\n",
              "      <td>4826.0</td>\n",
              "      <td>4799.0</td>\n",
              "      <td>5216.0</td>\n",
              "      <td>0.0</td>\n",
              "    </tr>\n",
              "    <tr>\n",
              "      <th>std</th>\n",
              "      <td>129748.0</td>\n",
              "      <td>0.0</td>\n",
              "      <td>1.0</td>\n",
              "      <td>1.0</td>\n",
              "      <td>9.0</td>\n",
              "      <td>1.0</td>\n",
              "      <td>1.0</td>\n",
              "      <td>1.0</td>\n",
              "      <td>1.0</td>\n",
              "      <td>1.0</td>\n",
              "      <td>1.0</td>\n",
              "      <td>73636.0</td>\n",
              "      <td>71174.0</td>\n",
              "      <td>69349.0</td>\n",
              "      <td>64333.0</td>\n",
              "      <td>60797.0</td>\n",
              "      <td>59554.0</td>\n",
              "      <td>16563.0</td>\n",
              "      <td>23041.0</td>\n",
              "      <td>17607.0</td>\n",
              "      <td>15666.0</td>\n",
              "      <td>15278.0</td>\n",
              "      <td>17777.0</td>\n",
              "      <td>0.0</td>\n",
              "    </tr>\n",
              "    <tr>\n",
              "      <th>min</th>\n",
              "      <td>10000.0</td>\n",
              "      <td>1.0</td>\n",
              "      <td>0.0</td>\n",
              "      <td>0.0</td>\n",
              "      <td>21.0</td>\n",
              "      <td>-2.0</td>\n",
              "      <td>-2.0</td>\n",
              "      <td>-2.0</td>\n",
              "      <td>-2.0</td>\n",
              "      <td>-2.0</td>\n",
              "      <td>-2.0</td>\n",
              "      <td>-165580.0</td>\n",
              "      <td>-69777.0</td>\n",
              "      <td>-157264.0</td>\n",
              "      <td>-170000.0</td>\n",
              "      <td>-81334.0</td>\n",
              "      <td>-339603.0</td>\n",
              "      <td>0.0</td>\n",
              "      <td>0.0</td>\n",
              "      <td>0.0</td>\n",
              "      <td>0.0</td>\n",
              "      <td>0.0</td>\n",
              "      <td>0.0</td>\n",
              "      <td>0.0</td>\n",
              "    </tr>\n",
              "    <tr>\n",
              "      <th>25%</th>\n",
              "      <td>50000.0</td>\n",
              "      <td>1.0</td>\n",
              "      <td>1.0</td>\n",
              "      <td>1.0</td>\n",
              "      <td>28.0</td>\n",
              "      <td>-1.0</td>\n",
              "      <td>-1.0</td>\n",
              "      <td>-1.0</td>\n",
              "      <td>-1.0</td>\n",
              "      <td>-1.0</td>\n",
              "      <td>-1.0</td>\n",
              "      <td>3559.0</td>\n",
              "      <td>2985.0</td>\n",
              "      <td>2666.0</td>\n",
              "      <td>2327.0</td>\n",
              "      <td>1763.0</td>\n",
              "      <td>1256.0</td>\n",
              "      <td>1000.0</td>\n",
              "      <td>833.0</td>\n",
              "      <td>390.0</td>\n",
              "      <td>296.0</td>\n",
              "      <td>252.0</td>\n",
              "      <td>118.0</td>\n",
              "      <td>0.0</td>\n",
              "    </tr>\n",
              "    <tr>\n",
              "      <th>50%</th>\n",
              "      <td>140000.0</td>\n",
              "      <td>2.0</td>\n",
              "      <td>2.0</td>\n",
              "      <td>2.0</td>\n",
              "      <td>34.0</td>\n",
              "      <td>0.0</td>\n",
              "      <td>0.0</td>\n",
              "      <td>0.0</td>\n",
              "      <td>0.0</td>\n",
              "      <td>0.0</td>\n",
              "      <td>0.0</td>\n",
              "      <td>22382.0</td>\n",
              "      <td>21200.0</td>\n",
              "      <td>20088.0</td>\n",
              "      <td>19052.0</td>\n",
              "      <td>18104.0</td>\n",
              "      <td>17071.0</td>\n",
              "      <td>2100.0</td>\n",
              "      <td>2009.0</td>\n",
              "      <td>1800.0</td>\n",
              "      <td>1500.0</td>\n",
              "      <td>1500.0</td>\n",
              "      <td>1500.0</td>\n",
              "      <td>0.0</td>\n",
              "    </tr>\n",
              "    <tr>\n",
              "      <th>75%</th>\n",
              "      <td>240000.0</td>\n",
              "      <td>2.0</td>\n",
              "      <td>2.0</td>\n",
              "      <td>2.0</td>\n",
              "      <td>41.0</td>\n",
              "      <td>0.0</td>\n",
              "      <td>0.0</td>\n",
              "      <td>0.0</td>\n",
              "      <td>0.0</td>\n",
              "      <td>0.0</td>\n",
              "      <td>0.0</td>\n",
              "      <td>67091.0</td>\n",
              "      <td>64006.0</td>\n",
              "      <td>60165.0</td>\n",
              "      <td>54506.0</td>\n",
              "      <td>50190.0</td>\n",
              "      <td>49198.0</td>\n",
              "      <td>5006.0</td>\n",
              "      <td>5000.0</td>\n",
              "      <td>4505.0</td>\n",
              "      <td>4013.0</td>\n",
              "      <td>4032.0</td>\n",
              "      <td>4000.0</td>\n",
              "      <td>0.0</td>\n",
              "    </tr>\n",
              "    <tr>\n",
              "      <th>max</th>\n",
              "      <td>1000000.0</td>\n",
              "      <td>2.0</td>\n",
              "      <td>6.0</td>\n",
              "      <td>3.0</td>\n",
              "      <td>79.0</td>\n",
              "      <td>8.0</td>\n",
              "      <td>8.0</td>\n",
              "      <td>8.0</td>\n",
              "      <td>8.0</td>\n",
              "      <td>8.0</td>\n",
              "      <td>8.0</td>\n",
              "      <td>964511.0</td>\n",
              "      <td>983931.0</td>\n",
              "      <td>1664089.0</td>\n",
              "      <td>891586.0</td>\n",
              "      <td>927171.0</td>\n",
              "      <td>961664.0</td>\n",
              "      <td>873552.0</td>\n",
              "      <td>1684259.0</td>\n",
              "      <td>896040.0</td>\n",
              "      <td>621000.0</td>\n",
              "      <td>426529.0</td>\n",
              "      <td>528666.0</td>\n",
              "      <td>1.0</td>\n",
              "    </tr>\n",
              "  </tbody>\n",
              "</table>\n",
              "</div>"
            ],
            "text/plain": [
              "       LIMIT_BAL      SEX  ...  PAY_AMT6  default.payment.next.month\n",
              "count    30000.0  30000.0  ...   30000.0                     30000.0\n",
              "mean    167484.0      2.0  ...    5216.0                         0.0\n",
              "std     129748.0      0.0  ...   17777.0                         0.0\n",
              "min      10000.0      1.0  ...       0.0                         0.0\n",
              "25%      50000.0      1.0  ...     118.0                         0.0\n",
              "50%     140000.0      2.0  ...    1500.0                         0.0\n",
              "75%     240000.0      2.0  ...    4000.0                         0.0\n",
              "max    1000000.0      2.0  ...  528666.0                         1.0\n",
              "\n",
              "[8 rows x 24 columns]"
            ]
          },
          "metadata": {
            "tags": []
          },
          "execution_count": 9
        }
      ]
    },
    {
      "cell_type": "markdown",
      "metadata": {
        "id": "jzHMJMjJ5SZZ",
        "colab_type": "text"
      },
      "source": [
        "We can find some information useful:\n",
        "\n",
        "1. There are 30,000 credit card clients.\n",
        "2. The average value for the amount of credit card limit is 167,484 NT dollars. The standard deviation is 129,747 NT dollars, ranging from 10,000 to 1M NT dollars.\n",
        "3. Education level is mostly graduate school and university.\n",
        "4. Most of the clients are either marrined or single (less frequent the other status).\n",
        "5. Average age is 35.5 years, with a standard deviation of 9.2."
      ]
    },
    {
      "cell_type": "markdown",
      "metadata": {
        "id": "FUh2z2lm44Fj",
        "colab_type": "text"
      },
      "source": [
        "# Part2 - Make 5 observations about the data"
      ]
    },
    {
      "cell_type": "markdown",
      "metadata": {
        "id": "_700pPyG547S",
        "colab_type": "text"
      },
      "source": [
        "## Explore Numerical Features"
      ]
    },
    {
      "cell_type": "code",
      "metadata": {
        "id": "bVCsKORJ4_YP",
        "colab_type": "code",
        "colab": {}
      },
      "source": [
        "bill_amt_features = ['BILL_AMT'+ str(i) for i in range(1,7)]\n",
        "pay_amt_features = ['PAY_AMT'+ str(i) for i in range(1,7)]\n",
        "numerical_features = ['LIMIT_BAL','AGE'] + bill_amt_features + pay_amt_features"
      ],
      "execution_count": 0,
      "outputs": []
    },
    {
      "cell_type": "code",
      "metadata": {
        "id": "nJ5F5Cvi5fe7",
        "colab_type": "code",
        "colab": {
          "base_uri": "https://localhost:8080/",
          "height": 255
        },
        "outputId": "26aa6569-9684-427a-a1d8-0512524b8665"
      },
      "source": [
        "numerical_features"
      ],
      "execution_count": 11,
      "outputs": [
        {
          "output_type": "execute_result",
          "data": {
            "text/plain": [
              "['LIMIT_BAL',\n",
              " 'AGE',\n",
              " 'BILL_AMT1',\n",
              " 'BILL_AMT2',\n",
              " 'BILL_AMT3',\n",
              " 'BILL_AMT4',\n",
              " 'BILL_AMT5',\n",
              " 'BILL_AMT6',\n",
              " 'PAY_AMT1',\n",
              " 'PAY_AMT2',\n",
              " 'PAY_AMT3',\n",
              " 'PAY_AMT4',\n",
              " 'PAY_AMT5',\n",
              " 'PAY_AMT6']"
            ]
          },
          "metadata": {
            "tags": []
          },
          "execution_count": 11
        }
      ]
    },
    {
      "cell_type": "code",
      "metadata": {
        "id": "LK8YyfKB5iAh",
        "colab_type": "code",
        "colab": {
          "base_uri": "https://localhost:8080/",
          "height": 908
        },
        "outputId": "b5bbf00b-4981-4ea3-8ea6-bd2b9588bad2"
      },
      "source": [
        "# Creating a new dataframe with categorical variables\n",
        "subset = my_df[['SEX', 'EDUCATION', 'MARRIAGE', 'PAY_0', 'PAY_2', 'PAY_3', 'PAY_4', \n",
        "               'PAY_5', 'PAY_6', 'default.payment.next.month']]\n",
        "\n",
        "f, axes = plt.subplots(3, 3, figsize=(20, 15), facecolor='white')\n",
        "f.suptitle('FREQUENCY OF CATEGORICAL VARIABLES (BY TARGET)')\n",
        "ax1 = sns.countplot(x=\"SEX\", hue=\"default.payment.next.month\", data=subset, palette=\"Blues\", ax=axes[0,0])\n",
        "ax2 = sns.countplot(x=\"EDUCATION\", hue=\"default.payment.next.month\", data=subset, palette=\"Blues\",ax=axes[0,1])\n",
        "ax3 = sns.countplot(x=\"MARRIAGE\", hue=\"default.payment.next.month\", data=subset, palette=\"Blues\",ax=axes[0,2])\n",
        "ax4 = sns.countplot(x=\"PAY_0\", hue=\"default.payment.next.month\", data=subset, palette=\"Blues\", ax=axes[1,0])\n",
        "ax5 = sns.countplot(x=\"PAY_2\", hue=\"default.payment.next.month\", data=subset, palette=\"Blues\", ax=axes[1,1])\n",
        "ax6 = sns.countplot(x=\"PAY_3\", hue=\"default.payment.next.month\", data=subset, palette=\"Blues\", ax=axes[1,2])\n",
        "ax7 = sns.countplot(x=\"PAY_4\", hue=\"default.payment.next.month\", data=subset, palette=\"Blues\", ax=axes[2,0])\n",
        "ax8 = sns.countplot(x=\"PAY_5\", hue=\"default.payment.next.month\", data=subset, palette=\"Blues\", ax=axes[2,1])\n",
        "ax9 = sns.countplot(x=\"PAY_6\", hue=\"default.payment.next.month\", data=subset, palette=\"Blues\", ax=axes[2,2]);"
      ],
      "execution_count": 12,
      "outputs": [
        {
          "output_type": "display_data",
          "data": {
            "image/png": "[encoded data removed]",
            "text/plain": [
              "<Figure size 1440x1080 with 9 Axes>"
            ]
          },
          "metadata": {
            "tags": []
          }
        }
      ]
    },
    {
      "cell_type": "code",
      "metadata": {
        "id": "FmtDVPph5kRS",
        "colab_type": "code",
        "colab": {
          "base_uri": "https://localhost:8080/",
          "height": 305
        },
        "outputId": "96c15ea6-6efa-4a7b-c450-61a6d9e1aef0"
      },
      "source": [
        "x1 = list(my_df[my_df['default.payment.next.month'] == 1]['LIMIT_BAL'])\n",
        "x2 = list(my_df[my_df['default.payment.next.month'] == 0]['LIMIT_BAL'])\n",
        "\n",
        "plt.figure(figsize=(12,4))\n",
        "sns.set_context('notebook', font_scale=1.2)\n",
        "#sns.set_color_codes(\"pastel\")\n",
        "plt.hist([x1, x2], bins = 40, color=['steelblue', 'lightblue'])\n",
        "plt.xlim([0,600000])\n",
        "plt.legend(['Yes', 'No'], title = 'Default', loc='upper right', facecolor='white')\n",
        "plt.xlabel('Limit Balance (NT dollar)')\n",
        "plt.ylabel('Frequency')\n",
        "plt.title('LIMIT BALANCE HISTOGRAM BY TYPE OF CREDIT CARD', SIZE=15)\n",
        "plt.box(False)\n",
        "plt.savefig('ImageName', format='png', dpi=200, transparent=True);"
      ],
      "execution_count": 13,
      "outputs": [
        {
          "output_type": "display_data",
          "data": {
            "image/png": "[encoded data removed]",
            "text/plain": [
              "<Figure size 864x288 with 1 Axes>"
            ]
          },
          "metadata": {
            "tags": [],
            "needs_background": "light"
          }
        }
      ]
    },
    {
      "cell_type": "markdown",
      "metadata": {
        "id": "ojN4au1q5u1D",
        "colab_type": "text"
      },
      "source": [
        "There are 30,000 credit card clients.  \n",
        "\n",
        "The average value for the amount of credit card limit is 167,484 NT dollars. The standard deviation is 129,747 NT dollars, ranging from 10,000 to 1M NT dollars.  \n",
        "\n",
        "Education level is mostly graduate school and university.  \n",
        "\n",
        "Most of the clients are either marrined or single (less frequent the other status).  \n",
        "\n",
        "Average age is 35.5 years, with a standard deviation of 9.2.  \n",
        "\n",
        "As the value 0 for default payment means 'not default' and value 1 means 'default', the mean of 0.221 means that there are 22.1% of credit card contracts that will default next month (will verify this in the next sections of this analysis).  \n"
      ]
    },
    {
      "cell_type": "markdown",
      "metadata": {
        "id": "56d0pAC26DfT",
        "colab_type": "text"
      },
      "source": [
        "## Correlation between all variables"
      ]
    },
    {
      "cell_type": "markdown",
      "metadata": {
        "id": "Qwv3pUIY6HLy",
        "colab_type": "text"
      },
      "source": [
        "Plote the heat map to show correlation between each variable"
      ]
    },
    {
      "cell_type": "code",
      "metadata": {
        "id": "AdSqnyN55tOq",
        "colab_type": "code",
        "colab": {
          "base_uri": "https://localhost:8080/",
          "height": 769
        },
        "outputId": "eb00d95e-3382-4b9e-8876-e19334a2e691"
      },
      "source": [
        "sns.set(font_scale=0.8)\n",
        "plt.figure(figsize=(20,12))\n",
        "sns.heatmap(my_df.corr('spearman'), annot=True, cmap = 'PuBu')\n",
        "plt.xticks(rotation=100)\n",
        "plt.show()"
      ],
      "execution_count": 14,
      "outputs": [
        {
          "output_type": "display_data",
          "data": {
            "image/png": "[encoded data removed]",
            "text/plain": [
              "<Figure size 1440x864 with 2 Axes>"
            ]
          },
          "metadata": {
            "tags": []
          }
        }
      ]
    },
    {
      "cell_type": "markdown",
      "metadata": {
        "id": "mIxb0OWU6QPx",
        "colab_type": "text"
      },
      "source": [
        "The heatmat shows that features are correlated with each other (collinearity), such us like PAY_0,2,3,4,5,6 and BILL_AMT1,2,3,4,5,6. In those cases, the correlation is positive."
      ]
    },
    {
      "cell_type": "markdown",
      "metadata": {
        "id": "4iK9mTOT6Tad",
        "colab_type": "text"
      },
      "source": [
        "## Limit Balance"
      ]
    },
    {
      "cell_type": "markdown",
      "metadata": {
        "id": "m_boyxH_6VcD",
        "colab_type": "text"
      },
      "source": [
        "Plot the histogram"
      ]
    },
    {
      "cell_type": "code",
      "metadata": {
        "id": "ZjvYKgm36XD2",
        "colab_type": "code",
        "colab": {
          "base_uri": "https://localhost:8080/",
          "height": 607
        },
        "outputId": "2a246679-fba6-401b-e31e-eba817b32660"
      },
      "source": [
        "plt.figure(figsize=(18,10))\n",
        "ax = sns.distplot(my_df.LIMIT_BAL, bins = 20, norm_hist=False, kde = False)\n",
        "fmt = '${x:,.0f}'\n",
        "tick = ticker.StrMethodFormatter(fmt)\n",
        "ax.xaxis.set_major_formatter(tick)\n",
        "\n",
        "fmt2 = '{x:,.0f}'\n",
        "tick2 = ticker.StrMethodFormatter(fmt2)\n",
        "ax.yaxis.set_major_formatter(tick2)\n",
        "\n",
        "ax.set(title = 'Limit Balance Distribution', xlabel='', ylabel='');"
      ],
      "execution_count": 15,
      "outputs": [
        {
          "output_type": "display_data",
          "data": {
            "image/png": "[encoded data removed]",
            "text/plain": [
              "<Figure size 1296x720 with 1 Axes>"
            ]
          },
          "metadata": {
            "tags": []
          }
        }
      ]
    },
    {
      "cell_type": "code",
      "metadata": {
        "id": "yBTSGPDE6ayV",
        "colab_type": "code",
        "colab": {
          "base_uri": "https://localhost:8080/",
          "height": 607
        },
        "outputId": "f8e1af94-87f7-4395-b7e4-d4868d28655e"
      },
      "source": [
        "plt.figure(figsize=(18,10))\n",
        "ax = sns.distplot(my_df[my_df['SEX'] == 1].LIMIT_BAL, norm_hist = False, kde = False, label = 'Female')\n",
        "ax = sns.distplot(my_df[my_df['SEX'] == 2].LIMIT_BAL, norm_hist = False, kde=False, label = 'Male')\n",
        "fmt = '${x:,.0f}'\n",
        "tick = ticker.StrMethodFormatter(fmt)\n",
        "ax.xaxis.set_major_formatter(tick)\n",
        "\n",
        "fmt2 = '{x:,.0f}'\n",
        "tick2 = ticker.StrMethodFormatter(fmt2)\n",
        "ax.yaxis.set_major_formatter(tick2)\n",
        "\n",
        "plt.legend()\n",
        "ax.set(title = 'Limit Balance Distribution', xlabel='', ylabel='');"
      ],
      "execution_count": 42,
      "outputs": [
        {
          "output_type": "display_data",
          "data": {
            "image/png": "[encoded data removed]",
            "text/plain": [
              "<Figure size 1296x720 with 1 Axes>"
            ]
          },
          "metadata": {
            "tags": []
          }
        }
      ]
    },
    {
      "cell_type": "markdown",
      "metadata": {
        "id": "X-8TWdoE6tlD",
        "colab_type": "text"
      },
      "source": [
        "## Age Distribution by Gender and Default"
      ]
    },
    {
      "cell_type": "markdown",
      "metadata": {
        "id": "WKFRo7Xq6xkU",
        "colab_type": "text"
      },
      "source": [
        "Plot the histogram of Age Distribution by Gender and Default"
      ]
    },
    {
      "cell_type": "code",
      "metadata": {
        "id": "GyLHtZpr6zON",
        "colab_type": "code",
        "colab": {
          "base_uri": "https://localhost:8080/",
          "height": 675
        },
        "outputId": "81ab22f6-9763-471d-c35e-5bd26f11f742"
      },
      "source": [
        "plt.figure(figsize=(18,10))\n",
        "ax = sns.violinplot(x='SEX', y = 'AGE', hue = 'default.payment.next.month', data = my_df, palette = 'Blues')\n",
        "ax.set(title = 'Age Distribution by Gender and Default', xlabel='', ylabel='', xticklabels=['Female', 'Male'])"
      ],
      "execution_count": 17,
      "outputs": [
        {
          "output_type": "execute_result",
          "data": {
            "text/plain": [
              "[Text(0, 0.5, ''),\n",
              " [Text(0, 0, 'Female'), Text(0, 0, 'Male')],\n",
              " Text(0.5, 0, ''),\n",
              " Text(0.5, 1.0, 'Age Distribution by Gender and Default')]"
            ]
          },
          "metadata": {
            "tags": []
          },
          "execution_count": 17
        },
        {
          "output_type": "display_data",
          "data": {
            "image/png": "[encoded data removed]",
            "text/plain": [
              "<Figure size 1296x720 with 1 Axes>"
            ]
          },
          "metadata": {
            "tags": []
          }
        }
      ]
    },
    {
      "cell_type": "markdown",
      "metadata": {
        "id": "I6IRx1Zh61xG",
        "colab_type": "text"
      },
      "source": [
        "## Bill Amount"
      ]
    },
    {
      "cell_type": "code",
      "metadata": {
        "id": "DQ0SSz2-63o0",
        "colab_type": "code",
        "colab": {
          "base_uri": "https://localhost:8080/",
          "height": 235
        },
        "outputId": "d9189f1c-5991-4c34-8d07-beb083675def"
      },
      "source": [
        "my_df_melt = pd.melt(my_df, id_vars = 'default.payment.next.month', value_vars = bill_amt_features)\n",
        "my_df_melt = my_df_melt.rename(columns = {'variable' : 'BILL_AMT'})\n",
        "my_df_melt.head(6)"
      ],
      "execution_count": 18,
      "outputs": [
        {
          "output_type": "execute_result",
          "data": {
            "text/html": [
              "<div>\n",
              "<style scoped>\n",
              "    .dataframe tbody tr th:only-of-type {\n",
              "        vertical-align: middle;\n",
              "    }\n",
              "\n",
              "    .dataframe tbody tr th {\n",
              "        vertical-align: top;\n",
              "    }\n",
              "\n",
              "    .dataframe thead th {\n",
              "        text-align: right;\n",
              "    }\n",
              "</style>\n",
              "<table border=\"1\" class=\"dataframe\">\n",
              "  <thead>\n",
              "    <tr style=\"text-align: right;\">\n",
              "      <th></th>\n",
              "      <th>default.payment.next.month</th>\n",
              "      <th>BILL_AMT</th>\n",
              "      <th>value</th>\n",
              "    </tr>\n",
              "  </thead>\n",
              "  <tbody>\n",
              "    <tr>\n",
              "      <th>0</th>\n",
              "      <td>1</td>\n",
              "      <td>BILL_AMT1</td>\n",
              "      <td>3913.0</td>\n",
              "    </tr>\n",
              "    <tr>\n",
              "      <th>1</th>\n",
              "      <td>1</td>\n",
              "      <td>BILL_AMT1</td>\n",
              "      <td>2682.0</td>\n",
              "    </tr>\n",
              "    <tr>\n",
              "      <th>2</th>\n",
              "      <td>0</td>\n",
              "      <td>BILL_AMT1</td>\n",
              "      <td>29239.0</td>\n",
              "    </tr>\n",
              "    <tr>\n",
              "      <th>3</th>\n",
              "      <td>0</td>\n",
              "      <td>BILL_AMT1</td>\n",
              "      <td>46990.0</td>\n",
              "    </tr>\n",
              "    <tr>\n",
              "      <th>4</th>\n",
              "      <td>0</td>\n",
              "      <td>BILL_AMT1</td>\n",
              "      <td>8617.0</td>\n",
              "    </tr>\n",
              "    <tr>\n",
              "      <th>5</th>\n",
              "      <td>0</td>\n",
              "      <td>BILL_AMT1</td>\n",
              "      <td>64400.0</td>\n",
              "    </tr>\n",
              "  </tbody>\n",
              "</table>\n",
              "</div>"
            ],
            "text/plain": [
              "   default.payment.next.month   BILL_AMT    value\n",
              "0                           1  BILL_AMT1   3913.0\n",
              "1                           1  BILL_AMT1   2682.0\n",
              "2                           0  BILL_AMT1  29239.0\n",
              "3                           0  BILL_AMT1  46990.0\n",
              "4                           0  BILL_AMT1   8617.0\n",
              "5                           0  BILL_AMT1  64400.0"
            ]
          },
          "metadata": {
            "tags": []
          },
          "execution_count": 18
        }
      ]
    },
    {
      "cell_type": "code",
      "metadata": {
        "id": "f83dkl0966cH",
        "colab_type": "code",
        "colab": {
          "base_uri": "https://localhost:8080/",
          "height": 658
        },
        "outputId": "4f112b24-4f93-4b49-8d59-d40773b2c1cb"
      },
      "source": [
        "plt.figure(figsize=(18,10))\n",
        "flierprops = dict(markerfacecolor='0.75', markersize=0, linestyle='none')\n",
        "ax = sns.boxplot(data = my_df_melt, y = 'BILL_AMT', x = 'value', orient='h', showfliers = 'false', flierprops = flierprops)\n",
        "plt.xlim(-75000, 175000)\n",
        "fmt = '${x:,.0f}'\n",
        "tick = ticker.StrMethodFormatter(fmt)\n",
        "ax.xaxis.set_major_formatter(tick)\n",
        "ax.set(xlabel='', ylabel='', title = 'Distribution of Bill Amounts')"
      ],
      "execution_count": 19,
      "outputs": [
        {
          "output_type": "execute_result",
          "data": {
            "text/plain": [
              "[Text(0, 0.5, ''),\n",
              " Text(0.5, 0, ''),\n",
              " Text(0.5, 1.0, 'Distribution of Bill Amounts')]"
            ]
          },
          "metadata": {
            "tags": []
          },
          "execution_count": 19
        },
        {
          "output_type": "display_data",
          "data": {
            "image/png": "[encoded data removed]",
            "text/plain": [
              "<Figure size 1296x720 with 1 Axes>"
            ]
          },
          "metadata": {
            "tags": []
          }
        }
      ]
    },
    {
      "cell_type": "markdown",
      "metadata": {
        "id": "osjDZEaWlorM",
        "colab_type": "text"
      },
      "source": [
        "# Part3 - Any Classifier of your choosing"
      ]
    },
    {
      "cell_type": "markdown",
      "metadata": {
        "id": "u9dWEu96oUio",
        "colab_type": "text"
      },
      "source": [
        "**Logistic Regression**"
      ]
    },
    {
      "cell_type": "code",
      "metadata": {
        "id": "hQlHTi1Hl4Wa",
        "colab_type": "code",
        "colab": {}
      },
      "source": [
        "# Set X and y.\n",
        "\n",
        "X = my_df.drop(['default.payment.next.month'], axis = 1)\n",
        "y = my_df[['default.payment.next.month']]\n",
        "\n",
        "# Train and test sets: 80% and 20%\n",
        "X_train, X_test, y_train, y_test = train_test_split(X, y, test_size = 0.2, random_state = 1)"
      ],
      "execution_count": 0,
      "outputs": []
    },
    {
      "cell_type": "code",
      "metadata": {
        "id": "f4IJQMVFmEQg",
        "colab_type": "code",
        "colab": {}
      },
      "source": [
        "# Initialize Logistic Regressor \n",
        "lg = LogisticRegression(max_iter = 1000, random_state = 1)"
      ],
      "execution_count": 0,
      "outputs": []
    },
    {
      "cell_type": "code",
      "metadata": {
        "id": "wlonkRSnmIj9",
        "colab_type": "code",
        "colab": {
          "base_uri": "https://localhost:8080/",
          "height": 102
        },
        "outputId": "d2c0d0d8-74f6-4aec-c390-60b215c161a9"
      },
      "source": [
        "# Fit the model\n",
        "lg.fit(X_train, y_train.values.ravel())"
      ],
      "execution_count": 24,
      "outputs": [
        {
          "output_type": "execute_result",
          "data": {
            "text/plain": [
              "LogisticRegression(C=1.0, class_weight=None, dual=False, fit_intercept=True,\n",
              "                   intercept_scaling=1, l1_ratio=None, max_iter=1000,\n",
              "                   multi_class='auto', n_jobs=None, penalty='l2',\n",
              "                   random_state=1, solver='lbfgs', tol=0.0001, verbose=0,\n",
              "                   warm_start=False)"
            ]
          },
          "metadata": {
            "tags": []
          },
          "execution_count": 24
        }
      ]
    },
    {
      "cell_type": "code",
      "metadata": {
        "id": "F81pOXG7mNil",
        "colab_type": "code",
        "colab": {
          "base_uri": "https://localhost:8080/",
          "height": 34
        },
        "outputId": "40e7e0bc-c30f-4dd8-b99b-eb9a4d22ce67"
      },
      "source": [
        "# Let's score the model\n",
        "print('Accuracy score: ', lg.score(X_test, y_test).round(4))"
      ],
      "execution_count": 25,
      "outputs": [
        {
          "output_type": "stream",
          "text": [
            "Accuracy score:  0.7772\n"
          ],
          "name": "stdout"
        }
      ]
    },
    {
      "cell_type": "markdown",
      "metadata": {
        "id": "l2zyA9hJmRpj",
        "colab_type": "text"
      },
      "source": [
        "**To increase the accuracy score, I use the GridSearch to identify the best hyperparameters**\n"
      ]
    },
    {
      "cell_type": "code",
      "metadata": {
        "id": "UrwrxaWUmTyD",
        "colab_type": "code",
        "colab": {
          "base_uri": "https://localhost:8080/",
          "height": 119
        },
        "outputId": "869e6e60-ecb2-4cb6-ed61-1aa49e1f9133"
      },
      "source": [
        "# Build logistic model classifier\n",
        "pip_logmod = make_pipeline(StandardScaler(),\n",
        "                           LogisticRegression(max_iter = 1000, random_state = 0))\n",
        "hyperparam_range = np.arange(0, 5, 0.1)\n",
        "hyperparam_grid = {'logisticregression__penalty': ['l1', 'l2'],\n",
        "                   'logisticregression__C':  hyperparam_range,\n",
        "                   'logisticregression__fit_intercept': [True, False]}\n",
        "\n",
        "# Utilize GridSearch to find the best hyperparameters for running logistic regression\n",
        "gs_logmodel = GridSearchCV(pip_logmod, hyperparam_grid, scoring = 'accuracy', n_jobs= -1)\n",
        "\n",
        "gs_logmodel.fit(X, y.values.ravel())\n",
        "\n",
        "print(f'The best hyperparameters:\\n')\n",
        "\n",
        "for hyperparam in gs_logmodel.best_params_.keys():\n",
        "    print(hyperparam[hyperparam.find(\"__\") + 2:], \": \", gs_logmodel.best_params_[hyperparam])\n",
        "\n",
        "print(f'Best 5-folds CV accuracy: {gs_logmodel.best_score_ :.4f}.')"
      ],
      "execution_count": 26,
      "outputs": [
        {
          "output_type": "stream",
          "text": [
            "The best hyperparameters:\n",
            "\n",
            "C :  0.9\n",
            "fit_intercept :  True\n",
            "penalty :  l2\n",
            "Best 5-folds CV accuracy: 0.8100.\n"
          ],
          "name": "stdout"
        }
      ]
    },
    {
      "cell_type": "markdown",
      "metadata": {
        "id": "E0CQtyYamyUD",
        "colab_type": "text"
      },
      "source": [
        "As the result, the average accuracy score have increased from 0.7772 to 0.8100.\n",
        "I will develop a final model here with all data. "
      ]
    },
    {
      "cell_type": "code",
      "metadata": {
        "id": "rQT7BjOum0qL",
        "colab_type": "code",
        "colab": {
          "base_uri": "https://localhost:8080/",
          "height": 102
        },
        "outputId": "7fe014a0-c025-486b-f47b-ecd5312ad72f"
      },
      "source": [
        "# Rerun Logistic Regressor \n",
        "lg_2 = LogisticRegression(C = 0.9, max_iter = 1000, random_state = 1)\n",
        "\n",
        "# Fit the model\n",
        "lg_2.fit(X, y.values.ravel())"
      ],
      "execution_count": 27,
      "outputs": [
        {
          "output_type": "execute_result",
          "data": {
            "text/plain": [
              "LogisticRegression(C=0.9, class_weight=None, dual=False, fit_intercept=True,\n",
              "                   intercept_scaling=1, l1_ratio=None, max_iter=1000,\n",
              "                   multi_class='auto', n_jobs=None, penalty='l2',\n",
              "                   random_state=1, solver='lbfgs', tol=0.0001, verbose=0,\n",
              "                   warm_start=False)"
            ]
          },
          "metadata": {
            "tags": []
          },
          "execution_count": 27
        }
      ]
    },
    {
      "cell_type": "code",
      "metadata": {
        "id": "aXa_K7dDm2ZO",
        "colab_type": "code",
        "colab": {
          "base_uri": "https://localhost:8080/",
          "height": 224
        },
        "outputId": "5b7e60a0-c2d6-4c51-e755-b9b649089382"
      },
      "source": [
        "print(classification_report(y_test, lg_2.predict(X_test)))"
      ],
      "execution_count": 28,
      "outputs": [
        {
          "output_type": "stream",
          "text": [
            "              precision    recall  f1-score   support\n",
            "\n",
            "           0       0.78      1.00      0.87      4663\n",
            "           1       0.00      0.00      0.00      1337\n",
            "\n",
            "    accuracy                           0.78      6000\n",
            "   macro avg       0.39      0.50      0.44      6000\n",
            "weighted avg       0.60      0.78      0.68      6000\n",
            "\n"
          ],
          "name": "stdout"
        },
        {
          "output_type": "stream",
          "text": [
            "/usr/local/lib/python3.6/dist-packages/sklearn/metrics/_classification.py:1272: UndefinedMetricWarning: Precision and F-score are ill-defined and being set to 0.0 in labels with no predicted samples. Use `zero_division` parameter to control this behavior.\n",
            "  _warn_prf(average, modifier, msg_start, len(result))\n"
          ],
          "name": "stderr"
        }
      ]
    },
    {
      "cell_type": "markdown",
      "metadata": {
        "id": "ArE54jgvX__p",
        "colab_type": "text"
      },
      "source": [
        "# Part4 - Random Forest (RF) Classifier"
      ]
    },
    {
      "cell_type": "code",
      "metadata": {
        "id": "YgoorUnwWd14",
        "colab_type": "code",
        "colab": {
          "base_uri": "https://localhost:8080/",
          "height": 408
        },
        "outputId": "b891e6ed-f4ad-4af9-fbec-ed52c2bb11b3"
      },
      "source": [
        "col_name = my_df.columns.to_list()\n",
        "col_name.remove('default.payment.next.month')\n",
        "col_name"
      ],
      "execution_count": 29,
      "outputs": [
        {
          "output_type": "execute_result",
          "data": {
            "text/plain": [
              "['LIMIT_BAL',\n",
              " 'SEX',\n",
              " 'EDUCATION',\n",
              " 'MARRIAGE',\n",
              " 'AGE',\n",
              " 'PAY_0',\n",
              " 'PAY_2',\n",
              " 'PAY_3',\n",
              " 'PAY_4',\n",
              " 'PAY_5',\n",
              " 'PAY_6',\n",
              " 'BILL_AMT1',\n",
              " 'BILL_AMT2',\n",
              " 'BILL_AMT3',\n",
              " 'BILL_AMT4',\n",
              " 'BILL_AMT5',\n",
              " 'BILL_AMT6',\n",
              " 'PAY_AMT1',\n",
              " 'PAY_AMT2',\n",
              " 'PAY_AMT3',\n",
              " 'PAY_AMT4',\n",
              " 'PAY_AMT5',\n",
              " 'PAY_AMT6']"
            ]
          },
          "metadata": {
            "tags": []
          },
          "execution_count": 29
        }
      ]
    },
    {
      "cell_type": "code",
      "metadata": {
        "id": "dlMwG4LNYMgY",
        "colab_type": "code",
        "colab": {
          "base_uri": "https://localhost:8080/",
          "height": 85
        },
        "outputId": "869b28ec-1e63-41aa-d4ab-20ada0de285f"
      },
      "source": [
        "input_values_df = my_df[col_name]\n",
        "x = input_values_df \n",
        "y = my_df['default.payment.next.month']\n",
        "X_train, X_test, y_train, y_test = train_test_split(x, y, test_size=0.2, random_state=10)\n",
        "\n",
        "clf = RandomForestClassifier(random_state = 10)\n",
        "grid_values = {'max_depth': [10, 20],\n",
        "               'min_samples_leaf': [2, 4],\n",
        "               'n_estimators': [500, 1000]}\n",
        "grid_clf_acc = GridSearchCV(clf, param_grid = grid_values, cv = 3, verbose = 0, scoring = 'accuracy')\n",
        "grid_clf_acc.fit(X_train, y_train)\n",
        "\n",
        "#Predict values based on new parameters\n",
        "y_pred_acc = grid_clf_acc.predict(X_test)\n",
        "\n",
        "# New Model Evaluation metrics\n",
        "print('Accuracy Score : ' + str(accuracy_score(y_test,y_pred_acc)))\n",
        "print('Precision Score : ' + str(precision_score(y_test,y_pred_acc)))\n",
        "print('Recall Score : ' + str(recall_score(y_test,y_pred_acc)))\n",
        "print('F1 Score : ' + str(f1_score(y_test,y_pred_acc)))"
      ],
      "execution_count": 43,
      "outputs": [
        {
          "output_type": "stream",
          "text": [
            "Accuracy Score : 0.826\n",
            "Precision Score : 0.696969696969697\n",
            "Recall Score : 0.36674259681093396\n",
            "F1 Score : 0.4805970149253732\n"
          ],
          "name": "stdout"
        }
      ]
    },
    {
      "cell_type": "code",
      "metadata": {
        "id": "fhJL3bZRlUNi",
        "colab_type": "code",
        "colab": {
          "base_uri": "https://localhost:8080/",
          "height": 34
        },
        "outputId": "a00de8b0-f3bb-4acf-9e31-c40529eaa18e"
      },
      "source": [
        "grid_clf_acc.best_params_"
      ],
      "execution_count": 44,
      "outputs": [
        {
          "output_type": "execute_result",
          "data": {
            "text/plain": [
              "{'max_depth': 10, 'min_samples_leaf': 4, 'n_estimators': 1000}"
            ]
          },
          "metadata": {
            "tags": []
          },
          "execution_count": 44
        }
      ]
    },
    {
      "cell_type": "code",
      "metadata": {
        "id": "XUl6X60zrBFc",
        "colab_type": "code",
        "colab": {
          "base_uri": "https://localhost:8080/",
          "height": 680
        },
        "outputId": "7f73ec03-afa2-41e3-d2ad-4a048e8b240d"
      },
      "source": [
        "grid_clf_acc.cv_results_"
      ],
      "execution_count": 45,
      "outputs": [
        {
          "output_type": "execute_result",
          "data": {
            "text/plain": [
              "{'mean_fit_time': array([13.33272751, 26.62233893, 13.26045116, 26.48939665, 20.15586845,\n",
              "        40.27406526, 19.11057885, 39.12638076]),\n",
              " 'mean_score_time': array([0.4405357 , 0.9102877 , 0.44297926, 0.94352508, 0.74673088,\n",
              "        1.48089194, 0.72265363, 1.53989792]),\n",
              " 'mean_test_score': array([0.81729167, 0.817625  , 0.81804167, 0.81829167, 0.81720833,\n",
              "        0.81725   , 0.81770833, 0.818     ]),\n",
              " 'param_max_depth': masked_array(data=[10, 10, 10, 10, 20, 20, 20, 20],\n",
              "              mask=[False, False, False, False, False, False, False, False],\n",
              "        fill_value='?',\n",
              "             dtype=object),\n",
              " 'param_min_samples_leaf': masked_array(data=[2, 2, 4, 4, 2, 2, 4, 4],\n",
              "              mask=[False, False, False, False, False, False, False, False],\n",
              "        fill_value='?',\n",
              "             dtype=object),\n",
              " 'param_n_estimators': masked_array(data=[500, 1000, 500, 1000, 500, 1000, 500, 1000],\n",
              "              mask=[False, False, False, False, False, False, False, False],\n",
              "        fill_value='?',\n",
              "             dtype=object),\n",
              " 'params': [{'max_depth': 10, 'min_samples_leaf': 2, 'n_estimators': 500},\n",
              "  {'max_depth': 10, 'min_samples_leaf': 2, 'n_estimators': 1000},\n",
              "  {'max_depth': 10, 'min_samples_leaf': 4, 'n_estimators': 500},\n",
              "  {'max_depth': 10, 'min_samples_leaf': 4, 'n_estimators': 1000},\n",
              "  {'max_depth': 20, 'min_samples_leaf': 2, 'n_estimators': 500},\n",
              "  {'max_depth': 20, 'min_samples_leaf': 2, 'n_estimators': 1000},\n",
              "  {'max_depth': 20, 'min_samples_leaf': 4, 'n_estimators': 500},\n",
              "  {'max_depth': 20, 'min_samples_leaf': 4, 'n_estimators': 1000}],\n",
              " 'rank_test_score': array([6, 5, 2, 1, 8, 7, 4, 3], dtype=int32),\n",
              " 'split0_test_score': array([0.81875 , 0.818875, 0.8195  , 0.8195  , 0.817375, 0.817625,\n",
              "        0.818375, 0.8195  ]),\n",
              " 'split1_test_score': array([0.816875, 0.81675 , 0.817875, 0.8175  , 0.81675 , 0.817   ,\n",
              "        0.81825 , 0.818125]),\n",
              " 'split2_test_score': array([0.81625 , 0.81725 , 0.81675 , 0.817875, 0.8175  , 0.817125,\n",
              "        0.8165  , 0.816375]),\n",
              " 'std_fit_time': array([0.04307428, 0.0598187 , 0.0316785 , 0.06765952, 0.08654525,\n",
              "        0.15536365, 0.09601029, 0.82616709]),\n",
              " 'std_score_time': array([0.00152205, 0.0183713 , 0.00302098, 0.08127144, 0.00354886,\n",
              "        0.00852379, 0.01910195, 0.17781822]),\n",
              " 'std_test_score': array([0.0010623 , 0.00090715, 0.00112885, 0.00086803, 0.00032808,\n",
              "        0.00027003, 0.00085594, 0.00127883])}"
            ]
          },
          "metadata": {
            "tags": []
          },
          "execution_count": 45
        }
      ]
    },
    {
      "cell_type": "markdown",
      "metadata": {
        "id": "9JGhrV5S1wDJ",
        "colab_type": "text"
      },
      "source": [
        "Based on the rank_test_score above, we noticed that the best model parameter is {'max_depth': 10, 'min_samples_leaf': 4, 'n_estimators': 1000}; and the second best model parameter is {'max_depth': 10, 'min_samples_leaf': 4, 'n_estimators': 500}."
      ]
    },
    {
      "cell_type": "markdown",
      "metadata": {
        "id": "2760EGyyr3G-",
        "colab_type": "text"
      },
      "source": [
        "# Part5 - Select three-performing mdoels"
      ]
    },
    {
      "cell_type": "markdown",
      "metadata": {
        "id": "jnlswzMksANM",
        "colab_type": "text"
      },
      "source": [
        "**What are the parameters configurations?**"
      ]
    },
    {
      "cell_type": "markdown",
      "metadata": {
        "id": "WLUCnYUfsKA2",
        "colab_type": "text"
      },
      "source": [
        "* Logistic Regression: \n",
        "\n",
        "  C :  0.9  \n",
        "  fit_intercept :  True  \n",
        "  penalty :  l2  \n",
        "\n",
        "* Random Forest: \n",
        "\n",
        "  1. Best model:   \n",
        "\n",
        "    'max_depth': 10  \n",
        "    'min_samples_leaf': 4  \n",
        "    'n_estimators': 1000  \n",
        "\n",
        "  2. Second best model:  \n",
        "\n",
        "    'max_depth': 10  \n",
        "    'min_samples_leaf': 4  \n",
        "    'n_estimators': 500  \n",
        "\n",
        "\n",
        "\n",
        "\n",
        "\n",
        "\n",
        "\n",
        "\n"
      ]
    },
    {
      "cell_type": "markdown",
      "metadata": {
        "id": "FpXKN3tQs9jw",
        "colab_type": "text"
      },
      "source": [
        "**What are the technical performance criteria?**"
      ]
    },
    {
      "cell_type": "markdown",
      "metadata": {
        "id": "PX6Qw1D-tOM1",
        "colab_type": "text"
      },
      "source": [
        "The best model is random forest. As the result above:\n",
        "\n",
        "Accuracy Score : 0.826  \n",
        "Precision Score : 0.696969696969697  \n",
        "Recall Score : 0.36674259681093396  \n",
        "F1 Score : 0.4805970149253732  \n"
      ]
    },
    {
      "cell_type": "markdown",
      "metadata": {
        "id": "Cy7AwGkguvMl",
        "colab_type": "text"
      },
      "source": [
        "# Part6 - predict 5 values for X's not in the dataset"
      ]
    },
    {
      "cell_type": "code",
      "metadata": {
        "id": "x8nrD726v9h5",
        "colab_type": "code",
        "colab": {
          "base_uri": "https://localhost:8080/",
          "height": 224
        },
        "outputId": "e8ac0e7c-a6b5-4c6a-b4c3-b9e897eca551"
      },
      "source": [
        "# Generate 5 samples for each variable. \n",
        "sample = {'LIMIT_BAL': [25000, 55000, 700000, 66000, 35000], 'SEX': [0, 0, 1, 1, 0], 'EDUCATION': [3, 1, 2, 3, 1],  'MARRIAGE': [0, 1, 0, 1, 0],\n",
        "          'AGE': [25, 50, 31, 20, 40], 'PAY_0': [-1, 0, 1, 0, 1], 'PAY_2': [1, 0, -1, 1, 0], 'PAY_3': [1, 0, -1, 1, 0],\n",
        "          'PAY_4': [1, 0, -1, 1, 0], 'PAY_5': [-2, 1, 0, 1, 1], 'PAY_6': [1, 1, 0, -2, -1], 'BILL_AMT1': [3000, 49876, 6278, 3673, 2628],\n",
        " 'BILL_AMT2': [3736, 3736,4658, 0, 36383],\n",
        " 'BILL_AMT3': [33647, 4864, 2756, 4737, 3345],\n",
        " 'BILL_AMT4': [2635, 0, 26345, 37455, 47452],\n",
        " 'BILL_AMT5': [2654, 3746, 47352, 37354, 47382],\n",
        " 'BILL_AMT6': [26354, 3836, 48463, 3725, 3754], 'PAY_AMT1':[1000, 2000, 50000, 3500, 60000], 'PAY_AMT2':[0, 200, 10000, 6000, 68000], \n",
        " 'PAY_AMT3':[20000, 3500, 5900, 67000, 32000], 'PAY_AMT4':[0, 800, 10000, 80000, 9500] ,'PAY_AMT5': [3400, 65000, 8600, 2000, 40000], \n",
        " 'PAY_AMT6':[3200, 45000, 80000,60000, 38000]}\n",
        "\n",
        "# Convert dict to dataframe.\n",
        "arbitrary_values = pd.DataFrame(data = sample)\n",
        "arbitrary_values"
      ],
      "execution_count": 33,
      "outputs": [
        {
          "output_type": "execute_result",
          "data": {
            "text/html": [
              "<div>\n",
              "<style scoped>\n",
              "    .dataframe tbody tr th:only-of-type {\n",
              "        vertical-align: middle;\n",
              "    }\n",
              "\n",
              "    .dataframe tbody tr th {\n",
              "        vertical-align: top;\n",
              "    }\n",
              "\n",
              "    .dataframe thead th {\n",
              "        text-align: right;\n",
              "    }\n",
              "</style>\n",
              "<table border=\"1\" class=\"dataframe\">\n",
              "  <thead>\n",
              "    <tr style=\"text-align: right;\">\n",
              "      <th></th>\n",
              "      <th>LIMIT_BAL</th>\n",
              "      <th>SEX</th>\n",
              "      <th>EDUCATION</th>\n",
              "      <th>MARRIAGE</th>\n",
              "      <th>AGE</th>\n",
              "      <th>PAY_0</th>\n",
              "      <th>PAY_2</th>\n",
              "      <th>PAY_3</th>\n",
              "      <th>PAY_4</th>\n",
              "      <th>PAY_5</th>\n",
              "      <th>PAY_6</th>\n",
              "      <th>BILL_AMT1</th>\n",
              "      <th>BILL_AMT2</th>\n",
              "      <th>BILL_AMT3</th>\n",
              "      <th>BILL_AMT4</th>\n",
              "      <th>BILL_AMT5</th>\n",
              "      <th>BILL_AMT6</th>\n",
              "      <th>PAY_AMT1</th>\n",
              "      <th>PAY_AMT2</th>\n",
              "      <th>PAY_AMT3</th>\n",
              "      <th>PAY_AMT4</th>\n",
              "      <th>PAY_AMT5</th>\n",
              "      <th>PAY_AMT6</th>\n",
              "    </tr>\n",
              "  </thead>\n",
              "  <tbody>\n",
              "    <tr>\n",
              "      <th>0</th>\n",
              "      <td>25000</td>\n",
              "      <td>0</td>\n",
              "      <td>3</td>\n",
              "      <td>0</td>\n",
              "      <td>25</td>\n",
              "      <td>-1</td>\n",
              "      <td>1</td>\n",
              "      <td>1</td>\n",
              "      <td>1</td>\n",
              "      <td>-2</td>\n",
              "      <td>1</td>\n",
              "      <td>3000</td>\n",
              "      <td>3736</td>\n",
              "      <td>33647</td>\n",
              "      <td>2635</td>\n",
              "      <td>2654</td>\n",
              "      <td>26354</td>\n",
              "      <td>1000</td>\n",
              "      <td>0</td>\n",
              "      <td>20000</td>\n",
              "      <td>0</td>\n",
              "      <td>3400</td>\n",
              "      <td>3200</td>\n",
              "    </tr>\n",
              "    <tr>\n",
              "      <th>1</th>\n",
              "      <td>55000</td>\n",
              "      <td>0</td>\n",
              "      <td>1</td>\n",
              "      <td>1</td>\n",
              "      <td>50</td>\n",
              "      <td>0</td>\n",
              "      <td>0</td>\n",
              "      <td>0</td>\n",
              "      <td>0</td>\n",
              "      <td>1</td>\n",
              "      <td>1</td>\n",
              "      <td>49876</td>\n",
              "      <td>3736</td>\n",
              "      <td>4864</td>\n",
              "      <td>0</td>\n",
              "      <td>3746</td>\n",
              "      <td>3836</td>\n",
              "      <td>2000</td>\n",
              "      <td>200</td>\n",
              "      <td>3500</td>\n",
              "      <td>800</td>\n",
              "      <td>65000</td>\n",
              "      <td>45000</td>\n",
              "    </tr>\n",
              "    <tr>\n",
              "      <th>2</th>\n",
              "      <td>700000</td>\n",
              "      <td>1</td>\n",
              "      <td>2</td>\n",
              "      <td>0</td>\n",
              "      <td>31</td>\n",
              "      <td>1</td>\n",
              "      <td>-1</td>\n",
              "      <td>-1</td>\n",
              "      <td>-1</td>\n",
              "      <td>0</td>\n",
              "      <td>0</td>\n",
              "      <td>6278</td>\n",
              "      <td>4658</td>\n",
              "      <td>2756</td>\n",
              "      <td>26345</td>\n",
              "      <td>47352</td>\n",
              "      <td>48463</td>\n",
              "      <td>50000</td>\n",
              "      <td>10000</td>\n",
              "      <td>5900</td>\n",
              "      <td>10000</td>\n",
              "      <td>8600</td>\n",
              "      <td>80000</td>\n",
              "    </tr>\n",
              "    <tr>\n",
              "      <th>3</th>\n",
              "      <td>66000</td>\n",
              "      <td>1</td>\n",
              "      <td>3</td>\n",
              "      <td>1</td>\n",
              "      <td>20</td>\n",
              "      <td>0</td>\n",
              "      <td>1</td>\n",
              "      <td>1</td>\n",
              "      <td>1</td>\n",
              "      <td>1</td>\n",
              "      <td>-2</td>\n",
              "      <td>3673</td>\n",
              "      <td>0</td>\n",
              "      <td>4737</td>\n",
              "      <td>37455</td>\n",
              "      <td>37354</td>\n",
              "      <td>3725</td>\n",
              "      <td>3500</td>\n",
              "      <td>6000</td>\n",
              "      <td>67000</td>\n",
              "      <td>80000</td>\n",
              "      <td>2000</td>\n",
              "      <td>60000</td>\n",
              "    </tr>\n",
              "    <tr>\n",
              "      <th>4</th>\n",
              "      <td>35000</td>\n",
              "      <td>0</td>\n",
              "      <td>1</td>\n",
              "      <td>0</td>\n",
              "      <td>40</td>\n",
              "      <td>1</td>\n",
              "      <td>0</td>\n",
              "      <td>0</td>\n",
              "      <td>0</td>\n",
              "      <td>1</td>\n",
              "      <td>-1</td>\n",
              "      <td>2628</td>\n",
              "      <td>36383</td>\n",
              "      <td>3345</td>\n",
              "      <td>47452</td>\n",
              "      <td>47382</td>\n",
              "      <td>3754</td>\n",
              "      <td>60000</td>\n",
              "      <td>68000</td>\n",
              "      <td>32000</td>\n",
              "      <td>9500</td>\n",
              "      <td>40000</td>\n",
              "      <td>38000</td>\n",
              "    </tr>\n",
              "  </tbody>\n",
              "</table>\n",
              "</div>"
            ],
            "text/plain": [
              "   LIMIT_BAL  SEX  EDUCATION  MARRIAGE  ...  PAY_AMT3  PAY_AMT4  PAY_AMT5  PAY_AMT6\n",
              "0      25000    0          3         0  ...     20000         0      3400      3200\n",
              "1      55000    0          1         1  ...      3500       800     65000     45000\n",
              "2     700000    1          2         0  ...      5900     10000      8600     80000\n",
              "3      66000    1          3         1  ...     67000     80000      2000     60000\n",
              "4      35000    0          1         0  ...     32000      9500     40000     38000\n",
              "\n",
              "[5 rows x 23 columns]"
            ]
          },
          "metadata": {
            "tags": []
          },
          "execution_count": 33
        }
      ]
    },
    {
      "cell_type": "markdown",
      "metadata": {
        "id": "yyDplXAwxDDt",
        "colab_type": "text"
      },
      "source": [
        "**Model 1: Logistic Regression**"
      ]
    },
    {
      "cell_type": "code",
      "metadata": {
        "id": "WEZK1dfoxBZ3",
        "colab_type": "code",
        "colab": {
          "base_uri": "https://localhost:8080/",
          "height": 224
        },
        "outputId": "78948b9d-ad5c-4d6e-87e0-834da95a4ee1"
      },
      "source": [
        "# Now, let's use the model to predict default.payment.next.month for arbitrary values.\n",
        "\n",
        "arbitrary_values.join(pd.DataFrame(lg_2.predict(arbitrary_values), columns = {'Prediction'}).set_index([pd.Index(arbitrary_values.index)]))"
      ],
      "execution_count": 34,
      "outputs": [
        {
          "output_type": "execute_result",
          "data": {
            "text/html": [
              "<div>\n",
              "<style scoped>\n",
              "    .dataframe tbody tr th:only-of-type {\n",
              "        vertical-align: middle;\n",
              "    }\n",
              "\n",
              "    .dataframe tbody tr th {\n",
              "        vertical-align: top;\n",
              "    }\n",
              "\n",
              "    .dataframe thead th {\n",
              "        text-align: right;\n",
              "    }\n",
              "</style>\n",
              "<table border=\"1\" class=\"dataframe\">\n",
              "  <thead>\n",
              "    <tr style=\"text-align: right;\">\n",
              "      <th></th>\n",
              "      <th>LIMIT_BAL</th>\n",
              "      <th>SEX</th>\n",
              "      <th>EDUCATION</th>\n",
              "      <th>MARRIAGE</th>\n",
              "      <th>AGE</th>\n",
              "      <th>PAY_0</th>\n",
              "      <th>PAY_2</th>\n",
              "      <th>PAY_3</th>\n",
              "      <th>PAY_4</th>\n",
              "      <th>PAY_5</th>\n",
              "      <th>PAY_6</th>\n",
              "      <th>BILL_AMT1</th>\n",
              "      <th>BILL_AMT2</th>\n",
              "      <th>BILL_AMT3</th>\n",
              "      <th>BILL_AMT4</th>\n",
              "      <th>BILL_AMT5</th>\n",
              "      <th>BILL_AMT6</th>\n",
              "      <th>PAY_AMT1</th>\n",
              "      <th>PAY_AMT2</th>\n",
              "      <th>PAY_AMT3</th>\n",
              "      <th>PAY_AMT4</th>\n",
              "      <th>PAY_AMT5</th>\n",
              "      <th>PAY_AMT6</th>\n",
              "      <th>Prediction</th>\n",
              "    </tr>\n",
              "  </thead>\n",
              "  <tbody>\n",
              "    <tr>\n",
              "      <th>0</th>\n",
              "      <td>25000</td>\n",
              "      <td>0</td>\n",
              "      <td>3</td>\n",
              "      <td>0</td>\n",
              "      <td>25</td>\n",
              "      <td>-1</td>\n",
              "      <td>1</td>\n",
              "      <td>1</td>\n",
              "      <td>1</td>\n",
              "      <td>-2</td>\n",
              "      <td>1</td>\n",
              "      <td>3000</td>\n",
              "      <td>3736</td>\n",
              "      <td>33647</td>\n",
              "      <td>2635</td>\n",
              "      <td>2654</td>\n",
              "      <td>26354</td>\n",
              "      <td>1000</td>\n",
              "      <td>0</td>\n",
              "      <td>20000</td>\n",
              "      <td>0</td>\n",
              "      <td>3400</td>\n",
              "      <td>3200</td>\n",
              "      <td>0</td>\n",
              "    </tr>\n",
              "    <tr>\n",
              "      <th>1</th>\n",
              "      <td>55000</td>\n",
              "      <td>0</td>\n",
              "      <td>1</td>\n",
              "      <td>1</td>\n",
              "      <td>50</td>\n",
              "      <td>0</td>\n",
              "      <td>0</td>\n",
              "      <td>0</td>\n",
              "      <td>0</td>\n",
              "      <td>1</td>\n",
              "      <td>1</td>\n",
              "      <td>49876</td>\n",
              "      <td>3736</td>\n",
              "      <td>4864</td>\n",
              "      <td>0</td>\n",
              "      <td>3746</td>\n",
              "      <td>3836</td>\n",
              "      <td>2000</td>\n",
              "      <td>200</td>\n",
              "      <td>3500</td>\n",
              "      <td>800</td>\n",
              "      <td>65000</td>\n",
              "      <td>45000</td>\n",
              "      <td>0</td>\n",
              "    </tr>\n",
              "    <tr>\n",
              "      <th>2</th>\n",
              "      <td>700000</td>\n",
              "      <td>1</td>\n",
              "      <td>2</td>\n",
              "      <td>0</td>\n",
              "      <td>31</td>\n",
              "      <td>1</td>\n",
              "      <td>-1</td>\n",
              "      <td>-1</td>\n",
              "      <td>-1</td>\n",
              "      <td>0</td>\n",
              "      <td>0</td>\n",
              "      <td>6278</td>\n",
              "      <td>4658</td>\n",
              "      <td>2756</td>\n",
              "      <td>26345</td>\n",
              "      <td>47352</td>\n",
              "      <td>48463</td>\n",
              "      <td>50000</td>\n",
              "      <td>10000</td>\n",
              "      <td>5900</td>\n",
              "      <td>10000</td>\n",
              "      <td>8600</td>\n",
              "      <td>80000</td>\n",
              "      <td>0</td>\n",
              "    </tr>\n",
              "    <tr>\n",
              "      <th>3</th>\n",
              "      <td>66000</td>\n",
              "      <td>1</td>\n",
              "      <td>3</td>\n",
              "      <td>1</td>\n",
              "      <td>20</td>\n",
              "      <td>0</td>\n",
              "      <td>1</td>\n",
              "      <td>1</td>\n",
              "      <td>1</td>\n",
              "      <td>1</td>\n",
              "      <td>-2</td>\n",
              "      <td>3673</td>\n",
              "      <td>0</td>\n",
              "      <td>4737</td>\n",
              "      <td>37455</td>\n",
              "      <td>37354</td>\n",
              "      <td>3725</td>\n",
              "      <td>3500</td>\n",
              "      <td>6000</td>\n",
              "      <td>67000</td>\n",
              "      <td>80000</td>\n",
              "      <td>2000</td>\n",
              "      <td>60000</td>\n",
              "      <td>0</td>\n",
              "    </tr>\n",
              "    <tr>\n",
              "      <th>4</th>\n",
              "      <td>35000</td>\n",
              "      <td>0</td>\n",
              "      <td>1</td>\n",
              "      <td>0</td>\n",
              "      <td>40</td>\n",
              "      <td>1</td>\n",
              "      <td>0</td>\n",
              "      <td>0</td>\n",
              "      <td>0</td>\n",
              "      <td>1</td>\n",
              "      <td>-1</td>\n",
              "      <td>2628</td>\n",
              "      <td>36383</td>\n",
              "      <td>3345</td>\n",
              "      <td>47452</td>\n",
              "      <td>47382</td>\n",
              "      <td>3754</td>\n",
              "      <td>60000</td>\n",
              "      <td>68000</td>\n",
              "      <td>32000</td>\n",
              "      <td>9500</td>\n",
              "      <td>40000</td>\n",
              "      <td>38000</td>\n",
              "      <td>0</td>\n",
              "    </tr>\n",
              "  </tbody>\n",
              "</table>\n",
              "</div>"
            ],
            "text/plain": [
              "   LIMIT_BAL  SEX  EDUCATION  ...  PAY_AMT5  PAY_AMT6  Prediction\n",
              "0      25000    0          3  ...      3400      3200           0\n",
              "1      55000    0          1  ...     65000     45000           0\n",
              "2     700000    1          2  ...      8600     80000           0\n",
              "3      66000    1          3  ...      2000     60000           0\n",
              "4      35000    0          1  ...     40000     38000           0\n",
              "\n",
              "[5 rows x 24 columns]"
            ]
          },
          "metadata": {
            "tags": []
          },
          "execution_count": 34
        }
      ]
    },
    {
      "cell_type": "markdown",
      "metadata": {
        "id": "B_W31GKvxgCn",
        "colab_type": "text"
      },
      "source": [
        "**Model 2: Random Forest (Best model)**"
      ]
    },
    {
      "cell_type": "code",
      "metadata": {
        "id": "XfaD1Zcyxfp_",
        "colab_type": "code",
        "colab": {
          "base_uri": "https://localhost:8080/",
          "height": 153
        },
        "outputId": "413c1840-57f6-4570-c9a0-7fa51cc5c250"
      },
      "source": [
        "rf1 = RandomForestClassifier(max_depth= 10, min_samples_leaf = 4, n_estimators = 1000, random_state = 10)\n",
        "rf1.fit(X_train, y_train)"
      ],
      "execution_count": 47,
      "outputs": [
        {
          "output_type": "execute_result",
          "data": {
            "text/plain": [
              "RandomForestClassifier(bootstrap=True, ccp_alpha=0.0, class_weight=None,\n",
              "                       criterion='gini', max_depth=10, max_features='auto',\n",
              "                       max_leaf_nodes=None, max_samples=None,\n",
              "                       min_impurity_decrease=0.0, min_impurity_split=None,\n",
              "                       min_samples_leaf=4, min_samples_split=2,\n",
              "                       min_weight_fraction_leaf=0.0, n_estimators=1000,\n",
              "                       n_jobs=None, oob_score=False, random_state=10, verbose=0,\n",
              "                       warm_start=False)"
            ]
          },
          "metadata": {
            "tags": []
          },
          "execution_count": 47
        }
      ]
    },
    {
      "cell_type": "code",
      "metadata": {
        "id": "wfYfAtiQyIFL",
        "colab_type": "code",
        "colab": {
          "base_uri": "https://localhost:8080/",
          "height": 224
        },
        "outputId": "2e6051ee-8115-44e2-c43d-b9770897f788"
      },
      "source": [
        "arbitrary_values.join(pd.DataFrame(rf1.predict(arbitrary_values), columns = {'Prediction'}).set_index([pd.Index(arbitrary_values.index)]))"
      ],
      "execution_count": 48,
      "outputs": [
        {
          "output_type": "execute_result",
          "data": {
            "text/html": [
              "<div>\n",
              "<style scoped>\n",
              "    .dataframe tbody tr th:only-of-type {\n",
              "        vertical-align: middle;\n",
              "    }\n",
              "\n",
              "    .dataframe tbody tr th {\n",
              "        vertical-align: top;\n",
              "    }\n",
              "\n",
              "    .dataframe thead th {\n",
              "        text-align: right;\n",
              "    }\n",
              "</style>\n",
              "<table border=\"1\" class=\"dataframe\">\n",
              "  <thead>\n",
              "    <tr style=\"text-align: right;\">\n",
              "      <th></th>\n",
              "      <th>LIMIT_BAL</th>\n",
              "      <th>SEX</th>\n",
              "      <th>EDUCATION</th>\n",
              "      <th>MARRIAGE</th>\n",
              "      <th>AGE</th>\n",
              "      <th>PAY_0</th>\n",
              "      <th>PAY_2</th>\n",
              "      <th>PAY_3</th>\n",
              "      <th>PAY_4</th>\n",
              "      <th>PAY_5</th>\n",
              "      <th>PAY_6</th>\n",
              "      <th>BILL_AMT1</th>\n",
              "      <th>BILL_AMT2</th>\n",
              "      <th>BILL_AMT3</th>\n",
              "      <th>BILL_AMT4</th>\n",
              "      <th>BILL_AMT5</th>\n",
              "      <th>BILL_AMT6</th>\n",
              "      <th>PAY_AMT1</th>\n",
              "      <th>PAY_AMT2</th>\n",
              "      <th>PAY_AMT3</th>\n",
              "      <th>PAY_AMT4</th>\n",
              "      <th>PAY_AMT5</th>\n",
              "      <th>PAY_AMT6</th>\n",
              "      <th>Prediction</th>\n",
              "    </tr>\n",
              "  </thead>\n",
              "  <tbody>\n",
              "    <tr>\n",
              "      <th>0</th>\n",
              "      <td>25000</td>\n",
              "      <td>0</td>\n",
              "      <td>3</td>\n",
              "      <td>0</td>\n",
              "      <td>25</td>\n",
              "      <td>-1</td>\n",
              "      <td>1</td>\n",
              "      <td>1</td>\n",
              "      <td>1</td>\n",
              "      <td>-2</td>\n",
              "      <td>1</td>\n",
              "      <td>3000</td>\n",
              "      <td>3736</td>\n",
              "      <td>33647</td>\n",
              "      <td>2635</td>\n",
              "      <td>2654</td>\n",
              "      <td>26354</td>\n",
              "      <td>1000</td>\n",
              "      <td>0</td>\n",
              "      <td>20000</td>\n",
              "      <td>0</td>\n",
              "      <td>3400</td>\n",
              "      <td>3200</td>\n",
              "      <td>0</td>\n",
              "    </tr>\n",
              "    <tr>\n",
              "      <th>1</th>\n",
              "      <td>55000</td>\n",
              "      <td>0</td>\n",
              "      <td>1</td>\n",
              "      <td>1</td>\n",
              "      <td>50</td>\n",
              "      <td>0</td>\n",
              "      <td>0</td>\n",
              "      <td>0</td>\n",
              "      <td>0</td>\n",
              "      <td>1</td>\n",
              "      <td>1</td>\n",
              "      <td>49876</td>\n",
              "      <td>3736</td>\n",
              "      <td>4864</td>\n",
              "      <td>0</td>\n",
              "      <td>3746</td>\n",
              "      <td>3836</td>\n",
              "      <td>2000</td>\n",
              "      <td>200</td>\n",
              "      <td>3500</td>\n",
              "      <td>800</td>\n",
              "      <td>65000</td>\n",
              "      <td>45000</td>\n",
              "      <td>0</td>\n",
              "    </tr>\n",
              "    <tr>\n",
              "      <th>2</th>\n",
              "      <td>700000</td>\n",
              "      <td>1</td>\n",
              "      <td>2</td>\n",
              "      <td>0</td>\n",
              "      <td>31</td>\n",
              "      <td>1</td>\n",
              "      <td>-1</td>\n",
              "      <td>-1</td>\n",
              "      <td>-1</td>\n",
              "      <td>0</td>\n",
              "      <td>0</td>\n",
              "      <td>6278</td>\n",
              "      <td>4658</td>\n",
              "      <td>2756</td>\n",
              "      <td>26345</td>\n",
              "      <td>47352</td>\n",
              "      <td>48463</td>\n",
              "      <td>50000</td>\n",
              "      <td>10000</td>\n",
              "      <td>5900</td>\n",
              "      <td>10000</td>\n",
              "      <td>8600</td>\n",
              "      <td>80000</td>\n",
              "      <td>0</td>\n",
              "    </tr>\n",
              "    <tr>\n",
              "      <th>3</th>\n",
              "      <td>66000</td>\n",
              "      <td>1</td>\n",
              "      <td>3</td>\n",
              "      <td>1</td>\n",
              "      <td>20</td>\n",
              "      <td>0</td>\n",
              "      <td>1</td>\n",
              "      <td>1</td>\n",
              "      <td>1</td>\n",
              "      <td>1</td>\n",
              "      <td>-2</td>\n",
              "      <td>3673</td>\n",
              "      <td>0</td>\n",
              "      <td>4737</td>\n",
              "      <td>37455</td>\n",
              "      <td>37354</td>\n",
              "      <td>3725</td>\n",
              "      <td>3500</td>\n",
              "      <td>6000</td>\n",
              "      <td>67000</td>\n",
              "      <td>80000</td>\n",
              "      <td>2000</td>\n",
              "      <td>60000</td>\n",
              "      <td>0</td>\n",
              "    </tr>\n",
              "    <tr>\n",
              "      <th>4</th>\n",
              "      <td>35000</td>\n",
              "      <td>0</td>\n",
              "      <td>1</td>\n",
              "      <td>0</td>\n",
              "      <td>40</td>\n",
              "      <td>1</td>\n",
              "      <td>0</td>\n",
              "      <td>0</td>\n",
              "      <td>0</td>\n",
              "      <td>1</td>\n",
              "      <td>-1</td>\n",
              "      <td>2628</td>\n",
              "      <td>36383</td>\n",
              "      <td>3345</td>\n",
              "      <td>47452</td>\n",
              "      <td>47382</td>\n",
              "      <td>3754</td>\n",
              "      <td>60000</td>\n",
              "      <td>68000</td>\n",
              "      <td>32000</td>\n",
              "      <td>9500</td>\n",
              "      <td>40000</td>\n",
              "      <td>38000</td>\n",
              "      <td>0</td>\n",
              "    </tr>\n",
              "  </tbody>\n",
              "</table>\n",
              "</div>"
            ],
            "text/plain": [
              "   LIMIT_BAL  SEX  EDUCATION  ...  PAY_AMT5  PAY_AMT6  Prediction\n",
              "0      25000    0          3  ...      3400      3200           0\n",
              "1      55000    0          1  ...     65000     45000           0\n",
              "2     700000    1          2  ...      8600     80000           0\n",
              "3      66000    1          3  ...      2000     60000           0\n",
              "4      35000    0          1  ...     40000     38000           0\n",
              "\n",
              "[5 rows x 24 columns]"
            ]
          },
          "metadata": {
            "tags": []
          },
          "execution_count": 48
        }
      ]
    },
    {
      "cell_type": "markdown",
      "metadata": {
        "id": "BFQMFjQryQdF",
        "colab_type": "text"
      },
      "source": [
        "**Model 3: Random Forest (The second best model)**"
      ]
    },
    {
      "cell_type": "code",
      "metadata": {
        "id": "YjT57Te-yYa_",
        "colab_type": "code",
        "colab": {
          "base_uri": "https://localhost:8080/",
          "height": 153
        },
        "outputId": "6b55de6a-b783-4f06-fc51-175cfa470dcb"
      },
      "source": [
        "rf2 = RandomForestClassifier(max_depth = 10, min_samples_leaf = 4, n_estimators = 500, random_state = 10)\n",
        "rf2.fit(X_train, y_train)"
      ],
      "execution_count": 49,
      "outputs": [
        {
          "output_type": "execute_result",
          "data": {
            "text/plain": [
              "RandomForestClassifier(bootstrap=True, ccp_alpha=0.0, class_weight=None,\n",
              "                       criterion='gini', max_depth=10, max_features='auto',\n",
              "                       max_leaf_nodes=None, max_samples=None,\n",
              "                       min_impurity_decrease=0.0, min_impurity_split=None,\n",
              "                       min_samples_leaf=4, min_samples_split=2,\n",
              "                       min_weight_fraction_leaf=0.0, n_estimators=500,\n",
              "                       n_jobs=None, oob_score=False, random_state=10, verbose=0,\n",
              "                       warm_start=False)"
            ]
          },
          "metadata": {
            "tags": []
          },
          "execution_count": 49
        }
      ]
    },
    {
      "cell_type": "code",
      "metadata": {
        "id": "BT0XDgLsynAd",
        "colab_type": "code",
        "colab": {
          "base_uri": "https://localhost:8080/",
          "height": 224
        },
        "outputId": "a5af3370-fae0-48ce-fdcd-1d2ec66585c7"
      },
      "source": [
        "arbitrary_values.join(pd.DataFrame(rf2.predict(arbitrary_values), columns = {'Prediction'}).set_index([pd.Index(arbitrary_values.index)]))"
      ],
      "execution_count": 50,
      "outputs": [
        {
          "output_type": "execute_result",
          "data": {
            "text/html": [
              "<div>\n",
              "<style scoped>\n",
              "    .dataframe tbody tr th:only-of-type {\n",
              "        vertical-align: middle;\n",
              "    }\n",
              "\n",
              "    .dataframe tbody tr th {\n",
              "        vertical-align: top;\n",
              "    }\n",
              "\n",
              "    .dataframe thead th {\n",
              "        text-align: right;\n",
              "    }\n",
              "</style>\n",
              "<table border=\"1\" class=\"dataframe\">\n",
              "  <thead>\n",
              "    <tr style=\"text-align: right;\">\n",
              "      <th></th>\n",
              "      <th>LIMIT_BAL</th>\n",
              "      <th>SEX</th>\n",
              "      <th>EDUCATION</th>\n",
              "      <th>MARRIAGE</th>\n",
              "      <th>AGE</th>\n",
              "      <th>PAY_0</th>\n",
              "      <th>PAY_2</th>\n",
              "      <th>PAY_3</th>\n",
              "      <th>PAY_4</th>\n",
              "      <th>PAY_5</th>\n",
              "      <th>PAY_6</th>\n",
              "      <th>BILL_AMT1</th>\n",
              "      <th>BILL_AMT2</th>\n",
              "      <th>BILL_AMT3</th>\n",
              "      <th>BILL_AMT4</th>\n",
              "      <th>BILL_AMT5</th>\n",
              "      <th>BILL_AMT6</th>\n",
              "      <th>PAY_AMT1</th>\n",
              "      <th>PAY_AMT2</th>\n",
              "      <th>PAY_AMT3</th>\n",
              "      <th>PAY_AMT4</th>\n",
              "      <th>PAY_AMT5</th>\n",
              "      <th>PAY_AMT6</th>\n",
              "      <th>Prediction</th>\n",
              "    </tr>\n",
              "  </thead>\n",
              "  <tbody>\n",
              "    <tr>\n",
              "      <th>0</th>\n",
              "      <td>25000</td>\n",
              "      <td>0</td>\n",
              "      <td>3</td>\n",
              "      <td>0</td>\n",
              "      <td>25</td>\n",
              "      <td>-1</td>\n",
              "      <td>1</td>\n",
              "      <td>1</td>\n",
              "      <td>1</td>\n",
              "      <td>-2</td>\n",
              "      <td>1</td>\n",
              "      <td>3000</td>\n",
              "      <td>3736</td>\n",
              "      <td>33647</td>\n",
              "      <td>2635</td>\n",
              "      <td>2654</td>\n",
              "      <td>26354</td>\n",
              "      <td>1000</td>\n",
              "      <td>0</td>\n",
              "      <td>20000</td>\n",
              "      <td>0</td>\n",
              "      <td>3400</td>\n",
              "      <td>3200</td>\n",
              "      <td>0</td>\n",
              "    </tr>\n",
              "    <tr>\n",
              "      <th>1</th>\n",
              "      <td>55000</td>\n",
              "      <td>0</td>\n",
              "      <td>1</td>\n",
              "      <td>1</td>\n",
              "      <td>50</td>\n",
              "      <td>0</td>\n",
              "      <td>0</td>\n",
              "      <td>0</td>\n",
              "      <td>0</td>\n",
              "      <td>1</td>\n",
              "      <td>1</td>\n",
              "      <td>49876</td>\n",
              "      <td>3736</td>\n",
              "      <td>4864</td>\n",
              "      <td>0</td>\n",
              "      <td>3746</td>\n",
              "      <td>3836</td>\n",
              "      <td>2000</td>\n",
              "      <td>200</td>\n",
              "      <td>3500</td>\n",
              "      <td>800</td>\n",
              "      <td>65000</td>\n",
              "      <td>45000</td>\n",
              "      <td>0</td>\n",
              "    </tr>\n",
              "    <tr>\n",
              "      <th>2</th>\n",
              "      <td>700000</td>\n",
              "      <td>1</td>\n",
              "      <td>2</td>\n",
              "      <td>0</td>\n",
              "      <td>31</td>\n",
              "      <td>1</td>\n",
              "      <td>-1</td>\n",
              "      <td>-1</td>\n",
              "      <td>-1</td>\n",
              "      <td>0</td>\n",
              "      <td>0</td>\n",
              "      <td>6278</td>\n",
              "      <td>4658</td>\n",
              "      <td>2756</td>\n",
              "      <td>26345</td>\n",
              "      <td>47352</td>\n",
              "      <td>48463</td>\n",
              "      <td>50000</td>\n",
              "      <td>10000</td>\n",
              "      <td>5900</td>\n",
              "      <td>10000</td>\n",
              "      <td>8600</td>\n",
              "      <td>80000</td>\n",
              "      <td>0</td>\n",
              "    </tr>\n",
              "    <tr>\n",
              "      <th>3</th>\n",
              "      <td>66000</td>\n",
              "      <td>1</td>\n",
              "      <td>3</td>\n",
              "      <td>1</td>\n",
              "      <td>20</td>\n",
              "      <td>0</td>\n",
              "      <td>1</td>\n",
              "      <td>1</td>\n",
              "      <td>1</td>\n",
              "      <td>1</td>\n",
              "      <td>-2</td>\n",
              "      <td>3673</td>\n",
              "      <td>0</td>\n",
              "      <td>4737</td>\n",
              "      <td>37455</td>\n",
              "      <td>37354</td>\n",
              "      <td>3725</td>\n",
              "      <td>3500</td>\n",
              "      <td>6000</td>\n",
              "      <td>67000</td>\n",
              "      <td>80000</td>\n",
              "      <td>2000</td>\n",
              "      <td>60000</td>\n",
              "      <td>0</td>\n",
              "    </tr>\n",
              "    <tr>\n",
              "      <th>4</th>\n",
              "      <td>35000</td>\n",
              "      <td>0</td>\n",
              "      <td>1</td>\n",
              "      <td>0</td>\n",
              "      <td>40</td>\n",
              "      <td>1</td>\n",
              "      <td>0</td>\n",
              "      <td>0</td>\n",
              "      <td>0</td>\n",
              "      <td>1</td>\n",
              "      <td>-1</td>\n",
              "      <td>2628</td>\n",
              "      <td>36383</td>\n",
              "      <td>3345</td>\n",
              "      <td>47452</td>\n",
              "      <td>47382</td>\n",
              "      <td>3754</td>\n",
              "      <td>60000</td>\n",
              "      <td>68000</td>\n",
              "      <td>32000</td>\n",
              "      <td>9500</td>\n",
              "      <td>40000</td>\n",
              "      <td>38000</td>\n",
              "      <td>0</td>\n",
              "    </tr>\n",
              "  </tbody>\n",
              "</table>\n",
              "</div>"
            ],
            "text/plain": [
              "   LIMIT_BAL  SEX  EDUCATION  ...  PAY_AMT5  PAY_AMT6  Prediction\n",
              "0      25000    0          3  ...      3400      3200           0\n",
              "1      55000    0          1  ...     65000     45000           0\n",
              "2     700000    1          2  ...      8600     80000           0\n",
              "3      66000    1          3  ...      2000     60000           0\n",
              "4      35000    0          1  ...     40000     38000           0\n",
              "\n",
              "[5 rows x 24 columns]"
            ]
          },
          "metadata": {
            "tags": []
          },
          "execution_count": 50
        }
      ]
    },
    {
      "cell_type": "markdown",
      "metadata": {
        "id": "5fz3sa6AzACD",
        "colab_type": "text"
      },
      "source": [
        "# Part7 - Compare and Contrast the output from the models"
      ]
    },
    {
      "cell_type": "markdown",
      "metadata": {
        "id": "NFkvXR02ztdk",
        "colab_type": "text"
      },
      "source": [
        "**Logistic Regression**"
      ]
    },
    {
      "cell_type": "code",
      "metadata": {
        "id": "cgGq4XY_zwn0",
        "colab_type": "code",
        "colab": {
          "base_uri": "https://localhost:8080/",
          "height": 85
        },
        "outputId": "0011e7ba-8a56-4aff-9498-e0433cb7089e"
      },
      "source": [
        "#Predict values based on new parameters\n",
        "y_pred_acc = lg_2.predict(X_test)\n",
        "\n",
        "# New Model Evaluation metrics\n",
        "print('Accuracy Score : ' + str(accuracy_score(y_test,y_pred_acc)))\n",
        "print('Precision Score : ' + str(precision_score(y_test,y_pred_acc)))\n",
        "print('Recall Score : ' + str(recall_score(y_test,y_pred_acc)))\n",
        "print('F1 Score : ' + str(f1_score(y_test,y_pred_acc)))"
      ],
      "execution_count": 39,
      "outputs": [
        {
          "output_type": "stream",
          "text": [
            "Accuracy Score : 0.7803333333333333\n",
            "Precision Score : 0.0\n",
            "Recall Score : 0.0\n",
            "F1 Score : 0.0\n"
          ],
          "name": "stdout"
        }
      ]
    },
    {
      "cell_type": "markdown",
      "metadata": {
        "id": "NxDOhLA10b1j",
        "colab_type": "text"
      },
      "source": [
        "**Random Forest (The best model)**"
      ]
    },
    {
      "cell_type": "code",
      "metadata": {
        "id": "IVyg2rlH0iIQ",
        "colab_type": "code",
        "colab": {
          "base_uri": "https://localhost:8080/",
          "height": 85
        },
        "outputId": "bfb5971f-f5d0-480a-be05-8e1ea0131a8f"
      },
      "source": [
        "#Predict values based on new parameters\n",
        "y_pred_acc = rf1.predict(X_test)\n",
        "\n",
        "# New Model Evaluation metrics\n",
        "print('Accuracy Score : ' + str(accuracy_score(y_test,y_pred_acc)))\n",
        "print('Precision Score : ' + str(precision_score(y_test,y_pred_acc)))\n",
        "print('Recall Score : ' + str(recall_score(y_test,y_pred_acc)))\n",
        "print('F1 Score : ' + str(f1_score(y_test,y_pred_acc)))"
      ],
      "execution_count": 51,
      "outputs": [
        {
          "output_type": "stream",
          "text": [
            "Accuracy Score : 0.826\n",
            "Precision Score : 0.696969696969697\n",
            "Recall Score : 0.36674259681093396\n",
            "F1 Score : 0.4805970149253732\n"
          ],
          "name": "stdout"
        }
      ]
    },
    {
      "cell_type": "markdown",
      "metadata": {
        "id": "mEo29rxv0qC9",
        "colab_type": "text"
      },
      "source": [
        "**Random Forest (The second best model)**"
      ]
    },
    {
      "cell_type": "code",
      "metadata": {
        "id": "fBMMsrSi0xuK",
        "colab_type": "code",
        "colab": {
          "base_uri": "https://localhost:8080/",
          "height": 85
        },
        "outputId": "bb1d238d-bc28-4bbb-b6ca-332868516791"
      },
      "source": [
        "#Predict values based on new parameters\n",
        "y_pred_acc = rf2.predict(X_test)\n",
        "\n",
        "# New Model Evaluation metrics\n",
        "print('Accuracy Score : ' + str(accuracy_score(y_test,y_pred_acc)))\n",
        "print('Precision Score : ' + str(precision_score(y_test,y_pred_acc)))\n",
        "print('Recall Score : ' + str(recall_score(y_test,y_pred_acc)))\n",
        "print('F1 Score : ' + str(f1_score(y_test,y_pred_acc)))"
      ],
      "execution_count": 52,
      "outputs": [
        {
          "output_type": "stream",
          "text": [
            "Accuracy Score : 0.826\n",
            "Precision Score : 0.6998535871156661\n",
            "Recall Score : 0.36294608959757024\n",
            "F1 Score : 0.47800000000000004\n"
          ],
          "name": "stdout"
        }
      ]
    },
    {
      "cell_type": "markdown",
      "metadata": {
        "id": "4gSeL2Kp08Vj",
        "colab_type": "text"
      },
      "source": [
        "# Part8 - Explain the implication of the results and how they may or may not be used"
      ]
    },
    {
      "cell_type": "markdown",
      "metadata": {
        "id": "eOijJN1S1MEE",
        "colab_type": "text"
      },
      "source": [
        "**We chose the random forest model (the second best model).** \n",
        "\n",
        "(Since we are dealing with inbalanced dataset, the accuracy is not the best metric to use. We should also compare the F1 score and precision score.)\n",
        "\n",
        "\n",
        "For Logistic Regression, the accuracy score is 0.78; however, the Precision Score, Recall Score, and F1 Scores are 0. That is because in the logistic regression, the model predicts that all customers will pay back and in the test data, the most of customers paid the moeny back. Therefore, even the model predicts that all customers will pay back, the accuracy of score will keep high and other scores (precision, recall, F1) will stay low.\n",
        "\n",
        "For Random Froest, we figured out that the F1 scores for random froest (the best model model) is higher than the other one. Therefore, we chose the forest model (the best model) as the best performance model."
      ]
    }
  ]
}