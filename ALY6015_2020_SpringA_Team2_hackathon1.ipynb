{
  "nbformat": 4,
  "nbformat_minor": 0,
  "metadata": {
    "colab": {
      "name": "ALY6015 - 2020 SpringA - Team2_hackathon1.ipynb",
      "provenance": [],
      "collapsed_sections": []
    },
    "kernelspec": {
      "name": "python3",
      "display_name": "Python 3"
    }
  },
  "cells": [
    {
      "cell_type": "markdown",
      "metadata": {
        "id": "BeWRjN4yiASu",
        "colab_type": "text"
      },
      "source": [
        "# Author: Sijie (Stephanie) Wang, Yuhsin (Mia) Hou, FangJung (Kristy) Lin, Chachra Aastha\n",
        "\n",
        "# Purpose: Hackathon 1\n",
        "\n",
        "# Class: ALY 6015 - Hackathon 1"
      ]
    },
    {
      "cell_type": "code",
      "metadata": {
        "id": "H-hpQTWIHXVf",
        "colab_type": "code",
        "colab": {}
      },
      "source": [
        "import numpy as np\n",
        "import pandas as pd\n",
        "import os\n",
        "import seaborn as sns\n",
        "import matplotlib.pyplot as plt\n",
        "from sklearn.model_selection import train_test_split\n",
        "from sklearn.linear_model import LinearRegression\n",
        "from sklearn.metrics import mean_squared_error\n",
        "from sklearn.metrics import mean_squared_error, r2_score"
      ],
      "execution_count": 0,
      "outputs": []
    },
    {
      "cell_type": "markdown",
      "metadata": {
        "id": "e8nu4iyfeQgm",
        "colab_type": "text"
      },
      "source": [
        "# Load data"
      ]
    },
    {
      "cell_type": "code",
      "metadata": {
        "id": "oNIdBS-dIjuE",
        "colab_type": "code",
        "outputId": "d1152a7e-22b0-4e16-8e56-845deb3ea4b7",
        "colab": {
          "base_uri": "https://localhost:8080/",
          "height": 450
        }
      },
      "source": [
        "data_path = \"https://docs.google.com/spreadsheets/d/e/2PACX-1vSygt85A-C0wRp5ZQrWAF8LeaC-1eflhBzBCGhDf9gbvy5N8UbjOFFBv9lxOLnnxB1Kp8B4x-mBD3LP/pub?gid=278789607&single=true&output=csv\"\n",
        "df = pd.read_csv(data_path)\n",
        "df.set_index('Id')"
      ],
      "execution_count": 64,
      "outputs": [
        {
          "output_type": "execute_result",
          "data": {
            "text/html": [
              "<div>\n",
              "<style scoped>\n",
              "    .dataframe tbody tr th:only-of-type {\n",
              "        vertical-align: middle;\n",
              "    }\n",
              "\n",
              "    .dataframe tbody tr th {\n",
              "        vertical-align: top;\n",
              "    }\n",
              "\n",
              "    .dataframe thead th {\n",
              "        text-align: right;\n",
              "    }\n",
              "</style>\n",
              "<table border=\"1\" class=\"dataframe\">\n",
              "  <thead>\n",
              "    <tr style=\"text-align: right;\">\n",
              "      <th></th>\n",
              "      <th>SF</th>\n",
              "      <th>SalePrice</th>\n",
              "    </tr>\n",
              "    <tr>\n",
              "      <th>Id</th>\n",
              "      <th></th>\n",
              "      <th></th>\n",
              "    </tr>\n",
              "  </thead>\n",
              "  <tbody>\n",
              "    <tr>\n",
              "      <th>1</th>\n",
              "      <td>4316</td>\n",
              "      <td>755000</td>\n",
              "    </tr>\n",
              "    <tr>\n",
              "      <th>2</th>\n",
              "      <td>4476</td>\n",
              "      <td>745000</td>\n",
              "    </tr>\n",
              "    <tr>\n",
              "      <th>3</th>\n",
              "      <td>3627</td>\n",
              "      <td>625000</td>\n",
              "    </tr>\n",
              "    <tr>\n",
              "      <th>4</th>\n",
              "      <td>2364</td>\n",
              "      <td>611657</td>\n",
              "    </tr>\n",
              "    <tr>\n",
              "      <th>5</th>\n",
              "      <td>2822</td>\n",
              "      <td>582933</td>\n",
              "    </tr>\n",
              "    <tr>\n",
              "      <th>...</th>\n",
              "      <td>...</td>\n",
              "      <td>...</td>\n",
              "    </tr>\n",
              "    <tr>\n",
              "      <th>1456</th>\n",
              "      <td>1317</td>\n",
              "      <td>40000</td>\n",
              "    </tr>\n",
              "    <tr>\n",
              "      <th>1457</th>\n",
              "      <td>334</td>\n",
              "      <td>39300</td>\n",
              "    </tr>\n",
              "    <tr>\n",
              "      <th>1458</th>\n",
              "      <td>968</td>\n",
              "      <td>37900</td>\n",
              "    </tr>\n",
              "    <tr>\n",
              "      <th>1459</th>\n",
              "      <td>480</td>\n",
              "      <td>35311</td>\n",
              "    </tr>\n",
              "    <tr>\n",
              "      <th>1460</th>\n",
              "      <td>720</td>\n",
              "      <td>34900</td>\n",
              "    </tr>\n",
              "  </tbody>\n",
              "</table>\n",
              "<p>1460 rows × 2 columns</p>\n",
              "</div>"
            ],
            "text/plain": [
              "        SF  SalePrice\n",
              "Id                   \n",
              "1     4316     755000\n",
              "2     4476     745000\n",
              "3     3627     625000\n",
              "4     2364     611657\n",
              "5     2822     582933\n",
              "...    ...        ...\n",
              "1456  1317      40000\n",
              "1457   334      39300\n",
              "1458   968      37900\n",
              "1459   480      35311\n",
              "1460   720      34900\n",
              "\n",
              "[1460 rows x 2 columns]"
            ]
          },
          "metadata": {
            "tags": []
          },
          "execution_count": 64
        }
      ]
    },
    {
      "cell_type": "code",
      "metadata": {
        "id": "TrUPROIcSudI",
        "colab_type": "code",
        "outputId": "5d08fb49-bd4c-4b96-debb-af20ffd841ad",
        "colab": {
          "base_uri": "https://localhost:8080/",
          "height": 85
        }
      },
      "source": [
        "df.dtypes"
      ],
      "execution_count": 65,
      "outputs": [
        {
          "output_type": "execute_result",
          "data": {
            "text/plain": [
              "Id           int64\n",
              "SF           int64\n",
              "SalePrice    int64\n",
              "dtype: object"
            ]
          },
          "metadata": {
            "tags": []
          },
          "execution_count": 65
        }
      ]
    },
    {
      "cell_type": "markdown",
      "metadata": {
        "id": "Gz7TtM4KeM01",
        "colab_type": "text"
      },
      "source": [
        "# Q1. What does the distribution of rents look like?\n"
      ]
    },
    {
      "cell_type": "code",
      "metadata": {
        "id": "QGsTZsefKI8j",
        "colab_type": "code",
        "outputId": "3f04aef0-7277-411f-b38e-70842f5f5d5c",
        "colab": {
          "base_uri": "https://localhost:8080/",
          "height": 491
        }
      },
      "source": [
        "sns.distplot(df['SalePrice'])\n",
        "plt.rcParams[\"figure.figsize\"] = (24,8)"
      ],
      "execution_count": 66,
      "outputs": [
        {
          "output_type": "display_data",
          "data": {
            "image/png": "[encoded data removed]",
            "text/plain": [
              "<Figure size 1728x576 with 1 Axes>"
            ]
          },
          "metadata": {
            "tags": [],
            "needs_background": "light"
          }
        }
      ]
    },
    {
      "cell_type": "markdown",
      "metadata": {
        "id": "x0ugftueeDzG",
        "colab_type": "text"
      },
      "source": [
        "# Q2. Provide an estimate cost for a house with 1000 sq ft."
      ]
    },
    {
      "cell_type": "code",
      "metadata": {
        "id": "yq49ZP0YVJAh",
        "colab_type": "code",
        "outputId": "7463617e-2097-4401-8192-b7c4e5b54b2a",
        "colab": {
          "base_uri": "https://localhost:8080/",
          "height": 255
        }
      },
      "source": [
        "X = df[['SF']]\n",
        "Y = df['SalePrice']\n",
        "print(X)\n",
        " \n",
        "# Split the data into testing data and training data. \n",
        "# Already from sklearn.model_selection import train_test_split.\n",
        "X_train, X_test, y_train, y_test = train_test_split(X, Y, test_size=0.25, random_state=0)\n",
        "\n",
        "X_train = np.asmatrix(X_train)\n",
        "X_test = np.asmatrix(X_test)\n",
        "y_train = np.ravel(y_train)\n",
        "y_test = np.ravel(y_test)"
      ],
      "execution_count": 67,
      "outputs": [
        {
          "output_type": "stream",
          "text": [
            "        SF\n",
            "0     4316\n",
            "1     4476\n",
            "2     3627\n",
            "3     2364\n",
            "4     2822\n",
            "...    ...\n",
            "1455  1317\n",
            "1456   334\n",
            "1457   968\n",
            "1458   480\n",
            "1459   720\n",
            "\n",
            "[1460 rows x 1 columns]\n"
          ],
          "name": "stdout"
        }
      ]
    },
    {
      "cell_type": "code",
      "metadata": {
        "id": "sYr9gb4JVKTS",
        "colab_type": "code",
        "outputId": "29076f35-a35a-4fd8-e192-a776e7acf43c",
        "colab": {
          "base_uri": "https://localhost:8080/",
          "height": 34
        }
      },
      "source": [
        "regressor1 = LinearRegression()\n",
        "regressor1.fit(X_train, y_train)"
      ],
      "execution_count": 68,
      "outputs": [
        {
          "output_type": "execute_result",
          "data": {
            "text/plain": [
              "LinearRegression(copy_X=True, fit_intercept=True, n_jobs=None, normalize=False)"
            ]
          },
          "metadata": {
            "tags": []
          },
          "execution_count": 68
        }
      ]
    },
    {
      "cell_type": "code",
      "metadata": {
        "id": "QdUKvPyRVjzc",
        "colab_type": "code",
        "outputId": "39f1283c-ce71-479a-d564-3bc09c4c0b20",
        "colab": {
          "base_uri": "https://localhost:8080/",
          "height": 187
        }
      },
      "source": [
        "#Make predictions using the testing set\n",
        "y_pred = regressor1.predict(X_test)\n",
        "\n",
        "#Print a few predictions\n",
        "print((pd.DataFrame(y_pred, columns={'y_prediction'}).head(5)))\n",
        "print()\n",
        "\n",
        "#Print the intercept\n",
        "print('Intercept:', float(regressor1.intercept_))\n",
        "\n",
        "#Performance Metric: Mean Squared Error\n",
        "print(\"Mean Squared Error (MSE):%.2f\" % mean_squared_error(y_test, y_pred))\n",
        "\n",
        "# Explained variance score:\n",
        "print('Variance Score (R^2):%.2f' % r2_score(y_test, y_pred))"
      ],
      "execution_count": 69,
      "outputs": [
        {
          "output_type": "stream",
          "text": [
            "    y_prediction\n",
            "0  180195.716846\n",
            "1  179113.309872\n",
            "2  152741.939978\n",
            "3  220343.175491\n",
            "4  155300.356460\n",
            "\n",
            "Intercept: 31512.358971585345\n",
            "Mean Squared Error (MSE):3327968392.40\n",
            "Variance Score (R^2):0.57\n"
          ],
          "name": "stdout"
        }
      ]
    },
    {
      "cell_type": "code",
      "metadata": {
        "id": "0dcIo8Zoaxfw",
        "colab_type": "code",
        "outputId": "b65b7dd5-1410-41ff-dc23-59f9ccf41670",
        "colab": {
          "base_uri": "https://localhost:8080/",
          "height": 34
        }
      },
      "source": [
        "regressor1.coef_"
      ],
      "execution_count": 70,
      "outputs": [
        {
          "output_type": "execute_result",
          "data": {
            "text/plain": [
              "array([98.40063393])"
            ]
          },
          "metadata": {
            "tags": []
          },
          "execution_count": 70
        }
      ]
    },
    {
      "cell_type": "code",
      "metadata": {
        "id": "MWN3XoMHWDHD",
        "colab_type": "code",
        "outputId": "f21b356a-1a6e-4b31-fc56-426e84c43528",
        "colab": {
          "base_uri": "https://localhost:8080/",
          "height": 34
        }
      },
      "source": [
        "result1 = regressor1.predict([[1000]])\n",
        "print('Estimate cost for a house with 1000 sq ft: ' + str(result1[0]))"
      ],
      "execution_count": 71,
      "outputs": [
        {
          "output_type": "stream",
          "text": [
            "Estimate cost for a house with 1000 sq ft: 129912.99290541824\n"
          ],
          "name": "stdout"
        }
      ]
    },
    {
      "cell_type": "markdown",
      "metadata": {
        "id": "qsUXKv6wfzje",
        "colab_type": "text"
      },
      "source": [
        "# Q3. How much sq. footage can $1,000,000 buy?"
      ]
    },
    {
      "cell_type": "code",
      "metadata": {
        "id": "SGhQ3XArZLCK",
        "colab_type": "code",
        "outputId": "4fb91897-fca1-4705-8677-90f20368761c",
        "colab": {
          "base_uri": "https://localhost:8080/",
          "height": 255
        }
      },
      "source": [
        "X = df[['SalePrice']]\n",
        "Y = df['SF']\n",
        "print(X)\n",
        " \n",
        "# Split the data into testing data and training data. \n",
        "# Already from sklearn.model_selection import train_test_split.\n",
        "X_train, X_test, y_train, y_test = train_test_split(X, Y, test_size=0.25, random_state=0)\n",
        "\n",
        "X_train = np.asmatrix(X_train)\n",
        "X_test = np.asmatrix(X_test)\n",
        "y_train = np.ravel(y_train)\n",
        "y_test = np.ravel(y_test)"
      ],
      "execution_count": 72,
      "outputs": [
        {
          "output_type": "stream",
          "text": [
            "      SalePrice\n",
            "0        755000\n",
            "1        745000\n",
            "2        625000\n",
            "3        611657\n",
            "4        582933\n",
            "...         ...\n",
            "1455      40000\n",
            "1456      39300\n",
            "1457      37900\n",
            "1458      35311\n",
            "1459      34900\n",
            "\n",
            "[1460 rows x 1 columns]\n"
          ],
          "name": "stdout"
        }
      ]
    },
    {
      "cell_type": "code",
      "metadata": {
        "id": "Z3kfuvTCe-g-",
        "colab_type": "code",
        "outputId": "355710fd-d9b5-49e6-e514-b2c4d5a16cc4",
        "colab": {
          "base_uri": "https://localhost:8080/",
          "height": 34
        }
      },
      "source": [
        "regressor2 = LinearRegression()\n",
        "regressor2.fit(X_train, y_train)"
      ],
      "execution_count": 73,
      "outputs": [
        {
          "output_type": "execute_result",
          "data": {
            "text/plain": [
              "LinearRegression(copy_X=True, fit_intercept=True, n_jobs=None, normalize=False)"
            ]
          },
          "metadata": {
            "tags": []
          },
          "execution_count": 73
        }
      ]
    },
    {
      "cell_type": "code",
      "metadata": {
        "id": "pfb7FVxmfAqd",
        "colab_type": "code",
        "outputId": "9440bf26-9940-4457-c998-926bb7f5e72f",
        "colab": {
          "base_uri": "https://localhost:8080/",
          "height": 187
        }
      },
      "source": [
        "#Make predictions using the testing set\n",
        "y_pred = regressor2.predict(X_test)\n",
        "\n",
        "#Print a few predictions\n",
        "print((pd.DataFrame(y_pred, columns={'y_prediction'}).head(5)))\n",
        "print()\n",
        "\n",
        "#Print the intercept\n",
        "print('Intercept:', float(regressor2.intercept_))\n",
        "\n",
        "#Performance Metric: Mean Squared Error\n",
        "print(\"Mean Squared Error (MSE):%.2f\" % mean_squared_error(y_test, y_pred))\n",
        "\n",
        "# Explained variance score:\n",
        "print('Variance Score (R^2):%.2f' % r2_score(y_test, y_pred))"
      ],
      "execution_count": 74,
      "outputs": [
        {
          "output_type": "stream",
          "text": [
            "   y_prediction\n",
            "0   1530.016354\n",
            "1   1553.476295\n",
            "2   1574.590242\n",
            "3   1756.310946\n",
            "4   1471.366502\n",
            "\n",
            "Intercept: 661.9985348105193\n",
            "Mean Squared Error (MSE):106835.95\n",
            "Variance Score (R^2):0.61\n"
          ],
          "name": "stdout"
        }
      ]
    },
    {
      "cell_type": "code",
      "metadata": {
        "id": "beHk7C6rfE4J",
        "colab_type": "code",
        "outputId": "8e55eafe-0d67-4fb2-fcca-91d406b6394e",
        "colab": {
          "base_uri": "https://localhost:8080/",
          "height": 34
        }
      },
      "source": [
        "result2 = regressor2.predict([[1000000]])\n",
        "print('Sq. footage can $1,000,000 buy: ' + str(result2[0]))"
      ],
      "execution_count": 75,
      "outputs": [
        {
          "output_type": "stream",
          "text": [
            "Sq. footage can $1,000,000 buy: 5353.986747510333\n"
          ],
          "name": "stdout"
        }
      ]
    },
    {
      "cell_type": "markdown",
      "metadata": {
        "id": "4JjSf6-Kf5ke",
        "colab_type": "text"
      },
      "source": [
        "# Q4. What is your interpretation of the prices for houses in the 4000-5000 sq. footage range? "
      ]
    },
    {
      "cell_type": "code",
      "metadata": {
        "id": "A3_8l-yGfdQ6",
        "colab_type": "code",
        "outputId": "7e443c31-f4da-499c-b97b-4c7eecae2b74",
        "colab": {
          "base_uri": "https://localhost:8080/",
          "height": 34
        }
      },
      "source": [
        "range1 = regressor1.predict([[4000]])\n",
        "range2 = regressor1.predict([[5000]])\n",
        "print('Price Range:' + '(' + str(range1[0]) + ',' + str(range2[0]) + ')')"
      ],
      "execution_count": 76,
      "outputs": [
        {
          "output_type": "stream",
          "text": [
            "Price Range:(425114.89470691694,523515.5286407498)\n"
          ],
          "name": "stdout"
        }
      ]
    }
  ]
}