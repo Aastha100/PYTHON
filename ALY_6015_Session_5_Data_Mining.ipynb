{
  "nbformat": 4,
  "nbformat_minor": 0,
  "metadata": {
    "colab": {
      "name": "ALY 6015 - Session #5 - Data Mining.ipynb",
      "provenance": [],
      "collapsed_sections": [
        "iY-6rfe40R70",
        "1lxltRfK4Kvj",
        "jIr48XkUZ9UN"
      ]
    },
    "kernelspec": {
      "name": "python3",
      "display_name": "Python 3"
    }
  },
  "cells": [
    {
      "cell_type": "markdown",
      "metadata": {
        "id": "iY-6rfe40R70"
      },
      "source": [
        "# Setup environment (libraries and packages)"
      ]
    },
    {
      "cell_type": "code",
      "metadata": {
        "id": "b3x7saJewog8",
        "colab": {
          "base_uri": "https://localhost:8080/"
        },
        "outputId": "f14f7bb1-4110-40a1-a434-b2f7f2ddf260"
      },
      "source": [
        "from sklearn.model_selection import GridSearchCV\n",
        "from sklearn.metrics import roc_auc_score\n",
        "from sklearn.metrics import roc_curve\n",
        "from sklearn.neighbors import KNeighborsClassifier\n",
        "from sklearn.linear_model import LogisticRegression\n",
        "from sklearn.metrics import confusion_matrix\n",
        "from sklearn.model_selection import cross_val_score\n",
        "from sklearn.metrics import classification_report\n",
        "from sklearn.ensemble import RandomForestClassifier\n",
        "from sklearn.preprocessing import StandardScaler\n",
        "\n",
        "from sklearn.model_selection import train_test_split \n",
        "from sklearn.tree import DecisionTreeClassifier \n",
        "from sklearn.metrics import accuracy_score \n",
        "from sklearn import tree \n",
        "from sklearn.preprocessing import LabelEncoder\n",
        "\n",
        "from sklearn.externals.six import StringIO  \n",
        "from IPython.display import Image  \n",
        "from sklearn.tree import export_graphviz\n",
        "import pydotplus\n",
        "\n",
        "import requests\n",
        "import io\n",
        "import scipy\n",
        "import numpy as np\n",
        "import pandas as pd\n",
        "import pandas_datareader as pdr\n",
        "from pandas_datareader import data, wb\n",
        "import fix_yahoo_finance as yf\n",
        "import matplotlib.pyplot as plt\n",
        "from matplotlib.pyplot import plot\n",
        "from matplotlib.pyplot import figure\n",
        "from matplotlib.pyplot import style\n",
        "import matplotlib.ticker as mtick\n",
        "import datetime\n",
        "from datetime import date\n",
        "from dateutil.parser import parse\n",
        "pd.options.display.float_format = '{:.2f}'.format\n",
        "plt.rcParams[\"figure.figsize\"] = (21,7)\n",
        "plt.style.use('seaborn-white')"
      ],
      "execution_count": null,
      "outputs": [
        {
          "output_type": "stream",
          "text": [
            "/usr/local/lib/python3.6/dist-packages/sklearn/externals/six.py:31: FutureWarning: The module is deprecated in version 0.21 and will be removed in version 0.23 since we've dropped support for Python 2.7. Please rely on the official version of six (https://pypi.org/project/six/).\n",
            "  \"(https://pypi.org/project/six/).\", FutureWarning)\n"
          ],
          "name": "stderr"
        }
      ]
    },
    {
      "cell_type": "markdown",
      "metadata": {
        "id": "1lxltRfK4Kvj"
      },
      "source": [
        "# Motivating Example: Tennis Game Decider - Multi-Model Edition"
      ]
    },
    {
      "cell_type": "markdown",
      "metadata": {
        "id": "577glfkmdHH1"
      },
      "source": [
        "## Load, Encode, and Split Data"
      ]
    },
    {
      "cell_type": "code",
      "metadata": {
        "id": "nuPpVW6i4Qjl",
        "colab": {
          "base_uri": "https://localhost:8080/"
        },
        "outputId": "2eafdf68-0f36-4daa-c8e6-498dd6d49cb3"
      },
      "source": [
        "# Load Dataset\n",
        "data_path = \"https://docs.google.com/spreadsheets/d/e/2PACX-1vTUuIaQ9l1B1ZxMZ-ucOUOzqX_uLcd7qA_HxHtB9MejT-G1SxcxTjE7k_rVpFFKl4me8wbppZRgJXUi/pub?gid=0&single=true&output=csv\"\n",
        "tennis_df = pd.read_csv(data_path)\n",
        "print(tennis_df.head(3))"
      ],
      "execution_count": null,
      "outputs": [
        {
          "output_type": "stream",
          "text": [
            "    outlook  temp humidity  windy play\n",
            "0  overcast   hot     high  False  yes\n",
            "1  overcast  cool   normal   True  yes\n",
            "2  overcast  mild     high   True  yes\n"
          ],
          "name": "stdout"
        }
      ]
    },
    {
      "cell_type": "code",
      "metadata": {
        "id": "t1cuYNouezIQ",
        "colab": {
          "base_uri": "https://localhost:8080/"
        },
        "outputId": "0525c5c0-f51b-44f4-f5da-a5b82a7ddcd1"
      },
      "source": [
        "tennis_df.shape"
      ],
      "execution_count": null,
      "outputs": [
        {
          "output_type": "execute_result",
          "data": {
            "text/plain": [
              "(14, 5)"
            ]
          },
          "metadata": {
            "tags": []
          },
          "execution_count": 3
        }
      ]
    },
    {
      "cell_type": "code",
      "metadata": {
        "id": "VIu4ljwmZgNL"
      },
      "source": [
        "#Encode\n",
        "lb = LabelEncoder() \n",
        "#https://scikit-learn.org/stable/modules/generated/sklearn.preprocessing.LabelEncoder.html\n",
        "\n",
        "tennis_df['outlook_'] = lb.fit_transform(tennis_df['outlook']) \n",
        "tennis_df['temp_'] = lb.fit_transform(tennis_df['temp'] ) \n",
        "tennis_df['humidity_'] = lb.fit_transform(tennis_df['humidity'] ) \n",
        "tennis_df['windy_'] = lb.fit_transform(tennis_df['windy'] )   \n",
        "tennis_df['play_'] = lb.fit_transform(tennis_df['play'] ) \n",
        "\n",
        "X = tennis_df.iloc[:,5:9] \n",
        "Y = tennis_df.iloc[:,9]\n",
        "\n",
        "#Split\n",
        "X_train, X_test , y_train, y_test = train_test_split(X, Y, test_size = 0.3, random_state = 106)"
      ],
      "execution_count": null,
      "outputs": []
    },
    {
      "cell_type": "code",
      "metadata": {
        "id": "VQ1TYODpSHwL",
        "colab": {
          "base_uri": "https://localhost:8080/",
          "height": 142
        },
        "outputId": "4868fde6-8bae-4c81-bca4-3d87b86f869a"
      },
      "source": [
        "tennis_df.head(3)"
      ],
      "execution_count": null,
      "outputs": [
        {
          "output_type": "execute_result",
          "data": {
            "text/html": [
              "<div>\n",
              "<style scoped>\n",
              "    .dataframe tbody tr th:only-of-type {\n",
              "        vertical-align: middle;\n",
              "    }\n",
              "\n",
              "    .dataframe tbody tr th {\n",
              "        vertical-align: top;\n",
              "    }\n",
              "\n",
              "    .dataframe thead th {\n",
              "        text-align: right;\n",
              "    }\n",
              "</style>\n",
              "<table border=\"1\" class=\"dataframe\">\n",
              "  <thead>\n",
              "    <tr style=\"text-align: right;\">\n",
              "      <th></th>\n",
              "      <th>outlook</th>\n",
              "      <th>temp</th>\n",
              "      <th>humidity</th>\n",
              "      <th>windy</th>\n",
              "      <th>play</th>\n",
              "      <th>outlook_</th>\n",
              "      <th>temp_</th>\n",
              "      <th>humidity_</th>\n",
              "      <th>windy_</th>\n",
              "      <th>play_</th>\n",
              "    </tr>\n",
              "  </thead>\n",
              "  <tbody>\n",
              "    <tr>\n",
              "      <th>0</th>\n",
              "      <td>overcast</td>\n",
              "      <td>hot</td>\n",
              "      <td>high</td>\n",
              "      <td>False</td>\n",
              "      <td>yes</td>\n",
              "      <td>0</td>\n",
              "      <td>1</td>\n",
              "      <td>0</td>\n",
              "      <td>0</td>\n",
              "      <td>1</td>\n",
              "    </tr>\n",
              "    <tr>\n",
              "      <th>1</th>\n",
              "      <td>overcast</td>\n",
              "      <td>cool</td>\n",
              "      <td>normal</td>\n",
              "      <td>True</td>\n",
              "      <td>yes</td>\n",
              "      <td>0</td>\n",
              "      <td>0</td>\n",
              "      <td>1</td>\n",
              "      <td>1</td>\n",
              "      <td>1</td>\n",
              "    </tr>\n",
              "    <tr>\n",
              "      <th>2</th>\n",
              "      <td>overcast</td>\n",
              "      <td>mild</td>\n",
              "      <td>high</td>\n",
              "      <td>True</td>\n",
              "      <td>yes</td>\n",
              "      <td>0</td>\n",
              "      <td>2</td>\n",
              "      <td>0</td>\n",
              "      <td>1</td>\n",
              "      <td>1</td>\n",
              "    </tr>\n",
              "  </tbody>\n",
              "</table>\n",
              "</div>"
            ],
            "text/plain": [
              "    outlook  temp humidity  windy  ... temp_  humidity_  windy_  play_\n",
              "0  overcast   hot     high  False  ...     1          0       0      1\n",
              "1  overcast  cool   normal   True  ...     0          1       1      1\n",
              "2  overcast  mild     high   True  ...     2          0       1      1\n",
              "\n",
              "[3 rows x 10 columns]"
            ]
          },
          "metadata": {
            "tags": []
          },
          "execution_count": 5
        }
      ]
    },
    {
      "cell_type": "markdown",
      "metadata": {
        "id": "CT2LkayuZiux"
      },
      "source": [
        "## Logistic Regression (liblinear)"
      ]
    },
    {
      "cell_type": "code",
      "metadata": {
        "id": "eZUfTWxxZ6E0",
        "colab": {
          "base_uri": "https://localhost:8080/"
        },
        "outputId": "ba1de0d7-92c3-4661-ba31-535c7f6468e8"
      },
      "source": [
        "classifier1 = LogisticRegression(solver = 'liblinear')\n",
        "classifier1.fit( X_train, y_train )\n",
        "y_pred1 = classifier1.predict( X_test )\n",
        "\n",
        "cm1 = confusion_matrix( y_test, y_pred1 )\n",
        "print(\"Accuracy on Test Set for Logistic Regression (liblinear): %.2f\" % ((cm1[0,0] + cm1[1,1] )/len(X_test)))\n",
        "scoresLR1 = cross_val_score( classifier1, X_train, y_train, cv=2)\n",
        "print(\"Logistic Regression (liblinear) CrossVal Train Set Accuracy Mean: %.2f and Standard Deviation: %.2f \\n\" % (scoresLR1.mean(), scoresLR1.std() ))"
      ],
      "execution_count": null,
      "outputs": [
        {
          "output_type": "stream",
          "text": [
            "Accuracy on Test Set for Logistic Regression (liblinear): 0.80\n",
            "Logistic Regression (liblinear) CrossVal Train Set Accuracy Mean: 0.65 and Standard Deviation: 0.15 \n",
            "\n"
          ],
          "name": "stdout"
        }
      ]
    },
    {
      "cell_type": "markdown",
      "metadata": {
        "id": "s9DKTmJVhVX2"
      },
      "source": [
        "## Logistic Regression (lbfgs)"
      ]
    },
    {
      "cell_type": "code",
      "metadata": {
        "id": "GwTfsA8SXU02",
        "colab": {
          "base_uri": "https://localhost:8080/"
        },
        "outputId": "5a69e590-de84-48d2-aec0-5c26a7c46249"
      },
      "source": [
        "classifier2 = LogisticRegression(solver = 'lbfgs')\n",
        "classifier2.fit( X_train, y_train )\n",
        "y_pred2 = classifier2.predict( X_test )\n",
        "\n",
        "cm2 = confusion_matrix( y_test, y_pred2 )\n",
        "print(\"Accuracy on Test Set for Logistic Regression (lbfgs): %.2f\" % ((cm2[0,0] + cm2[1,1] )/len(X_test)))\n",
        "scoresLR2 = cross_val_score( classifier2, X_train, y_train, cv=3)\n",
        "print(\"Logistic Regression (lbfgs) CrossVal Train Set Accuracy Mean: %.2f and Standard Deviation: %.2f \\n\" % (scoresLR2.mean(), scoresLR2.std() ))"
      ],
      "execution_count": null,
      "outputs": [
        {
          "output_type": "stream",
          "text": [
            "Accuracy on Test Set for Logistic Regression (lbfgs): 0.80\n",
            "Logistic Regression (lbfgs) CrossVal Train Set Accuracy Mean: 0.56 and Standard Deviation: 0.16 \n",
            "\n"
          ],
          "name": "stdout"
        }
      ]
    },
    {
      "cell_type": "markdown",
      "metadata": {
        "id": "UxHO39jvigKF"
      },
      "source": [
        "## Decision Tree Classifier (entropy)"
      ]
    },
    {
      "cell_type": "code",
      "metadata": {
        "id": "CnLHXln_hmJO",
        "colab": {
          "base_uri": "https://localhost:8080/"
        },
        "outputId": "1ff8a4d3-d9af-412b-b99b-aca88f794725"
      },
      "source": [
        "classifier3 = DecisionTreeClassifier(criterion='entropy')\n",
        "classifier3.fit( X_train, y_train )\n",
        "y_pred3 = classifier3.predict( X_test )\n",
        "\n",
        "cm3 = confusion_matrix( y_test, y_pred3 )\n",
        "print(\"Accuracy on Test Set for Decision Tree (entropy) = %.2f\" % ((cm3[0,0] + cm3[1,1] )/len(X_test)))\n",
        "scoresDT3 = cross_val_score( classifier3, X_train, y_train, cv=2)\n",
        "print(\"Mean Decision Tree (entropy) CrossVal Train Set Accuracy Mean: %.2f and Standard Deviation: %.2f \\n\" % (scoresDT3.mean(), scoresDT3.std() ))"
      ],
      "execution_count": null,
      "outputs": [
        {
          "output_type": "stream",
          "text": [
            "Accuracy on Test Set for Decision Tree (entropy) = 0.60\n",
            "Mean Decision Tree (entropy) CrossVal Train Set Accuracy Mean: 0.55 and Standard Deviation: 0.05 \n",
            "\n"
          ],
          "name": "stdout"
        }
      ]
    },
    {
      "cell_type": "markdown",
      "metadata": {
        "id": "jD4vcZuBhY7h"
      },
      "source": [
        "## Random Forest Classifier"
      ]
    },
    {
      "cell_type": "code",
      "metadata": {
        "id": "0ujVk9cmX-ZI",
        "colab": {
          "base_uri": "https://localhost:8080/"
        },
        "outputId": "b4d936e2-f3b9-4060-e066-cd869e25b91e"
      },
      "source": [
        "classifier4 = RandomForestClassifier(n_estimators=10)\n",
        "classifier4.fit( X_train, y_train )\n",
        "y_pred4 = classifier4.predict( X_test )\n",
        "\n",
        "cm4 = confusion_matrix( y_test, y_pred4 )\n",
        "print(\"Accuracy on Test Set for RandomForest = %.2f\" % ((cm4[0,0] + cm4[1,1] )/len(X_test)))\n",
        "scoresRF4 = cross_val_score( classifier4, X_train, y_train, cv=2)\n",
        "print(\"Mean RandomForest CrossVal Train Set Accuracy Mean: %.2f and Standard Deviation: %.2f \\n\" % (scoresRF4.mean(), scoresRF4.std() ))"
      ],
      "execution_count": null,
      "outputs": [
        {
          "output_type": "stream",
          "text": [
            "Accuracy on Test Set for RandomForest = 0.60\n",
            "Mean RandomForest CrossVal Train Set Accuracy Mean: 0.55 and Standard Deviation: 0.05 \n",
            "\n"
          ],
          "name": "stdout"
        }
      ]
    },
    {
      "cell_type": "markdown",
      "metadata": {
        "id": "aW8aHKM_BYR6"
      },
      "source": [
        "## Print out all of the measures for easy comparison."
      ]
    },
    {
      "cell_type": "code",
      "metadata": {
        "id": "etKok43rBMzh",
        "colab": {
          "base_uri": "https://localhost:8080/"
        },
        "outputId": "5bce5f6a-9aec-4161-91a1-8f422c16b16b"
      },
      "source": [
        "print(\"Accuracy on Test Set for Logistic Regression (liblinear): %.2f\" % ((cm1[0,0] + cm1[1,1] )/len(X_test)))\n",
        "scoresLR1 = cross_val_score( classifier1, X_train, y_train, cv=2)\n",
        "print(\"Logistic Regression (liblinear) CrossVal Train Set Accuracy Mean: %.2f and Standard Deviation: %.2f \\n\" % (scoresLR1.mean(), scoresLR1.std() ))\n",
        "print(\"Accuracy on Test Set for Logistic Regression (lbfgs): %.2f\" % ((cm2[0,0] + cm2[1,1] )/len(X_test)))\n",
        "scoresLR2 = cross_val_score( classifier2, X_train, y_train, cv=2)\n",
        "print(\"Logistic Regression (lbfgs) CrossVal Train Set Accuracy Mean: %.2f and Standard Deviation: %.2f \\n\" % (scoresLR2.mean(), scoresLR2.std() ))\n",
        "print(\"Accuracy on Test Set for Decision Tree (entropy) = %.2f\" % ((cm3[0,0] + cm3[1,1] )/len(X_test)))\n",
        "scoresDT3 = cross_val_score( classifier3, X_train, y_train, cv=2)\n",
        "print(\"Mean Decision Tree (entropy) CrossVal Train Set Accuracy Mean: %.2f and Standard Deviation: %.2f \\n\" % (scoresDT3.mean(), scoresDT3.std() ))\n",
        "print(\"Accuracy on Test Set for RandomForest = %.2f\" % ((cm4[0,0] + cm4[1,1] )/len(X_test)))\n",
        "scoresRF4 = cross_val_score( classifier4, X_train, y_train, cv=2)\n",
        "print(\"Mean RandomForest CrossVal Train Set Accuracy Mean: %.2f and Standard Deviation: %.2f \\n\" % (scoresRF4.mean(), scoresRF4.std() ))"
      ],
      "execution_count": null,
      "outputs": [
        {
          "output_type": "stream",
          "text": [
            "Accuracy on Test Set for Logistic Regression (liblinear): 0.80\n",
            "Logistic Regression (liblinear) CrossVal Train Set Accuracy Mean: 0.65 and Standard Deviation: 0.15 \n",
            "\n",
            "Accuracy on Test Set for Logistic Regression (lbfgs): 0.80\n",
            "Logistic Regression (lbfgs) CrossVal Train Set Accuracy Mean: 0.65 and Standard Deviation: 0.15 \n",
            "\n",
            "Accuracy on Test Set for Decision Tree (entropy) = 0.60\n",
            "Mean Decision Tree (entropy) CrossVal Train Set Accuracy Mean: 0.55 and Standard Deviation: 0.05 \n",
            "\n",
            "Accuracy on Test Set for RandomForest = 0.60\n",
            "Mean RandomForest CrossVal Train Set Accuracy Mean: 0.68 and Standard Deviation: 0.08 \n",
            "\n"
          ],
          "name": "stdout"
        }
      ]
    },
    {
      "cell_type": "markdown",
      "metadata": {
        "id": "OI5nPri921UF"
      },
      "source": [
        "##Return to lecture material"
      ]
    },
    {
      "cell_type": "markdown",
      "metadata": {
        "id": "01pABlANi7Bm"
      },
      "source": [
        "# Visualization of a Decision Tree (entropy)"
      ]
    },
    {
      "cell_type": "code",
      "metadata": {
        "id": "oooo_GOofMLZ",
        "colab": {
          "base_uri": "https://localhost:8080/",
          "height": 753
        },
        "outputId": "d1b2f25e-cd4b-43f1-c969-1ef8bcbad588"
      },
      "source": [
        "#Note: The example below uses *all* of the data (14 records) in order to build a more detailed tree.\n",
        "#If we were build it using the split data, the tree wouldn't look as interesting.\n",
        "\n",
        "classifier3a = DecisionTreeClassifier(criterion='entropy')\n",
        "classifier3a.fit( X, Y )\n",
        "dot_data = StringIO()\n",
        "export_graphviz(classifier3a, out_file=dot_data, feature_names=list(X),\n",
        "                class_names=list(tennis_df.iloc[:,4].unique()),\n",
        "                filled=True, rounded=True, special_characters=True)\n",
        "graph = pydotplus.graph_from_dot_data(dot_data.getvalue())  \n",
        "Image(graph.create_png())"
      ],
      "execution_count": null,
      "outputs": [
        {
          "output_type": "execute_result",
          "data": {
            "image/png": "[encoded data removed]",
            "text/plain": [
              "<IPython.core.display.Image object>"
            ]
          },
          "metadata": {
            "tags": []
          },
          "execution_count": 11
        }
      ]
    },
    {
      "cell_type": "code",
      "metadata": {
        "id": "7MO1aV2AT4bq",
        "colab": {
          "base_uri": "https://localhost:8080/",
          "height": 483
        },
        "outputId": "c579a5ff-c15c-4f43-cd76-eacf6d7f5001"
      },
      "source": [
        "tennis_df.reindex(sorted(tennis_df.columns), axis=1).sort_values(by=['outlook'])\n"
      ],
      "execution_count": null,
      "outputs": [
        {
          "output_type": "execute_result",
          "data": {
            "text/html": [
              "<div>\n",
              "<style scoped>\n",
              "    .dataframe tbody tr th:only-of-type {\n",
              "        vertical-align: middle;\n",
              "    }\n",
              "\n",
              "    .dataframe tbody tr th {\n",
              "        vertical-align: top;\n",
              "    }\n",
              "\n",
              "    .dataframe thead th {\n",
              "        text-align: right;\n",
              "    }\n",
              "</style>\n",
              "<table border=\"1\" class=\"dataframe\">\n",
              "  <thead>\n",
              "    <tr style=\"text-align: right;\">\n",
              "      <th></th>\n",
              "      <th>humidity</th>\n",
              "      <th>humidity_</th>\n",
              "      <th>outlook</th>\n",
              "      <th>outlook_</th>\n",
              "      <th>play</th>\n",
              "      <th>play_</th>\n",
              "      <th>temp</th>\n",
              "      <th>temp_</th>\n",
              "      <th>windy</th>\n",
              "      <th>windy_</th>\n",
              "    </tr>\n",
              "  </thead>\n",
              "  <tbody>\n",
              "    <tr>\n",
              "      <th>0</th>\n",
              "      <td>high</td>\n",
              "      <td>0</td>\n",
              "      <td>overcast</td>\n",
              "      <td>0</td>\n",
              "      <td>yes</td>\n",
              "      <td>1</td>\n",
              "      <td>hot</td>\n",
              "      <td>1</td>\n",
              "      <td>False</td>\n",
              "      <td>0</td>\n",
              "    </tr>\n",
              "    <tr>\n",
              "      <th>1</th>\n",
              "      <td>normal</td>\n",
              "      <td>1</td>\n",
              "      <td>overcast</td>\n",
              "      <td>0</td>\n",
              "      <td>yes</td>\n",
              "      <td>1</td>\n",
              "      <td>cool</td>\n",
              "      <td>0</td>\n",
              "      <td>True</td>\n",
              "      <td>1</td>\n",
              "    </tr>\n",
              "    <tr>\n",
              "      <th>2</th>\n",
              "      <td>high</td>\n",
              "      <td>0</td>\n",
              "      <td>overcast</td>\n",
              "      <td>0</td>\n",
              "      <td>yes</td>\n",
              "      <td>1</td>\n",
              "      <td>mild</td>\n",
              "      <td>2</td>\n",
              "      <td>True</td>\n",
              "      <td>1</td>\n",
              "    </tr>\n",
              "    <tr>\n",
              "      <th>3</th>\n",
              "      <td>normal</td>\n",
              "      <td>1</td>\n",
              "      <td>overcast</td>\n",
              "      <td>0</td>\n",
              "      <td>yes</td>\n",
              "      <td>1</td>\n",
              "      <td>hot</td>\n",
              "      <td>1</td>\n",
              "      <td>False</td>\n",
              "      <td>0</td>\n",
              "    </tr>\n",
              "    <tr>\n",
              "      <th>4</th>\n",
              "      <td>normal</td>\n",
              "      <td>1</td>\n",
              "      <td>rainy</td>\n",
              "      <td>1</td>\n",
              "      <td>no</td>\n",
              "      <td>0</td>\n",
              "      <td>cool</td>\n",
              "      <td>0</td>\n",
              "      <td>True</td>\n",
              "      <td>1</td>\n",
              "    </tr>\n",
              "    <tr>\n",
              "      <th>5</th>\n",
              "      <td>high</td>\n",
              "      <td>0</td>\n",
              "      <td>rainy</td>\n",
              "      <td>1</td>\n",
              "      <td>no</td>\n",
              "      <td>0</td>\n",
              "      <td>mild</td>\n",
              "      <td>2</td>\n",
              "      <td>True</td>\n",
              "      <td>1</td>\n",
              "    </tr>\n",
              "    <tr>\n",
              "      <th>6</th>\n",
              "      <td>high</td>\n",
              "      <td>0</td>\n",
              "      <td>rainy</td>\n",
              "      <td>1</td>\n",
              "      <td>yes</td>\n",
              "      <td>1</td>\n",
              "      <td>mild</td>\n",
              "      <td>2</td>\n",
              "      <td>False</td>\n",
              "      <td>0</td>\n",
              "    </tr>\n",
              "    <tr>\n",
              "      <th>7</th>\n",
              "      <td>normal</td>\n",
              "      <td>1</td>\n",
              "      <td>rainy</td>\n",
              "      <td>1</td>\n",
              "      <td>yes</td>\n",
              "      <td>1</td>\n",
              "      <td>cool</td>\n",
              "      <td>0</td>\n",
              "      <td>False</td>\n",
              "      <td>0</td>\n",
              "    </tr>\n",
              "    <tr>\n",
              "      <th>8</th>\n",
              "      <td>normal</td>\n",
              "      <td>1</td>\n",
              "      <td>rainy</td>\n",
              "      <td>1</td>\n",
              "      <td>yes</td>\n",
              "      <td>1</td>\n",
              "      <td>mild</td>\n",
              "      <td>2</td>\n",
              "      <td>False</td>\n",
              "      <td>0</td>\n",
              "    </tr>\n",
              "    <tr>\n",
              "      <th>9</th>\n",
              "      <td>high</td>\n",
              "      <td>0</td>\n",
              "      <td>sunny</td>\n",
              "      <td>2</td>\n",
              "      <td>no</td>\n",
              "      <td>0</td>\n",
              "      <td>hot</td>\n",
              "      <td>1</td>\n",
              "      <td>False</td>\n",
              "      <td>0</td>\n",
              "    </tr>\n",
              "    <tr>\n",
              "      <th>10</th>\n",
              "      <td>high</td>\n",
              "      <td>0</td>\n",
              "      <td>sunny</td>\n",
              "      <td>2</td>\n",
              "      <td>no</td>\n",
              "      <td>0</td>\n",
              "      <td>hot</td>\n",
              "      <td>1</td>\n",
              "      <td>True</td>\n",
              "      <td>1</td>\n",
              "    </tr>\n",
              "    <tr>\n",
              "      <th>11</th>\n",
              "      <td>high</td>\n",
              "      <td>0</td>\n",
              "      <td>sunny</td>\n",
              "      <td>2</td>\n",
              "      <td>no</td>\n",
              "      <td>0</td>\n",
              "      <td>mild</td>\n",
              "      <td>2</td>\n",
              "      <td>False</td>\n",
              "      <td>0</td>\n",
              "    </tr>\n",
              "    <tr>\n",
              "      <th>12</th>\n",
              "      <td>normal</td>\n",
              "      <td>1</td>\n",
              "      <td>sunny</td>\n",
              "      <td>2</td>\n",
              "      <td>yes</td>\n",
              "      <td>1</td>\n",
              "      <td>cool</td>\n",
              "      <td>0</td>\n",
              "      <td>False</td>\n",
              "      <td>0</td>\n",
              "    </tr>\n",
              "    <tr>\n",
              "      <th>13</th>\n",
              "      <td>normal</td>\n",
              "      <td>1</td>\n",
              "      <td>sunny</td>\n",
              "      <td>2</td>\n",
              "      <td>yes</td>\n",
              "      <td>1</td>\n",
              "      <td>mild</td>\n",
              "      <td>2</td>\n",
              "      <td>True</td>\n",
              "      <td>1</td>\n",
              "    </tr>\n",
              "  </tbody>\n",
              "</table>\n",
              "</div>"
            ],
            "text/plain": [
              "   humidity  humidity_   outlook  outlook_  ...  temp  temp_  windy  windy_\n",
              "0      high          0  overcast         0  ...   hot      1  False       0\n",
              "1    normal          1  overcast         0  ...  cool      0   True       1\n",
              "2      high          0  overcast         0  ...  mild      2   True       1\n",
              "3    normal          1  overcast         0  ...   hot      1  False       0\n",
              "4    normal          1     rainy         1  ...  cool      0   True       1\n",
              "5      high          0     rainy         1  ...  mild      2   True       1\n",
              "6      high          0     rainy         1  ...  mild      2  False       0\n",
              "7    normal          1     rainy         1  ...  cool      0  False       0\n",
              "8    normal          1     rainy         1  ...  mild      2  False       0\n",
              "9      high          0     sunny         2  ...   hot      1  False       0\n",
              "10     high          0     sunny         2  ...   hot      1   True       1\n",
              "11     high          0     sunny         2  ...  mild      2  False       0\n",
              "12   normal          1     sunny         2  ...  cool      0  False       0\n",
              "13   normal          1     sunny         2  ...  mild      2   True       1\n",
              "\n",
              "[14 rows x 10 columns]"
            ]
          },
          "metadata": {
            "tags": []
          },
          "execution_count": 12
        }
      ]
    },
    {
      "cell_type": "markdown",
      "metadata": {
        "id": "ViaQE-lIPD2x"
      },
      "source": [
        "# Motivating Example: KNN Model for Diabetes Prediction"
      ]
    },
    {
      "cell_type": "markdown",
      "metadata": {
        "id": "E-52P-2FPGtr"
      },
      "source": [
        "## This dataset describes the medical records for Pima Indians and whether or not each patient will have an onset of diabetes within five years.\n",
        "\n",
        "**Fields description follow:**\n",
        "\n",
        "* Pregnancies = Number of times pregnant\n",
        "* Glucose = Plasma glucose concentration a 2 hours in an oral glucose tolerance test\n",
        "* BloodPressure = Diastolic blood pressure (mm Hg)\n",
        "* SkinThickness = Triceps skin fold thickness (mm)\n",
        "* Insulin = 2-Hour serum insulin (mu U/ml)\n",
        "* BMI = Body mass index (weight in kg/(height in m)^2)\n",
        "* DiabetesPedigreeFunction = Diabetes pedigree function\n",
        "* Age = Age (years)\n",
        "* Outcome = Class variable (1:tested positive for diabetes, 0: tested negative for diabetes)"
      ]
    },
    {
      "cell_type": "code",
      "metadata": {
        "id": "FnmdlZNIPm9V"
      },
      "source": [
        "# Load Dataset\n",
        "data_path = \"https://docs.google.com/spreadsheets/d/e/2PACX-1vTUuIaQ9l1B1ZxMZ-ucOUOzqX_uLcd7qA_HxHtB9MejT-G1SxcxTjE7k_rVpFFKl4me8wbppZRgJXUi/pub?gid=1117785238&single=true&output=csv\"\n",
        "diabetes_df = pd.read_csv(data_path)"
      ],
      "execution_count": null,
      "outputs": []
    },
    {
      "cell_type": "code",
      "metadata": {
        "id": "dk8wG2gDPu8z",
        "colab": {
          "base_uri": "https://localhost:8080/",
          "height": 142
        },
        "outputId": "8b5847f0-7f28-4c39-cf96-2945f10f4ce2"
      },
      "source": [
        "diabetes_df.iloc[:].head(3)"
      ],
      "execution_count": null,
      "outputs": [
        {
          "output_type": "execute_result",
          "data": {
            "text/html": [
              "<div>\n",
              "<style scoped>\n",
              "    .dataframe tbody tr th:only-of-type {\n",
              "        vertical-align: middle;\n",
              "    }\n",
              "\n",
              "    .dataframe tbody tr th {\n",
              "        vertical-align: top;\n",
              "    }\n",
              "\n",
              "    .dataframe thead th {\n",
              "        text-align: right;\n",
              "    }\n",
              "</style>\n",
              "<table border=\"1\" class=\"dataframe\">\n",
              "  <thead>\n",
              "    <tr style=\"text-align: right;\">\n",
              "      <th></th>\n",
              "      <th>Pregnancies</th>\n",
              "      <th>Glucose</th>\n",
              "      <th>BloodPressure</th>\n",
              "      <th>SkinThickness</th>\n",
              "      <th>Insulin</th>\n",
              "      <th>BMI</th>\n",
              "      <th>DiabetesPedigreeFunction</th>\n",
              "      <th>Age</th>\n",
              "      <th>Outcome</th>\n",
              "    </tr>\n",
              "  </thead>\n",
              "  <tbody>\n",
              "    <tr>\n",
              "      <th>0</th>\n",
              "      <td>1</td>\n",
              "      <td>85</td>\n",
              "      <td>66</td>\n",
              "      <td>29</td>\n",
              "      <td>0</td>\n",
              "      <td>26.60</td>\n",
              "      <td>0.35</td>\n",
              "      <td>31</td>\n",
              "      <td>0</td>\n",
              "    </tr>\n",
              "    <tr>\n",
              "      <th>1</th>\n",
              "      <td>8</td>\n",
              "      <td>183</td>\n",
              "      <td>64</td>\n",
              "      <td>0</td>\n",
              "      <td>0</td>\n",
              "      <td>23.30</td>\n",
              "      <td>0.67</td>\n",
              "      <td>32</td>\n",
              "      <td>1</td>\n",
              "    </tr>\n",
              "    <tr>\n",
              "      <th>2</th>\n",
              "      <td>1</td>\n",
              "      <td>89</td>\n",
              "      <td>66</td>\n",
              "      <td>23</td>\n",
              "      <td>94</td>\n",
              "      <td>28.10</td>\n",
              "      <td>0.17</td>\n",
              "      <td>21</td>\n",
              "      <td>0</td>\n",
              "    </tr>\n",
              "  </tbody>\n",
              "</table>\n",
              "</div>"
            ],
            "text/plain": [
              "   Pregnancies  Glucose  BloodPressure  ...  DiabetesPedigreeFunction  Age  Outcome\n",
              "0            1       85             66  ...                      0.35   31        0\n",
              "1            8      183             64  ...                      0.67   32        1\n",
              "2            1       89             66  ...                      0.17   21        0\n",
              "\n",
              "[3 rows x 9 columns]"
            ]
          },
          "metadata": {
            "tags": []
          },
          "execution_count": 14
        }
      ]
    },
    {
      "cell_type": "code",
      "metadata": {
        "id": "8iHNXZwpP1ON"
      },
      "source": [
        "X = diabetes_df.drop('Outcome',axis=1).values\n",
        "y = diabetes_df['Outcome'].values\n",
        "X_train,X_test,y_train,y_test = train_test_split(X,y,test_size=0.3,random_state=6, stratify=y)"
      ],
      "execution_count": null,
      "outputs": []
    },
    {
      "cell_type": "code",
      "metadata": {
        "id": "15f9NfyZS43S"
      },
      "source": [
        "#Setup arrays to store training and test accuracies\n",
        "neighbors = np.arange(1,30)\n",
        "train_accuracy =np.empty(len(neighbors))\n",
        "test_accuracy = np.empty(len(neighbors))\n",
        "\n",
        "for i,k in enumerate(neighbors):\n",
        "    #Setup a knn classifier with k neighbors\n",
        "    knn = KNeighborsClassifier(n_neighbors=k)\n",
        "    \n",
        "    #Fit the model\n",
        "    knn.fit(X_train, y_train)\n",
        "    \n",
        "    #Compute accuracy on the training set\n",
        "    train_accuracy[i] = knn.score(X_train, y_train)\n",
        "    \n",
        "    #Compute accuracy on the test set\n",
        "    test_accuracy[i] = knn.score(X_test, y_test) "
      ],
      "execution_count": null,
      "outputs": []
    },
    {
      "cell_type": "code",
      "metadata": {
        "id": "LGnOrj3-S9de",
        "colab": {
          "base_uri": "https://localhost:8080/",
          "height": 291
        },
        "outputId": "85ac001c-ba56-45d0-cf0b-80486d138305"
      },
      "source": [
        "#Generate plot\n",
        "#https://www.researchgate.net/publication/313554124_Review_on_Determining_of_Cluster_in_K-means_Clustering\n",
        "plt.title('KNN Varying number of neighbors')\n",
        "plt.plot(neighbors, test_accuracy, label='Testing Accuracy')\n",
        "plt.plot(neighbors, train_accuracy, label='Training Accuracy')\n",
        "plt.legend()\n",
        "plt.xlabel('Number of neighbors')\n",
        "plt.ylabel('Accuracy')\n",
        "plt.show()"
      ],
      "execution_count": null,
      "outputs": [
        {
          "output_type": "display_data",
          "data": {
            "image/png": "[encoded data removed]",
            "text/plain": [
              "<Figure size 432x288 with 1 Axes>"
            ]
          },
          "metadata": {
            "tags": [],
            "needs_background": "light"
          }
        }
      ]
    },
    {
      "cell_type": "code",
      "metadata": {
        "id": "BX_3SxF5TKb-"
      },
      "source": [
        "#Based on the above\n",
        "knn = KNeighborsClassifier(n_neighbors=7)"
      ],
      "execution_count": null,
      "outputs": []
    },
    {
      "cell_type": "code",
      "metadata": {
        "id": "ytdcO-ITTfAS",
        "colab": {
          "base_uri": "https://localhost:8080/"
        },
        "outputId": "2e826629-0a29-446d-d710-80b9276704d5"
      },
      "source": [
        "knn.fit(X_train,y_train)"
      ],
      "execution_count": null,
      "outputs": [
        {
          "output_type": "execute_result",
          "data": {
            "text/plain": [
              "KNeighborsClassifier(algorithm='auto', leaf_size=30, metric='minkowski',\n",
              "                     metric_params=None, n_jobs=None, n_neighbors=7, p=2,\n",
              "                     weights='uniform')"
            ]
          },
          "metadata": {
            "tags": []
          },
          "execution_count": 19
        }
      ]
    },
    {
      "cell_type": "code",
      "metadata": {
        "id": "QVL-RJprTgJe",
        "colab": {
          "base_uri": "https://localhost:8080/"
        },
        "outputId": "0fbdfddf-4d5a-401a-ceb7-708e2983c5cc"
      },
      "source": [
        "knn.score(X_test,y_test)"
      ],
      "execution_count": null,
      "outputs": [
        {
          "output_type": "execute_result",
          "data": {
            "text/plain": [
              "0.7359307359307359"
            ]
          },
          "metadata": {
            "tags": []
          },
          "execution_count": 20
        }
      ]
    },
    {
      "cell_type": "code",
      "metadata": {
        "id": "S5gM2ihfTiGO"
      },
      "source": [
        "y_pred = knn.predict(X_test)"
      ],
      "execution_count": null,
      "outputs": []
    },
    {
      "cell_type": "code",
      "metadata": {
        "id": "WDoVcTx5Tj4e",
        "colab": {
          "base_uri": "https://localhost:8080/"
        },
        "outputId": "1bae269e-2fd3-4716-fc73-ea68aae136e5"
      },
      "source": [
        "confusion_matrix(y_test,y_pred)\n",
        "#True Negatives: 134 and True Positives: 36"
      ],
      "execution_count": null,
      "outputs": [
        {
          "output_type": "execute_result",
          "data": {
            "text/plain": [
              "array([[134,  17],\n",
              "       [ 44,  36]])"
            ]
          },
          "metadata": {
            "tags": []
          },
          "execution_count": 22
        }
      ]
    },
    {
      "cell_type": "code",
      "metadata": {
        "id": "APaPqNkxTk5-",
        "colab": {
          "base_uri": "https://localhost:8080/",
          "height": 173
        },
        "outputId": "7fe3f299-d495-4bf6-c214-c847706b01bf"
      },
      "source": [
        "pd.crosstab(y_test, y_pred, rownames=['True'], colnames=['Predicted'], margins=True)"
      ],
      "execution_count": null,
      "outputs": [
        {
          "output_type": "execute_result",
          "data": {
            "text/html": [
              "<div>\n",
              "<style scoped>\n",
              "    .dataframe tbody tr th:only-of-type {\n",
              "        vertical-align: middle;\n",
              "    }\n",
              "\n",
              "    .dataframe tbody tr th {\n",
              "        vertical-align: top;\n",
              "    }\n",
              "\n",
              "    .dataframe thead th {\n",
              "        text-align: right;\n",
              "    }\n",
              "</style>\n",
              "<table border=\"1\" class=\"dataframe\">\n",
              "  <thead>\n",
              "    <tr style=\"text-align: right;\">\n",
              "      <th>Predicted</th>\n",
              "      <th>0</th>\n",
              "      <th>1</th>\n",
              "      <th>All</th>\n",
              "    </tr>\n",
              "    <tr>\n",
              "      <th>True</th>\n",
              "      <th></th>\n",
              "      <th></th>\n",
              "      <th></th>\n",
              "    </tr>\n",
              "  </thead>\n",
              "  <tbody>\n",
              "    <tr>\n",
              "      <th>0</th>\n",
              "      <td>134</td>\n",
              "      <td>17</td>\n",
              "      <td>151</td>\n",
              "    </tr>\n",
              "    <tr>\n",
              "      <th>1</th>\n",
              "      <td>44</td>\n",
              "      <td>36</td>\n",
              "      <td>80</td>\n",
              "    </tr>\n",
              "    <tr>\n",
              "      <th>All</th>\n",
              "      <td>178</td>\n",
              "      <td>53</td>\n",
              "      <td>231</td>\n",
              "    </tr>\n",
              "  </tbody>\n",
              "</table>\n",
              "</div>"
            ],
            "text/plain": [
              "Predicted    0   1  All\n",
              "True                   \n",
              "0          134  17  151\n",
              "1           44  36   80\n",
              "All        178  53  231"
            ]
          },
          "metadata": {
            "tags": []
          },
          "execution_count": 23
        }
      ]
    },
    {
      "cell_type": "code",
      "metadata": {
        "id": "E1KQvlDJTm9u",
        "colab": {
          "base_uri": "https://localhost:8080/"
        },
        "outputId": "9d97ced8-df4e-4ac5-f1d4-3cb552077927"
      },
      "source": [
        "print(classification_report(y_test,y_pred))"
      ],
      "execution_count": null,
      "outputs": [
        {
          "output_type": "stream",
          "text": [
            "              precision    recall  f1-score   support\n",
            "\n",
            "           0       0.75      0.89      0.81       151\n",
            "           1       0.68      0.45      0.54        80\n",
            "\n",
            "    accuracy                           0.74       231\n",
            "   macro avg       0.72      0.67      0.68       231\n",
            "weighted avg       0.73      0.74      0.72       231\n",
            "\n"
          ],
          "name": "stdout"
        }
      ]
    },
    {
      "cell_type": "code",
      "metadata": {
        "id": "qtggfd0VUCtu"
      },
      "source": [
        "y_pred_proba = knn.predict_proba(X_test)[:,1]"
      ],
      "execution_count": null,
      "outputs": []
    },
    {
      "cell_type": "code",
      "metadata": {
        "id": "BV5I_ff4UGle"
      },
      "source": [
        "fpr, tpr, thresholds = roc_curve(y_test, y_pred_proba)"
      ],
      "execution_count": null,
      "outputs": []
    },
    {
      "cell_type": "code",
      "metadata": {
        "id": "OBHgsuLiULf-",
        "colab": {
          "base_uri": "https://localhost:8080/",
          "height": 291
        },
        "outputId": "bb15fd0b-bdc6-4e8e-f6cc-22889761eb84"
      },
      "source": [
        "plt.plot([0,1],[0,1],'k--')\n",
        "plt.plot(fpr,tpr, label='Knn')\n",
        "plt.xlabel('fpr')\n",
        "plt.ylabel('tpr')\n",
        "plt.title('Knn(n_neighbors=7) ROC curve')\n",
        "plt.show()"
      ],
      "execution_count": null,
      "outputs": [
        {
          "output_type": "display_data",
          "data": {
            "image/png": "[encoded data removed]",
            "text/plain": [
              "<Figure size 432x288 with 1 Axes>"
            ]
          },
          "metadata": {
            "tags": [],
            "needs_background": "light"
          }
        }
      ]
    },
    {
      "cell_type": "markdown",
      "metadata": {
        "id": "ekH9dOC7ofFl"
      },
      "source": [
        "**A Receiver Operating Characteristic (ROC) is a graph showing the performance of a classification model at all classification thresholds.  It is plotted along the False Positive and True Positive Rates.**\n",
        "\n",
        "AUC stands for “Area under the ROC Curve.”  That is, AUC measures the entire two-dimensional area underneath the entire ROC curve (think integral calculus) from (0,0) to (1,1).  The ROC Curve/AUC Score is most useful when we are evaluating a model to itself.  Ground truths and predictions are 1’s and 0’s. However, our forecast is never a 1 or a 0. Instead, we predict a probability and then assessed it whether or not it’s 1 or a 0. Typically, the classification threshold is .5 (in the middle). But we could have better-performing classification threshold. **"
      ]
    },
    {
      "cell_type": "code",
      "metadata": {
        "id": "hcoknGSvUqne",
        "colab": {
          "base_uri": "https://localhost:8080/"
        },
        "outputId": "4dad4352-7e84-4723-e2f0-a24f94d9b8a8"
      },
      "source": [
        "roc_auc_score(y_test,y_pred_proba)"
      ],
      "execution_count": null,
      "outputs": [
        {
          "output_type": "execute_result",
          "data": {
            "text/plain": [
              "0.8138658940397352"
            ]
          },
          "metadata": {
            "tags": []
          },
          "execution_count": 28
        }
      ]
    },
    {
      "cell_type": "markdown",
      "metadata": {
        "id": "huwd6l_WYpRk"
      },
      "source": [
        "##Execute grid search to and perform a semi-exhaustive search for better parameters"
      ]
    },
    {
      "cell_type": "code",
      "metadata": {
        "id": "Mp630GB4Uuau"
      },
      "source": [
        "#In case of classifier like knn the parameter to be tuned is n_neighbors\n",
        "param_grid = {'n_neighbors':np.arange(1,50)}"
      ],
      "execution_count": null,
      "outputs": []
    },
    {
      "cell_type": "code",
      "metadata": {
        "id": "J6IcUV0aU81-",
        "colab": {
          "base_uri": "https://localhost:8080/"
        },
        "outputId": "4535f990-8425-4594-aefc-b5a11f331f0e"
      },
      "source": [
        "knn2 = KNeighborsClassifier()\n",
        "knn_cv= GridSearchCV(knn2,param_grid,cv=5)\n",
        "knn_cv.fit(X,y)"
      ],
      "execution_count": null,
      "outputs": [
        {
          "output_type": "execute_result",
          "data": {
            "text/plain": [
              "GridSearchCV(cv=5, error_score=nan,\n",
              "             estimator=KNeighborsClassifier(algorithm='auto', leaf_size=30,\n",
              "                                            metric='minkowski',\n",
              "                                            metric_params=None, n_jobs=None,\n",
              "                                            n_neighbors=5, p=2,\n",
              "                                            weights='uniform'),\n",
              "             iid='deprecated', n_jobs=None,\n",
              "             param_grid={'n_neighbors': array([ 1,  2,  3,  4,  5,  6,  7,  8,  9, 10, 11, 12, 13, 14, 15, 16, 17,\n",
              "       18, 19, 20, 21, 22, 23, 24, 25, 26, 27, 28, 29, 30, 31, 32, 33, 34,\n",
              "       35, 36, 37, 38, 39, 40, 41, 42, 43, 44, 45, 46, 47, 48, 49])},\n",
              "             pre_dispatch='2*n_jobs', refit=True, return_train_score=False,\n",
              "             scoring=None, verbose=0)"
            ]
          },
          "metadata": {
            "tags": []
          },
          "execution_count": 30
        }
      ]
    },
    {
      "cell_type": "markdown",
      "metadata": {
        "id": "xMR5abn_VTKI"
      },
      "source": [
        "## Compare the value above to the value earlier"
      ]
    },
    {
      "cell_type": "code",
      "metadata": {
        "id": "y_32QcV5VLRe",
        "colab": {
          "base_uri": "https://localhost:8080/"
        },
        "outputId": "4cd037f7-8a96-4d48-f543-54458d2cc019"
      },
      "source": [
        "#Grid Search:\n",
        "print(knn_cv.best_score_)\n",
        "print(knn_cv.best_params_)"
      ],
      "execution_count": null,
      "outputs": [
        {
          "output_type": "stream",
          "text": [
            "0.7588489941431117\n",
            "{'n_neighbors': 14}\n"
          ],
          "name": "stdout"
        }
      ]
    },
    {
      "cell_type": "code",
      "metadata": {
        "id": "pzxdPAC3VNIO",
        "colab": {
          "base_uri": "https://localhost:8080/"
        },
        "outputId": "3e0ce7c1-8a59-4902-8637-941b6b3fc10f"
      },
      "source": [
        "#Manual / Visual Analysis:\n",
        "print(knn.score(X_test,y_test))\n",
        "print(knn.n_neighbors)"
      ],
      "execution_count": null,
      "outputs": [
        {
          "output_type": "stream",
          "text": [
            "0.7359307359307359\n",
            "7\n"
          ],
          "name": "stdout"
        }
      ]
    },
    {
      "cell_type": "code",
      "metadata": {
        "id": "dLROyIJ6V-6e",
        "colab": {
          "base_uri": "https://localhost:8080/"
        },
        "outputId": "d1caa28e-9ae3-455e-c95c-cd61ba62c3b0"
      },
      "source": [
        "roc_auc_score(y_test,y_pred_proba)"
      ],
      "execution_count": null,
      "outputs": [
        {
          "output_type": "execute_result",
          "data": {
            "text/plain": [
              "0.8138658940397352"
            ]
          },
          "metadata": {
            "tags": []
          },
          "execution_count": 33
        }
      ]
    },
    {
      "cell_type": "markdown",
      "metadata": {
        "id": "jIr48XkUZ9UN"
      },
      "source": [
        "# Re-run with optimal settings"
      ]
    },
    {
      "cell_type": "code",
      "metadata": {
        "id": "YsipmCBiYVjk",
        "colab": {
          "base_uri": "https://localhost:8080/",
          "height": 461
        },
        "outputId": "09d9b255-cd1e-4902-a842-d704815cec6a"
      },
      "source": [
        "knn3 = KNeighborsClassifier(n_neighbors=14)\n",
        "knn3.fit(X_train,y_train)\n",
        "knn3.score(X_test,y_test)\n",
        "y_pred2 = knn3.predict(X_test)\n",
        "confusion_matrix(y_test,y_pred2)\n",
        "pd.crosstab(y_test, y_pred2, rownames=['True'], colnames=['Predicted'], margins=True)\n",
        "print(classification_report(y_test,y_pred2))\n",
        "y_pred_proba2 = knn3.predict_proba(X_test)[:,1]\n",
        "fpr, tpr, thresholds = roc_curve(y_test, y_pred_proba2)\n",
        "plt.plot([0,1],[0,1],'k--')\n",
        "plt.plot(fpr,tpr, label='Knn')\n",
        "plt.xlabel('fpr')\n",
        "plt.ylabel('tpr')\n",
        "plt.title('Knn(n_neighbors=14) ROC curve')\n",
        "plt.show()\n",
        "roc_auc_score(y_test,y_pred_proba2)"
      ],
      "execution_count": null,
      "outputs": [
        {
          "output_type": "stream",
          "text": [
            "              precision    recall  f1-score   support\n",
            "\n",
            "           0       0.76      0.95      0.84       151\n",
            "           1       0.81      0.44      0.57        80\n",
            "\n",
            "    accuracy                           0.77       231\n",
            "   macro avg       0.79      0.69      0.71       231\n",
            "weighted avg       0.78      0.77      0.75       231\n",
            "\n"
          ],
          "name": "stdout"
        },
        {
          "output_type": "display_data",
          "data": {
            "image/png": "[encoded data removed]",
            "text/plain": [
              "<Figure size 432x288 with 1 Axes>"
            ]
          },
          "metadata": {
            "tags": [],
            "needs_background": "light"
          }
        },
        {
          "output_type": "execute_result",
          "data": {
            "text/plain": [
              "0.8243377483443708"
            ]
          },
          "metadata": {
            "tags": []
          },
          "execution_count": 34
        }
      ]
    },
    {
      "cell_type": "code",
      "metadata": {
        "id": "Y5N-o0BFlhvs"
      },
      "source": [
        ""
      ],
      "execution_count": null,
      "outputs": []
    }
  ]
}