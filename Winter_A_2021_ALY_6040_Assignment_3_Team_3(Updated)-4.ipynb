{
  "nbformat": 4,
  "nbformat_minor": 0,
  "metadata": {
    "colab": {
      "name": "Winter_A_2021_ALY_6040_Assignment_3_Team_3(Updated).ipynb",
      "provenance": [],
      "collapsed_sections": []
    },
    "kernelspec": {
      "display_name": "Python 3",
      "language": "python",
      "name": "python3"
    },
    "language_info": {
      "codemirror_mode": {
        "name": "ipython",
        "version": 3
      },
      "file_extension": ".py",
      "mimetype": "text/x-python",
      "name": "python",
      "nbconvert_exporter": "python",
      "pygments_lexer": "ipython3",
      "version": "3.7.4"
    }
  },
  "cells": [
    {
      "cell_type": "code",
      "metadata": {
        "colab": {
          "base_uri": "https://localhost:8080/"
        },
        "id": "c76uySR3wyIe",
        "outputId": "f7125432-074e-47e1-d280-19cbaa86a4cb"
      },
      "source": [
        "!pip install htmltext\n",
        "!pip install prettify\n",
        "!pip install selenium\n",
        "!apt-get update # to update ubuntu to correctly run apt install\n",
        "!apt install chromium-chromedriver\n",
        "!sudo apt install libmysqlclient-dev\n",
        "!pip install mysql\n",
        "!pip install mysql-connector-python-rf\n",
        "\n",
        "\n",
        "#!cp /usr/lib/chromium-browser/chromedriver /usr/bin\n",
        "import sys\n",
        "sys.path.insert(0,'/usr/lib/chromium-browser/chromedriver')\n",
        "from selenium import webdriver\n",
        "from selenium.webdriver.common.keys import Keys\n",
        "from selenium.webdriver.common.by import By\n",
        "\n",
        "from datetime import datetime, date\n",
        "import htmltext\n",
        "import lxml\n",
        "from lxml.html.soupparser import fromstring\n",
        "import math\n",
        "import mysql.connector\n",
        "import numbers\n",
        "import os\n",
        "import prettify\n",
        "from pytz import timezone\n",
        "import pytz\n",
        "from random import randint\n",
        "import regex as re\n",
        "import subprocess\n",
        "import sys\n",
        "import time\n",
        "\n",
        "import requests\n",
        "from bs4 import BeautifulSoup\n",
        "import pandas as pd\n",
        "import seaborn as sns\n",
        "import matplotlib.pyplot as plt\n",
        "from sklearn.linear_model import LinearRegression\n",
        "from sklearn.model_selection import train_test_split as holdout\n",
        "from sklearn.preprocessing import PolynomialFeatures\n",
        "from sklearn import metrics\n",
        "import numpy as np\n",
        "from sklearn.neighbors import KNeighborsClassifier \n",
        "from sklearn.datasets import load_iris \n",
        "import tensorflow as tf\n",
        "from tensorflow import keras\n",
        "from tensorflow.keras import layers\n",
        "from tensorflow.keras.layers.experimental import preprocessing\n",
        "\n",
        "from keras.models import Sequential\n",
        "from keras.layers import Dense\n",
        "from sklearn.metrics import r2_score\n",
        "import matplotlib.pyplot as plt\n",
        "import numpy\n",
        "from sklearn.model_selection import train_test_split\n",
        "print(tf.__version__)\n"
      ],
      "execution_count": 155,
      "outputs": [
        {
          "output_type": "stream",
          "text": [
            "Requirement already satisfied: htmltext in /usr/local/lib/python3.6/dist-packages (0.0.7)\n",
            "Requirement already satisfied: beautifulsoup4 in /usr/local/lib/python3.6/dist-packages (from htmltext) (4.6.3)\n",
            "Requirement already satisfied: lxml in /usr/local/lib/python3.6/dist-packages (from htmltext) (4.2.6)\n",
            "Requirement already satisfied: prettify in /usr/local/lib/python3.6/dist-packages (0.1.1)\n",
            "Requirement already satisfied: selenium in /usr/local/lib/python3.6/dist-packages (3.141.0)\n",
            "Requirement already satisfied: urllib3 in /usr/local/lib/python3.6/dist-packages (from selenium) (1.24.3)\n",
            "Hit:1 http://ppa.launchpad.net/c2d4u.team/c2d4u4.0+/ubuntu bionic InRelease\n",
            "Hit:2 http://archive.ubuntu.com/ubuntu bionic InRelease\n",
            "Hit:3 http://archive.ubuntu.com/ubuntu bionic-updates InRelease\n",
            "Hit:4 http://security.ubuntu.com/ubuntu bionic-security InRelease\n",
            "Hit:5 https://cloud.r-project.org/bin/linux/ubuntu bionic-cran40/ InRelease\n",
            "Hit:6 http://ppa.launchpad.net/cran/libgit2/ubuntu bionic InRelease\n",
            "Hit:7 http://archive.ubuntu.com/ubuntu bionic-backports InRelease\n",
            "Hit:8 http://ppa.launchpad.net/graphics-drivers/ppa/ubuntu bionic InRelease\n",
            "Ign:9 https://developer.download.nvidia.com/compute/cuda/repos/ubuntu1804/x86_64  InRelease\n",
            "Ign:10 https://developer.download.nvidia.com/compute/machine-learning/repos/ubuntu1804/x86_64  InRelease\n",
            "Hit:11 https://developer.download.nvidia.com/compute/cuda/repos/ubuntu1804/x86_64  Release\n",
            "Hit:12 https://developer.download.nvidia.com/compute/machine-learning/repos/ubuntu1804/x86_64  Release\n",
            "Reading package lists... Done\n",
            "Reading package lists... Done\n",
            "Building dependency tree       \n",
            "Reading state information... Done\n",
            "chromium-chromedriver is already the newest version (87.0.4280.66-0ubuntu0.18.04.1).\n",
            "0 upgraded, 0 newly installed, 0 to remove and 31 not upgraded.\n",
            "Reading package lists... Done\n",
            "Building dependency tree       \n",
            "Reading state information... Done\n",
            "libmysqlclient-dev is already the newest version (5.7.33-0ubuntu0.18.04.1).\n",
            "0 upgraded, 0 newly installed, 0 to remove and 31 not upgraded.\n",
            "Requirement already satisfied: mysql in /usr/local/lib/python3.6/dist-packages (0.0.2)\n",
            "Requirement already satisfied: mysqlclient in /usr/local/lib/python3.6/dist-packages (from mysql) (2.0.3)\n",
            "Requirement already satisfied: mysql-connector-python-rf in /usr/local/lib/python3.6/dist-packages (2.2.2)\n",
            "2.4.1\n"
          ],
          "name": "stdout"
        }
      ]
    },
    {
      "cell_type": "code",
      "metadata": {
        "id": "j0dWOxuJj8P_"
      },
      "source": [
        "np.set_printoptions(precision=3, suppress=True)"
      ],
      "execution_count": 156,
      "outputs": []
    },
    {
      "cell_type": "code",
      "metadata": {
        "id": "wGtlxZq1pFRC"
      },
      "source": [
        "header = {\n",
        "    \"User-Agent\": \"Mozilla/5.0 (Macintosh; Intel Mac OS X 10_15_7) AppleWebKit/537.36 (KHTML, like Gecko) Chrome/87.0.4280.88 Safari/537.36\",\n",
        "    \"Accept-Language\": \"en-US,en;q=0.9\"\n",
        "}"
      ],
      "execution_count": 157,
      "outputs": []
    },
    {
      "cell_type": "code",
      "metadata": {
        "id": "Nw3-sU-MpFRE"
      },
      "source": [
        "urls = []\n",
        "links = []\n",
        "x = 'https://www.zillow.com/homes/{}_rb/'\n",
        "zip_code = ['10022', '10007', '10469', '11693', '11203']\n",
        "#'95035','95036','95032','95030','95038','95051'"
      ],
      "execution_count": 158,
      "outputs": []
    },
    {
      "cell_type": "code",
      "metadata": {
        "id": "CAvYPRNspFRE"
      },
      "source": [
        "# create links with different zip codes and add into url list\n",
        "for i in zip_code:\n",
        "    new_link = x.format(i)\n",
        "    urls.append(new_link)"
      ],
      "execution_count": 159,
      "outputs": []
    },
    {
      "cell_type": "code",
      "metadata": {
        "colab": {
          "base_uri": "https://localhost:8080/"
        },
        "id": "tqBnE4eKpFRF",
        "outputId": "8f38c451-b958-485d-86db-300f068f566e"
      },
      "source": [
        "print(len(urls))\n",
        "print(urls)"
      ],
      "execution_count": 160,
      "outputs": [
        {
          "output_type": "stream",
          "text": [
            "5\n",
            "['https://www.zillow.com/homes/10022_rb/', 'https://www.zillow.com/homes/10007_rb/', 'https://www.zillow.com/homes/10469_rb/', 'https://www.zillow.com/homes/11693_rb/', 'https://www.zillow.com/homes/11203_rb/']\n"
          ],
          "name": "stdout"
        }
      ]
    },
    {
      "cell_type": "code",
      "metadata": {
        "id": "8A0RQEEipFRK"
      },
      "source": [
        "\n",
        "price = []\n",
        "bed=[]\n",
        "bath=[]\n",
        "sqft=[]\n",
        "house_info=[]\n",
        "address = []\n",
        "real_estate = []\n",
        "last_updated = []\n",
        "links = []\n",
        "img=[]\n",
        "\n",
        "for url in urls:\n",
        "    response = requests.get(url, headers=header)\n",
        "    data = response.text\n",
        "    soup = BeautifulSoup(data, 'html.parser')\n",
        "\n",
        "    amount = list(soup.find_all('div', class_='list-card-price'))\n",
        "\n",
        "    for i in amount:\n",
        "        price.append(i.text)\n",
        "\n",
        "    for house in soup.find_all('ul', class_='list-card-details'):\n",
        "        house_info.append([i.text for i in house.find_all('li', class_='')])\n",
        "\n",
        "    x = list(soup.find_all('address', class_='list-card-addr'))\n",
        "    for i in x:\n",
        "        address.append(i.text)\n",
        "    \n",
        "    \n",
        "    #detail = soup.find_all('div', {'class': 'list-card-details'}) #This doesn't seem to work, but looks useful\n",
        "    #for i in detail:\n",
        "    #    details.append(detail)\n",
        "        \n",
        "    types = list(soup.find_all('div', {'class': 'list-card-footer'}))\n",
        "    for i in types:\n",
        "        real_estate.append(i.text)\n",
        "        \n",
        "    updated = list(soup.find_all('div', {'class': 'list-card-top'}))\n",
        "    for i in updated:\n",
        "        last_updated.append(i.text)\n",
        "        \n",
        "    link = list(soup.find_all('a',class_= 'list-card-link list-card-link-top-margin'))\n",
        "    for i in link:\n",
        "        links.append(i.get('href'))\n",
        "\n",
        "    im = list(soup.find_all('div', class_=\"list-card-top\"))\n",
        "    for i in im:\n",
        "        img.append(i.find('img', class_=\"\").get('src'))\n"
      ],
      "execution_count": 161,
      "outputs": []
    },
    {
      "cell_type": "code",
      "metadata": {
        "colab": {
          "base_uri": "https://localhost:8080/"
        },
        "id": "bwf_2V7JpFRJ",
        "outputId": "162f8ede-a0d5-42fc-f8af-3403e45f6996"
      },
      "source": [
        "print(len(price))\n",
        "print(len(house_info))\n",
        "print(len(address))\n",
        "print(len(real_estate))\n",
        "print(len(last_updated))\n",
        "print(len(links))\n",
        "print(len(img))"
      ],
      "execution_count": 162,
      "outputs": [
        {
          "output_type": "stream",
          "text": [
            "182\n",
            "182\n",
            "182\n",
            "182\n",
            "182\n",
            "182\n",
            "182\n"
          ],
          "name": "stdout"
        }
      ]
    },
    {
      "cell_type": "code",
      "metadata": {
        "id": "bA-EUlLD4b11"
      },
      "source": [
        "#Est_payment = []\n",
        "#for url in links:\n",
        "  #response = requests.get(url, headers = header)\n",
        "  #data = response.text\n",
        "  #soup = BeautifulSoup(data, 'html.parser')\n",
        "  #x = soup.find('h5', {'class':'Text-c11n-8-18-0__aiai24-0 StyledHeading-c11n-8-18-0__ktujwe-0 LJxVR sc-oTmZL eWsAfv'})\n",
        "  #for i in x:\n",
        "    #Est_payment.append(i)"
      ],
      "execution_count": 125,
      "outputs": []
    },
    {
      "cell_type": "code",
      "metadata": {
        "id": "sg9Js9d0C46I"
      },
      "source": [
        "#print(len(Est_payment))\n",
        "#print(Est_payment[1])"
      ],
      "execution_count": 126,
      "outputs": []
    },
    {
      "cell_type": "code",
      "metadata": {
        "colab": {
          "base_uri": "https://localhost:8080/"
        },
        "id": "bMWyHA-pZLXu",
        "outputId": "ca7aa1b4-3e6f-41cb-d1f7-ec7fd3b5d5c6"
      },
      "source": [
        "house=[]\n",
        "for item in house_info:\n",
        "  house.append(''.join(item[:]))\n",
        "print(house)"
      ],
      "execution_count": 163,
      "outputs": [
        {
          "output_type": "stream",
          "text": [
            "['2 bds,1 ba,900 sqft', '1 bd,1 ba,-- sqft', '1 bd,1 ba,-- sqft', '1 bd,1 ba,800 sqft', '1 bd,1 ba,-- sqft', '4 bds,4 ba,-- sqft', '1 bd,1 ba,-- sqft', '2 bds,3 ba,988,829 sqft', 'Studio,4 ba,3,420 sqft', '1 bd,1 ba,825 sqft', '1 bd,1 ba,93,153 sqft', '3 bds,3 ba,-- sqft', '3 bds,4 ba,2,550 sqft', '1 bd,1 ba,785 sqft', '4 bds,4 ba,-- sqft', '1 bd,1 ba,-- sqft', '1 bd,1 ba,650 sqft', 'Studio,1 ba,197,972 sqft', '3 bds,4 ba,2,200 sqft', '2 bds,2 ba,1,500 sqft', '1 bd,1 ba,-- sqft', '3 bds,2 ba,2,000 sqft', '2 bds,2 ba,1,200 sqft', '2 bds,2 ba,1,305 sqft', 'Studio,1 ba,830 sqft', '2 bds,3 ba,3,000 sqft', 'Studio,1 ba,700 sqft', '1 bd,2 ba,89,349 sqft', '3 bds,3 ba,1,950 sqft', '2 bds,2 ba,1,521 sqft', '3 bds,4 ba,2,347 sqft', '1 bd,2 ba,750 sqft', '1 bd,1 ba,850 sqft', '2 bds,2 ba,1,600 sqft', '1 bd,1 ba,-- sqft', '3 bds,2 ba,1,450 sqft', 'Studio,1 ba,545 sqft', '2 bds,2 ba,1,085 sqft', '1 bd,1 ba,-- sqft', '2 bds,2 ba,1,500 sqft', '1 bd,2 ba,845 sqft', '5 bds,7 ba,6,127 sqft', '2 bds,3 ba,1,750 sqft', '2 bds,3 ba,1,647 sqft', '1 bd,1 ba,679 sqft', '2 bds,2 ba,1,573 sqft', '4 bds,2 ba,1,951 sqft', '1 bd,2 ba,968 sqft', '2 bds,2 ba,1,824 sqft', '4 bds,5 ba,2,685 sqft', '2 bds,2 ba,1,850 sqft', 'Studio,1 ba,712 sqft', '3 bds,3 ba,2,652 sqft', '2 bds,2 ba,1,640 sqft', '1 bd,1 ba,-- sqft', '3 bds,3 ba,2,500 sqft', '4 bds,5 ba,3,216 sqft', '1 bd,2 ba,1,266 sqft', '3 bds,4 ba,3,378 sqft', '3 bds,2 ba,1,951 sqft', '4 bds,5 ba,3,208 sqft', '4 bds,6 ba,3,699 sqft', '3 bds,4 ba,2,222 sqft', '3 bds,3 ba,1,794 sqft', '1 bd,2 ba,1,828 sqft', '4 bds,4 ba,2,719 sqft', '4 bds,4 ba,4,000 sqft', '4 bds,4 ba,5,355 sqft', '3 bds,4 ba,2,248 sqft', '3 bds,2 ba,17,056 sqft', '3 bds,4 ba,3,957 sqft', '1 bd,1 ba,909 sqft', '3 bds,4 ba,2,388 sqft', '2 bds,4 ba,1,493 sqft', '4 bds,4 ba,2,794 sqft', '3 bds,3 ba,2,366 sqft', '2 bds,2 ba,1,086 sqft', '3 bds,5 ba,3,173 sqft', '3 bds,3 ba,2,201 sqft', '1 bd,1 ba,1,056 sqft', '5 bds,3 ba,2,300 sqft', '4 bds,3 ba,-- sqft', '3 bds,1 ba,1,360 sqft', '3 bds,2 ba,1,500 sqft', '3 bds,2 ba,1,690 sqft', '7 bds,5 ba,3,354 sqft', '3 bds,3 ba,1,800 sqft', '7 bds,5 ba,2,361 sqft', '4 bds,3 ba,2,125 sqft', '6 bds,4 ba,2,378 sqft', '4 bds,5 ba,-- sqft', '2 bds,3 ba,1,496 sqft', '5 bds,4 ba,-- sqft', '5 bds,3 ba,2,238 sqft', '2 bds,3 ba,1,040 sqft', '5 bds,2 ba,1,948 sqft', '3 bds,2 ba,2,484 sqft', '5,954 sqft lot', '5 bds,2 ba,1,948 sqft', '9 bds,6 ba,-- sqft', '6 bds,7 ba,3,230 sqft', '9 bds,6 ba,2,830 sqft', '6 bds,3 ba,-- sqft', '6 bds,3 ba,-- sqft', '9 bds,4 ba,1,925 sqft', '3 bds,2 ba,2,260 sqft', '5 bds,2 ba,2,016 sqft', '6 bds,3 ba,2,800 sqft', '2 bds,2 ba,1,045 sqft', '3 bds,1 ba,1,146 sqft', '4 bds,2 ba,1,408 sqft', '6 bds,4 ba,3,500 sqft', '3 bds,2 ba,-- sqft', '3 bds,3 ba,1,400 sqft', '2 bds,1 ba,1,000 sqft', '4 bds,3 ba,644 sqft', '7 bds,3 ba,3,060 sqft', '6 bds,3 ba,3,100 sqft', '9 bds,2 ba,1,980 sqft', '6 bds,5 ba,3,060 sqft', '3 bds,2 ba,-- sqft', '2 bds,2 ba,1,239 sqft', '2 bds,2 ba,-- sqft', '2 bds,2 ba,-- sqft', '3 bds,1 ba,850 sqft', '2 bds,2 ba,1,120 sqft', 'Studio,3 ba,2,000 sqft', '2 bds,2 ba,1,239 sqft', '2 bds,2 ba,1,433 sqft', '6 bds,3 ba,-- sqft', '3 bds,1 ba,-- sqft', '6 bds,6 ba,-- sqft', '1 bd,1 ba,560 sqft', '3 bds,1 ba,-- sqft', '9 bds,7 ba,5,008 sqft', '5 bds,4 ba,-- sqft', '1,654 sqft lot', '1 bd,1 ba,750 sqft', '13 bds,12 ba,7,132 sqft', '2 bds,1 ba,928 sqft', '5,418 sqft lot', '3 bds,2 ba,1,840 sqft', '2 bds,2 ba,1,905 sqft', '5 bds,3 ba,-- sqft', '8 bds,2 ba,-- sqft', '3 bds,-- ba,1,696 sqft', '11 bds,6 ba,5,800 sqft', '1 bd,1 ba,1,000 sqft', '3 bds,2 ba,1,404 sqft', '2 bds,2 ba,2,000 sqft', '3 bds,2 ba,1,288 sqft', '3 bds,2 ba,1,560 sqft', '1 bd,1 ba,750 sqft', '1 bd,1 ba,900 sqft', '1 bd,1 ba,-- sqft', '1 bd,1 ba,-- sqft', '3 bds,2 ba,-- sqft', '3 bds,3 ba,1,400 sqft', '4 bds,2 ba,-- sqft', '3 bds,2 ba,1,230 sqft', '6 bds,3 ba,-- sqft', '2 bds,1 ba,1,200 sqft', '1 bd,1 ba,114,346 sqft', '-- bds,2 ba,2,948 sqft', '1 bd,1 ba,58,231 sqft', '3 bds,2 ba,-- sqft', '5 bds,3 ba,-- sqft', '3 bds,2 ba,1,260 sqft', '3 bds,1 ba,2,000 sqft', '4 bds,2 ba,-- sqft', '3,007 sqft lot', '2 bds,1 ba,1,700 sqft', '2,000 sqft lot', '3 bds,2 ba,1,216 sqft', '3 bds,1 ba,1,326 sqft', '3 bds,2 ba,1,767 sqft', '-- bds,2 ba,-- sqft', '10 bds,10 ba,6,135 sqft', '4 bds,3 ba,-- sqft', '7 bds,4 ba,3,652 sqft', '3 bds,2 ba,-- sqft', '5 bds,3 ba,3,420 sqft']\n"
          ],
          "name": "stdout"
        }
      ]
    },
    {
      "cell_type": "code",
      "metadata": {
        "colab": {
          "base_uri": "https://localhost:8080/"
        },
        "id": "yysSuoPrpFRL",
        "outputId": "fe026426-5db9-4698-c696-88a2c9dacc04"
      },
      "source": [
        "house_data = []\n",
        "house_data.append(price)\n",
        "#house_data.append(Est_payment)\n",
        "house_data.append(real_estate)\n",
        "house_data.append(last_updated)\n",
        "house_data.append(links)\n",
        "house_data.append(house)\n",
        "house_data.append(address)\n",
        "house_data.append(img)\n",
        "dict = {'price':house_data[0], 'real_estate':house_data[1], 'last_updated':house_data[2], \n",
        "        'link':house_data[3], 'house_info':house_data[4], 'address':house_data[5], 'img_link':house_data[6]}\n",
        "data = pd.DataFrame(dict)\n",
        "print(data.shape)"
      ],
      "execution_count": 164,
      "outputs": [
        {
          "output_type": "stream",
          "text": [
            "(182, 7)\n"
          ],
          "name": "stdout"
        }
      ]
    },
    {
      "cell_type": "code",
      "metadata": {
        "id": "2KGi5Z9QpFRL"
      },
      "source": [
        "df = data.copy()"
      ],
      "execution_count": 165,
      "outputs": []
    },
    {
      "cell_type": "code",
      "metadata": {
        "colab": {
          "base_uri": "https://localhost:8080/",
          "height": 114
        },
        "id": "n5FYlgq-Q17I",
        "outputId": "473b230f-c4d6-433c-de91-6cad77297238"
      },
      "source": [
        "df.head(1)"
      ],
      "execution_count": 166,
      "outputs": [
        {
          "output_type": "execute_result",
          "data": {
            "text/html": [
              "<div>\n",
              "<style scoped>\n",
              "    .dataframe tbody tr th:only-of-type {\n",
              "        vertical-align: middle;\n",
              "    }\n",
              "\n",
              "    .dataframe tbody tr th {\n",
              "        vertical-align: top;\n",
              "    }\n",
              "\n",
              "    .dataframe thead th {\n",
              "        text-align: right;\n",
              "    }\n",
              "</style>\n",
              "<table border=\"1\" class=\"dataframe\">\n",
              "  <thead>\n",
              "    <tr style=\"text-align: right;\">\n",
              "      <th></th>\n",
              "      <th>price</th>\n",
              "      <th>real_estate</th>\n",
              "      <th>last_updated</th>\n",
              "      <th>link</th>\n",
              "      <th>house_info</th>\n",
              "      <th>address</th>\n",
              "      <th>img_link</th>\n",
              "    </tr>\n",
              "  </thead>\n",
              "  <tbody>\n",
              "    <tr>\n",
              "      <th>0</th>\n",
              "      <td>$580,000</td>\n",
              "      <td>LISTING BY: COMPASS</td>\n",
              "      <td>1 day on Zillow</td>\n",
              "      <td>https://www.zillow.com/homedetails/420-E-55th-...</td>\n",
              "      <td>2 bds,1 ba,900 sqft</td>\n",
              "      <td>420 E 55th St UNIT 1FF, New York, NY 10022</td>\n",
              "      <td>https://photos.zillowstatic.com/fp/3113fa19ad6...</td>\n",
              "    </tr>\n",
              "  </tbody>\n",
              "</table>\n",
              "</div>"
            ],
            "text/plain": [
              "      price  ...                                           img_link\n",
              "0  $580,000  ...  https://photos.zillowstatic.com/fp/3113fa19ad6...\n",
              "\n",
              "[1 rows x 7 columns]"
            ]
          },
          "metadata": {
            "tags": []
          },
          "execution_count": 166
        }
      ]
    },
    {
      "cell_type": "code",
      "metadata": {
        "id": "ZjjQa9RaIl0q"
      },
      "source": [
        "#df['est_payment'] = df['est_payment'].apply(lambda x: x[1:])"
      ],
      "execution_count": 167,
      "outputs": []
    },
    {
      "cell_type": "code",
      "metadata": {
        "id": "CxNgykLuHQEt"
      },
      "source": [
        "df['real_estate'] = df['real_estate'].replace('LISTING BY: ','',regex=True)"
      ],
      "execution_count": 168,
      "outputs": []
    },
    {
      "cell_type": "code",
      "metadata": {
        "colab": {
          "base_uri": "https://localhost:8080/",
          "height": 114
        },
        "id": "eKGunzMPHbBy",
        "outputId": "4a1ef671-ab41-40fe-ba4f-c45d4f834305"
      },
      "source": [
        "df.head(1)"
      ],
      "execution_count": 169,
      "outputs": [
        {
          "output_type": "execute_result",
          "data": {
            "text/html": [
              "<div>\n",
              "<style scoped>\n",
              "    .dataframe tbody tr th:only-of-type {\n",
              "        vertical-align: middle;\n",
              "    }\n",
              "\n",
              "    .dataframe tbody tr th {\n",
              "        vertical-align: top;\n",
              "    }\n",
              "\n",
              "    .dataframe thead th {\n",
              "        text-align: right;\n",
              "    }\n",
              "</style>\n",
              "<table border=\"1\" class=\"dataframe\">\n",
              "  <thead>\n",
              "    <tr style=\"text-align: right;\">\n",
              "      <th></th>\n",
              "      <th>price</th>\n",
              "      <th>real_estate</th>\n",
              "      <th>last_updated</th>\n",
              "      <th>link</th>\n",
              "      <th>house_info</th>\n",
              "      <th>address</th>\n",
              "      <th>img_link</th>\n",
              "    </tr>\n",
              "  </thead>\n",
              "  <tbody>\n",
              "    <tr>\n",
              "      <th>0</th>\n",
              "      <td>$580,000</td>\n",
              "      <td>COMPASS</td>\n",
              "      <td>1 day on Zillow</td>\n",
              "      <td>https://www.zillow.com/homedetails/420-E-55th-...</td>\n",
              "      <td>2 bds,1 ba,900 sqft</td>\n",
              "      <td>420 E 55th St UNIT 1FF, New York, NY 10022</td>\n",
              "      <td>https://photos.zillowstatic.com/fp/3113fa19ad6...</td>\n",
              "    </tr>\n",
              "  </tbody>\n",
              "</table>\n",
              "</div>"
            ],
            "text/plain": [
              "      price  ...                                           img_link\n",
              "0  $580,000  ...  https://photos.zillowstatic.com/fp/3113fa19ad6...\n",
              "\n",
              "[1 rows x 7 columns]"
            ]
          },
          "metadata": {
            "tags": []
          },
          "execution_count": 169
        }
      ]
    },
    {
      "cell_type": "code",
      "metadata": {
        "id": "Mjqi8WdgbmmS"
      },
      "source": [
        "df[['beds','baths','sq_feet']]=df['house_info'].str.split(',',2, expand=True)"
      ],
      "execution_count": 170,
      "outputs": []
    },
    {
      "cell_type": "code",
      "metadata": {
        "id": "P96EtLxapFRL"
      },
      "source": [
        "#df['prices'] = df['price'].apply(lambda x: x[1:])"
      ],
      "execution_count": 135,
      "outputs": []
    },
    {
      "cell_type": "code",
      "metadata": {
        "id": "WtyS_XggwyIk"
      },
      "source": [
        "#df[['redundant','baths']] = df['baths'].str.split(',',n=1,expand=True)"
      ],
      "execution_count": 136,
      "outputs": []
    },
    {
      "cell_type": "code",
      "metadata": {
        "id": "uo8nQ5sVwyIl"
      },
      "source": [
        "df['sq_feet']=df['sq_feet'].replace(' sqft','',regex=True)"
      ],
      "execution_count": 171,
      "outputs": []
    },
    {
      "cell_type": "code",
      "metadata": {
        "id": "xIcruxFPSB30"
      },
      "source": [
        "df['sq_feet'] = df['sq_feet'].replace('lot-', None, regex=True)"
      ],
      "execution_count": 172,
      "outputs": []
    },
    {
      "cell_type": "code",
      "metadata": {
        "id": "5tg53VAuSXCt"
      },
      "source": [
        "df['sq_feet'] = df['sq_feet'].replace('--', None,regex=True)\n",
        "df['sq_feet'] = df['sq_feet'].replace('sqft-', None,regex=True)\n",
        "df['sq_feet'] = df['sq_feet'].replace(',','', regex=True)\n",
        "df['sq_feet'] = df['sq_feet'].replace('--', '',regex=True)\n",
        "#df['sq_feet'] = df['sq_feet'].replace('', None,regex=True)\n",
        "df['sq_feet'] = df['sq_feet'].where(pd.notnull(df['sq_feet']), None)"
      ],
      "execution_count": 173,
      "outputs": []
    },
    {
      "cell_type": "code",
      "metadata": {
        "id": "ekWWAiXETKCt"
      },
      "source": [
        "df['sq_feet'] = df['sq_feet'].fillna(0)\n",
        "df['sq_feet'] = pd.to_numeric(df['sq_feet'])"
      ],
      "execution_count": 174,
      "outputs": []
    },
    {
      "cell_type": "code",
      "metadata": {
        "id": "TO8MbqYAUAOo",
        "colab": {
          "base_uri": "https://localhost:8080/"
        },
        "outputId": "0dac1163-4662-48a5-aa87-77233f87e985"
      },
      "source": [
        "df['sq_feet'].dtype"
      ],
      "execution_count": 175,
      "outputs": [
        {
          "output_type": "execute_result",
          "data": {
            "text/plain": [
              "dtype('int64')"
            ]
          },
          "metadata": {
            "tags": []
          },
          "execution_count": 175
        }
      ]
    },
    {
      "cell_type": "code",
      "metadata": {
        "id": "OO8GdgvPwyIl"
      },
      "source": [
        "df[['street_name','city','state_zip_code']]=df['address'].str.split(',',n=2, expand=True)"
      ],
      "execution_count": 176,
      "outputs": []
    },
    {
      "cell_type": "code",
      "metadata": {
        "id": "I8Y5MHVIwyIl"
      },
      "source": [
        "#drop unnecessary columns\n",
        "feature_drop = ['house_info', 'address']\n",
        "df1 = df.drop(feature_drop, axis=1)"
      ],
      "execution_count": 177,
      "outputs": []
    },
    {
      "cell_type": "code",
      "metadata": {
        "id": "kEfH8GWzgfKt",
        "colab": {
          "base_uri": "https://localhost:8080/"
        },
        "outputId": "a60311fd-3990-4803-c8f0-bbd2c904a885"
      },
      "source": [
        "print(list(df1.columns.values))"
      ],
      "execution_count": 178,
      "outputs": [
        {
          "output_type": "stream",
          "text": [
            "['price', 'real_estate', 'last_updated', 'link', 'img_link', 'beds', 'baths', 'sq_feet', 'street_name', 'city', 'state_zip_code']\n"
          ],
          "name": "stdout"
        }
      ]
    },
    {
      "cell_type": "code",
      "metadata": {
        "id": "2h5aKwPwwyIl"
      },
      "source": [
        "#reorder columns\n",
        "zillow_df = df1[['price','beds','baths','sq_feet','street_name',\n",
        "       'city', 'state_zip_code', 'real_estate', 'last_updated','link', 'img_link']]"
      ],
      "execution_count": 179,
      "outputs": []
    },
    {
      "cell_type": "code",
      "metadata": {
        "id": "72iRY_WVa2tp"
      },
      "source": [
        "zillow_df = zillow_df.rename(columns = {\"price\":\"prices\"})"
      ],
      "execution_count": 180,
      "outputs": []
    },
    {
      "cell_type": "code",
      "metadata": {
        "id": "jjQqgj59wyIl",
        "colab": {
          "base_uri": "https://localhost:8080/"
        },
        "outputId": "f3749950-7741-421f-ca6f-66a0d1239e9a"
      },
      "source": [
        "zillow_df.shape"
      ],
      "execution_count": 181,
      "outputs": [
        {
          "output_type": "execute_result",
          "data": {
            "text/plain": [
              "(182, 11)"
            ]
          },
          "metadata": {
            "tags": []
          },
          "execution_count": 181
        }
      ]
    },
    {
      "cell_type": "code",
      "metadata": {
        "colab": {
          "base_uri": "https://localhost:8080/"
        },
        "id": "J4e3zC4_Jozu",
        "outputId": "95110c08-a78a-43ff-857e-13e71384cb75"
      },
      "source": [
        "zillow_df.info()"
      ],
      "execution_count": 182,
      "outputs": [
        {
          "output_type": "stream",
          "text": [
            "<class 'pandas.core.frame.DataFrame'>\n",
            "RangeIndex: 182 entries, 0 to 181\n",
            "Data columns (total 11 columns):\n",
            " #   Column          Non-Null Count  Dtype \n",
            "---  ------          --------------  ----- \n",
            " 0   prices          182 non-null    object\n",
            " 1   beds            182 non-null    object\n",
            " 2   baths           182 non-null    object\n",
            " 3   sq_feet         182 non-null    int64 \n",
            " 4   street_name     182 non-null    object\n",
            " 5   city            182 non-null    object\n",
            " 6   state_zip_code  182 non-null    object\n",
            " 7   real_estate     182 non-null    object\n",
            " 8   last_updated    182 non-null    object\n",
            " 9   link            182 non-null    object\n",
            " 10  img_link        182 non-null    object\n",
            "dtypes: int64(1), object(10)\n",
            "memory usage: 15.8+ KB\n"
          ],
          "name": "stdout"
        }
      ]
    },
    {
      "cell_type": "markdown",
      "metadata": {
        "id": "kn7BTWJywyIm"
      },
      "source": [
        "# Data Cleansing"
      ]
    },
    {
      "cell_type": "code",
      "metadata": {
        "id": "BKPXDFhxwyIm"
      },
      "source": [
        "# Remove K and comma from prices\n",
        "# Convert to float data type\n",
        "#zillow_df['prices'] = zillow_df['prices'].str.replace('K','',regex=True)\n",
        "#zillow_df['prices'] = zillow_df['prices'].str.replace(',','').astype(float)"
      ],
      "execution_count": 149,
      "outputs": []
    },
    {
      "cell_type": "code",
      "metadata": {
        "id": "-IpaQV4GwyIn"
      },
      "source": [
        "# Replace Studio and comma with blank\n",
        "# Replace Studio,-- with \n",
        "zillow_df['beds']=zillow_df['beds'].replace('Studio,--', None)\n",
        "zillow_df['beds']=zillow_df['beds'].replace('--', None)\n",
        "zillow_df['beds']=zillow_df['beds'].replace('Studio,','',regex=True)\n",
        "zillow_df['beds']=zillow_df['beds'].replace(',', '',regex=True)\n",
        "zillow_df['beds']=zillow_df['beds'].replace('bd', '',regex=True)\n",
        "zillow_df['beds']=zillow_df['beds'].replace('Studio',None,regex=True)\n",
        "zillow_df['beds']=zillow_df['beds'].replace('s','',regex=True)\n",
        "zillow_df['beds']=zillow_df['beds'].replace('-- ', None)\n",
        "zillow_df['beds'] = zillow_df['beds'].where(pd.notnull(zillow_df['beds']), None)"
      ],
      "execution_count": 183,
      "outputs": []
    },
    {
      "cell_type": "code",
      "metadata": {
        "id": "mvM0jtHhh1hH"
      },
      "source": [
        "zillow_df['beds'] = zillow_df['beds'].fillna(0)\n",
        "zillow_df['beds'] = pd.to_numeric(zillow_df['beds'])"
      ],
      "execution_count": 184,
      "outputs": []
    },
    {
      "cell_type": "code",
      "metadata": {
        "id": "cEuiiC8fwyIn"
      },
      "source": [
        "# Extract the number of bathrooms\n",
        "zillow_df['baths'] = zillow_df['baths'].replace('--', None, regex=True)\n",
        "zillow_df['baths'] = zillow_df['baths'].replace('ba', '')\n",
        "zillow_df['baths'] = zillow_df['baths'].str.replace(',','')\n",
        "zillow_df['baths'] = zillow_df['baths'].str.split(' ',2, expand=True)"
      ],
      "execution_count": 187,
      "outputs": []
    },
    {
      "cell_type": "code",
      "metadata": {
        "id": "dgNwkAtvjR0N"
      },
      "source": [
        "zillow_df['baths'] = zillow_df['baths'].fillna(0)\n",
        "zillow_df['baths'] = pd.to_numeric(zillow_df['baths'])"
      ],
      "execution_count": 188,
      "outputs": []
    },
    {
      "cell_type": "code",
      "metadata": {
        "id": "b3pX64McpYI5"
      },
      "source": [
        "zillow_df = zillow_df.where(pd.notnull(zillow_df), None)"
      ],
      "execution_count": 189,
      "outputs": []
    },
    {
      "cell_type": "code",
      "metadata": {
        "id": "0VF_i3u-L-eN"
      },
      "source": [
        "zillow_df['sq_feet'] = pd.to_numeric(zillow_df['sq_feet'])"
      ],
      "execution_count": 190,
      "outputs": []
    },
    {
      "cell_type": "code",
      "metadata": {
        "id": "usDOQjLuRWg5"
      },
      "source": [
        "#zillow_df['est_payment'] = zillow_df['est_payment'].str.replace(',', '')\n",
        "#zillow_df['est_payment'] = pd.to_numeric(zillow_df['est_payment'])"
      ],
      "execution_count": null,
      "outputs": []
    },
    {
      "cell_type": "code",
      "metadata": {
        "id": "kbHMo6y1wyIn",
        "colab": {
          "base_uri": "https://localhost:8080/"
        },
        "outputId": "913fd681-8f7f-41fb-ebb9-466719b7eb38"
      },
      "source": [
        "zillow_df.info()"
      ],
      "execution_count": 191,
      "outputs": [
        {
          "output_type": "stream",
          "text": [
            "<class 'pandas.core.frame.DataFrame'>\n",
            "RangeIndex: 182 entries, 0 to 181\n",
            "Data columns (total 11 columns):\n",
            " #   Column          Non-Null Count  Dtype \n",
            "---  ------          --------------  ----- \n",
            " 0   prices          182 non-null    object\n",
            " 1   beds            182 non-null    int64 \n",
            " 2   baths           182 non-null    int64 \n",
            " 3   sq_feet         182 non-null    int64 \n",
            " 4   street_name     182 non-null    object\n",
            " 5   city            182 non-null    object\n",
            " 6   state_zip_code  182 non-null    object\n",
            " 7   real_estate     182 non-null    object\n",
            " 8   last_updated    182 non-null    object\n",
            " 9   link            182 non-null    object\n",
            " 10  img_link        182 non-null    object\n",
            "dtypes: int64(3), object(8)\n",
            "memory usage: 15.8+ KB\n"
          ],
          "name": "stdout"
        }
      ]
    },
    {
      "cell_type": "code",
      "metadata": {
        "id": "-0Wbh6dswyIo"
      },
      "source": [
        "#Trim outliers custom_audience_ads dataset:\n",
        "#starting_percentile = zillow_df['prices'].quantile(.02)\n",
        "#ending_percentile = zillow_df['prices'].quantile(.98)\n",
        "#outliers_df = zillow_df.loc[((zillow_df['prices'] <= starting_percentile) | (zillow_df['prices'] >= ending_percentile))]\n",
        "#df_trimmed = zillow_df.loc[((zillow_df['prices'] > starting_percentile) & (zillow_df['prices'] < ending_percentile))]"
      ],
      "execution_count": null,
      "outputs": []
    },
    {
      "cell_type": "code",
      "metadata": {
        "id": "gyV3h1HgwyIo",
        "colab": {
          "base_uri": "https://localhost:8080/",
          "height": 297
        },
        "outputId": "be6228c8-26d9-4004-98a9-96747f5b285c"
      },
      "source": [
        "zillow_df.describe()"
      ],
      "execution_count": 192,
      "outputs": [
        {
          "output_type": "execute_result",
          "data": {
            "text/html": [
              "<div>\n",
              "<style scoped>\n",
              "    .dataframe tbody tr th:only-of-type {\n",
              "        vertical-align: middle;\n",
              "    }\n",
              "\n",
              "    .dataframe tbody tr th {\n",
              "        vertical-align: top;\n",
              "    }\n",
              "\n",
              "    .dataframe thead th {\n",
              "        text-align: right;\n",
              "    }\n",
              "</style>\n",
              "<table border=\"1\" class=\"dataframe\">\n",
              "  <thead>\n",
              "    <tr style=\"text-align: right;\">\n",
              "      <th></th>\n",
              "      <th>beds</th>\n",
              "      <th>baths</th>\n",
              "      <th>sq_feet</th>\n",
              "    </tr>\n",
              "  </thead>\n",
              "  <tbody>\n",
              "    <tr>\n",
              "      <th>count</th>\n",
              "      <td>182.000000</td>\n",
              "      <td>182.000000</td>\n",
              "      <td>182.000000</td>\n",
              "    </tr>\n",
              "    <tr>\n",
              "      <th>mean</th>\n",
              "      <td>3.236264</td>\n",
              "      <td>13.719780</td>\n",
              "      <td>11525.175824</td>\n",
              "    </tr>\n",
              "    <tr>\n",
              "      <th>std</th>\n",
              "      <td>2.134744</td>\n",
              "      <td>90.427185</td>\n",
              "      <td>75894.925165</td>\n",
              "    </tr>\n",
              "    <tr>\n",
              "      <th>min</th>\n",
              "      <td>1.000000</td>\n",
              "      <td>0.000000</td>\n",
              "      <td>0.000000</td>\n",
              "    </tr>\n",
              "    <tr>\n",
              "      <th>25%</th>\n",
              "      <td>2.000000</td>\n",
              "      <td>2.000000</td>\n",
              "      <td>1094.500000</td>\n",
              "    </tr>\n",
              "    <tr>\n",
              "      <th>50%</th>\n",
              "      <td>3.000000</td>\n",
              "      <td>2.000000</td>\n",
              "      <td>1725.000000</td>\n",
              "    </tr>\n",
              "    <tr>\n",
              "      <th>75%</th>\n",
              "      <td>4.000000</td>\n",
              "      <td>3.000000</td>\n",
              "      <td>2676.750000</td>\n",
              "    </tr>\n",
              "    <tr>\n",
              "      <th>max</th>\n",
              "      <td>13.000000</td>\n",
              "      <td>954.000000</td>\n",
              "      <td>988829.000000</td>\n",
              "    </tr>\n",
              "  </tbody>\n",
              "</table>\n",
              "</div>"
            ],
            "text/plain": [
              "             beds       baths        sq_feet\n",
              "count  182.000000  182.000000     182.000000\n",
              "mean     3.236264   13.719780   11525.175824\n",
              "std      2.134744   90.427185   75894.925165\n",
              "min      1.000000    0.000000       0.000000\n",
              "25%      2.000000    2.000000    1094.500000\n",
              "50%      3.000000    2.000000    1725.000000\n",
              "75%      4.000000    3.000000    2676.750000\n",
              "max     13.000000  954.000000  988829.000000"
            ]
          },
          "metadata": {
            "tags": []
          },
          "execution_count": 192
        }
      ]
    },
    {
      "cell_type": "code",
      "metadata": {
        "id": "gsAQiQ7F_7WF"
      },
      "source": [
        "zillow_df = zillow_df[zillow_df['beds'] < 100]\n",
        "zillow_df = zillow_df[zillow_df['baths'] < 200]\n",
        "zillow_df = zillow_df[zillow_df['sq_feet'] < 100000]"
      ],
      "execution_count": 193,
      "outputs": []
    },
    {
      "cell_type": "code",
      "metadata": {
        "id": "nkGnwdQLeDH8"
      },
      "source": [
        "zillow_df['state_zip_code'] = zillow_df['state_zip_code'].str.split(' ', expand=True)[2]"
      ],
      "execution_count": 195,
      "outputs": []
    },
    {
      "cell_type": "code",
      "metadata": {
        "id": "BOUmK1dYVPVV"
      },
      "source": [
        "zillow_df.to_csv('zillow_data.csv')"
      ],
      "execution_count": 196,
      "outputs": []
    },
    {
      "cell_type": "code",
      "metadata": {
        "colab": {
          "base_uri": "https://localhost:8080/",
          "height": 117
        },
        "id": "GoxxrUJAQ4Kq",
        "outputId": "cad88676-0182-464a-bbac-7d736b9d8864"
      },
      "source": [
        "zillow_df.head(1)"
      ],
      "execution_count": 197,
      "outputs": [
        {
          "output_type": "execute_result",
          "data": {
            "text/html": [
              "<div>\n",
              "<style scoped>\n",
              "    .dataframe tbody tr th:only-of-type {\n",
              "        vertical-align: middle;\n",
              "    }\n",
              "\n",
              "    .dataframe tbody tr th {\n",
              "        vertical-align: top;\n",
              "    }\n",
              "\n",
              "    .dataframe thead th {\n",
              "        text-align: right;\n",
              "    }\n",
              "</style>\n",
              "<table border=\"1\" class=\"dataframe\">\n",
              "  <thead>\n",
              "    <tr style=\"text-align: right;\">\n",
              "      <th></th>\n",
              "      <th>prices</th>\n",
              "      <th>beds</th>\n",
              "      <th>baths</th>\n",
              "      <th>sq_feet</th>\n",
              "      <th>street_name</th>\n",
              "      <th>city</th>\n",
              "      <th>state_zip_code</th>\n",
              "      <th>real_estate</th>\n",
              "      <th>last_updated</th>\n",
              "      <th>link</th>\n",
              "      <th>img_link</th>\n",
              "    </tr>\n",
              "  </thead>\n",
              "  <tbody>\n",
              "    <tr>\n",
              "      <th>0</th>\n",
              "      <td>$580,000</td>\n",
              "      <td>2</td>\n",
              "      <td>1</td>\n",
              "      <td>900</td>\n",
              "      <td>420 E 55th St UNIT 1FF</td>\n",
              "      <td>New York</td>\n",
              "      <td>10022</td>\n",
              "      <td>COMPASS</td>\n",
              "      <td>1 day on Zillow</td>\n",
              "      <td>https://www.zillow.com/homedetails/420-E-55th-...</td>\n",
              "      <td>https://photos.zillowstatic.com/fp/3113fa19ad6...</td>\n",
              "    </tr>\n",
              "  </tbody>\n",
              "</table>\n",
              "</div>"
            ],
            "text/plain": [
              "     prices  ...                                           img_link\n",
              "0  $580,000  ...  https://photos.zillowstatic.com/fp/3113fa19ad6...\n",
              "\n",
              "[1 rows x 11 columns]"
            ]
          },
          "metadata": {
            "tags": []
          },
          "execution_count": 197
        }
      ]
    },
    {
      "cell_type": "markdown",
      "metadata": {
        "id": "1P-2b3A5wyIp"
      },
      "source": [
        "# Data Visualization"
      ]
    },
    {
      "cell_type": "markdown",
      "metadata": {
        "id": "E-ZcmyJCTYmN"
      },
      "source": [
        "Baths"
      ]
    },
    {
      "cell_type": "code",
      "metadata": {
        "id": "ywaGQgVNwyIp"
      },
      "source": [
        "zillow_df['baths'].value_counts().plot.barh()\n",
        "plt.title('Distribution of Number of Bathrooms')\n",
        "plt.xlabel('Frequency')\n",
        "plt.ylabel('Number of Bathrooms')"
      ],
      "execution_count": null,
      "outputs": []
    },
    {
      "cell_type": "code",
      "metadata": {
        "id": "xyF50826Tf9E"
      },
      "source": [
        "zillow_df['beds'].value_counts().plot.barh()\n",
        "plt.title('Distribution of Number of Bedrooms')\n",
        "plt.xlabel('Frequency')\n",
        "plt.ylabel('Number of Bedrooms')"
      ],
      "execution_count": null,
      "outputs": []
    },
    {
      "cell_type": "markdown",
      "metadata": {
        "id": "lt_NlO5oTpFE"
      },
      "source": [
        "City"
      ]
    },
    {
      "cell_type": "code",
      "metadata": {
        "id": "BJz1xJs98OAo"
      },
      "source": [
        "plt.figure(figsize=(12,5))\n",
        "sns.countplot(zillow_df['city'])\n",
        "plt.title('Distribution of Cities')\n",
        "plt.xlabel('count')\n",
        "plt.ylabel('Cities')"
      ],
      "execution_count": null,
      "outputs": []
    },
    {
      "cell_type": "markdown",
      "metadata": {
        "id": "WzrWSQBPTq7i"
      },
      "source": [
        "Real Estate"
      ]
    },
    {
      "cell_type": "code",
      "metadata": {
        "id": "nXr2lNZBvMF4"
      },
      "source": [
        "bplot = sns.boxplot(y='city', x='beds', \n",
        "                 data=zillow_df, \n",
        "                 width=0.7,\n",
        "                 palette=\"colorblind\")\n",
        "plt.title('Boxplot numbers of bed group by city')"
      ],
      "execution_count": null,
      "outputs": []
    },
    {
      "cell_type": "code",
      "metadata": {
        "id": "2Nl7JBQ3w40D"
      },
      "source": [
        "bplot = sns.boxplot(y='city', x='baths', \n",
        "                 data=zillow_df, \n",
        "                 width=0.7,\n",
        "                 palette=\"colorblind\")\n",
        "plt.title('Boxplot numbers of baths group by city')"
      ],
      "execution_count": null,
      "outputs": []
    },
    {
      "cell_type": "code",
      "metadata": {
        "id": "PaTh6pnH2vux"
      },
      "source": [
        "bplot = sns.boxplot(y='city', x='prices', \n",
        "                 data=zillow_df, \n",
        "                 width=0.7,\n",
        "                 palette=\"colorblind\")\n",
        "plt.title('Boxplot prices group by city')"
      ],
      "execution_count": null,
      "outputs": []
    },
    {
      "cell_type": "code",
      "metadata": {
        "id": "_x3UXTzwpoXM"
      },
      "source": [
        "dfnewyork= pd.DataFrame(zillow_df, columns = ['', 'Age']) \n",
        "  \n",
        "# print dataframe. \n",
        "df "
      ],
      "execution_count": null,
      "outputs": []
    },
    {
      "cell_type": "code",
      "metadata": {
        "id": "kxPjr-N_pQYS"
      },
      "source": [
        "zillow_df['beds'].value_counts().plot.barh()\n",
        "plt.title('Distribution of Number of Bedrooms')\n",
        "plt.xlabel('Frequency')\n",
        "plt.ylabel('Number of Bedrooms')"
      ],
      "execution_count": null,
      "outputs": []
    },
    {
      "cell_type": "code",
      "metadata": {
        "id": "WOXh-w6R7502"
      },
      "source": [
        "# Listings distribution\n",
        "grouped_df =zillow_df.groupby(by='real_estate',as_index=False)['street_name'].count()\n",
        "sorted_grouped_df =grouped_df.sort_values(by='street_name',ascending=False)\n",
        "top10=sorted_grouped_df.iloc[0:10]"
      ],
      "execution_count": null,
      "outputs": []
    },
    {
      "cell_type": "code",
      "metadata": {
        "id": "d3TWGYvn-Uya"
      },
      "source": [
        "top10"
      ],
      "execution_count": null,
      "outputs": []
    },
    {
      "cell_type": "code",
      "metadata": {
        "id": "QzxD1L2F9GoP"
      },
      "source": [
        "plt.figure(figsize=(20,5))\n",
        "sns.barplot('real_estate','street_name',data=top10)\n",
        "plt.title('Top 10 Real Estates',size=15)"
      ],
      "execution_count": null,
      "outputs": []
    },
    {
      "cell_type": "markdown",
      "metadata": {
        "id": "v7jEcs7VT1Si"
      },
      "source": [
        "Boxplots - prices, square feet, beds, baths"
      ]
    },
    {
      "cell_type": "code",
      "metadata": {
        "id": "SINocUc1wyIq"
      },
      "source": [
        "sns.boxplot(zillow_df['prices'])\n",
        "plt.title('Boxplot of Prices')\n",
        "plt.xlabel('Prices (10 Millions)')"
      ],
      "execution_count": null,
      "outputs": []
    },
    {
      "cell_type": "code",
      "metadata": {
        "id": "AXtUhkDKwyIq"
      },
      "source": [
        "sns.boxplot(zillow_df['sq_feet'])\n",
        "plt.title('Boxplot of Square Feet')\n",
        "plt.xlabel('Squre Feet')"
      ],
      "execution_count": null,
      "outputs": []
    },
    {
      "cell_type": "code",
      "metadata": {
        "id": "TagPOy3cT9-E"
      },
      "source": [
        "sns.boxplot(zillow_df['baths'])\n",
        "plt.title('Boxplot of Bathrooms')\n",
        "plt.xlabel('baths')"
      ],
      "execution_count": null,
      "outputs": []
    },
    {
      "cell_type": "code",
      "metadata": {
        "id": "oLEqqvH0wyIr"
      },
      "source": [
        "sns.boxplot(zillow_df['beds'])\n",
        "plt.title('Boxplot of outlier of beds')\n",
        "plt.xlabel('beds')"
      ],
      "execution_count": null,
      "outputs": []
    },
    {
      "cell_type": "code",
      "metadata": {
        "id": "9rjBSsxrIL7N"
      },
      "source": [
        "zillow_df.head(1)"
      ],
      "execution_count": null,
      "outputs": []
    },
    {
      "cell_type": "code",
      "metadata": {
        "id": "1vAO3MKHIQn2"
      },
      "source": [
        "zillow_df.info()"
      ],
      "execution_count": null,
      "outputs": []
    },
    {
      "cell_type": "code",
      "metadata": {
        "id": "Hw83z0m0nbpD"
      },
      "source": [
        "try:\n",
        "  sns.pairplot(zillow_df[['prices', 'beds', 'baths', 'sq_feet']], diag_kind='kde')\n",
        "except:\n",
        "  sns.pairplot(zillow_df[['prices', 'beds', 'baths']], diag_kind='kde')"
      ],
      "execution_count": null,
      "outputs": []
    },
    {
      "cell_type": "code",
      "metadata": {
        "id": "vLWTU3aWwyIr"
      },
      "source": [
        "df=zillow_df.groupby(['real_estate'])['beds'].mean().to_frame().rename(columns={'id':'count'}).reset_index()"
      ],
      "execution_count": null,
      "outputs": []
    },
    {
      "cell_type": "code",
      "metadata": {
        "id": "MmYHc0fLwyIr"
      },
      "source": [
        "df = df[df['real_estate'] != '/']"
      ],
      "execution_count": null,
      "outputs": []
    },
    {
      "cell_type": "code",
      "metadata": {
        "id": "YoUJ6V9JL-pF"
      },
      "source": [
        "sorted_grouped_df = df.sort_values(by='beds',ascending=False)\n",
        "top10=sorted_grouped_df.iloc[0:10]"
      ],
      "execution_count": null,
      "outputs": []
    },
    {
      "cell_type": "code",
      "metadata": {
        "id": "skQJLyQlMD8V"
      },
      "source": [
        "top10"
      ],
      "execution_count": null,
      "outputs": []
    },
    {
      "cell_type": "code",
      "metadata": {
        "id": "frgLt1YAwyIr"
      },
      "source": [
        "plt.figure(figsize=(12,6))\n",
        "sns.barplot('real_estate','beds',data=top10)\n",
        "plt.title('Top 10 Distribution of Type of Houses in Average')"
      ],
      "execution_count": null,
      "outputs": []
    },
    {
      "cell_type": "code",
      "metadata": {
        "id": "RC0xMztkwyIs"
      },
      "source": [
        "sns.heatmap(zillow_df[['prices','beds','baths']].corr(), annot=True, cmap = 'Reds')\n",
        "plt.show()"
      ],
      "execution_count": null,
      "outputs": []
    },
    {
      "cell_type": "markdown",
      "metadata": {
        "id": "_jhcKQOkwyIs"
      },
      "source": [
        "# Database Setup"
      ]
    },
    {
      "cell_type": "code",
      "metadata": {
        "id": "_yr7mjMVZ2_c"
      },
      "source": [
        "try:\n",
        "  mydb = mysql.connector.connect(user='root5', password='!GoodPassword123!',\n",
        "                        host='34.123.115.192',\n",
        "                        port=3306\n",
        "                        )\n",
        "except:\n",
        "  print(\"Error in fetching ip...  snoozing for 30 seconds and retrying\")\n",
        "  time.sleep(3)"
      ],
      "execution_count": null,
      "outputs": []
    },
    {
      "cell_type": "code",
      "metadata": {
        "id": "Po95RetI-H5s"
      },
      "source": [
        "'''\n",
        "mydb = mysql.connector.connect(user='root5', password='!GoodPassword123!',\n",
        "                          host='34.123.115.192',\n",
        "                          port=3306\n",
        "                          )\n",
        "'''"
      ],
      "execution_count": null,
      "outputs": []
    },
    {
      "cell_type": "code",
      "metadata": {
        "id": "SrGh-OQd-gNM"
      },
      "source": [
        "mycursor = mydb.cursor()"
      ],
      "execution_count": null,
      "outputs": []
    },
    {
      "cell_type": "code",
      "metadata": {
        "id": "Cl80RZbJ-95S"
      },
      "source": [
        "# check if connection is successful or not\n",
        "if (mydb):\n",
        "  print('Connection Successful')\n",
        "else:\n",
        "  print('Unsuccessful')\n",
        "  "
      ],
      "execution_count": null,
      "outputs": []
    },
    {
      "cell_type": "code",
      "metadata": {
        "id": "thxpdnoubWID"
      },
      "source": [
        "mydb"
      ],
      "execution_count": null,
      "outputs": []
    },
    {
      "cell_type": "code",
      "metadata": {
        "id": "-jKvcsC6_9YA"
      },
      "source": [
        "try:\n",
        "  mycursor.execute('Create database zillowdb;')\n",
        "except:\n",
        "  print('Database exists.')"
      ],
      "execution_count": null,
      "outputs": []
    },
    {
      "cell_type": "code",
      "metadata": {
        "id": "rA7EdcFb-pz4"
      },
      "source": [
        "mycursor.execute('Show databases')"
      ],
      "execution_count": null,
      "outputs": []
    },
    {
      "cell_type": "code",
      "metadata": {
        "id": "7WIUKzyF-4Uc"
      },
      "source": [
        "for db in mycursor:\n",
        "  print(db)"
      ],
      "execution_count": null,
      "outputs": []
    },
    {
      "cell_type": "code",
      "metadata": {
        "id": "-2kDm3NO_grG"
      },
      "source": [
        "# point to the right database\n",
        "mydb = mysql.connector.connect(user='root5', password='!GoodPassword123!',\n",
        "                          host='34.123.115.192',\n",
        "                          database= 'zillowdb'\n",
        "                          )"
      ],
      "execution_count": null,
      "outputs": []
    },
    {
      "cell_type": "code",
      "metadata": {
        "id": "vzNOD9XHFss0"
      },
      "source": [
        "mycursor = mydb.cursor()"
      ],
      "execution_count": null,
      "outputs": []
    },
    {
      "cell_type": "code",
      "metadata": {
        "id": "m164Rr2uGKlF"
      },
      "source": [
        "mycursor.execute(\"DROP TABLE IF EXISTS house_details_results_preliminary;\")"
      ],
      "execution_count": null,
      "outputs": []
    },
    {
      "cell_type": "code",
      "metadata": {
        "id": "RrICvIdNCeKr"
      },
      "source": [
        "mycursor.execute(\"\"\"CREATE TABLE house_details_results_preliminary (\n",
        "    prices float NOT NULL, \n",
        "    beds float DEFAULT NULL, \n",
        "    baths float DEFAULT NULL, \n",
        "    sq_feet float DEFAULT NULL, \n",
        "    type varchar(300) DEFAULT NULL, \n",
        "    address varchar(300) DEFAULT NULL,\n",
        "    street_name varchar(300) DEFAULT NULL,\n",
        "    city varchar(300) DEFAULT NULL,\n",
        "    state_zip_code varchar(300) DEFAULT NULL,\n",
        "    real_estate varchar(300) DEFAULT NULL,\n",
        "    last_updated varchar(300) DEFAULT NULL,\n",
        "    link varchar(300) DEFAULT NULL)\"\"\")"
      ],
      "execution_count": null,
      "outputs": []
    },
    {
      "cell_type": "code",
      "metadata": {
        "id": "9ZhJMaOUCgbk"
      },
      "source": [
        "mycursor.execute('Show Tables;')"
      ],
      "execution_count": null,
      "outputs": []
    },
    {
      "cell_type": "code",
      "metadata": {
        "id": "z7dz1MSbHCjI"
      },
      "source": [
        "def insert_results_to_db(zillow_df):\n",
        "  mydb = mysql.connector.connect(user='root5', password='!GoodPassword123!',\n",
        "                        host='34.123.115.192', database= 'zillowdb',\n",
        "                        port=3306\n",
        "                        )\n",
        "  cursor = mydb.cursor()\n",
        "  record_count = 0\n",
        "  cols = \",\".join([str(i) for i in zillow_df.columns.tolist()])\n",
        "  for i, row in zillow_df.iterrows():\n",
        "    sql = \"INSERT INTO house_details_results_preliminary (\" + cols + \") VALUES (\" + \"%s,\"*(len(row)-1) + \"%s)\"\n",
        "    cursor.execute(sql, tuple(row))\n",
        "    mydb.commit()\n",
        "    record_count += 1\n",
        "  mydb.close()\n",
        "  print(record_count)"
      ],
      "execution_count": null,
      "outputs": []
    },
    {
      "cell_type": "code",
      "metadata": {
        "id": "qhGTrNBKe1Pc"
      },
      "source": [
        "a = insert_results_to_db(zillow_df)\n",
        "print(a)"
      ],
      "execution_count": null,
      "outputs": []
    },
    {
      "cell_type": "code",
      "metadata": {
        "id": "8QrCyiORfoYd"
      },
      "source": [
        "dataset = zillow_df.copy()\n",
        "dataset.tail()"
      ],
      "execution_count": null,
      "outputs": []
    },
    {
      "cell_type": "code",
      "metadata": {
        "id": "ZKCsoLzflYwm"
      },
      "source": [
        "#check missing value\n",
        "dataset.isna().sum()"
      ],
      "execution_count": null,
      "outputs": []
    },
    {
      "cell_type": "code",
      "metadata": {
        "id": "OAtNBJeplbM_"
      },
      "source": [
        "dataset.info()"
      ],
      "execution_count": null,
      "outputs": []
    },
    {
      "cell_type": "code",
      "metadata": {
        "id": "a1otgnZkmEtc"
      },
      "source": [
        "#drop irrelevant columns\n",
        "feature_drop = ['real_estate','street_name', 'city','state_zip_code','last_updated', 'link']\n",
        "dataset1 = dataset.drop(feature_drop, axis=1)\n",
        "dataset1"
      ],
      "execution_count": null,
      "outputs": []
    },
    {
      "cell_type": "code",
      "metadata": {
        "id": "ONWz14KjnFmh"
      },
      "source": [
        "#Now split the dataset into a training set and a test set.\n",
        "#Use the test set in the final evaluation of our models.\n",
        "train_dataset = dataset1.sample(frac=0.8, random_state=0)\n",
        "test_dataset = dataset1.drop(train_dataset.index)"
      ],
      "execution_count": null,
      "outputs": []
    },
    {
      "cell_type": "code",
      "metadata": {
        "id": "rT9MnqNIn707"
      },
      "source": [
        "#look at the overall statistics\n",
        "train_dataset.describe().transpose()"
      ],
      "execution_count": null,
      "outputs": []
    },
    {
      "cell_type": "code",
      "metadata": {
        "id": "gsPdDP37oFyP"
      },
      "source": [
        "#Separate the target value price\n",
        "train_features = train_dataset.copy()\n",
        "test_features = test_dataset.copy()\n",
        "\n",
        "train_labels = train_features.pop('prices')\n",
        "test_labels = test_features.pop('prices')"
      ],
      "execution_count": null,
      "outputs": []
    },
    {
      "cell_type": "code",
      "metadata": {
        "id": "awSFbYK_oSsC"
      },
      "source": [
        "#select statistics mean and std\n",
        "train_dataset.describe().transpose()[['mean', 'std']]"
      ],
      "execution_count": null,
      "outputs": []
    },
    {
      "cell_type": "code",
      "metadata": {
        "id": "tj8Ll0lvoaIx"
      },
      "source": [
        "#normalization\n",
        "normalizer = preprocessing.Normalization()\n",
        "normalizer.adapt(np.array(train_features))\n",
        "print(normalizer.mean.numpy())"
      ],
      "execution_count": null,
      "outputs": []
    },
    {
      "cell_type": "code",
      "metadata": {
        "id": "Bs3g7lcsokXY"
      },
      "source": [
        "first = np.array(train_features[:1])\n",
        "\n",
        "with np.printoptions(precision=2, suppress=True):\n",
        "  print('First example:', first)\n",
        "  print()\n",
        "  print('Normalized:', normalizer(first).numpy())"
      ],
      "execution_count": null,
      "outputs": []
    },
    {
      "cell_type": "markdown",
      "metadata": {
        "id": "Lx-ErrvfoyUX"
      },
      "source": [
        "## Linear regression"
      ]
    },
    {
      "cell_type": "code",
      "metadata": {
        "id": "suCeGQaDo821"
      },
      "source": [
        "#Start with a single-variable linear regression, to predict 'prices' from sqf.create the sqf Normalization layer:\n",
        "sqf = np.array(train_features['sq_feet'])\n",
        "sqf_normalizer = preprocessing.Normalization(input_shape=[1,])\n",
        "sqf_normalizer.adapt(sqf)"
      ],
      "execution_count": null,
      "outputs": []
    },
    {
      "cell_type": "code",
      "metadata": {
        "id": "DnfvoN2NpVVe"
      },
      "source": [
        "#Build the sequential model \n",
        "sqf_model = tf.keras.Sequential([\n",
        "    sqf_normalizer,\n",
        "    layers.Dense(units=1)\n",
        "])\n",
        "sqf_model.summary()"
      ],
      "execution_count": null,
      "outputs": []
    },
    {
      "cell_type": "code",
      "metadata": {
        "id": "K0KpwAtMpkTE"
      },
      "source": [
        "sqf_model.predict(sqf[:10])"
      ],
      "execution_count": null,
      "outputs": []
    },
    {
      "cell_type": "code",
      "metadata": {
        "id": "fhtnKeKvpo7w"
      },
      "source": [
        "sqf_model.compile(\n",
        "    optimizer=tf.optimizers.Adam(learning_rate=0.1),\n",
        "    loss='mean_absolute_error')"
      ],
      "execution_count": null,
      "outputs": []
    },
    {
      "cell_type": "code",
      "metadata": {
        "id": "jxHukX09p5ba"
      },
      "source": [
        "%%time\n",
        "history = sqf_model.fit(\n",
        "    train_features['sq_feet'], train_labels,\n",
        "    epochs=100,\n",
        "    # suppress logging\n",
        "    verbose=0,\n",
        "    # Calculate validation results on 20% of the training data\n",
        "    validation_split = 0.2)"
      ],
      "execution_count": null,
      "outputs": []
    },
    {
      "cell_type": "code",
      "metadata": {
        "id": "8FZ3UvqwqPYM"
      },
      "source": [
        "#Visualize the model's training progress \n",
        "hist = pd.DataFrame(history.history)\n",
        "hist['epoch'] = history.epoch\n",
        "hist.tail()"
      ],
      "execution_count": null,
      "outputs": []
    },
    {
      "cell_type": "code",
      "metadata": {
        "id": "dyaM5pOkqa3a"
      },
      "source": [
        "def plot_loss(history):\n",
        "  plt.plot(history.history['loss'], label='loss')\n",
        "  plt.plot(history.history['val_loss'], label='val_loss')\n",
        "  plt.ylim([0, 10000000])\n",
        "  plt.xlabel('Epoch')\n",
        "  plt.ylabel('Error [prices]')\n",
        "  plt.legend()\n",
        "  plt.grid(True)"
      ],
      "execution_count": null,
      "outputs": []
    },
    {
      "cell_type": "code",
      "metadata": {
        "id": "rnyM7Y96rTEa"
      },
      "source": [
        "plot_loss(history)"
      ],
      "execution_count": null,
      "outputs": []
    },
    {
      "cell_type": "code",
      "metadata": {
        "id": "RQLGQBWtsV8o"
      },
      "source": [
        "test_results = {}\n",
        "\n",
        "test_results['sqf_model'] = sqf_model.evaluate(\n",
        "    test_features['sq_feet'],\n",
        "    test_labels, verbose=0)\n",
        "x = tf.linspace(0.0, 7000, 7001)\n",
        "y = sqf_model.predict(x)"
      ],
      "execution_count": null,
      "outputs": []
    },
    {
      "cell_type": "code",
      "metadata": {
        "id": "FiXrXF6Nsj82"
      },
      "source": [
        "def plot_sqf(x, y):\n",
        "  plt.scatter(train_features['sq_feet'], train_labels, label='Data')\n",
        "  plt.plot(x, y, color='k', label='Predictions')\n",
        "  plt.xlabel('sq_feet')\n",
        "  plt.ylabel('prices')\n",
        "  plt.legend()\n",
        "\n",
        "plot_sqf(x, y)"
      ],
      "execution_count": null,
      "outputs": []
    },
    {
      "cell_type": "markdown",
      "metadata": {
        "id": "Inb6rzY-s-9r"
      },
      "source": [
        "Since used single variable to predict prices didn't have good result and linear relationship, we will try to put multiple variables next"
      ]
    },
    {
      "cell_type": "code",
      "metadata": {
        "id": "Lx4Fwtn0tYXb"
      },
      "source": [
        "linear_model = tf.keras.Sequential([\n",
        "    normalizer,\n",
        "    layers.Dense(units=1)\n",
        "])\n",
        "linear_model.predict(train_features[:10])"
      ],
      "execution_count": null,
      "outputs": []
    },
    {
      "cell_type": "code",
      "metadata": {
        "id": "uiWO_Owxthr4"
      },
      "source": [
        "linear_model.layers[1].kernel"
      ],
      "execution_count": null,
      "outputs": []
    },
    {
      "cell_type": "code",
      "metadata": {
        "id": "GJEw-W04uLoS"
      },
      "source": [
        "linear_model.compile(\n",
        "    optimizer=tf.optimizers.Adam(learning_rate=0.1),\n",
        "    loss='mean_absolute_error')"
      ],
      "execution_count": null,
      "outputs": []
    },
    {
      "cell_type": "code",
      "metadata": {
        "id": "4R3AcUeduQ4Y"
      },
      "source": [
        "%%time\n",
        "history = linear_model.fit(\n",
        "    train_features, train_labels, \n",
        "    epochs=100,\n",
        "    # suppress logging\n",
        "    verbose=0,\n",
        "    # Calculate validation results on 20% of the training data\n",
        "    validation_split = 0.2)"
      ],
      "execution_count": null,
      "outputs": []
    },
    {
      "cell_type": "code",
      "metadata": {
        "id": "-vlmJdoBusEu"
      },
      "source": [
        "plot_loss(history)"
      ],
      "execution_count": null,
      "outputs": []
    },
    {
      "cell_type": "code",
      "metadata": {
        "id": "XiJfyjNlvg_9"
      },
      "source": [
        "#Collect the results on the test set\n",
        "test_results['linear_model'] = linear_model.evaluate(\n",
        "    test_features, test_labels, verbose=0)"
      ],
      "execution_count": null,
      "outputs": []
    },
    {
      "cell_type": "markdown",
      "metadata": {
        "id": "eM39KniVvvnB"
      },
      "source": [
        "# DNN regression"
      ]
    },
    {
      "cell_type": "code",
      "metadata": {
        "id": "2p332IgvvyWr"
      },
      "source": [
        "def build_and_compile_model(norm):\n",
        "  model = keras.Sequential([\n",
        "      norm,\n",
        "      layers.Dense(64, activation='relu'),\n",
        "      layers.Dense(64, activation='relu'),\n",
        "      layers.Dense(1)\n",
        "  ])\n",
        "\n",
        "  model.compile(loss='mean_absolute_error',\n",
        "                optimizer=tf.keras.optimizers.Adam(0.001))\n",
        "  return model"
      ],
      "execution_count": null,
      "outputs": []
    },
    {
      "cell_type": "markdown",
      "metadata": {
        "id": "VExvqm5SwGJY"
      },
      "source": [
        "# One variable"
      ]
    },
    {
      "cell_type": "code",
      "metadata": {
        "id": "hfUQ4hb7wHc9"
      },
      "source": [
        "#Start with a DNN model for a single input: \"sq_feet\"\n",
        "dnn_sqf_model = build_and_compile_model(sqf_normalizer)"
      ],
      "execution_count": null,
      "outputs": []
    },
    {
      "cell_type": "code",
      "metadata": {
        "id": "e4EJ7AWDw5ss"
      },
      "source": [
        "dnn_sqf_model.summary()"
      ],
      "execution_count": null,
      "outputs": []
    },
    {
      "cell_type": "code",
      "metadata": {
        "id": "E2tiarqvxEku"
      },
      "source": [
        "#Train the model:\n",
        "history = dnn_sqf_model.fit(\n",
        "    train_features['sq_feet'], train_labels,\n",
        "    validation_split=0.2,\n",
        "    verbose=0, epochs=100)"
      ],
      "execution_count": null,
      "outputs": []
    },
    {
      "cell_type": "code",
      "metadata": {
        "id": "iIHeMfFcxP3B"
      },
      "source": [
        "plot_loss(history)"
      ],
      "execution_count": null,
      "outputs": []
    },
    {
      "cell_type": "code",
      "metadata": {
        "id": "L-VA75t3xUO0"
      },
      "source": [
        "x = tf.linspace(0.0, 7000, 7001)\n",
        "y = dnn_sqf_model.predict(x)"
      ],
      "execution_count": null,
      "outputs": []
    },
    {
      "cell_type": "code",
      "metadata": {
        "id": "E4skBqmExbmu"
      },
      "source": [
        "plot_sqf(x, y)"
      ],
      "execution_count": null,
      "outputs": []
    },
    {
      "cell_type": "code",
      "metadata": {
        "id": "KJMjkJRtjtPr"
      },
      "source": [
        "test_results['dnn_sqf_model'] = dnn_sqf_model.evaluate(\n",
        "    test_features['sq_feet'], test_labels,\n",
        "    verbose=0)"
      ],
      "execution_count": null,
      "outputs": []
    },
    {
      "cell_type": "code",
      "metadata": {
        "id": "6kH-Jk3_j2Ps"
      },
      "source": [
        "dnn_model = build_and_compile_model(normalizer)\n",
        "dnn_model.summary()"
      ],
      "execution_count": null,
      "outputs": []
    },
    {
      "cell_type": "code",
      "metadata": {
        "id": "lBk8xuCFj8bO"
      },
      "source": [
        "%%time\n",
        "history = dnn_model.fit(\n",
        "    train_features, train_labels,\n",
        "    validation_split=0.2,\n",
        "    verbose=0, epochs=100)"
      ],
      "execution_count": null,
      "outputs": []
    },
    {
      "cell_type": "code",
      "metadata": {
        "id": "Chox0zn5kBNg"
      },
      "source": [
        "plot_loss(history)"
      ],
      "execution_count": null,
      "outputs": []
    },
    {
      "cell_type": "code",
      "metadata": {
        "id": "SGRPc-GhkElZ"
      },
      "source": [
        "#Collect the results on the test set:\n",
        "test_results['dnn_model'] = dnn_model.evaluate(test_features, test_labels, verbose=0)"
      ],
      "execution_count": null,
      "outputs": []
    },
    {
      "cell_type": "code",
      "metadata": {
        "id": "5OvPrmx7kML9"
      },
      "source": [
        "pd.DataFrame(test_results, index=['Mean absolute error [sq_feet]']).T"
      ],
      "execution_count": null,
      "outputs": []
    },
    {
      "cell_type": "code",
      "metadata": {
        "id": "tddA97TYkXgp"
      },
      "source": [
        "#Make predictions\n",
        "#Finally, predict have a look at the errors made by the model when making predictions on the test set:"
      ],
      "execution_count": null,
      "outputs": []
    },
    {
      "cell_type": "code",
      "metadata": {
        "id": "Y9MTne0lkaie"
      },
      "source": [
        "test_predictions = dnn_model.predict(test_features).flatten()\n",
        "\n",
        "a = plt.axes(aspect='equal')\n",
        "plt.scatter(test_labels, test_predictions)\n",
        "plt.xlabel('True Values [sq_feet]')\n",
        "plt.ylabel('Predictions [sq_feet]')\n",
        "lims = [0, 50]\n",
        "plt.xlim(lims)\n",
        "plt.ylim(lims)\n",
        "_ = plt.plot(lims, lims)"
      ],
      "execution_count": null,
      "outputs": []
    },
    {
      "cell_type": "code",
      "metadata": {
        "id": "qpOme0crlEay"
      },
      "source": [
        "#It looks like the model predicts unreasonably \n",
        "#let's take a look at the error distribution"
      ],
      "execution_count": null,
      "outputs": []
    },
    {
      "cell_type": "code",
      "metadata": {
        "id": "dLjgqRtSlHcS"
      },
      "source": [
        "error = test_predictions - test_labels\n",
        "plt.hist(error, bins=25)\n",
        "plt.xlabel('Prediction Error [sq_feet]')\n",
        "_ = plt.ylabel('Count')"
      ],
      "execution_count": null,
      "outputs": []
    },
    {
      "cell_type": "code",
      "metadata": {
        "id": "G32R3qK8lUCe"
      },
      "source": [
        "dnn_model.save('dnn_model')"
      ],
      "execution_count": null,
      "outputs": []
    },
    {
      "cell_type": "code",
      "metadata": {
        "id": "rvZ2RkDTlXav"
      },
      "source": [
        "reloaded = tf.keras.models.load_model('dnn_model')\n",
        "\n",
        "test_results['reloaded'] = reloaded.evaluate(\n",
        "    test_features, test_labels, verbose=0)"
      ],
      "execution_count": null,
      "outputs": []
    },
    {
      "cell_type": "code",
      "metadata": {
        "id": "OV-mFNZ3lbV7"
      },
      "source": [
        "pd.DataFrame(test_results, index=['Mean absolute error [sq_feet]']).T"
      ],
      "execution_count": null,
      "outputs": []
    },
    {
      "cell_type": "markdown",
      "metadata": {
        "id": "IpbwU_FUYm96"
      },
      "source": [
        "## Non Linear Regression with Keras and Tensorflow Backend"
      ]
    },
    {
      "cell_type": "code",
      "metadata": {
        "id": "StNGlvGuRjD_"
      },
      "source": [
        "\n",
        "TrainingSet = train_dataset\n",
        "ValidationSet = test_dataset\n",
        "\n",
        "X = pd.DataFrame(dataset1, columns=['beds','baths','sq_feet'])\n",
        "y = pd.Series(dataset1['prices'])\n",
        "\n",
        "X1, X2, Y1, Y2 = train_test_split(X, y, test_size=0.2,random_state=0)\n",
        "\n",
        "# create model\n",
        "model = Sequential()\n",
        "model.add(Dense(20, activation=\"tanh\", input_dim=3, kernel_initializer=\"uniform\"))\n",
        "model.add(Dense(1, activation=\"linear\", kernel_initializer=\"uniform\"))\n",
        "\n",
        "# Compile model\n",
        "model.compile(loss='mse', optimizer='adam', metrics=['accuracy'])\n",
        "\n",
        "# Fit the model\n",
        "model.fit(X1, Y1, epochs=100, batch_size=10,  verbose=2)\n",
        "\n",
        "# Calculate predictions\n",
        "PredTestSet = model.predict(X1)\n",
        "PredValSet = model.predict(X2)\n",
        "\n",
        "# Save predictions\n",
        "numpy.savetxt(\"trainresults.csv\", PredTestSet, delimiter=\",\")\n",
        "numpy.savetxt(\"valresults.csv\", PredValSet, delimiter=\",\")\n",
        "\n",
        "#Plot actual vs predition for training set\n",
        "TestResults = numpy.genfromtxt(\"trainresults.csv\", delimiter=\",\")\n",
        "plt.plot(Y1,TestResults,'ro')\n",
        "plt.title('Training Set')\n",
        "plt.xlabel('Actual')\n",
        "plt.ylabel('Predicted')\n",
        "\n",
        "#Compute R-Square value for training set\n",
        "TestR2Value = r2_score(Y1,TestResults)\n",
        "print(\"Training Set R-Square=\", TestR2Value)\n"
      ],
      "execution_count": null,
      "outputs": []
    },
    {
      "cell_type": "code",
      "metadata": {
        "id": "Xoxiul7pXL4s"
      },
      "source": [
        "#Plot actual vs predition for validation set\n",
        "ValResults = numpy.genfromtxt(\"valresults.csv\", delimiter=\",\")\n",
        "plt.plot(Y2,ValResults,'ro')\n",
        "plt.title('Validation Set')\n",
        "plt.xlabel('Actual')\n",
        "plt.ylabel('Predicted')\n",
        "\n",
        "#Compute R-Square value for validation set\n",
        "ValR2Value = r2_score(Y2,ValResults)\n",
        "print(\"Validation Set R-Square=\",ValR2Value)"
      ],
      "execution_count": null,
      "outputs": []
    }
  ]
}