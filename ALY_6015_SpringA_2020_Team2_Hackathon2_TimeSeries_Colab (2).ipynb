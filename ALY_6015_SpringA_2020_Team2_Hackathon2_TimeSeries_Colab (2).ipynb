{
  "nbformat": 4,
  "nbformat_minor": 0,
  "metadata": {
    "colab": {
      "name": "ALY 6015 - .ipynb",
      "provenance": [],
      "toc_visible": true
    },
    "kernelspec": {
      "name": "python3",
      "display_name": "Python 3"
    }
  },
  "cells": [
    {
      "cell_type": "code",
      "metadata": {
        "id": "F2C9Th7G32GP",
        "colab_type": "code",
        "colab": {
          "base_uri": "https://localhost:8080/",
          "height": 34
        },
        "outputId": "b7f8cab8-c837-406f-ea6d-8cfa44912034"
      },
      "source": [
        "#Builds 'n Installs\n",
        "#!pip install scipy==1.2\n",
        "!pip install -q --upgrade scipy;\n",
        "!pip install -q --upgrade quandl;\n",
        "!pip install -q --upgrade pandas-datareader;\n",
        "!pip install -q --upgrade statsmodels;"
      ],
      "execution_count": 2,
      "outputs": [
        {
          "output_type": "stream",
          "text": [
            "\u001b[K     |████████████████████████████████| 8.7MB 2.7MB/s \n",
            "\u001b[?25h"
          ],
          "name": "stdout"
        }
      ]
    },
    {
      "cell_type": "code",
      "metadata": {
        "id": "0bNpeTvA3k7Q",
        "colab_type": "code",
        "colab": {}
      },
      "source": [
        "from statsmodels.tsa.stattools import adfuller\n",
        "import requests\n",
        "import warnings\n",
        "import itertools\n",
        "import statsmodels.api as sm\n",
        "from statsmodels.tsa.arima_model import ARIMA\n",
        "from statsmodels.graphics.tsaplots import plot_acf, plot_pacf\n",
        "from statsmodels.tsa.stattools import kpss\n",
        "import io\n",
        "import scipy\n",
        "import quandl\n",
        "import numpy as np\n",
        "import pandas as pd\n",
        "import pandas_datareader as pdr\n",
        "from pandas_datareader import data, wb\n",
        "import fix_yahoo_finance as yf\n",
        "import matplotlib.pyplot as plt\n",
        "from matplotlib.pyplot import plot\n",
        "from matplotlib.pyplot import figure\n",
        "from matplotlib.pyplot import style\n",
        "import matplotlib.ticker as mtick\n",
        "import datetime\n",
        "from datetime import date\n",
        "from dateutil.parser import parse\n",
        "pd.options.display.float_format = '{:.2f}'.format\n",
        "plt.rcParams[\"figure.figsize\"] = (16,12)\n",
        "plt.style.use('seaborn-white')\n",
        "import matplotlib.dates as mdates"
      ],
      "execution_count": 0,
      "outputs": []
    },
    {
      "cell_type": "markdown",
      "metadata": {
        "id": "_PIxPSeFLr93",
        "colab_type": "text"
      },
      "source": [
        "# Data 1"
      ]
    },
    {
      "cell_type": "code",
      "metadata": {
        "id": "ifeceM325YUs",
        "colab_type": "code",
        "colab": {
          "base_uri": "https://localhost:8080/",
          "height": 1000
        },
        "outputId": "e8a2147e-e7a4-47d8-88ab-b802281e3cc6"
      },
      "source": [
        "# load the data\n",
        "datapath = 'https://docs.google.com/spreadsheets/d/e/2PACX-1vT5bom_odHPyEve_zcusXJdnxAbhGZIlnmuPidHj-3bxsl-GsKwxJUwyvWltfgbwM4D28vXByyV8SvD/pub?gid=2139616052&single=true&output=csv'\n",
        "y = pd.read_csv(datapath)\n",
        "y"
      ],
      "execution_count": 38,
      "outputs": [
        {
          "output_type": "execute_result",
          "data": {
            "text/html": [
              "<div>\n",
              "<style scoped>\n",
              "    .dataframe tbody tr th:only-of-type {\n",
              "        vertical-align: middle;\n",
              "    }\n",
              "\n",
              "    .dataframe tbody tr th {\n",
              "        vertical-align: top;\n",
              "    }\n",
              "\n",
              "    .dataframe thead th {\n",
              "        text-align: right;\n",
              "    }\n",
              "</style>\n",
              "<table border=\"1\" class=\"dataframe\">\n",
              "  <thead>\n",
              "    <tr style=\"text-align: right;\">\n",
              "      <th></th>\n",
              "      <th>Period</th>\n",
              "      <th>Value</th>\n",
              "    </tr>\n",
              "  </thead>\n",
              "  <tbody>\n",
              "    <tr>\n",
              "      <th>0</th>\n",
              "      <td>Q1 '07</td>\n",
              "      <td>1.66</td>\n",
              "    </tr>\n",
              "    <tr>\n",
              "      <th>1</th>\n",
              "      <td>Q2 '07</td>\n",
              "      <td>1.59</td>\n",
              "    </tr>\n",
              "    <tr>\n",
              "      <th>2</th>\n",
              "      <td>Q3 '07</td>\n",
              "      <td>1.79</td>\n",
              "    </tr>\n",
              "    <tr>\n",
              "      <th>3</th>\n",
              "      <td>Q4 '07</td>\n",
              "      <td>3.12</td>\n",
              "    </tr>\n",
              "    <tr>\n",
              "      <th>4</th>\n",
              "      <td>Q1 '08</td>\n",
              "      <td>2.28</td>\n",
              "    </tr>\n",
              "    <tr>\n",
              "      <th>5</th>\n",
              "      <td>Q2 '08</td>\n",
              "      <td>2.23</td>\n",
              "    </tr>\n",
              "    <tr>\n",
              "      <th>6</th>\n",
              "      <td>Q3 '08</td>\n",
              "      <td>2.34</td>\n",
              "    </tr>\n",
              "    <tr>\n",
              "      <th>7</th>\n",
              "      <td>Q4 '08</td>\n",
              "      <td>3.69</td>\n",
              "    </tr>\n",
              "    <tr>\n",
              "      <th>8</th>\n",
              "      <td>Q1 '09</td>\n",
              "      <td>2.69</td>\n",
              "    </tr>\n",
              "    <tr>\n",
              "      <th>9</th>\n",
              "      <td>Q2 '09</td>\n",
              "      <td>2.56</td>\n",
              "    </tr>\n",
              "    <tr>\n",
              "      <th>10</th>\n",
              "      <td>Q3 '09</td>\n",
              "      <td>3.00</td>\n",
              "    </tr>\n",
              "    <tr>\n",
              "      <th>11</th>\n",
              "      <td>Q4 '09</td>\n",
              "      <td>5.24</td>\n",
              "    </tr>\n",
              "    <tr>\n",
              "      <th>12</th>\n",
              "      <td>Q1 '10</td>\n",
              "      <td>3.92</td>\n",
              "    </tr>\n",
              "    <tr>\n",
              "      <th>13</th>\n",
              "      <td>Q2 '10</td>\n",
              "      <td>3.61</td>\n",
              "    </tr>\n",
              "    <tr>\n",
              "      <th>14</th>\n",
              "      <td>Q3 '10</td>\n",
              "      <td>4.16</td>\n",
              "    </tr>\n",
              "    <tr>\n",
              "      <th>15</th>\n",
              "      <td>Q4 '10</td>\n",
              "      <td>7.12</td>\n",
              "    </tr>\n",
              "    <tr>\n",
              "      <th>16</th>\n",
              "      <td>Q1 '11</td>\n",
              "      <td>5.42</td>\n",
              "    </tr>\n",
              "    <tr>\n",
              "      <th>17</th>\n",
              "      <td>Q2 '11</td>\n",
              "      <td>5.45</td>\n",
              "    </tr>\n",
              "    <tr>\n",
              "      <th>18</th>\n",
              "      <td>Q3 '11</td>\n",
              "      <td>5.98</td>\n",
              "    </tr>\n",
              "    <tr>\n",
              "      <th>19</th>\n",
              "      <td>Q4 '11</td>\n",
              "      <td>9.59</td>\n",
              "    </tr>\n",
              "    <tr>\n",
              "      <th>20</th>\n",
              "      <td>Q1 '12</td>\n",
              "      <td>7.25</td>\n",
              "    </tr>\n",
              "    <tr>\n",
              "      <th>21</th>\n",
              "      <td>Q2 '12</td>\n",
              "      <td>7.06</td>\n",
              "    </tr>\n",
              "    <tr>\n",
              "      <th>22</th>\n",
              "      <td>Q3 '12</td>\n",
              "      <td>7.60</td>\n",
              "    </tr>\n",
              "    <tr>\n",
              "      <th>23</th>\n",
              "      <td>Q4 '12</td>\n",
              "      <td>11.70</td>\n",
              "    </tr>\n",
              "    <tr>\n",
              "      <th>24</th>\n",
              "      <td>Q1 '13</td>\n",
              "      <td>8.84</td>\n",
              "    </tr>\n",
              "    <tr>\n",
              "      <th>25</th>\n",
              "      <td>Q2 '13</td>\n",
              "      <td>8.63</td>\n",
              "    </tr>\n",
              "    <tr>\n",
              "      <th>26</th>\n",
              "      <td>Q3 '13</td>\n",
              "      <td>9.40</td>\n",
              "    </tr>\n",
              "    <tr>\n",
              "      <th>27</th>\n",
              "      <td>Q4 '13</td>\n",
              "      <td>14.07</td>\n",
              "    </tr>\n",
              "    <tr>\n",
              "      <th>28</th>\n",
              "      <td>Q1 '14</td>\n",
              "      <td>10.86</td>\n",
              "    </tr>\n",
              "    <tr>\n",
              "      <th>29</th>\n",
              "      <td>Q2 '14</td>\n",
              "      <td>10.64</td>\n",
              "    </tr>\n",
              "    <tr>\n",
              "      <th>30</th>\n",
              "      <td>Q3 '14</td>\n",
              "      <td>11.32</td>\n",
              "    </tr>\n",
              "    <tr>\n",
              "      <th>31</th>\n",
              "      <td>Q4 '14</td>\n",
              "      <td>16.13</td>\n",
              "    </tr>\n",
              "    <tr>\n",
              "      <th>32</th>\n",
              "      <td>Q1 '15</td>\n",
              "      <td>12.50</td>\n",
              "    </tr>\n",
              "    <tr>\n",
              "      <th>33</th>\n",
              "      <td>Q2 '15</td>\n",
              "      <td>12.75</td>\n",
              "    </tr>\n",
              "    <tr>\n",
              "      <th>34</th>\n",
              "      <td>Q3 '15</td>\n",
              "      <td>13.95</td>\n",
              "    </tr>\n",
              "    <tr>\n",
              "      <th>35</th>\n",
              "      <td>Q4 '15</td>\n",
              "      <td>19.66</td>\n",
              "    </tr>\n",
              "    <tr>\n",
              "      <th>36</th>\n",
              "      <td>Q1 '16</td>\n",
              "      <td>16.02</td>\n",
              "    </tr>\n",
              "    <tr>\n",
              "      <th>37</th>\n",
              "      <td>Q2 '16</td>\n",
              "      <td>16.72</td>\n",
              "    </tr>\n",
              "    <tr>\n",
              "      <th>38</th>\n",
              "      <td>Q3 '16</td>\n",
              "      <td>17.99</td>\n",
              "    </tr>\n",
              "    <tr>\n",
              "      <th>39</th>\n",
              "      <td>Q4 '16</td>\n",
              "      <td>24.06</td>\n",
              "    </tr>\n",
              "    <tr>\n",
              "      <th>40</th>\n",
              "      <td>Q1 '17</td>\n",
              "      <td>19.64</td>\n",
              "    </tr>\n",
              "    <tr>\n",
              "      <th>41</th>\n",
              "      <td>Q2 '17</td>\n",
              "      <td>20.88</td>\n",
              "    </tr>\n",
              "    <tr>\n",
              "      <th>42</th>\n",
              "      <td>Q3 '17</td>\n",
              "      <td>24.06</td>\n",
              "    </tr>\n",
              "    <tr>\n",
              "      <th>43</th>\n",
              "      <td>Q4 '17</td>\n",
              "      <td>33.27</td>\n",
              "    </tr>\n",
              "  </tbody>\n",
              "</table>\n",
              "</div>"
            ],
            "text/plain": [
              "    Period  Value\n",
              "0   Q1 '07   1.66\n",
              "1   Q2 '07   1.59\n",
              "2   Q3 '07   1.79\n",
              "3   Q4 '07   3.12\n",
              "4   Q1 '08   2.28\n",
              "5   Q2 '08   2.23\n",
              "6   Q3 '08   2.34\n",
              "7   Q4 '08   3.69\n",
              "8   Q1 '09   2.69\n",
              "9   Q2 '09   2.56\n",
              "10  Q3 '09   3.00\n",
              "11  Q4 '09   5.24\n",
              "12  Q1 '10   3.92\n",
              "13  Q2 '10   3.61\n",
              "14  Q3 '10   4.16\n",
              "15  Q4 '10   7.12\n",
              "16  Q1 '11   5.42\n",
              "17  Q2 '11   5.45\n",
              "18  Q3 '11   5.98\n",
              "19  Q4 '11   9.59\n",
              "20  Q1 '12   7.25\n",
              "21  Q2 '12   7.06\n",
              "22  Q3 '12   7.60\n",
              "23  Q4 '12  11.70\n",
              "24  Q1 '13   8.84\n",
              "25  Q2 '13   8.63\n",
              "26  Q3 '13   9.40\n",
              "27  Q4 '13  14.07\n",
              "28  Q1 '14  10.86\n",
              "29  Q2 '14  10.64\n",
              "30  Q3 '14  11.32\n",
              "31  Q4 '14  16.13\n",
              "32  Q1 '15  12.50\n",
              "33  Q2 '15  12.75\n",
              "34  Q3 '15  13.95\n",
              "35  Q4 '15  19.66\n",
              "36  Q1 '16  16.02\n",
              "37  Q2 '16  16.72\n",
              "38  Q3 '16  17.99\n",
              "39  Q4 '16  24.06\n",
              "40  Q1 '17  19.64\n",
              "41  Q2 '17  20.88\n",
              "42  Q3 '17  24.06\n",
              "43  Q4 '17  33.27"
            ]
          },
          "metadata": {
            "tags": []
          },
          "execution_count": 38
        }
      ]
    },
    {
      "cell_type": "code",
      "metadata": {
        "id": "N0PDI0OS_Y62",
        "colab_type": "code",
        "colab": {
          "base_uri": "https://localhost:8080/",
          "height": 1000
        },
        "outputId": "ee5e6d60-f8d0-4000-c1d0-03ee9f315f3a"
      },
      "source": [
        "def get_time(s):\n",
        "  year = '20' + s[4:]\n",
        "  month = int(s[1])*3\n",
        "  if month in [3,6,9]:\n",
        "    month_str = '0'+str(month)\n",
        "  else:\n",
        "    month_str = '12'\n",
        "  return year + '-' + month_str\n",
        "\n",
        "y['Period'] = y['Period'].apply(lambda row: get_time(row))\n",
        "y.Period = pd.to_datetime(y.Period)\n",
        "y = y.set_index('Period')\n",
        "y"
      ],
      "execution_count": 39,
      "outputs": [
        {
          "output_type": "execute_result",
          "data": {
            "text/html": [
              "<div>\n",
              "<style scoped>\n",
              "    .dataframe tbody tr th:only-of-type {\n",
              "        vertical-align: middle;\n",
              "    }\n",
              "\n",
              "    .dataframe tbody tr th {\n",
              "        vertical-align: top;\n",
              "    }\n",
              "\n",
              "    .dataframe thead th {\n",
              "        text-align: right;\n",
              "    }\n",
              "</style>\n",
              "<table border=\"1\" class=\"dataframe\">\n",
              "  <thead>\n",
              "    <tr style=\"text-align: right;\">\n",
              "      <th></th>\n",
              "      <th>Value</th>\n",
              "    </tr>\n",
              "    <tr>\n",
              "      <th>Period</th>\n",
              "      <th></th>\n",
              "    </tr>\n",
              "  </thead>\n",
              "  <tbody>\n",
              "    <tr>\n",
              "      <th>2007-03-01</th>\n",
              "      <td>1.66</td>\n",
              "    </tr>\n",
              "    <tr>\n",
              "      <th>2007-06-01</th>\n",
              "      <td>1.59</td>\n",
              "    </tr>\n",
              "    <tr>\n",
              "      <th>2007-09-01</th>\n",
              "      <td>1.79</td>\n",
              "    </tr>\n",
              "    <tr>\n",
              "      <th>2007-12-01</th>\n",
              "      <td>3.12</td>\n",
              "    </tr>\n",
              "    <tr>\n",
              "      <th>2008-03-01</th>\n",
              "      <td>2.28</td>\n",
              "    </tr>\n",
              "    <tr>\n",
              "      <th>2008-06-01</th>\n",
              "      <td>2.23</td>\n",
              "    </tr>\n",
              "    <tr>\n",
              "      <th>2008-09-01</th>\n",
              "      <td>2.34</td>\n",
              "    </tr>\n",
              "    <tr>\n",
              "      <th>2008-12-01</th>\n",
              "      <td>3.69</td>\n",
              "    </tr>\n",
              "    <tr>\n",
              "      <th>2009-03-01</th>\n",
              "      <td>2.69</td>\n",
              "    </tr>\n",
              "    <tr>\n",
              "      <th>2009-06-01</th>\n",
              "      <td>2.56</td>\n",
              "    </tr>\n",
              "    <tr>\n",
              "      <th>2009-09-01</th>\n",
              "      <td>3.00</td>\n",
              "    </tr>\n",
              "    <tr>\n",
              "      <th>2009-12-01</th>\n",
              "      <td>5.24</td>\n",
              "    </tr>\n",
              "    <tr>\n",
              "      <th>2010-03-01</th>\n",
              "      <td>3.92</td>\n",
              "    </tr>\n",
              "    <tr>\n",
              "      <th>2010-06-01</th>\n",
              "      <td>3.61</td>\n",
              "    </tr>\n",
              "    <tr>\n",
              "      <th>2010-09-01</th>\n",
              "      <td>4.16</td>\n",
              "    </tr>\n",
              "    <tr>\n",
              "      <th>2010-12-01</th>\n",
              "      <td>7.12</td>\n",
              "    </tr>\n",
              "    <tr>\n",
              "      <th>2011-03-01</th>\n",
              "      <td>5.42</td>\n",
              "    </tr>\n",
              "    <tr>\n",
              "      <th>2011-06-01</th>\n",
              "      <td>5.45</td>\n",
              "    </tr>\n",
              "    <tr>\n",
              "      <th>2011-09-01</th>\n",
              "      <td>5.98</td>\n",
              "    </tr>\n",
              "    <tr>\n",
              "      <th>2011-12-01</th>\n",
              "      <td>9.59</td>\n",
              "    </tr>\n",
              "    <tr>\n",
              "      <th>2012-03-01</th>\n",
              "      <td>7.25</td>\n",
              "    </tr>\n",
              "    <tr>\n",
              "      <th>2012-06-01</th>\n",
              "      <td>7.06</td>\n",
              "    </tr>\n",
              "    <tr>\n",
              "      <th>2012-09-01</th>\n",
              "      <td>7.60</td>\n",
              "    </tr>\n",
              "    <tr>\n",
              "      <th>2012-12-01</th>\n",
              "      <td>11.70</td>\n",
              "    </tr>\n",
              "    <tr>\n",
              "      <th>2013-03-01</th>\n",
              "      <td>8.84</td>\n",
              "    </tr>\n",
              "    <tr>\n",
              "      <th>2013-06-01</th>\n",
              "      <td>8.63</td>\n",
              "    </tr>\n",
              "    <tr>\n",
              "      <th>2013-09-01</th>\n",
              "      <td>9.40</td>\n",
              "    </tr>\n",
              "    <tr>\n",
              "      <th>2013-12-01</th>\n",
              "      <td>14.07</td>\n",
              "    </tr>\n",
              "    <tr>\n",
              "      <th>2014-03-01</th>\n",
              "      <td>10.86</td>\n",
              "    </tr>\n",
              "    <tr>\n",
              "      <th>2014-06-01</th>\n",
              "      <td>10.64</td>\n",
              "    </tr>\n",
              "    <tr>\n",
              "      <th>2014-09-01</th>\n",
              "      <td>11.32</td>\n",
              "    </tr>\n",
              "    <tr>\n",
              "      <th>2014-12-01</th>\n",
              "      <td>16.13</td>\n",
              "    </tr>\n",
              "    <tr>\n",
              "      <th>2015-03-01</th>\n",
              "      <td>12.50</td>\n",
              "    </tr>\n",
              "    <tr>\n",
              "      <th>2015-06-01</th>\n",
              "      <td>12.75</td>\n",
              "    </tr>\n",
              "    <tr>\n",
              "      <th>2015-09-01</th>\n",
              "      <td>13.95</td>\n",
              "    </tr>\n",
              "    <tr>\n",
              "      <th>2015-12-01</th>\n",
              "      <td>19.66</td>\n",
              "    </tr>\n",
              "    <tr>\n",
              "      <th>2016-03-01</th>\n",
              "      <td>16.02</td>\n",
              "    </tr>\n",
              "    <tr>\n",
              "      <th>2016-06-01</th>\n",
              "      <td>16.72</td>\n",
              "    </tr>\n",
              "    <tr>\n",
              "      <th>2016-09-01</th>\n",
              "      <td>17.99</td>\n",
              "    </tr>\n",
              "    <tr>\n",
              "      <th>2016-12-01</th>\n",
              "      <td>24.06</td>\n",
              "    </tr>\n",
              "    <tr>\n",
              "      <th>2017-03-01</th>\n",
              "      <td>19.64</td>\n",
              "    </tr>\n",
              "    <tr>\n",
              "      <th>2017-06-01</th>\n",
              "      <td>20.88</td>\n",
              "    </tr>\n",
              "    <tr>\n",
              "      <th>2017-09-01</th>\n",
              "      <td>24.06</td>\n",
              "    </tr>\n",
              "    <tr>\n",
              "      <th>2017-12-01</th>\n",
              "      <td>33.27</td>\n",
              "    </tr>\n",
              "  </tbody>\n",
              "</table>\n",
              "</div>"
            ],
            "text/plain": [
              "            Value\n",
              "Period           \n",
              "2007-03-01   1.66\n",
              "2007-06-01   1.59\n",
              "2007-09-01   1.79\n",
              "2007-12-01   3.12\n",
              "2008-03-01   2.28\n",
              "2008-06-01   2.23\n",
              "2008-09-01   2.34\n",
              "2008-12-01   3.69\n",
              "2009-03-01   2.69\n",
              "2009-06-01   2.56\n",
              "2009-09-01   3.00\n",
              "2009-12-01   5.24\n",
              "2010-03-01   3.92\n",
              "2010-06-01   3.61\n",
              "2010-09-01   4.16\n",
              "2010-12-01   7.12\n",
              "2011-03-01   5.42\n",
              "2011-06-01   5.45\n",
              "2011-09-01   5.98\n",
              "2011-12-01   9.59\n",
              "2012-03-01   7.25\n",
              "2012-06-01   7.06\n",
              "2012-09-01   7.60\n",
              "2012-12-01  11.70\n",
              "2013-03-01   8.84\n",
              "2013-06-01   8.63\n",
              "2013-09-01   9.40\n",
              "2013-12-01  14.07\n",
              "2014-03-01  10.86\n",
              "2014-06-01  10.64\n",
              "2014-09-01  11.32\n",
              "2014-12-01  16.13\n",
              "2015-03-01  12.50\n",
              "2015-06-01  12.75\n",
              "2015-09-01  13.95\n",
              "2015-12-01  19.66\n",
              "2016-03-01  16.02\n",
              "2016-06-01  16.72\n",
              "2016-09-01  17.99\n",
              "2016-12-01  24.06\n",
              "2017-03-01  19.64\n",
              "2017-06-01  20.88\n",
              "2017-09-01  24.06\n",
              "2017-12-01  33.27"
            ]
          },
          "metadata": {
            "tags": []
          },
          "execution_count": 39
        }
      ]
    },
    {
      "cell_type": "markdown",
      "metadata": {
        "id": "0_JQ2Zut4KwX",
        "colab_type": "text"
      },
      "source": [
        "## Q1: Predict the values for the next 8 time periods (with confidence intervals)\n"
      ]
    },
    {
      "cell_type": "code",
      "metadata": {
        "id": "rD-0SfAK4HbW",
        "colab_type": "code",
        "colab": {
          "base_uri": "https://localhost:8080/",
          "height": 102
        },
        "outputId": "34d3ed27-a5a6-45c8-b32a-95de5a38a4bf"
      },
      "source": [
        "# Define the p, d and q parameters to take any value between 0 and 2\n",
        "p = d = q = range(0, 2)\n",
        "\n",
        "# Generate all different combinations of p, q and q triplets\n",
        "pdq = list(itertools.product(p, d, q))\n",
        "\n",
        "# Generate all different combinations of seasonal p, q and q triplets\n",
        "seasonal_pdq = [(x[0], x[1], x[2], 12) for x in list(itertools.product(p, d, q))]\n",
        "\n",
        "print('Examples of parameter combinations for Seasonal ARIMA...')\n",
        "print('SARIMAX: {} x {}'.format(pdq[1], seasonal_pdq[1]))\n",
        "print('SARIMAX: {} x {}'.format(pdq[1], seasonal_pdq[2]))\n",
        "print('SARIMAX: {} x {}'.format(pdq[2], seasonal_pdq[3]))\n",
        "print('SARIMAX: {} x {}'.format(pdq[2], seasonal_pdq[4]))"
      ],
      "execution_count": 40,
      "outputs": [
        {
          "output_type": "stream",
          "text": [
            "Examples of parameter combinations for Seasonal ARIMA...\n",
            "SARIMAX: (0, 0, 1) x (0, 0, 1, 12)\n",
            "SARIMAX: (0, 0, 1) x (0, 1, 0, 12)\n",
            "SARIMAX: (0, 1, 0) x (0, 1, 1, 12)\n",
            "SARIMAX: (0, 1, 0) x (1, 0, 0, 12)\n"
          ],
          "name": "stdout"
        }
      ]
    },
    {
      "cell_type": "code",
      "metadata": {
        "id": "RGKPgHhO5A3s",
        "colab_type": "code",
        "colab": {}
      },
      "source": [
        "warnings.filterwarnings(\"ignore\") # specify to ignore warning messages\n",
        "model_output = pd.DataFrame(columns = ['parameters', 'results.aic'])\n",
        "\n",
        "a = \"bob\"\n",
        "b = \"bob\"\n",
        "c = 1.0\n",
        "\n",
        "for param in pdq:\n",
        "    for param_seasonal in seasonal_pdq:\n",
        "        try:\n",
        "            mod = sm.tsa.statespace.SARIMAX(y,\n",
        "                                            order=param,\n",
        "                                            seasonal_order=param_seasonal,\n",
        "                                            enforce_stationarity=False,\n",
        "                                            enforce_invertibility=False)\n",
        "            results = mod.fit()\n",
        "            #Only for diagnostic measures\n",
        "            #print('ARIMA{}x{}12 - AIC:{}'.format(param,\n",
        "                                                  #param_seasonal, results.aic))\n",
        "            a = param\n",
        "            b = param_seasonal\n",
        "            c = results.aic\n",
        "            model_output = model_output.append({'parameters': 'ARIMA{}x{}12'.format(a, b),\n",
        "                                                'results.aic': c}, ignore_index = True)\n",
        "        except:\n",
        "            continue"
      ],
      "execution_count": 0,
      "outputs": []
    },
    {
      "cell_type": "code",
      "metadata": {
        "id": "9iI7kpy55C2G",
        "colab_type": "code",
        "colab": {
          "base_uri": "https://localhost:8080/",
          "height": 204
        },
        "outputId": "9d6ded32-5eef-4b9c-b918-e781e0315ede"
      },
      "source": [
        "model_output.sort_values(by = 'results.aic').head(5)"
      ],
      "execution_count": 42,
      "outputs": [
        {
          "output_type": "execute_result",
          "data": {
            "text/html": [
              "<div>\n",
              "<style scoped>\n",
              "    .dataframe tbody tr th:only-of-type {\n",
              "        vertical-align: middle;\n",
              "    }\n",
              "\n",
              "    .dataframe tbody tr th {\n",
              "        vertical-align: top;\n",
              "    }\n",
              "\n",
              "    .dataframe thead th {\n",
              "        text-align: right;\n",
              "    }\n",
              "</style>\n",
              "<table border=\"1\" class=\"dataframe\">\n",
              "  <thead>\n",
              "    <tr style=\"text-align: right;\">\n",
              "      <th></th>\n",
              "      <th>parameters</th>\n",
              "      <th>results.aic</th>\n",
              "    </tr>\n",
              "  </thead>\n",
              "  <tbody>\n",
              "    <tr>\n",
              "      <th>41</th>\n",
              "      <td>ARIMA(1, 1, 0)x(1, 1, 0, 12)12</td>\n",
              "      <td>41.37</td>\n",
              "    </tr>\n",
              "    <tr>\n",
              "      <th>47</th>\n",
              "      <td>ARIMA(1, 1, 1)x(1, 1, 0, 12)12</td>\n",
              "      <td>43.36</td>\n",
              "    </tr>\n",
              "    <tr>\n",
              "      <th>35</th>\n",
              "      <td>ARIMA(1, 0, 1)x(1, 1, 0, 12)12</td>\n",
              "      <td>44.28</td>\n",
              "    </tr>\n",
              "    <tr>\n",
              "      <th>23</th>\n",
              "      <td>ARIMA(0, 1, 1)x(1, 1, 0, 12)12</td>\n",
              "      <td>51.04</td>\n",
              "    </tr>\n",
              "    <tr>\n",
              "      <th>29</th>\n",
              "      <td>ARIMA(1, 0, 0)x(1, 1, 0, 12)12</td>\n",
              "      <td>52.35</td>\n",
              "    </tr>\n",
              "  </tbody>\n",
              "</table>\n",
              "</div>"
            ],
            "text/plain": [
              "                        parameters  results.aic\n",
              "41  ARIMA(1, 1, 0)x(1, 1, 0, 12)12        41.37\n",
              "47  ARIMA(1, 1, 1)x(1, 1, 0, 12)12        43.36\n",
              "35  ARIMA(1, 0, 1)x(1, 1, 0, 12)12        44.28\n",
              "23  ARIMA(0, 1, 1)x(1, 1, 0, 12)12        51.04\n",
              "29  ARIMA(1, 0, 0)x(1, 1, 0, 12)12        52.35"
            ]
          },
          "metadata": {
            "tags": []
          },
          "execution_count": 42
        }
      ]
    },
    {
      "cell_type": "code",
      "metadata": {
        "id": "omzTbr3_5EmL",
        "colab_type": "code",
        "colab": {
          "base_uri": "https://localhost:8080/",
          "height": 136
        },
        "outputId": "2e0eee94-a0fd-438d-a497-ca26d1397188"
      },
      "source": [
        "#Fit the model with the lowest AIC above\n",
        "\n",
        "mod = sm.tsa.statespace.SARIMAX(y.Value,\n",
        "                                order=(1, 1, 0),\n",
        "                                seasonal_order=(1, 1, 0, 12),\n",
        "                                enforce_stationarity=False,\n",
        "                                enforce_invertibility=False)\n",
        "\n",
        "results = mod.fit()\n",
        "\n",
        "print(results.summary().tables[1])"
      ],
      "execution_count": 43,
      "outputs": [
        {
          "output_type": "stream",
          "text": [
            "==============================================================================\n",
            "                 coef    std err          z      P>|z|      [0.025      0.975]\n",
            "------------------------------------------------------------------------------\n",
            "ar.L1          1.1471      0.217      5.295      0.000       0.722       1.572\n",
            "ar.S.L12       0.8661      0.091      9.493      0.000       0.687       1.045\n",
            "sigma2         0.4176      0.182      2.290      0.022       0.060       0.775\n",
            "==============================================================================\n"
          ],
          "name": "stdout"
        }
      ]
    },
    {
      "cell_type": "code",
      "metadata": {
        "id": "b795KKQX9Pvc",
        "colab_type": "code",
        "colab": {
          "base_uri": "https://localhost:8080/",
          "height": 34
        },
        "outputId": "fbfc3e86-680d-4649-bd30-4117f0c4c350"
      },
      "source": [
        "results.get_prediction(start = pd.to_datetime('2018-03-01'), end = pd.to_datetime('2019-12-01'), dynamic=False)"
      ],
      "execution_count": 45,
      "outputs": [
        {
          "output_type": "execute_result",
          "data": {
            "text/plain": [
              "<statsmodels.tsa.statespace.mlemodel.PredictionResultsWrapper at 0x7fc631f2a828>"
            ]
          },
          "metadata": {
            "tags": []
          },
          "execution_count": 45
        }
      ]
    },
    {
      "cell_type": "code",
      "metadata": {
        "id": "dfDJbbIY5IFy",
        "colab_type": "code",
        "colab": {
          "base_uri": "https://localhost:8080/",
          "height": 297
        },
        "outputId": "c0b4cf2c-7203-4567-8fd1-a89f9efb1133"
      },
      "source": [
        "#Validation - not dynamic \n",
        "pred = results.get_prediction(start = pd.to_datetime('2018-03-01'), end = pd.to_datetime('2019-12-01'), dynamic=False)\n",
        "pred_ci = pred.conf_int()\n",
        "pred_ci"
      ],
      "execution_count": 46,
      "outputs": [
        {
          "output_type": "execute_result",
          "data": {
            "text/html": [
              "<div>\n",
              "<style scoped>\n",
              "    .dataframe tbody tr th:only-of-type {\n",
              "        vertical-align: middle;\n",
              "    }\n",
              "\n",
              "    .dataframe tbody tr th {\n",
              "        vertical-align: top;\n",
              "    }\n",
              "\n",
              "    .dataframe thead th {\n",
              "        text-align: right;\n",
              "    }\n",
              "</style>\n",
              "<table border=\"1\" class=\"dataframe\">\n",
              "  <thead>\n",
              "    <tr style=\"text-align: right;\">\n",
              "      <th></th>\n",
              "      <th>lower Value</th>\n",
              "      <th>upper Value</th>\n",
              "    </tr>\n",
              "  </thead>\n",
              "  <tbody>\n",
              "    <tr>\n",
              "      <th>2018-03-01</th>\n",
              "      <td>31.10</td>\n",
              "      <td>33.63</td>\n",
              "    </tr>\n",
              "    <tr>\n",
              "      <th>2018-06-01</th>\n",
              "      <td>34.43</td>\n",
              "      <td>40.43</td>\n",
              "    </tr>\n",
              "    <tr>\n",
              "      <th>2018-09-01</th>\n",
              "      <td>38.95</td>\n",
              "      <td>49.57</td>\n",
              "    </tr>\n",
              "    <tr>\n",
              "      <th>2018-12-01</th>\n",
              "      <td>48.94</td>\n",
              "      <td>65.42</td>\n",
              "    </tr>\n",
              "    <tr>\n",
              "      <th>2019-03-01</th>\n",
              "      <td>47.70</td>\n",
              "      <td>71.36</td>\n",
              "    </tr>\n",
              "    <tr>\n",
              "      <th>2019-06-01</th>\n",
              "      <td>52.50</td>\n",
              "      <td>84.82</td>\n",
              "    </tr>\n",
              "    <tr>\n",
              "      <th>2019-09-01</th>\n",
              "      <td>57.83</td>\n",
              "      <td>100.45</td>\n",
              "    </tr>\n",
              "    <tr>\n",
              "      <th>2019-12-01</th>\n",
              "      <td>69.09</td>\n",
              "      <td>123.86</td>\n",
              "    </tr>\n",
              "  </tbody>\n",
              "</table>\n",
              "</div>"
            ],
            "text/plain": [
              "            lower Value  upper Value\n",
              "2018-03-01        31.10        33.63\n",
              "2018-06-01        34.43        40.43\n",
              "2018-09-01        38.95        49.57\n",
              "2018-12-01        48.94        65.42\n",
              "2019-03-01        47.70        71.36\n",
              "2019-06-01        52.50        84.82\n",
              "2019-09-01        57.83       100.45\n",
              "2019-12-01        69.09       123.86"
            ]
          },
          "metadata": {
            "tags": []
          },
          "execution_count": 46
        }
      ]
    },
    {
      "cell_type": "code",
      "metadata": {
        "id": "FLXLHm8JFgTU",
        "colab_type": "code",
        "colab": {
          "base_uri": "https://localhost:8080/",
          "height": 170
        },
        "outputId": "df61d534-dfde-4bac-a7d7-93fb0e800b83"
      },
      "source": [
        "# forecasted value for 8 post quarters\n",
        "y_forecasted = pred.predicted_mean\n",
        "y_forecasted"
      ],
      "execution_count": 49,
      "outputs": [
        {
          "output_type": "execute_result",
          "data": {
            "text/plain": [
              "2018-03-01   32.36\n",
              "2018-06-01   37.43\n",
              "2018-09-01   44.26\n",
              "2018-12-01   57.18\n",
              "2019-03-01   59.53\n",
              "2019-06-01   68.66\n",
              "2019-09-01   79.14\n",
              "2019-12-01   96.47\n",
              "Freq: QS-DEC, dtype: float64"
            ]
          },
          "metadata": {
            "tags": []
          },
          "execution_count": 49
        }
      ]
    },
    {
      "cell_type": "markdown",
      "metadata": {
        "id": "RBenOefLGGed",
        "colab_type": "text"
      },
      "source": [
        "## Q2: Make 3 observations about the data (i.e., describe its composition and characteristics)\n"
      ]
    },
    {
      "cell_type": "markdown",
      "metadata": {
        "id": "wX3BoDCMNBWO",
        "colab_type": "text"
      },
      "source": [
        "* Although there are ups and downs at every point in time, generally we can observe that the trend increases. Also we can notice how the ups and downs seem to be a bit regular, it means we might be observing a seasonal pattern here too.\n",
        "* Trend is increasing through the years.\n",
        "* From the seasonal trend, we can find that the peak of the value in each year is almost the same. \n",
        "* The residual plot shows that the year between 2011 to a half of 2013 remains steady which is near zero. "
      ]
    },
    {
      "cell_type": "code",
      "metadata": {
        "id": "3SPJUMZbGOM7",
        "colab_type": "code",
        "colab": {
          "base_uri": "https://localhost:8080/",
          "height": 547
        },
        "outputId": "a68025a9-4741-41f3-e453-9f2cf8127a0b"
      },
      "source": [
        "decomposition = sm.tsa.seasonal_decompose(y, model='additive')\n",
        "fig = decomposition.plot()\n",
        "plt.show()"
      ],
      "execution_count": 50,
      "outputs": [
        {
          "output_type": "display_data",
          "data": {
            "image/png": "[encoded data removed]",
            "text/plain": [
              "<Figure size 1152x864 with 4 Axes>"
            ]
          },
          "metadata": {
            "tags": []
          }
        }
      ]
    },
    {
      "cell_type": "markdown",
      "metadata": {
        "id": "lpMSGW7qHuk2",
        "colab_type": "text"
      },
      "source": [
        "## Q3: What leads you to believe that your predictions are correct / incorrect?\n"
      ]
    },
    {
      "cell_type": "markdown",
      "metadata": {
        "id": "hWnKoLGMK5n_",
        "colab_type": "text"
      },
      "source": [
        "Noted that our validation set is 2017 from Q1 to Q4. We calculated the MSE is 0.76, which means the predict values are pretty close to the true values. Therefore, we believe that our predictions are correct."
      ]
    },
    {
      "cell_type": "code",
      "metadata": {
        "id": "aeclygjAHyqm",
        "colab_type": "code",
        "colab": {
          "base_uri": "https://localhost:8080/",
          "height": 34
        },
        "outputId": "0be76c81-f0d9-496c-ef85-9d91d803d8c4"
      },
      "source": [
        "pred = results.get_prediction(start=pd.to_datetime('2017-03-01'), dynamic=False)\n",
        "y_forecasted = pred.predicted_mean\n",
        "y_truth = y['2017-03-01':]\n",
        "mse = ((np.array(y_forecasted) - np.array(y_truth).reshape(-1)) ** 2).mean()\n",
        "print('The Mean Squared Error of our forecasts is {}'.format(round(mse, 2)))"
      ],
      "execution_count": 59,
      "outputs": [
        {
          "output_type": "stream",
          "text": [
            "The Mean Squared Error of our forecasts is 0.76\n"
          ],
          "name": "stdout"
        }
      ]
    },
    {
      "cell_type": "code",
      "metadata": {
        "id": "qii6mgTQJcLm",
        "colab_type": "code",
        "colab": {
          "base_uri": "https://localhost:8080/",
          "height": 102
        },
        "outputId": "26892565-03ff-403b-ebd1-12ff0fc0fb4f"
      },
      "source": [
        "y_forecasted"
      ],
      "execution_count": 60,
      "outputs": [
        {
          "output_type": "execute_result",
          "data": {
            "text/plain": [
              "2017-03-01   19.42\n",
              "2017-06-01   19.34\n",
              "2017-09-01   23.61\n",
              "2017-12-01   32.63\n",
              "Freq: QS-DEC, dtype: float64"
            ]
          },
          "metadata": {
            "tags": []
          },
          "execution_count": 60
        }
      ]
    },
    {
      "cell_type": "code",
      "metadata": {
        "id": "2HU2IEEyJWz9",
        "colab_type": "code",
        "colab": {
          "base_uri": "https://localhost:8080/",
          "height": 204
        },
        "outputId": "182a1d34-ba24-4c46-8499-f2a98588a02d"
      },
      "source": [
        "y_truth"
      ],
      "execution_count": 61,
      "outputs": [
        {
          "output_type": "execute_result",
          "data": {
            "text/html": [
              "<div>\n",
              "<style scoped>\n",
              "    .dataframe tbody tr th:only-of-type {\n",
              "        vertical-align: middle;\n",
              "    }\n",
              "\n",
              "    .dataframe tbody tr th {\n",
              "        vertical-align: top;\n",
              "    }\n",
              "\n",
              "    .dataframe thead th {\n",
              "        text-align: right;\n",
              "    }\n",
              "</style>\n",
              "<table border=\"1\" class=\"dataframe\">\n",
              "  <thead>\n",
              "    <tr style=\"text-align: right;\">\n",
              "      <th></th>\n",
              "      <th>Value</th>\n",
              "    </tr>\n",
              "    <tr>\n",
              "      <th>Period</th>\n",
              "      <th></th>\n",
              "    </tr>\n",
              "  </thead>\n",
              "  <tbody>\n",
              "    <tr>\n",
              "      <th>2017-03-01</th>\n",
              "      <td>19.64</td>\n",
              "    </tr>\n",
              "    <tr>\n",
              "      <th>2017-06-01</th>\n",
              "      <td>20.88</td>\n",
              "    </tr>\n",
              "    <tr>\n",
              "      <th>2017-09-01</th>\n",
              "      <td>24.06</td>\n",
              "    </tr>\n",
              "    <tr>\n",
              "      <th>2017-12-01</th>\n",
              "      <td>33.27</td>\n",
              "    </tr>\n",
              "  </tbody>\n",
              "</table>\n",
              "</div>"
            ],
            "text/plain": [
              "            Value\n",
              "Period           \n",
              "2017-03-01  19.64\n",
              "2017-06-01  20.88\n",
              "2017-09-01  24.06\n",
              "2017-12-01  33.27"
            ]
          },
          "metadata": {
            "tags": []
          },
          "execution_count": 61
        }
      ]
    }
  ]
}