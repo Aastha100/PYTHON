{
  "nbformat": 4,
  "nbformat_minor": 0,
  "metadata": {
    "colab": {
      "name": "ALY 6015 - Aastha Chachra - Assignment #2.5.ipynb",
      "provenance": [],
      "collapsed_sections": []
    },
    "kernelspec": {
      "name": "python3",
      "display_name": "Python 3"
    }
  },
  "cells": [
    {
      "cell_type": "markdown",
      "metadata": {
        "id": "PpBSS07vexpm",
        "colab_type": "text"
      },
      "source": [
        "# Author: Chachra Aastha\n",
        "\n",
        "# Purpose: Assignment 2\n",
        "\n",
        "# Class: ALY 6015 - Regression and Hypothesis"
      ]
    },
    {
      "cell_type": "markdown",
      "metadata": {
        "id": "JWauNo0afR4h",
        "colab_type": "text"
      },
      "source": [
        "#Import necessary packages"
      ]
    },
    {
      "cell_type": "code",
      "metadata": {
        "id": "HcRm4JBJ1IlF",
        "colab_type": "code",
        "colab": {}
      },
      "source": [
        "import numpy as np\n",
        "import pandas as pd\n",
        "import os\n",
        "import io\n",
        "import seaborn as sns\n",
        "import statsmodels.api as sm\n",
        "from sklearn import datasets\n",
        "from sklearn.feature_selection import RFE\n",
        "from sklearn.linear_model import LogisticRegression\n",
        "from sklearn import linear_model\n",
        "from sklearn.preprocessing import LabelEncoder,OneHotEncoder\n",
        "from sklearn.compose import ColumnTransformer\n",
        "from sklearn.ensemble import RandomForestRegressor\n",
        "from matplotlib import pyplot as plt\n",
        "from matplotlib.ticker import PercentFormatter\n",
        "from pylab import rcParams\n",
        "from google.colab import files\n",
        "rcParams['figure.figsize'] = (23, 8)\n",
        "sns.set_style('whitegrid')\n",
        "plt.style.use('seaborn-whitegrid')\n",
        "\n",
        "from sklearn.model_selection import train_test_split\n",
        "from sklearn.linear_model import LinearRegression\n",
        "from sklearn.metrics import mean_squared_error, r2_score"
      ],
      "execution_count": 0,
      "outputs": []
    },
    {
      "cell_type": "markdown",
      "metadata": {
        "id": "8FgVRiKgf4eb",
        "colab_type": "text"
      },
      "source": [
        "# Load data"
      ]
    },
    {
      "cell_type": "code",
      "metadata": {
        "id": "CXVSsTxB1QUP",
        "colab_type": "code",
        "colab": {}
      },
      "source": [
        "data_path = \"https://docs.google.com/spreadsheets/d/e/2PACX-1vTZAVzBrW4zfKILTJ36D7N4HrQz2PDIslS_K4v3c38IMG0JbiFmjjzP8JAi4qc5SQOP5yI-67O8m2eJ/pub?gid=1256322443&single=true&output=csv\"\n",
        "aus_df = pd.read_csv(data_path)\n",
        "#df.set_index('id')"
      ],
      "execution_count": 0,
      "outputs": []
    },
    {
      "cell_type": "markdown",
      "metadata": {
        "id": "4whoysHWhGCy",
        "colab_type": "text"
      },
      "source": [
        "#Acquire Data and perform modifications"
      ]
    },
    {
      "cell_type": "code",
      "metadata": {
        "id": "8gLOOd2W3sh7",
        "colab_type": "code",
        "outputId": "21bf7d26-62ba-4f5d-9489-79fe8acd923e",
        "colab": {
          "base_uri": "https://localhost:8080/",
          "height": 34
        }
      },
      "source": [
        "aus_df.shape"
      ],
      "execution_count": 129,
      "outputs": [
        {
          "output_type": "execute_result",
          "data": {
            "text/plain": [
              "(3974, 11)"
            ]
          },
          "metadata": {
            "tags": []
          },
          "execution_count": 129
        }
      ]
    },
    {
      "cell_type": "code",
      "metadata": {
        "id": "F1v7tQBS3uYi",
        "colab_type": "code",
        "outputId": "1784504d-35fd-4693-b457-ff2ff4a0887d",
        "colab": {
          "base_uri": "https://localhost:8080/",
          "height": 204
        }
      },
      "source": [
        "aus_df.head()"
      ],
      "execution_count": 130,
      "outputs": [
        {
          "output_type": "execute_result",
          "data": {
            "text/html": [
              "<div>\n",
              "<style scoped>\n",
              "    .dataframe tbody tr th:only-of-type {\n",
              "        vertical-align: middle;\n",
              "    }\n",
              "\n",
              "    .dataframe tbody tr th {\n",
              "        vertical-align: top;\n",
              "    }\n",
              "\n",
              "    .dataframe thead th {\n",
              "        text-align: right;\n",
              "    }\n",
              "</style>\n",
              "<table border=\"1\" class=\"dataframe\">\n",
              "  <thead>\n",
              "    <tr style=\"text-align: right;\">\n",
              "      <th></th>\n",
              "      <th>id</th>\n",
              "      <th>country</th>\n",
              "      <th>state</th>\n",
              "      <th>neighbourhood_cleansed</th>\n",
              "      <th>property_type</th>\n",
              "      <th>square_meters</th>\n",
              "      <th>price</th>\n",
              "      <th>room_type</th>\n",
              "      <th>bathrooms</th>\n",
              "      <th>bedrooms</th>\n",
              "      <th>beds</th>\n",
              "    </tr>\n",
              "  </thead>\n",
              "  <tbody>\n",
              "    <tr>\n",
              "      <th>0</th>\n",
              "      <td>3363954</td>\n",
              "      <td>Australia</td>\n",
              "      <td>NSW</td>\n",
              "      <td>BALLINA SHIRE COUNCIL</td>\n",
              "      <td>House</td>\n",
              "      <td>0.00</td>\n",
              "      <td>$2,900.00</td>\n",
              "      <td>Entire home/apt</td>\n",
              "      <td>3.0</td>\n",
              "      <td>4.0</td>\n",
              "      <td>4.0</td>\n",
              "    </tr>\n",
              "    <tr>\n",
              "      <th>1</th>\n",
              "      <td>13048065</td>\n",
              "      <td>Australia</td>\n",
              "      <td>NSW</td>\n",
              "      <td>BALLINA SHIRE COUNCIL</td>\n",
              "      <td>House</td>\n",
              "      <td>1.55</td>\n",
              "      <td>$28.00</td>\n",
              "      <td>Private room</td>\n",
              "      <td>1.0</td>\n",
              "      <td>1.0</td>\n",
              "      <td>1.0</td>\n",
              "    </tr>\n",
              "    <tr>\n",
              "      <th>2</th>\n",
              "      <td>1451202</td>\n",
              "      <td>Australia</td>\n",
              "      <td>NSW</td>\n",
              "      <td>BALLINA SHIRE COUNCIL</td>\n",
              "      <td>Guest suite</td>\n",
              "      <td>15.00</td>\n",
              "      <td>$141.00</td>\n",
              "      <td>Entire home/apt</td>\n",
              "      <td>1.0</td>\n",
              "      <td>1.0</td>\n",
              "      <td>1.0</td>\n",
              "    </tr>\n",
              "    <tr>\n",
              "      <th>3</th>\n",
              "      <td>2345959</td>\n",
              "      <td>Australia</td>\n",
              "      <td>NSW</td>\n",
              "      <td>BALLINA SHIRE COUNCIL</td>\n",
              "      <td>House</td>\n",
              "      <td>17.28</td>\n",
              "      <td>$50.00</td>\n",
              "      <td>Private room</td>\n",
              "      <td>4.0</td>\n",
              "      <td>4.0</td>\n",
              "      <td>3.0</td>\n",
              "    </tr>\n",
              "    <tr>\n",
              "      <th>4</th>\n",
              "      <td>26087141</td>\n",
              "      <td>Australia</td>\n",
              "      <td>NSW</td>\n",
              "      <td>BALLINA SHIRE COUNCIL</td>\n",
              "      <td>House</td>\n",
              "      <td>17.64</td>\n",
              "      <td>$52.00</td>\n",
              "      <td>Private room</td>\n",
              "      <td>1.0</td>\n",
              "      <td>1.0</td>\n",
              "      <td>1.0</td>\n",
              "    </tr>\n",
              "  </tbody>\n",
              "</table>\n",
              "</div>"
            ],
            "text/plain": [
              "         id    country state  ... bathrooms bedrooms  beds\n",
              "0   3363954  Australia   NSW  ...       3.0      4.0   4.0\n",
              "1  13048065  Australia   NSW  ...       1.0      1.0   1.0\n",
              "2   1451202  Australia   NSW  ...       1.0      1.0   1.0\n",
              "3   2345959  Australia   NSW  ...       4.0      4.0   3.0\n",
              "4  26087141  Australia   NSW  ...       1.0      1.0   1.0\n",
              "\n",
              "[5 rows x 11 columns]"
            ]
          },
          "metadata": {
            "tags": []
          },
          "execution_count": 130
        }
      ]
    },
    {
      "cell_type": "markdown",
      "metadata": {
        "id": "DcGTWFnVmZoZ",
        "colab_type": "text"
      },
      "source": [
        "#column list:\n",
        "*   neighbourhood_cleansed - A modified version of the neighborhood that can be used for grouping--Only Long Beach is included\n",
        "\n",
        "*   property_type - The type of property that is being listed (e.g., a castle)---Only apartments are included.\n",
        "\n",
        "*   room_type - The type of room that is available for rent (e.g., a shared room)---Only \"Entire home/apt\" is included.\n",
        "\n",
        "*   bathrooms - The count of bathrooms available (e.g., 1, 2, 1.5).\n",
        "\n",
        "*   bedrooms - The count of bedrooms available (e.g., 0, 1, 2).\n",
        "*   beds - The count of beds available in the rental (e.g., 0, 1, 2).\n",
        "\n",
        "\n",
        "*  price - The cost of the rental per night in USD.\n",
        "\n",
        "\n",
        "*   square_meters - property type area in square meters\n",
        "\n",
        "\n"
      ]
    },
    {
      "cell_type": "markdown",
      "metadata": {
        "id": "LQ1u0IjuIxTo",
        "colab_type": "text"
      },
      "source": [
        "#EDA and Data Cleaning"
      ]
    },
    {
      "cell_type": "code",
      "metadata": {
        "id": "B6F4gKv7h5zw",
        "colab_type": "code",
        "colab": {}
      },
      "source": [
        "#a) Drop extraneous columns\n",
        "try:\n",
        "    aus_df = aus_df.drop(columns = ['id', 'country', 'state'])\n",
        "except KeyError:\n",
        "  print (\"Note: Either the columns were not found or already dropped.\")\n"
      ],
      "execution_count": 0,
      "outputs": []
    },
    {
      "cell_type": "code",
      "metadata": {
        "id": "pjTYeZBUKW-y",
        "colab_type": "code",
        "colab": {}
      },
      "source": [
        "#b) Remove $ and , from price\n",
        "aus_df[\"price\"] = aus_df[\"price\"].str.replace(\",\",\"\")\n",
        "aus_df[\"price\"] = aus_df[\"price\"].str.replace(\"$\",\"\")\n",
        "aus_df[\"price\"] = aus_df[\"price\"].astype(float)"
      ],
      "execution_count": 0,
      "outputs": []
    },
    {
      "cell_type": "code",
      "metadata": {
        "id": "LWsTu-lrKcSe",
        "colab_type": "code",
        "outputId": "c1b4a379-2a87-4ac6-8043-478370a23907",
        "colab": {
          "base_uri": "https://localhost:8080/",
          "height": 204
        }
      },
      "source": [
        "#checking if the , and $ were removed\n",
        "aus_df.head()"
      ],
      "execution_count": 133,
      "outputs": [
        {
          "output_type": "execute_result",
          "data": {
            "text/html": [
              "<div>\n",
              "<style scoped>\n",
              "    .dataframe tbody tr th:only-of-type {\n",
              "        vertical-align: middle;\n",
              "    }\n",
              "\n",
              "    .dataframe tbody tr th {\n",
              "        vertical-align: top;\n",
              "    }\n",
              "\n",
              "    .dataframe thead th {\n",
              "        text-align: right;\n",
              "    }\n",
              "</style>\n",
              "<table border=\"1\" class=\"dataframe\">\n",
              "  <thead>\n",
              "    <tr style=\"text-align: right;\">\n",
              "      <th></th>\n",
              "      <th>neighbourhood_cleansed</th>\n",
              "      <th>property_type</th>\n",
              "      <th>square_meters</th>\n",
              "      <th>price</th>\n",
              "      <th>room_type</th>\n",
              "      <th>bathrooms</th>\n",
              "      <th>bedrooms</th>\n",
              "      <th>beds</th>\n",
              "    </tr>\n",
              "  </thead>\n",
              "  <tbody>\n",
              "    <tr>\n",
              "      <th>0</th>\n",
              "      <td>BALLINA SHIRE COUNCIL</td>\n",
              "      <td>House</td>\n",
              "      <td>0.00</td>\n",
              "      <td>2900.0</td>\n",
              "      <td>Entire home/apt</td>\n",
              "      <td>3.0</td>\n",
              "      <td>4.0</td>\n",
              "      <td>4.0</td>\n",
              "    </tr>\n",
              "    <tr>\n",
              "      <th>1</th>\n",
              "      <td>BALLINA SHIRE COUNCIL</td>\n",
              "      <td>House</td>\n",
              "      <td>1.55</td>\n",
              "      <td>28.0</td>\n",
              "      <td>Private room</td>\n",
              "      <td>1.0</td>\n",
              "      <td>1.0</td>\n",
              "      <td>1.0</td>\n",
              "    </tr>\n",
              "    <tr>\n",
              "      <th>2</th>\n",
              "      <td>BALLINA SHIRE COUNCIL</td>\n",
              "      <td>Guest suite</td>\n",
              "      <td>15.00</td>\n",
              "      <td>141.0</td>\n",
              "      <td>Entire home/apt</td>\n",
              "      <td>1.0</td>\n",
              "      <td>1.0</td>\n",
              "      <td>1.0</td>\n",
              "    </tr>\n",
              "    <tr>\n",
              "      <th>3</th>\n",
              "      <td>BALLINA SHIRE COUNCIL</td>\n",
              "      <td>House</td>\n",
              "      <td>17.28</td>\n",
              "      <td>50.0</td>\n",
              "      <td>Private room</td>\n",
              "      <td>4.0</td>\n",
              "      <td>4.0</td>\n",
              "      <td>3.0</td>\n",
              "    </tr>\n",
              "    <tr>\n",
              "      <th>4</th>\n",
              "      <td>BALLINA SHIRE COUNCIL</td>\n",
              "      <td>House</td>\n",
              "      <td>17.64</td>\n",
              "      <td>52.0</td>\n",
              "      <td>Private room</td>\n",
              "      <td>1.0</td>\n",
              "      <td>1.0</td>\n",
              "      <td>1.0</td>\n",
              "    </tr>\n",
              "  </tbody>\n",
              "</table>\n",
              "</div>"
            ],
            "text/plain": [
              "  neighbourhood_cleansed property_type  ...  bedrooms  beds\n",
              "0  BALLINA SHIRE COUNCIL         House  ...       4.0   4.0\n",
              "1  BALLINA SHIRE COUNCIL         House  ...       1.0   1.0\n",
              "2  BALLINA SHIRE COUNCIL   Guest suite  ...       1.0   1.0\n",
              "3  BALLINA SHIRE COUNCIL         House  ...       4.0   3.0\n",
              "4  BALLINA SHIRE COUNCIL         House  ...       1.0   1.0\n",
              "\n",
              "[5 rows x 8 columns]"
            ]
          },
          "metadata": {
            "tags": []
          },
          "execution_count": 133
        }
      ]
    },
    {
      "cell_type": "code",
      "metadata": {
        "id": "HvHXY-kbK1nt",
        "colab_type": "code",
        "outputId": "c5e4843b-471a-4338-bec9-bdd24eea28a5",
        "colab": {
          "base_uri": "https://localhost:8080/",
          "height": 170
        }
      },
      "source": [
        "#check the datatypes\n",
        "aus_df.dtypes"
      ],
      "execution_count": 134,
      "outputs": [
        {
          "output_type": "execute_result",
          "data": {
            "text/plain": [
              "neighbourhood_cleansed     object\n",
              "property_type              object\n",
              "square_meters             float64\n",
              "price                     float64\n",
              "room_type                  object\n",
              "bathrooms                 float64\n",
              "bedrooms                  float64\n",
              "beds                      float64\n",
              "dtype: object"
            ]
          },
          "metadata": {
            "tags": []
          },
          "execution_count": 134
        }
      ]
    },
    {
      "cell_type": "code",
      "metadata": {
        "id": "Pl4p7mbOS4ue",
        "colab_type": "code",
        "outputId": "ee9803cb-2bdd-4f35-a166-4cb99605c423",
        "colab": {
          "base_uri": "https://localhost:8080/",
          "height": 170
        }
      },
      "source": [
        "#c) check for nulls \n",
        "aus_df.isnull().sum()"
      ],
      "execution_count": 135,
      "outputs": [
        {
          "output_type": "execute_result",
          "data": {
            "text/plain": [
              "neighbourhood_cleansed    0\n",
              "property_type             0\n",
              "square_meters             0\n",
              "price                     0\n",
              "room_type                 0\n",
              "bathrooms                 5\n",
              "bedrooms                  2\n",
              "beds                      1\n",
              "dtype: int64"
            ]
          },
          "metadata": {
            "tags": []
          },
          "execution_count": 135
        }
      ]
    },
    {
      "cell_type": "markdown",
      "metadata": {
        "id": "87nQHP0DTEzL",
        "colab_type": "text"
      },
      "source": [
        "We have null values in columns bathrooms, bedrooms and beds, let us remove those"
      ]
    },
    {
      "cell_type": "code",
      "metadata": {
        "id": "l46niKxuTY3b",
        "colab_type": "code",
        "outputId": "174224c5-b304-4f84-ba7c-cc57ad2df5c9",
        "colab": {
          "base_uri": "https://localhost:8080/",
          "height": 255
        }
      },
      "source": [
        "# drop all rows with any NaN and NaT values\n",
        "aust_df = aus_df.dropna()\n",
        "print(aust_df)"
      ],
      "execution_count": 136,
      "outputs": [
        {
          "output_type": "stream",
          "text": [
            "     neighbourhood_cleansed property_type  ...  bedrooms  beds\n",
            "0     BALLINA SHIRE COUNCIL         House  ...       4.0   4.0\n",
            "1     BALLINA SHIRE COUNCIL         House  ...       1.0   1.0\n",
            "2     BALLINA SHIRE COUNCIL   Guest suite  ...       1.0   1.0\n",
            "3     BALLINA SHIRE COUNCIL         House  ...       4.0   3.0\n",
            "4     BALLINA SHIRE COUNCIL         House  ...       1.0   1.0\n",
            "...                     ...           ...  ...       ...   ...\n",
            "3969    TWEED SHIRE COUNCIL         House  ...       6.0   6.0\n",
            "3970    TWEED SHIRE COUNCIL     Apartment  ...       3.0   3.0\n",
            "3971    TWEED SHIRE COUNCIL         House  ...       4.0   5.0\n",
            "3972    TWEED SHIRE COUNCIL         House  ...       6.0   7.0\n",
            "3973    TWEED SHIRE COUNCIL         House  ...       3.0   3.0\n",
            "\n",
            "[3966 rows x 8 columns]\n"
          ],
          "name": "stdout"
        }
      ]
    },
    {
      "cell_type": "code",
      "metadata": {
        "id": "g86JW_KNTn_r",
        "colab_type": "code",
        "outputId": "7477ef81-0926-446f-fa09-f75f6b599f25",
        "colab": {
          "base_uri": "https://localhost:8080/",
          "height": 170
        }
      },
      "source": [
        "#cross-verify if now we have nulls\n",
        "aust_df.isnull().sum()"
      ],
      "execution_count": 137,
      "outputs": [
        {
          "output_type": "execute_result",
          "data": {
            "text/plain": [
              "neighbourhood_cleansed    0\n",
              "property_type             0\n",
              "square_meters             0\n",
              "price                     0\n",
              "room_type                 0\n",
              "bathrooms                 0\n",
              "bedrooms                  0\n",
              "beds                      0\n",
              "dtype: int64"
            ]
          },
          "metadata": {
            "tags": []
          },
          "execution_count": 137
        }
      ]
    },
    {
      "cell_type": "code",
      "metadata": {
        "id": "B-rMtyc82ya7",
        "colab_type": "code",
        "outputId": "98927f59-b036-4fc2-c6ee-806c19c22afd",
        "colab": {
          "base_uri": "https://localhost:8080/",
          "height": 272
        }
      },
      "source": [
        "#Convert Catogorical Data in Numeric Data\n",
        "for co in aust_df.select_dtypes(include=['object']):\n",
        "  print(aust_df[co].describe())"
      ],
      "execution_count": 138,
      "outputs": [
        {
          "output_type": "stream",
          "text": [
            "count                    3966\n",
            "unique                      5\n",
            "top       BYRON SHIRE COUNCIL\n",
            "freq                     2489\n",
            "Name: neighbourhood_cleansed, dtype: object\n",
            "count      3966\n",
            "unique        8\n",
            "top       House\n",
            "freq       2419\n",
            "Name: property_type, dtype: object\n",
            "count                3966\n",
            "unique                  3\n",
            "top       Entire home/apt\n",
            "freq                 3218\n",
            "Name: room_type, dtype: object\n"
          ],
          "name": "stdout"
        }
      ]
    },
    {
      "cell_type": "code",
      "metadata": {
        "id": "0q6EwZFp5Wx5",
        "colab_type": "code",
        "outputId": "f5ad4acb-f8db-4312-8277-23af12f24161",
        "colab": {
          "base_uri": "https://localhost:8080/",
          "height": 204
        }
      },
      "source": [
        "dc=aust_df.corr()\n",
        "dc"
      ],
      "execution_count": 139,
      "outputs": [
        {
          "output_type": "execute_result",
          "data": {
            "text/html": [
              "<div>\n",
              "<style scoped>\n",
              "    .dataframe tbody tr th:only-of-type {\n",
              "        vertical-align: middle;\n",
              "    }\n",
              "\n",
              "    .dataframe tbody tr th {\n",
              "        vertical-align: top;\n",
              "    }\n",
              "\n",
              "    .dataframe thead th {\n",
              "        text-align: right;\n",
              "    }\n",
              "</style>\n",
              "<table border=\"1\" class=\"dataframe\">\n",
              "  <thead>\n",
              "    <tr style=\"text-align: right;\">\n",
              "      <th></th>\n",
              "      <th>square_meters</th>\n",
              "      <th>price</th>\n",
              "      <th>bathrooms</th>\n",
              "      <th>bedrooms</th>\n",
              "      <th>beds</th>\n",
              "    </tr>\n",
              "  </thead>\n",
              "  <tbody>\n",
              "    <tr>\n",
              "      <th>square_meters</th>\n",
              "      <td>1.000000</td>\n",
              "      <td>0.210591</td>\n",
              "      <td>0.287491</td>\n",
              "      <td>0.323078</td>\n",
              "      <td>0.306173</td>\n",
              "    </tr>\n",
              "    <tr>\n",
              "      <th>price</th>\n",
              "      <td>0.210591</td>\n",
              "      <td>1.000000</td>\n",
              "      <td>0.560860</td>\n",
              "      <td>0.574895</td>\n",
              "      <td>0.504577</td>\n",
              "    </tr>\n",
              "    <tr>\n",
              "      <th>bathrooms</th>\n",
              "      <td>0.287491</td>\n",
              "      <td>0.560860</td>\n",
              "      <td>1.000000</td>\n",
              "      <td>0.754708</td>\n",
              "      <td>0.644070</td>\n",
              "    </tr>\n",
              "    <tr>\n",
              "      <th>bedrooms</th>\n",
              "      <td>0.323078</td>\n",
              "      <td>0.574895</td>\n",
              "      <td>0.754708</td>\n",
              "      <td>1.000000</td>\n",
              "      <td>0.832392</td>\n",
              "    </tr>\n",
              "    <tr>\n",
              "      <th>beds</th>\n",
              "      <td>0.306173</td>\n",
              "      <td>0.504577</td>\n",
              "      <td>0.644070</td>\n",
              "      <td>0.832392</td>\n",
              "      <td>1.000000</td>\n",
              "    </tr>\n",
              "  </tbody>\n",
              "</table>\n",
              "</div>"
            ],
            "text/plain": [
              "               square_meters     price  bathrooms  bedrooms      beds\n",
              "square_meters       1.000000  0.210591   0.287491  0.323078  0.306173\n",
              "price               0.210591  1.000000   0.560860  0.574895  0.504577\n",
              "bathrooms           0.287491  0.560860   1.000000  0.754708  0.644070\n",
              "bedrooms            0.323078  0.574895   0.754708  1.000000  0.832392\n",
              "beds                0.306173  0.504577   0.644070  0.832392  1.000000"
            ]
          },
          "metadata": {
            "tags": []
          },
          "execution_count": 139
        }
      ]
    },
    {
      "cell_type": "code",
      "metadata": {
        "id": "qFN3bntR5fCy",
        "colab_type": "code",
        "outputId": "e6736bed-1f30-4554-a890-e44d25e3c189",
        "colab": {
          "base_uri": "https://localhost:8080/",
          "height": 609
        }
      },
      "source": [
        "plt.figure(figsize=(10,10))\n",
        "sns.heatmap(aust_df.corr())"
      ],
      "execution_count": 140,
      "outputs": [
        {
          "output_type": "execute_result",
          "data": {
            "text/plain": [
              "<matplotlib.axes._subplots.AxesSubplot at 0x7f72bc043a90>"
            ]
          },
          "metadata": {
            "tags": []
          },
          "execution_count": 140
        },
        {
          "output_type": "display_data",
          "data": {
            "image/png": "[encoded data removed]",
            "text/plain": [
              "<Figure size 720x720 with 2 Axes>"
            ]
          },
          "metadata": {
            "tags": []
          }
        }
      ]
    },
    {
      "cell_type": "code",
      "metadata": {
        "id": "BPk4HIah5tsR",
        "colab_type": "code",
        "outputId": "c95d217f-33bd-4088-c028-1774df72f4ed",
        "colab": {
          "base_uri": "https://localhost:8080/",
          "height": 722
        }
      },
      "source": [
        "aust_df.hist(figsize=(10,10))"
      ],
      "execution_count": 141,
      "outputs": [
        {
          "output_type": "execute_result",
          "data": {
            "text/plain": [
              "array([[<matplotlib.axes._subplots.AxesSubplot object at 0x7f72bbb06a90>,\n",
              "        <matplotlib.axes._subplots.AxesSubplot object at 0x7f72bbd3fef0>],\n",
              "       [<matplotlib.axes._subplots.AxesSubplot object at 0x7f72bbb5a630>,\n",
              "        <matplotlib.axes._subplots.AxesSubplot object at 0x7f72bb8fcc88>],\n",
              "       [<matplotlib.axes._subplots.AxesSubplot object at 0x7f72bbb87438>,\n",
              "        <matplotlib.axes._subplots.AxesSubplot object at 0x7f72bbbcfba8>]],\n",
              "      dtype=object)"
            ]
          },
          "metadata": {
            "tags": []
          },
          "execution_count": 141
        },
        {
          "output_type": "display_data",
          "data": {
            "image/png": "[encoded data removed]",
            "text/plain": [
              "<Figure size 720x720 with 6 Axes>"
            ]
          },
          "metadata": {
            "tags": []
          }
        }
      ]
    },
    {
      "cell_type": "code",
      "metadata": {
        "id": "X2rZN5IE576G",
        "colab_type": "code",
        "outputId": "c733451c-e359-43b3-b475-e625151125bb",
        "colab": {
          "base_uri": "https://localhost:8080/",
          "height": 118
        }
      },
      "source": [
        "corr = aust_df.corr()\n",
        "f,ax=plt.subplots(figsize=(20,1))\n",
        "sns.heatmap(corr.sort_values(by=['price'],ascending=False).head(1), cmap='Blues')\n",
        "plt.title(\"features correlation with the Research\", weight='bold', fontsize=18)\n",
        "plt.xticks(weight='bold')\n",
        "plt.yticks(weight='bold', color='dodgerblue', rotation=0)\n",
        "plt.show()"
      ],
      "execution_count": 142,
      "outputs": [
        {
          "output_type": "display_data",
          "data": {
            "image/png": "[encoded data removed]",
            "text/plain": [
              "<Figure size 1440x72 with 2 Axes>"
            ]
          },
          "metadata": {
            "tags": []
          }
        }
      ]
    },
    {
      "cell_type": "code",
      "metadata": {
        "id": "Gn2xTFQ8T6hr",
        "colab_type": "code",
        "outputId": "b8671a31-3803-4dca-b882-57a15e403d88",
        "colab": {
          "base_uri": "https://localhost:8080/",
          "height": 80
        }
      },
      "source": [
        "#Trim outliers:\n",
        "start_percentile = aust_df['price'].quantile(.01)\n",
        "end_percentile = aust_df['price'].quantile(.99)\n",
        "aust_price_outliers_df = aust_df.loc[((aust_df['price'] <= start_percentile) | (aust_df['price'] >= end_percentile))]\n",
        "aust_df_trim = aust_df.loc[((aust_df['price'] > start_percentile) & (aust_df['price'] < end_percentile))]\n",
        "\n",
        "#Perform additional conversions to \n",
        "aust_df_trim_clean = aust_df_trim.copy()\n",
        "\n",
        "#Perform final filters to focus on specific areas\n",
        "aust_df_filtered = aust_df_trim.loc[(aust_df_trim['neighbourhood_cleansed'].isin(['BYRON SHIRE COUNCIL']))]\n",
        "aust_df_filtered = aust_df_filtered.loc[(aust_df_filtered['property_type'].isin(['Apartment']))]\n",
        "aust_df_filtered = aust_df_filtered.loc[(aust_df_filtered['room_type'] == 'Entire home/apt')]\n",
        "\n",
        "#Drop incomplete cases \n",
        "aust_df_filtered = aust_df_filtered.dropna()\n",
        "\n",
        "aust_df_filtered.head(1)\n",
        "\n",
        "\n"
      ],
      "execution_count": 143,
      "outputs": [
        {
          "output_type": "execute_result",
          "data": {
            "text/html": [
              "<div>\n",
              "<style scoped>\n",
              "    .dataframe tbody tr th:only-of-type {\n",
              "        vertical-align: middle;\n",
              "    }\n",
              "\n",
              "    .dataframe tbody tr th {\n",
              "        vertical-align: top;\n",
              "    }\n",
              "\n",
              "    .dataframe thead th {\n",
              "        text-align: right;\n",
              "    }\n",
              "</style>\n",
              "<table border=\"1\" class=\"dataframe\">\n",
              "  <thead>\n",
              "    <tr style=\"text-align: right;\">\n",
              "      <th></th>\n",
              "      <th>neighbourhood_cleansed</th>\n",
              "      <th>property_type</th>\n",
              "      <th>square_meters</th>\n",
              "      <th>price</th>\n",
              "      <th>room_type</th>\n",
              "      <th>bathrooms</th>\n",
              "      <th>bedrooms</th>\n",
              "      <th>beds</th>\n",
              "    </tr>\n",
              "  </thead>\n",
              "  <tbody>\n",
              "    <tr>\n",
              "      <th>540</th>\n",
              "      <td>BYRON SHIRE COUNCIL</td>\n",
              "      <td>Apartment</td>\n",
              "      <td>19.16</td>\n",
              "      <td>99.0</td>\n",
              "      <td>Entire home/apt</td>\n",
              "      <td>0.5</td>\n",
              "      <td>0.0</td>\n",
              "      <td>1.0</td>\n",
              "    </tr>\n",
              "  </tbody>\n",
              "</table>\n",
              "</div>"
            ],
            "text/plain": [
              "    neighbourhood_cleansed property_type  ...  bedrooms  beds\n",
              "540    BYRON SHIRE COUNCIL     Apartment  ...       0.0   1.0\n",
              "\n",
              "[1 rows x 8 columns]"
            ]
          },
          "metadata": {
            "tags": []
          },
          "execution_count": 143
        }
      ]
    },
    {
      "cell_type": "markdown",
      "metadata": {
        "id": "6_ebgHEBtNJu",
        "colab_type": "text"
      },
      "source": [
        "#Describe quantitative variables"
      ]
    },
    {
      "cell_type": "code",
      "metadata": {
        "id": "ktbboHBBsyJL",
        "colab_type": "code",
        "outputId": "2f3a5596-9d92-4dfe-a95d-55e3feba53ff",
        "colab": {
          "base_uri": "https://localhost:8080/",
          "height": 297
        }
      },
      "source": [
        "aust_df_filtered.describe()"
      ],
      "execution_count": 144,
      "outputs": [
        {
          "output_type": "execute_result",
          "data": {
            "text/html": [
              "<div>\n",
              "<style scoped>\n",
              "    .dataframe tbody tr th:only-of-type {\n",
              "        vertical-align: middle;\n",
              "    }\n",
              "\n",
              "    .dataframe tbody tr th {\n",
              "        vertical-align: top;\n",
              "    }\n",
              "\n",
              "    .dataframe thead th {\n",
              "        text-align: right;\n",
              "    }\n",
              "</style>\n",
              "<table border=\"1\" class=\"dataframe\">\n",
              "  <thead>\n",
              "    <tr style=\"text-align: right;\">\n",
              "      <th></th>\n",
              "      <th>square_meters</th>\n",
              "      <th>price</th>\n",
              "      <th>bathrooms</th>\n",
              "      <th>bedrooms</th>\n",
              "      <th>beds</th>\n",
              "    </tr>\n",
              "  </thead>\n",
              "  <tbody>\n",
              "    <tr>\n",
              "      <th>count</th>\n",
              "      <td>445.000000</td>\n",
              "      <td>445.000000</td>\n",
              "      <td>445.000000</td>\n",
              "      <td>445.000000</td>\n",
              "      <td>445.000000</td>\n",
              "    </tr>\n",
              "    <tr>\n",
              "      <th>mean</th>\n",
              "      <td>27.364764</td>\n",
              "      <td>734.813483</td>\n",
              "      <td>1.398876</td>\n",
              "      <td>1.761798</td>\n",
              "      <td>2.442697</td>\n",
              "    </tr>\n",
              "    <tr>\n",
              "      <th>std</th>\n",
              "      <td>3.583210</td>\n",
              "      <td>563.261132</td>\n",
              "      <td>0.554363</td>\n",
              "      <td>1.000845</td>\n",
              "      <td>1.457961</td>\n",
              "    </tr>\n",
              "    <tr>\n",
              "      <th>min</th>\n",
              "      <td>18.220000</td>\n",
              "      <td>79.000000</td>\n",
              "      <td>0.500000</td>\n",
              "      <td>0.000000</td>\n",
              "      <td>0.000000</td>\n",
              "    </tr>\n",
              "    <tr>\n",
              "      <th>25%</th>\n",
              "      <td>24.700000</td>\n",
              "      <td>296.000000</td>\n",
              "      <td>1.000000</td>\n",
              "      <td>1.000000</td>\n",
              "      <td>1.000000</td>\n",
              "    </tr>\n",
              "    <tr>\n",
              "      <th>50%</th>\n",
              "      <td>27.600000</td>\n",
              "      <td>637.000000</td>\n",
              "      <td>1.000000</td>\n",
              "      <td>2.000000</td>\n",
              "      <td>2.000000</td>\n",
              "    </tr>\n",
              "    <tr>\n",
              "      <th>75%</th>\n",
              "      <td>30.110000</td>\n",
              "      <td>1000.000000</td>\n",
              "      <td>2.000000</td>\n",
              "      <td>2.000000</td>\n",
              "      <td>3.000000</td>\n",
              "    </tr>\n",
              "    <tr>\n",
              "      <th>max</th>\n",
              "      <td>35.430000</td>\n",
              "      <td>3700.000000</td>\n",
              "      <td>4.000000</td>\n",
              "      <td>10.000000</td>\n",
              "      <td>14.000000</td>\n",
              "    </tr>\n",
              "  </tbody>\n",
              "</table>\n",
              "</div>"
            ],
            "text/plain": [
              "       square_meters        price   bathrooms    bedrooms        beds\n",
              "count     445.000000   445.000000  445.000000  445.000000  445.000000\n",
              "mean       27.364764   734.813483    1.398876    1.761798    2.442697\n",
              "std         3.583210   563.261132    0.554363    1.000845    1.457961\n",
              "min        18.220000    79.000000    0.500000    0.000000    0.000000\n",
              "25%        24.700000   296.000000    1.000000    1.000000    1.000000\n",
              "50%        27.600000   637.000000    1.000000    2.000000    2.000000\n",
              "75%        30.110000  1000.000000    2.000000    2.000000    3.000000\n",
              "max        35.430000  3700.000000    4.000000   10.000000   14.000000"
            ]
          },
          "metadata": {
            "tags": []
          },
          "execution_count": 144
        }
      ]
    },
    {
      "cell_type": "markdown",
      "metadata": {
        "id": "LozQ2jxgtP4e",
        "colab_type": "text"
      },
      "source": [
        "#Describe qualitative variables"
      ]
    },
    {
      "cell_type": "code",
      "metadata": {
        "id": "WDTA0Qopsq8Z",
        "colab_type": "code",
        "outputId": "53092dc3-f415-4301-c25c-54775982a2a3",
        "colab": {
          "base_uri": "https://localhost:8080/",
          "height": 173
        }
      },
      "source": [
        "aust_df[['neighbourhood_cleansed','property_type', 'room_type']].describe()"
      ],
      "execution_count": 145,
      "outputs": [
        {
          "output_type": "execute_result",
          "data": {
            "text/html": [
              "<div>\n",
              "<style scoped>\n",
              "    .dataframe tbody tr th:only-of-type {\n",
              "        vertical-align: middle;\n",
              "    }\n",
              "\n",
              "    .dataframe tbody tr th {\n",
              "        vertical-align: top;\n",
              "    }\n",
              "\n",
              "    .dataframe thead th {\n",
              "        text-align: right;\n",
              "    }\n",
              "</style>\n",
              "<table border=\"1\" class=\"dataframe\">\n",
              "  <thead>\n",
              "    <tr style=\"text-align: right;\">\n",
              "      <th></th>\n",
              "      <th>neighbourhood_cleansed</th>\n",
              "      <th>property_type</th>\n",
              "      <th>room_type</th>\n",
              "    </tr>\n",
              "  </thead>\n",
              "  <tbody>\n",
              "    <tr>\n",
              "      <th>count</th>\n",
              "      <td>3966</td>\n",
              "      <td>3966</td>\n",
              "      <td>3966</td>\n",
              "    </tr>\n",
              "    <tr>\n",
              "      <th>unique</th>\n",
              "      <td>5</td>\n",
              "      <td>8</td>\n",
              "      <td>3</td>\n",
              "    </tr>\n",
              "    <tr>\n",
              "      <th>top</th>\n",
              "      <td>BYRON SHIRE COUNCIL</td>\n",
              "      <td>House</td>\n",
              "      <td>Entire home/apt</td>\n",
              "    </tr>\n",
              "    <tr>\n",
              "      <th>freq</th>\n",
              "      <td>2489</td>\n",
              "      <td>2419</td>\n",
              "      <td>3218</td>\n",
              "    </tr>\n",
              "  </tbody>\n",
              "</table>\n",
              "</div>"
            ],
            "text/plain": [
              "       neighbourhood_cleansed property_type        room_type\n",
              "count                    3966          3966             3966\n",
              "unique                      5             8                3\n",
              "top       BYRON SHIRE COUNCIL         House  Entire home/apt\n",
              "freq                     2489          2419             3218"
            ]
          },
          "metadata": {
            "tags": []
          },
          "execution_count": 145
        }
      ]
    },
    {
      "cell_type": "markdown",
      "metadata": {
        "id": "pahw710KZOqs",
        "colab_type": "text"
      },
      "source": [
        "#Regression Analysis"
      ]
    },
    {
      "cell_type": "code",
      "metadata": {
        "id": "t8kGg7HSF9Lq",
        "colab_type": "code",
        "colab": {}
      },
      "source": [
        "#Since square meters is correlated with price (as seen above in heat map)"
      ],
      "execution_count": 0,
      "outputs": []
    },
    {
      "cell_type": "code",
      "metadata": {
        "id": "YCQ1fk5dtnX9",
        "colab_type": "code",
        "outputId": "abbe3bcb-a889-4923-e8d3-0bd2ba5b223a",
        "colab": {
          "base_uri": "https://localhost:8080/",
          "height": 445
        }
      },
      "source": [
        "ax = sns.scatterplot(x = 'square_meters', y = 'price', data = aust_df_filtered, s=60)\n",
        "plt.xlim([13,40])\n",
        "plt.ylim([10,5200])"
      ],
      "execution_count": 147,
      "outputs": [
        {
          "output_type": "execute_result",
          "data": {
            "text/plain": [
              "(10.0, 5200.0)"
            ]
          },
          "metadata": {
            "tags": []
          },
          "execution_count": 147
        },
        {
          "output_type": "display_data",
          "data": {
            "image/png": "[encoded data removed]",
            "text/plain": [
              "<Figure size 1656x576 with 1 Axes>"
            ]
          },
          "metadata": {
            "tags": []
          }
        }
      ]
    },
    {
      "cell_type": "code",
      "metadata": {
        "colab_type": "code",
        "outputId": "0ccbd70d-bf7c-4672-cf8a-0027a01f2f9b",
        "id": "ZYWk46pKvGvx",
        "colab": {
          "base_uri": "https://localhost:8080/",
          "height": 445
        }
      },
      "source": [
        "#ax = sns.regplot(x = 'synthetic_sqft', y = 'total_price', data = airbnb_df_filtered)\n",
        "ax = sns.regplot(x = 'square_meters', y = 'price', data = aust_df_filtered, scatter_kws={'s':45})\n",
        "plt.xlim([13,40])\n",
        "plt.ylim([10,5200])"
      ],
      "execution_count": 148,
      "outputs": [
        {
          "output_type": "execute_result",
          "data": {
            "text/plain": [
              "(10.0, 5200.0)"
            ]
          },
          "metadata": {
            "tags": []
          },
          "execution_count": 148
        },
        {
          "output_type": "display_data",
          "data": {
            "image/png": "[encoded data removed]",
            "text/plain": [
              "<Figure size 1656x576 with 1 Axes>"
            ]
          },
          "metadata": {
            "tags": []
          }
        }
      ]
    },
    {
      "cell_type": "markdown",
      "metadata": {
        "id": "9OD75VUPBPu4",
        "colab_type": "text"
      },
      "source": [
        "#Sci-Kit Learn"
      ]
    },
    {
      "cell_type": "code",
      "metadata": {
        "id": "4Wz28xBJds2H",
        "colab_type": "code",
        "colab": {}
      },
      "source": [
        "X_cols = ['square_meters']\n",
        "\n",
        "#Load the X data set\n",
        "X = aust_df_filtered[X_cols].values\n",
        "\n",
        "#Initialize the data and column length variables\n",
        "data_length = len(aust_df_filtered)\n",
        "column_length = len(aust_df_filtered[X_cols].columns)\n",
        "\n",
        "#Reshape and load remaining data sets\n",
        "X = X.reshape(data_length,column_length)\n",
        "y = aust_df_filtered['price'].values\n",
        "y = y.reshape(data_length,1)\n",
        "\n",
        "#Split the data into training and testing sets\n",
        "X_train, X_test, y_train, y_test = train_test_split(X,y)\n",
        "\n",
        "#Create the linear regression object and train/fit models\n",
        "lin_reg = LinearRegression()\n",
        "lin_reg.fit(X_train, y_train)\n",
        "\n",
        "#Make predictions using the testing set\n",
        "listing_y_pred = lin_reg.predict(X_test)"
      ],
      "execution_count": 0,
      "outputs": []
    },
    {
      "cell_type": "markdown",
      "metadata": {
        "id": "tqbfNgBIBVhh",
        "colab_type": "text"
      },
      "source": [
        "#Take the results from above and print out a few pieces of information"
      ]
    },
    {
      "cell_type": "code",
      "metadata": {
        "id": "p20SEYbfd9Rm",
        "colab_type": "code",
        "outputId": "92f3d6cf-7f05-4948-e960-b49224b897ed",
        "colab": {
          "base_uri": "https://localhost:8080/",
          "height": 238
        }
      },
      "source": [
        "#Print a few predictions\n",
        "print((pd.DataFrame(listing_y_pred, columns={'y_prediction'}).head(5)))\n",
        "print()\n",
        "\n",
        "#Print the intercept\n",
        "print('Intercept:', float(lin_reg.intercept_))\n",
        "\n",
        "#Print the coefficient(s)\n",
        "coeff_df = pd.DataFrame(lin_reg.coef_)\n",
        "coeff_df.columns = X_cols\n",
        "print(coeff_df)\n",
        "print()\n",
        "\n",
        "#Performance Metric: Mean Squared Error\n",
        "print(\"Mean Squared Error (MSE):%.2f\" % mean_squared_error(y_test, listing_y_pred))\n",
        "\n",
        "# Explained variance score:\n",
        "print('Variance Score (R^2):%.2f' % r2_score(y_test, listing_y_pred))"
      ],
      "execution_count": 150,
      "outputs": [
        {
          "output_type": "stream",
          "text": [
            "   y_prediction\n",
            "0   1461.838175\n",
            "1   1202.620153\n",
            "2   1131.544244\n",
            "3    905.773709\n",
            "4     -5.670304\n",
            "\n",
            "Intercept: -3084.2327263777734\n",
            "   square_meters\n",
            "0     139.364528\n",
            "\n",
            "Mean Squared Error (MSE):54058.10\n",
            "Variance Score (R^2):0.82\n"
          ],
          "name": "stdout"
        }
      ]
    },
    {
      "cell_type": "markdown",
      "metadata": {
        "id": "s7DvJRICBaPH",
        "colab_type": "text"
      },
      "source": [
        "#Re-plot the graph using the results from Scikit-Learn"
      ]
    },
    {
      "cell_type": "code",
      "metadata": {
        "id": "-vFz-lwjeJg2",
        "colab_type": "code",
        "outputId": "86636ee9-3540-4e10-e3de-e02b35c5cb68",
        "colab": {
          "base_uri": "https://localhost:8080/",
          "height": 445
        }
      },
      "source": [
        "ax = sns.scatterplot(x = 'square_meters', y = 'price', data = aust_df_filtered, s=60)\n",
        "plt.plot(X_test, listing_y_pred, color='goldenrod')\n",
        "plt.xlim([13,40])\n",
        "plt.ylim([10,5200])"
      ],
      "execution_count": 151,
      "outputs": [
        {
          "output_type": "execute_result",
          "data": {
            "text/plain": [
              "(10.0, 5200.0)"
            ]
          },
          "metadata": {
            "tags": []
          },
          "execution_count": 151
        },
        {
          "output_type": "display_data",
          "data": {
            "image/png": "[encoded data removed]",
            "text/plain": [
              "<Figure size 1656x576 with 1 Axes>"
            ]
          },
          "metadata": {
            "tags": []
          }
        }
      ]
    },
    {
      "cell_type": "markdown",
      "metadata": {
        "id": "lXjhxs_O2eTJ",
        "colab_type": "text"
      },
      "source": [
        "#Let's repeat the previous analysis, but with a few more variables."
      ]
    },
    {
      "cell_type": "code",
      "metadata": {
        "id": "wXmJWbqh2tso",
        "colab_type": "code",
        "colab": {}
      },
      "source": [
        "X_cols2 = ['square_meters', 'bathrooms', 'beds']\n",
        "\n",
        "#Load the X data set\n",
        "X2 = aust_df_filtered[X_cols2].values\n",
        "\n",
        "#Initialize the data and column length variables\n",
        "data_length2 = len(aust_df_filtered)\n",
        "column_length2 = len(aust_df_filtered[X_cols2].columns)\n",
        "\n",
        "#Reshape and load remaining data sets\n",
        "X2 = X2.reshape(data_length2,column_length2)\n",
        "y2 = aust_df_filtered['price'].values\n",
        "y2 = y2.reshape(data_length2,1)\n",
        "\n",
        "#Split the data into training and testing sets\n",
        "X_train2, X_test2, y_train2, y_test2 = train_test_split(X2,y2)\n",
        "\n",
        "#Create the linear regression object and train/fit models\n",
        "lin_reg2= LinearRegression()\n",
        "lin_reg2.fit(X_train2, y_train2)\n",
        "\n",
        "#Make predictions using the testing set\n",
        "listing_y_pred2 = lin_reg2.predict(X_test2)"
      ],
      "execution_count": 0,
      "outputs": []
    },
    {
      "cell_type": "markdown",
      "metadata": {
        "id": "fxSDwP3QCCtx",
        "colab_type": "text"
      },
      "source": [
        "#Take the results from above and print out a few pieces of information\n",
        "\n",
        "\n",
        "\n",
        "\n",
        "\n"
      ]
    },
    {
      "cell_type": "code",
      "metadata": {
        "id": "M4bEHork2-sO",
        "colab_type": "code",
        "outputId": "1f532635-c5b0-4f65-8764-2e53410ce8db",
        "colab": {
          "base_uri": "https://localhost:8080/",
          "height": 238
        }
      },
      "source": [
        "#Print a few predictions\n",
        "print((pd.DataFrame(listing_y_pred2, columns={'y_prediction'}).head(5)))\n",
        "print()\n",
        "\n",
        "#Print the intercept\n",
        "print('Intercept:', float(lin_reg2.intercept_))\n",
        "\n",
        "#Print the coefficient(s)\n",
        "coeff_df2 = pd.DataFrame(lin_reg2.coef_)\n",
        "coeff_df2.columns = X_cols2\n",
        "print(coeff_df2)\n",
        "print()\n",
        "\n",
        "#Performance Metric: Mean Squared Error\n",
        "print(\"Mean Squared Error (MSE):%.2f\" % mean_squared_error(y_test2, listing_y_pred2))\n",
        "\n",
        "# Explained variance score:\n",
        "print('Variance Score (R^2):%.2f' % r2_score(y_test2, listing_y_pred2))"
      ],
      "execution_count": 153,
      "outputs": [
        {
          "output_type": "stream",
          "text": [
            "   y_prediction\n",
            "0    500.782352\n",
            "1    -75.877649\n",
            "2    723.371050\n",
            "3    780.616870\n",
            "4    -41.669005\n",
            "\n",
            "Intercept: -2834.6796042899214\n",
            "   square_meters  bathrooms       beds\n",
            "0     122.173729   66.03629  53.813119\n",
            "\n",
            "Mean Squared Error (MSE):92877.89\n",
            "Variance Score (R^2):0.73\n"
          ],
          "name": "stdout"
        }
      ]
    },
    {
      "cell_type": "markdown",
      "metadata": {
        "id": "u3pD1aJEP1Lj",
        "colab_type": "text"
      },
      "source": [
        "#New Filters"
      ]
    },
    {
      "cell_type": "code",
      "metadata": {
        "id": "faTTEWQ5HlUX",
        "colab_type": "code",
        "colab": {}
      },
      "source": [
        "#changing filter conditions01\n",
        "\n",
        "aust_df_filtered1 = aust_df_trim.loc[(aust_df_trim['neighbourhood_cleansed'].isin(['LISMORE CITY COUNCIL']))]\n",
        "aust_df_filtered1 = aust_df_filtered1.loc[(aust_df_filtered1['property_type'].isin(['Apartment']))]\n",
        "aust_df_filtered1 = aust_df_filtered1.loc[(aust_df_filtered1['room_type'] == 'Entire home/apt')]\n",
        "\n",
        "#Drop incomplete cases \n",
        "aust_df_filtered1 = aust_df_filtered.dropna()\n"
      ],
      "execution_count": 0,
      "outputs": []
    },
    {
      "cell_type": "code",
      "metadata": {
        "id": "KkbTw9OqKXRx",
        "colab_type": "code",
        "colab": {}
      },
      "source": [
        "X1_cols = ['square_meters']\n",
        "\n",
        "#Load the X data set\n",
        "X1 = aust_df_filtered1[X1_cols].values\n",
        "\n",
        "#Initialize the data and column length variables\n",
        "data_length1 = len(aust_df_filtered1)\n",
        "column_length1 = len(aust_df_filtered1[X1_cols].columns)\n",
        "\n",
        "#Reshape and load remaining data sets\n",
        "X1 = X1.reshape(data_length1,column_length1)\n",
        "y1 = aust_df_filtered1['price'].values\n",
        "y1 = y1.reshape(data_length1,1)\n",
        "\n",
        "#Split the data into training and testing sets\n",
        "X1_train, X1_test, y1_train, y1_test = train_test_split(X1,y1)\n",
        "\n",
        "#Create the linear regression object and train/fit models\n",
        "lin_reg1 = LinearRegression()\n",
        "lin_reg.fit(X1_train, y1_train)\n",
        "\n",
        "#Make predictions using the testing set\n",
        "listing_y1_pred = lin_reg.predict(X1_test)\n"
      ],
      "execution_count": 0,
      "outputs": []
    },
    {
      "cell_type": "code",
      "metadata": {
        "id": "Hf-ijR1mKvWj",
        "colab_type": "code",
        "outputId": "177ebf3d-4ce7-41ac-9326-d8f7e0a2a33b",
        "colab": {
          "base_uri": "https://localhost:8080/",
          "height": 238
        }
      },
      "source": [
        "#Print a few predictions\n",
        "print((pd.DataFrame(listing_y1_pred, columns={'y_prediction'}).head(5)))\n",
        "print()\n",
        "\n",
        "#Print the intercept\n",
        "print('Intercept:', float(lin_reg.intercept_))\n",
        "\n",
        "#Print the coefficient(s)\n",
        "coeff_df1 = pd.DataFrame(lin_reg.coef_)\n",
        "coeff_df1.columns = X1_cols\n",
        "print(coeff_df1)\n",
        "print()\n",
        "\n",
        "#Performance Metric: Mean Squared Error\n",
        "print(\"Mean Squared Error (MSE):%.2f\" % mean_squared_error(y1_test, listing_y1_pred))\n",
        "\n",
        "# Explained variance score:\n",
        "print('Variance Score (R^2):%.2f' % r2_score(y1_test, listing_y1_pred))"
      ],
      "execution_count": 199,
      "outputs": [
        {
          "output_type": "stream",
          "text": [
            "   y_prediction\n",
            "0   1050.634483\n",
            "1    550.167242\n",
            "2    889.467066\n",
            "3    848.468337\n",
            "4   1339.039333\n",
            "\n",
            "Intercept: -3126.9945999649035\n",
            "   square_meters\n",
            "0     141.374927\n",
            "\n",
            "Mean Squared Error (MSE):45013.15\n",
            "Variance Score (R^2):0.82\n"
          ],
          "name": "stdout"
        }
      ]
    },
    {
      "cell_type": "code",
      "metadata": {
        "id": "i7gEFP6rMOcX",
        "colab_type": "code",
        "outputId": "cdb5b595-9937-47ad-93be-d66ccbdadeae",
        "colab": {
          "base_uri": "https://localhost:8080/",
          "height": 448
        }
      },
      "source": [
        "ax = sns.scatterplot(x = 'square_meters', y = 'price', data = aust_df_filtered1, s=60)\n",
        "plt.plot(X1_test, listing_y1_pred, color='goldenrod')\n",
        "plt.xlim([13,40])\n",
        "plt.ylim([10,5000])"
      ],
      "execution_count": 200,
      "outputs": [
        {
          "output_type": "execute_result",
          "data": {
            "text/plain": [
              "(10.0, 5000.0)"
            ]
          },
          "metadata": {
            "tags": []
          },
          "execution_count": 200
        },
        {
          "output_type": "display_data",
          "data": {
            "image/png": "[encoded data removed]",
            "text/plain": [
              "<Figure size 1656x576 with 1 Axes>"
            ]
          },
          "metadata": {
            "tags": []
          }
        }
      ]
    },
    {
      "cell_type": "code",
      "metadata": {
        "id": "oMl4dZw4LAqE",
        "colab_type": "code",
        "colab": {}
      },
      "source": [
        "#changing filter conditions02\n",
        "\n",
        "aust_df_filtered2 = aust_df_trim.loc[(aust_df_trim['neighbourhood_cleansed'].isin(['BALLINA SHIRE COUNCIL']))]\n",
        "aust_df_filtered2 = aust_df_filtered2.loc[(aust_df_filtered2['property_type'].isin(['Apartment']))]\n",
        "aust_df_filtered2 = aust_df_filtered2.loc[(aust_df_filtered2['room_type'] == 'Entire home/apt')]\n",
        "aust_df_filtered2 = aust_df_filtered2.loc[(aust_df_filtered2['bathrooms'] == 1)]\n",
        "\n",
        "\n",
        "#Drop incomplete cases \n",
        "aust_df_filtered2 = aust_df_filtered.dropna()"
      ],
      "execution_count": 0,
      "outputs": []
    },
    {
      "cell_type": "code",
      "metadata": {
        "id": "ohZGTo3gjtMx",
        "colab_type": "code",
        "colab": {}
      },
      "source": [
        "X_cols = ['square_meters']\n",
        "\n",
        "#Load the X data set\n",
        "X = aust_df_filtered2[X_cols].values\n",
        "\n",
        "#Initialize the data and column length variables\n",
        "data_length = len(aust_df_filtered2)\n",
        "column_length = len(aust_df_filtered2[X_cols].columns)\n",
        "\n",
        "#Reshape and load remaining data sets\n",
        "X= X.reshape(data_length,column_length)\n",
        "y = aust_df_filtered2['price'].values\n",
        "y = y.reshape(data_length,1)\n",
        "\n",
        "#Split the data into training and testing sets\n",
        "X_train, X_test, y_train, y_test = train_test_split(X,y)\n",
        "\n",
        "#Create the linear regression object and train/fit models\n",
        "lin_reg = LinearRegression()\n",
        "lin_reg.fit(X_train, y_train)\n",
        "\n",
        "#Make predictions using the testing set\n",
        "listing_y_pred = lin_reg.predict(X_test)"
      ],
      "execution_count": 0,
      "outputs": []
    },
    {
      "cell_type": "code",
      "metadata": {
        "id": "DraztalKj3Ms",
        "colab_type": "code",
        "colab": {
          "base_uri": "https://localhost:8080/",
          "height": 238
        },
        "outputId": "72a3ec78-82ea-46fa-d089-3cd4eb2c751a"
      },
      "source": [
        "#Print a few predictions\n",
        "print((pd.DataFrame(listing_y_pred, columns={'y_prediction'}).head(5)))\n",
        "print()\n",
        "\n",
        "#Print the intercept\n",
        "print('Intercept:', float(lin_reg.intercept_))\n",
        "\n",
        "#Print the coefficient(s)\n",
        "coeff_df = pd.DataFrame(lin_reg.coef_)\n",
        "coeff_df.columns = X_cols\n",
        "print(coeff_df)\n",
        "print()\n",
        "\n",
        "#Performance Metric: Mean Squared Error\n",
        "print(\"Mean Squared Error (MSE):%.2f\" % mean_squared_error(y_test, listing_y_pred))\n",
        "\n",
        "# Explained variance score:\n",
        "print('Variance Score (R^2):%.2f' % r2_score(y_test, listing_y_pred))"
      ],
      "execution_count": 187,
      "outputs": [
        {
          "output_type": "stream",
          "text": [
            "   y_prediction\n",
            "0    387.401505\n",
            "1    -54.096897\n",
            "2    840.148274\n",
            "3    249.609010\n",
            "4   1508.020060\n",
            "\n",
            "Intercept: -3122.0889746951552\n",
            "   square_meters\n",
            "0     140.604587\n",
            "\n",
            "Mean Squared Error (MSE):57853.45\n",
            "Variance Score (R^2):0.80\n"
          ],
          "name": "stdout"
        }
      ]
    },
    {
      "cell_type": "code",
      "metadata": {
        "id": "aHe4h9Bbj8yA",
        "colab_type": "code",
        "colab": {
          "base_uri": "https://localhost:8080/",
          "height": 448
        },
        "outputId": "46859b1e-f2cc-4c54-9333-7368d9553469"
      },
      "source": [
        "ax = sns.scatterplot(x = 'square_meters', y = 'price', data = aust_df_filtered2, s=60)\n",
        "plt.plot(X_test, listing_y_pred, color='goldenrod')\n",
        "plt.xlim([13,40])\n",
        "plt.ylim([10,5000])"
      ],
      "execution_count": 189,
      "outputs": [
        {
          "output_type": "execute_result",
          "data": {
            "text/plain": [
              "(10.0, 5000.0)"
            ]
          },
          "metadata": {
            "tags": []
          },
          "execution_count": 189
        },
        {
          "output_type": "display_data",
          "data": {
            "image/png": "[encoded data removed]",
            "text/plain": [
              "<Figure size 1656x576 with 1 Axes>"
            ]
          },
          "metadata": {
            "tags": []
          }
        }
      ]
    },
    {
      "cell_type": "markdown",
      "metadata": {
        "id": "FUs_5rO8kFeQ",
        "colab_type": "text"
      },
      "source": [
        "#INFERENCES\n",
        "\n",
        "- Dependent variable is price that should vary as per independent variables square meters, number of bedrooms, neighboorhood and other columns\n",
        "- In order to predict the prices in Australia for 5 neighborhood, I considered plotting square feet against price and calculated the Mean squared error and variance for the same\n",
        "- I observed that the variance is close to one for almost all neighborhoods which tells us square meters is a good fit with price.\n",
        "- I also calculated the price along other variables such as bathrooms and number of beds as every house price and tried to see if it affects the prediction of house prices and got a variance of .73 which is also a good fit\n",
        "\n",
        "select an area that you are most and least comfortable providing pricing recommendations and defend your assertions / claims with data\n",
        "\n",
        "- Most comfortable with Ballina council data as it is east to predict as the sample size is big, number of bedroooms and bathrooms when >1 it affects the prices example ID:7351253\n",
        "- Least predictable data is with Lismore council as very records are present as well as no predictions can be made as the max and min price is not correlated with either of the features "
      ]
    },
    {
      "cell_type": "markdown",
      "metadata": {
        "id": "f5WpbR9xP1Ot",
        "colab_type": "text"
      },
      "source": [
        "#HYPOTHESIS TESTING"
      ]
    },
    {
      "cell_type": "code",
      "metadata": {
        "id": "wvvDsmiMP4g6",
        "colab_type": "code",
        "colab": {}
      },
      "source": [
        "#Read data from Google Sheet\n",
        "LAX_data_pata = \"https://docs.google.com/spreadsheets/d/e/2PACX-1vRpjsXU847aQ6TP9fVrB14KsEj6f2_ojj4RLZGAK9oSWtujRj9ScNxUYa2uU8iZje_XdBCmuCYE8TjC/pub?gid=475552683&single=true&output=csv\"\n",
        "SFO_data_path = \"https://docs.google.com/spreadsheets/d/e/2PACX-1vRh4__t_DhedzUEf_0GfbINY8hlMu7PcKzcWgaYWRd8ifg0z9liXIfeXwqNJGHUEVWOgv20I97xWmyK/pub?gid=669880&single=true&output=csv\"\n",
        "\n",
        "LAX_df = pd.read_csv(LAX_data_pata)\n",
        "SFO_df = pd.read_csv(SFO_data_path)"
      ],
      "execution_count": 0,
      "outputs": []
    },
    {
      "cell_type": "code",
      "metadata": {
        "id": "jx-n8ZufTonO",
        "colab_type": "code",
        "colab": {}
      },
      "source": [
        "LAX_df.tail()"
      ],
      "execution_count": 0,
      "outputs": []
    },
    {
      "cell_type": "markdown",
      "metadata": {
        "id": "rO_DjgrCUCz0",
        "colab_type": "text"
      },
      "source": [
        "#Column Definitions:\n",
        "1. Date - The date that the observation was recorded.\n",
        "2. LAX/SFO - Avg. Daily Miles Driven Per Hour - The amount of miles driven on average per hour in Los Angeles and San Francisco\n",
        "3. Marketing Campaign - A binary field that is set to either 1 if either marketing campaign was successful in raising the average miles driven per Uber driver and 0 if it was unsuccessful\n"
      ]
    },
    {
      "cell_type": "code",
      "metadata": {
        "id": "d3R0UIMtUsIV",
        "colab_type": "code",
        "colab": {}
      },
      "source": [
        "list(LAX_df)"
      ],
      "execution_count": 0,
      "outputs": []
    },
    {
      "cell_type": "markdown",
      "metadata": {
        "id": "gvXno4gPU1FR",
        "colab_type": "text"
      },
      "source": [
        "#Test Setup:\n",
        "- The Null Hypothesis is that the average number of miles driven per hour when the marketing campaign was successful is the same as the number of miles driven per hour when the marketing campaign was not successful.\n",
        "\n",
        "- The Alternate Hypothesis is that the average number of miles driven per hour when the marketing campaign was successful is greater than to the number of miles driven per hour when the marketing campaign was not successful/applied\n",
        "\n",
        "- The p-value will be set to .05"
      ]
    },
    {
      "cell_type": "markdown",
      "metadata": {
        "id": "tiZ4Qj2ca1aV",
        "colab_type": "text"
      },
      "source": [
        "# # LAX Quantitative variable overiew"
      ]
    },
    {
      "cell_type": "code",
      "metadata": {
        "id": "6ew2gwY4a5zD",
        "colab_type": "code",
        "colab": {}
      },
      "source": [
        "LAX_df.describe()"
      ],
      "execution_count": 0,
      "outputs": []
    },
    {
      "cell_type": "code",
      "metadata": {
        "id": "K8TKRYpltDlC",
        "colab_type": "code",
        "colab": {}
      },
      "source": [
        "#clean data : removing negative values from Avg miles driven per hour column\n",
        "LAX_df_clean = LAX_df[(LAX_df['LAX - Avg. Daily Miles Driven Per Hour']>0)]\n"
      ],
      "execution_count": 0,
      "outputs": []
    },
    {
      "cell_type": "code",
      "metadata": {
        "id": "oWLUNjWrbRuy",
        "colab_type": "code",
        "colab": {}
      },
      "source": [
        "sns.set_style('whitegrid')\n",
        "plt.figure(figsize=(23,8))\n",
        "sns.set(style='whitegrid')\n",
        "ax = sns.distplot(LAX_df_clean['LAX - Avg. Daily Miles Driven Per Hour'], bins = 8)"
      ],
      "execution_count": 0,
      "outputs": []
    },
    {
      "cell_type": "code",
      "metadata": {
        "id": "M6POKLYcbtwt",
        "colab_type": "code",
        "colab": {}
      },
      "source": [
        "data0 = LAX_df_clean['LAX - Avg. Daily Miles Driven Per Hour'].loc[LAX_df['Marketing_Campaign']==0]\n",
        "data1 = LAX_df_clean['LAX - Avg. Daily Miles Driven Per Hour'].loc[LAX_df['Marketing_Campaign']==1]\n",
        "\n",
        "sns.set_style('whitegrid')\n",
        "plt.figure(figsize=(23,8))\n",
        "sns.set(style='whitegrid')\n",
        "ax = sns.distplot(data0, hist=True)\n",
        "ax = sns.distplot(data1, hist=True)\n",
        "plt.legend(['Unsuccessful Marketing Campaign','Successful Marketing Campaign'])"
      ],
      "execution_count": 0,
      "outputs": []
    },
    {
      "cell_type": "code",
      "metadata": {
        "id": "AuWi706LcZzf",
        "colab_type": "code",
        "colab": {}
      },
      "source": [
        "data0"
      ],
      "execution_count": 0,
      "outputs": []
    },
    {
      "cell_type": "code",
      "metadata": {
        "id": "fx7yneIPcgdB",
        "colab_type": "code",
        "colab": {}
      },
      "source": [
        "# Analysis of Variance test\n",
        "from numpy.random import seed\n",
        "from numpy.random import randn\n",
        "from scipy.stats import f_oneway\n",
        "\n",
        "#generate three independent samples\n",
        "data0 = LAX_df_clean['LAX - Avg. Daily Miles Driven Per Hour'].loc[LAX_df['Marketing_Campaign']==0]\n",
        "data1 = LAX_df_clean['LAX - Avg. Daily Miles Driven Per Hour'].loc[LAX_df['Marketing_Campaign']==1]\n",
        "\n",
        "#compare samples\n",
        "stat, p = f_oneway(data0, data1)\n",
        "print('Statistics=%.3f, p=%.3f' % (stat, p))\n",
        "\n",
        "#interpret\n",
        "alpha = 0.05\n",
        "if p > alpha:\n",
        "\tprint('Same distributions (fail to reject H0)')\n",
        "else:\n",
        "\tprint('Different distributions (reject H0)')"
      ],
      "execution_count": 0,
      "outputs": []
    },
    {
      "cell_type": "markdown",
      "metadata": {
        "id": "HWuy45AfdhRI",
        "colab_type": "text"
      },
      "source": [
        "# SFO Quantitative variable overiew"
      ]
    },
    {
      "cell_type": "code",
      "metadata": {
        "id": "LIED08OTdyKt",
        "colab_type": "code",
        "colab": {}
      },
      "source": [
        "SFO_df.tail()"
      ],
      "execution_count": 0,
      "outputs": []
    },
    {
      "cell_type": "code",
      "metadata": {
        "id": "bfvD9fXwdmbH",
        "colab_type": "code",
        "colab": {}
      },
      "source": [
        "SFO_df.describe()"
      ],
      "execution_count": 0,
      "outputs": []
    },
    {
      "cell_type": "code",
      "metadata": {
        "id": "bOjkWT7QeDF6",
        "colab_type": "code",
        "colab": {}
      },
      "source": [
        "list(SFO_df)"
      ],
      "execution_count": 0,
      "outputs": []
    },
    {
      "cell_type": "code",
      "metadata": {
        "id": "9W_MxJY4eOKG",
        "colab_type": "code",
        "colab": {}
      },
      "source": [
        "sns.set_style('whitegrid')\n",
        "plt.figure(figsize=(23,8))\n",
        "sns.set(style='whitegrid')\n",
        "ax = sns.distplot(SFO_df['SFO - Avg. Daily Miles Driven Per Hour'], bins = 8)"
      ],
      "execution_count": 0,
      "outputs": []
    },
    {
      "cell_type": "code",
      "metadata": {
        "id": "_ln3a-szedae",
        "colab_type": "code",
        "colab": {}
      },
      "source": [
        "data0 = SFO_df['SFO - Avg. Daily Miles Driven Per Hour'].loc[SFO_df['Marketing_Campaign']==0]\n",
        "data1 = SFO_df['SFO - Avg. Daily Miles Driven Per Hour'].loc[SFO_df['Marketing_Campaign']==1]\n",
        "\n",
        "sns.set_style('whitegrid')\n",
        "plt.figure(figsize=(23,8))\n",
        "sns.set(style='whitegrid')\n",
        "ax = sns.distplot(data0, hist=True)\n",
        "ax = sns.distplot(data1, hist=True)\n",
        "plt.legend(['Unsuccessful Marketing Campaign','Successful Marketing Campaign'])"
      ],
      "execution_count": 0,
      "outputs": []
    },
    {
      "cell_type": "code",
      "metadata": {
        "id": "6DEccZG-e5bX",
        "colab_type": "code",
        "colab": {}
      },
      "source": [
        "data0"
      ],
      "execution_count": 0,
      "outputs": []
    },
    {
      "cell_type": "code",
      "metadata": {
        "id": "HRUICcZge7Mf",
        "colab_type": "code",
        "colab": {}
      },
      "source": [
        "# Analysis of Variance test\n",
        "from numpy.random import seed\n",
        "from numpy.random import randn\n",
        "from scipy.stats import f_oneway\n",
        "\n",
        "#generate three independent samples\n",
        "data0 = SFO_df['SFO - Avg. Daily Miles Driven Per Hour'].loc[SFO_df['Marketing_Campaign']==0]\n",
        "data1 = SFO_df['SFO - Avg. Daily Miles Driven Per Hour'].loc[SFO_df['Marketing_Campaign']==1]\n",
        "\n",
        "#compare samples\n",
        "stat, p = f_oneway(data0, data1)\n",
        "print('Statistics=%.3f, p=%.3f' % (stat, p))\n",
        "\n",
        "#interpret\n",
        "alpha = 0.05\n",
        "if p > alpha:\n",
        "\tprint('Same distributions (fail to reject H0)')\n",
        "else:\n",
        "\tprint('Different distributions (reject H0)')"
      ],
      "execution_count": 0,
      "outputs": []
    },
    {
      "cell_type": "code",
      "metadata": {
        "id": "7bSImSs8Sj-0",
        "colab_type": "code",
        "colab": {}
      },
      "source": [
        "#another approach LAX\n",
        "\n",
        "from scipy.stats import ttest_ind\n",
        "\t\n",
        "data0 = LAX_df_clean['LAX - Avg. Daily Miles Driven Per Hour'].loc[LAX_df['Marketing_Campaign']==0]\n",
        "data1 = LAX_df_clean['LAX - Avg. Daily Miles Driven Per Hour'].loc[LAX_df['Marketing_Campaign']==1]\n",
        "LAX_data0=int(np.mean(data0))\n",
        "LAX_data1=int(np.mean(data1))\n",
        "print('LAX - Avg. Daily Miles Driven Per Hour',LAX_data0 )\n",
        "print('LAX - Avg. Daily Miles Driven Per Hour',LAX_data1 )\n",
        "tscore, pval=ttest_ind(data0, data1)\n",
        "print('t-score:', round(tscore,3))\n",
        "print('p value:', round(pval,3))\n",
        "\t#[Output]:\n",
        "\t# Average miles driven by uber drives when the marketing campaign was not successful: 108 hours\n",
        "\t# Average miles driven by uber drives when the marketing campaign was successful: 183 hours\n",
        "\t# t-score: -6.056\n",
        "\t# p value: 0.0"
      ],
      "execution_count": 0,
      "outputs": []
    },
    {
      "cell_type": "code",
      "metadata": {
        "id": "qLuNUJuoueQX",
        "colab_type": "code",
        "colab": {}
      },
      "source": [
        "#another approach SFO\n",
        "\n",
        "data0 = SFO_df['SFO - Avg. Daily Miles Driven Per Hour'].loc[SFO_df['Marketing_Campaign']==0]\n",
        "data1 = SFO_df['SFO - Avg. Daily Miles Driven Per Hour'].loc[SFO_df['Marketing_Campaign']==1]\n",
        "SFO_data0=int(np.mean(data0))\n",
        "SFO_data1=int(np.mean(data1))\n",
        "print('SFO - Avg. Daily Miles Driven Per Hour',SFO_data0 )\n",
        "print('SFO - Avg. Daily Miles Driven Per Hour',SFO_data1 )\n",
        "tscore, pval=ttest_ind(data0, data1)\n",
        "print('t-score:', round(tscore,3))\n",
        "print('p value:', round(pval,3))\n",
        "\t#[Output]:\n",
        "\t# Average miles driven by uber drives when the marketing campaign was not successful: 71 hours\n",
        "\t# Average miles driven by uber drives when the marketing campaign was successful: 30 hours\n",
        "\t# t-score: 7.037\n",
        "\t# p value: 0.0\n"
      ],
      "execution_count": 0,
      "outputs": []
    },
    {
      "cell_type": "markdown",
      "metadata": {
        "id": "hBFhxDN5uCdH",
        "colab_type": "text"
      },
      "source": [
        "#CONCLUSION\n",
        "\n",
        "1. We can reject the null hypothesis and accept the claim that the marketing campaign was successful in raising the average miles driven per Uber driver in Los Angeles from 108 to 183 hours\n",
        "\n",
        "2. We can reject the null hypothesis and accept the claim that the marketing campaign was successful in raising the average miles driven per Uber driver in Los Angeles from 108 to 183 hours\n",
        "\n",
        "#FACTORS THAT MIGHT AFFECT THE VALIDITY OF THIS STUDY ARE:\n",
        "\n",
        "- Sample size (n). Other things being equal, the greater the sample size, the greater the power of the test\n",
        "- Significance level (α). The lower the significance level, the lower the power of the test. If you reduce the significance level (e.g., from 0.05 to 0.01), the region of acceptance gets bigger. As a result, you are less likely to reject the null hypothesis. This means you are less likely to reject the null hypothesis when it is false, so you are more likely to make a Type II error. In short, the power of the test is reduced when you reduce the significance level; and vice versa.\n",
        "- The \"true\" value of the parameter being tested. In our case number of miles driven per hour by an uber driver before and after marketing campaign. The greater the difference between the \"true\" value of a parameter and the value specified in the null hypothesis, the greater the power of the test. That is, the greater the effect size, the greater the power of the test.\n"
      ]
    }
  ]
}