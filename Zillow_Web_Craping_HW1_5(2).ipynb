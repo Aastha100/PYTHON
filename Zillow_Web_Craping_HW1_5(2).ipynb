{
  "nbformat": 4,
  "nbformat_minor": 0,
  "metadata": {
    "colab": {
      "name": "Zillow Web Craping HW1.5(2).ipynb",
      "provenance": [],
      "collapsed_sections": []
    },
    "kernelspec": {
      "display_name": "Python 3",
      "language": "python",
      "name": "python3"
    },
    "language_info": {
      "codemirror_mode": {
        "name": "ipython",
        "version": 3
      },
      "file_extension": ".py",
      "mimetype": "text/x-python",
      "name": "python",
      "nbconvert_exporter": "python",
      "pygments_lexer": "ipython3",
      "version": "3.7.4"
    }
  },
  "cells": [
    {
      "cell_type": "code",
      "metadata": {
        "id": "qhyq7Nq9Ggng"
      },
      "source": [
        "import requests\n",
        "from bs4 import BeautifulSoup\n",
        "import pandas as pd"
      ],
      "execution_count": 1,
      "outputs": []
    },
    {
      "cell_type": "code",
      "metadata": {
        "id": "jQQUbOiYgft7"
      },
      "source": [
        "header = {\n",
        "    \"User-Agent\": \"Mozilla/5.0 (Macintosh; Intel Mac OS X 10_15_7) AppleWebKit/537.36 (KHTML, like Gecko) Chrome/87.0.4280.88 Safari/537.36\",\n",
        "    \"Accept-Language\": \"en-US,en;q=0.9\"\n",
        "}"
      ],
      "execution_count": 2,
      "outputs": []
    },
    {
      "cell_type": "code",
      "metadata": {
        "id": "G8JLpF4BGlix",
        "colab": {
          "base_uri": "https://localhost:8080/"
        },
        "outputId": "83662968-81f2-42b5-f1cf-ddcb9cbae457"
      },
      "source": [
        "links=[]\n",
        "para=['1_p','2_p', '3_p', '4_p', '5_p', '6_p','7_p']\n",
        "url='https://www.zillow.com/beverly-hills-ca-90210/{}/'\n",
        "for p in para:\n",
        "  new_link=url.format(p)\n",
        "  links.append(new_link)\n",
        "print(links[3])"
      ],
      "execution_count": 3,
      "outputs": [
        {
          "output_type": "stream",
          "text": [
            "https://www.zillow.com/beverly-hills-ca-90210/4_p/\n"
          ],
          "name": "stdout"
        }
      ]
    },
    {
      "cell_type": "code",
      "metadata": {
        "id": "WyQPRNS7RipN",
        "colab": {
          "base_uri": "https://localhost:8080/"
        },
        "outputId": "ed98d1cf-dc09-4188-8321-000cfadf05ef"
      },
      "source": [
        "price = []\n",
        "house_info = []\n",
        "address = []\n",
        "for url in links:\n",
        "  response = requests.get(url, headers=header)\n",
        "  data = response.text\n",
        "  \n",
        "\n",
        "  soup = BeautifulSoup(data, 'html.parser')\n",
        "  amount = soup.find_all('div', class_='list-card-price')\n",
        "  for i in amount:\n",
        "      price.append(i.text)\n",
        "\n",
        "  #response = requests.get(i, headers=header)\n",
        "  #data = response.text\n",
        "  #soup = BeautifulSoup(data, 'html.parser')\n",
        "  beds = soup.find_all('ul',class_='list-card-details')\n",
        "  for i in beds:\n",
        "      house_info.append(i.text)\n",
        "\n",
        "  #response = requests.get(i, headers=header)\n",
        "  #data = response.text\n",
        "  #soup = BeautifulSoup(data, 'html.parser')\n",
        "  x = soup.find_all('address',class_='list-card-addr')\n",
        "  for i in x:\n",
        "      address.append(i.text)\n",
        "house_data = []\n",
        "house_data.append(price)\n",
        "house_data.append(house_info)\n",
        "house_data.append(address)\n",
        "dict = {'price':house_data[0], 'house_info':house_data[1], 'address':house_data[2]}\n",
        "data = pd.DataFrame(dict)\n",
        "print(data.shape)"
      ],
      "execution_count": 12,
      "outputs": [
        {
          "output_type": "stream",
          "text": [
            "(160, 3)\n"
          ],
          "name": "stdout"
        }
      ]
    },
    {
      "cell_type": "code",
      "metadata": {
        "id": "7ytPllD-tZbH"
      },
      "source": [
        "df = data.copy()"
      ],
      "execution_count": 13,
      "outputs": []
    },
    {
      "cell_type": "code",
      "metadata": {
        "colab": {
          "base_uri": "https://localhost:8080/"
        },
        "id": "HENERq9TkNr7",
        "outputId": "0f8af753-17c8-479a-8bc4-9336431186fa"
      },
      "source": [
        "df.info()"
      ],
      "execution_count": 14,
      "outputs": [
        {
          "output_type": "stream",
          "text": [
            "<class 'pandas.core.frame.DataFrame'>\n",
            "RangeIndex: 160 entries, 0 to 159\n",
            "Data columns (total 3 columns):\n",
            " #   Column      Non-Null Count  Dtype \n",
            "---  ------      --------------  ----- \n",
            " 0   price       160 non-null    object\n",
            " 1   house_info  160 non-null    object\n",
            " 2   address     160 non-null    object\n",
            "dtypes: object(3)\n",
            "memory usage: 3.9+ KB\n"
          ],
          "name": "stdout"
        }
      ]
    },
    {
      "cell_type": "code",
      "metadata": {
        "id": "6vV2px0WsO2O"
      },
      "source": [
        "df['prices'] = df['price'].apply(lambda x: x[1:])"
      ],
      "execution_count": 15,
      "outputs": []
    },
    {
      "cell_type": "code",
      "metadata": {
        "id": "4xI2Jy4hJgxk"
      },
      "source": [
        "df[['beds','baths','sq_feet','sqft_unit','type','for','sale','None']] = df['house_info'].str.split(expand=True)"
      ],
      "execution_count": 16,
      "outputs": []
    },
    {
      "cell_type": "code",
      "metadata": {
        "colab": {
          "base_uri": "https://localhost:8080/",
          "height": 114
        },
        "id": "rzyKK8fQJihs",
        "outputId": "153790d5-30ba-41f3-dd0f-4d1992819555"
      },
      "source": [
        "df.head(1)"
      ],
      "execution_count": 17,
      "outputs": [
        {
          "output_type": "execute_result",
          "data": {
            "text/html": [
              "<div>\n",
              "<style scoped>\n",
              "    .dataframe tbody tr th:only-of-type {\n",
              "        vertical-align: middle;\n",
              "    }\n",
              "\n",
              "    .dataframe tbody tr th {\n",
              "        vertical-align: top;\n",
              "    }\n",
              "\n",
              "    .dataframe thead th {\n",
              "        text-align: right;\n",
              "    }\n",
              "</style>\n",
              "<table border=\"1\" class=\"dataframe\">\n",
              "  <thead>\n",
              "    <tr style=\"text-align: right;\">\n",
              "      <th></th>\n",
              "      <th>price</th>\n",
              "      <th>house_info</th>\n",
              "      <th>address</th>\n",
              "      <th>prices</th>\n",
              "      <th>beds</th>\n",
              "      <th>baths</th>\n",
              "      <th>sq_feet</th>\n",
              "      <th>sqft_unit</th>\n",
              "      <th>type</th>\n",
              "      <th>for</th>\n",
              "      <th>sale</th>\n",
              "      <th>None</th>\n",
              "    </tr>\n",
              "  </thead>\n",
              "  <tbody>\n",
              "    <tr>\n",
              "      <th>0</th>\n",
              "      <td>$3,189,000</td>\n",
              "      <td>4 bds,5 ba,4,283 sqft- House for sale</td>\n",
              "      <td>3088 Deep Canyon Dr, Beverly Hills, CA 90210</td>\n",
              "      <td>3,189,000</td>\n",
              "      <td>4</td>\n",
              "      <td>bds,5</td>\n",
              "      <td>ba,4,283</td>\n",
              "      <td>sqft-</td>\n",
              "      <td>House</td>\n",
              "      <td>for</td>\n",
              "      <td>sale</td>\n",
              "      <td>None</td>\n",
              "    </tr>\n",
              "  </tbody>\n",
              "</table>\n",
              "</div>"
            ],
            "text/plain": [
              "        price                             house_info  ...  sale  None\n",
              "0  $3,189,000  4 bds,5 ba,4,283 sqft- House for sale  ...  sale  None\n",
              "\n",
              "[1 rows x 12 columns]"
            ]
          },
          "metadata": {
            "tags": []
          },
          "execution_count": 17
        }
      ]
    },
    {
      "cell_type": "code",
      "metadata": {
        "id": "UqqKgn7G6ToS"
      },
      "source": [
        "df[['redundant','baths']] = df['baths'].str.split(',',n=1,expand=True)"
      ],
      "execution_count": 18,
      "outputs": []
    },
    {
      "cell_type": "code",
      "metadata": {
        "id": "YCJGiejk7tq3"
      },
      "source": [
        "df['sq_feet']=df['sq_feet'].replace('ba,','',regex=True)"
      ],
      "execution_count": 19,
      "outputs": []
    },
    {
      "cell_type": "code",
      "metadata": {
        "id": "YyHzS3NXZTPm"
      },
      "source": [
        "df[['street_name','city','state_zip_code']]=df['address'].str.split(',',n=2, expand=True)"
      ],
      "execution_count": 20,
      "outputs": []
    },
    {
      "cell_type": "code",
      "metadata": {
        "colab": {
          "base_uri": "https://localhost:8080/",
          "height": 202
        },
        "id": "kR2nEsqx84uC",
        "outputId": "30a7a0d3-f33b-455e-e9bc-de19695ad78b"
      },
      "source": [
        "df.head(1)"
      ],
      "execution_count": 21,
      "outputs": [
        {
          "output_type": "execute_result",
          "data": {
            "text/html": [
              "<div>\n",
              "<style scoped>\n",
              "    .dataframe tbody tr th:only-of-type {\n",
              "        vertical-align: middle;\n",
              "    }\n",
              "\n",
              "    .dataframe tbody tr th {\n",
              "        vertical-align: top;\n",
              "    }\n",
              "\n",
              "    .dataframe thead th {\n",
              "        text-align: right;\n",
              "    }\n",
              "</style>\n",
              "<table border=\"1\" class=\"dataframe\">\n",
              "  <thead>\n",
              "    <tr style=\"text-align: right;\">\n",
              "      <th></th>\n",
              "      <th>price</th>\n",
              "      <th>house_info</th>\n",
              "      <th>address</th>\n",
              "      <th>prices</th>\n",
              "      <th>beds</th>\n",
              "      <th>baths</th>\n",
              "      <th>sq_feet</th>\n",
              "      <th>sqft_unit</th>\n",
              "      <th>type</th>\n",
              "      <th>for</th>\n",
              "      <th>sale</th>\n",
              "      <th>None</th>\n",
              "      <th>redundant</th>\n",
              "      <th>street_name</th>\n",
              "      <th>city</th>\n",
              "      <th>state_zip_code</th>\n",
              "    </tr>\n",
              "  </thead>\n",
              "  <tbody>\n",
              "    <tr>\n",
              "      <th>0</th>\n",
              "      <td>$3,189,000</td>\n",
              "      <td>4 bds,5 ba,4,283 sqft- House for sale</td>\n",
              "      <td>3088 Deep Canyon Dr, Beverly Hills, CA 90210</td>\n",
              "      <td>3,189,000</td>\n",
              "      <td>4</td>\n",
              "      <td>5</td>\n",
              "      <td>4,283</td>\n",
              "      <td>sqft-</td>\n",
              "      <td>House</td>\n",
              "      <td>for</td>\n",
              "      <td>sale</td>\n",
              "      <td>None</td>\n",
              "      <td>bds</td>\n",
              "      <td>3088 Deep Canyon Dr</td>\n",
              "      <td>Beverly Hills</td>\n",
              "      <td>CA 90210</td>\n",
              "    </tr>\n",
              "  </tbody>\n",
              "</table>\n",
              "</div>"
            ],
            "text/plain": [
              "        price  ... state_zip_code\n",
              "0  $3,189,000  ...       CA 90210\n",
              "\n",
              "[1 rows x 16 columns]"
            ]
          },
          "metadata": {
            "tags": []
          },
          "execution_count": 21
        }
      ]
    },
    {
      "cell_type": "code",
      "metadata": {
        "id": "zaXLhCHy362u"
      },
      "source": [
        "#drop unnecessary columns\n",
        "feature_drop = ['price','house_info','for', 'sale','redundant','sqft_unit','None']\n",
        "df1 = df.drop(feature_drop, axis=1)"
      ],
      "execution_count": 22,
      "outputs": []
    },
    {
      "cell_type": "code",
      "metadata": {
        "id": "Dr5t5NEcRipT",
        "colab": {
          "base_uri": "https://localhost:8080/",
          "height": 289
        },
        "outputId": "6cb387c9-348b-4615-b36a-20679821731d"
      },
      "source": [
        "df1.head()"
      ],
      "execution_count": 23,
      "outputs": [
        {
          "output_type": "execute_result",
          "data": {
            "text/html": [
              "<div>\n",
              "<style scoped>\n",
              "    .dataframe tbody tr th:only-of-type {\n",
              "        vertical-align: middle;\n",
              "    }\n",
              "\n",
              "    .dataframe tbody tr th {\n",
              "        vertical-align: top;\n",
              "    }\n",
              "\n",
              "    .dataframe thead th {\n",
              "        text-align: right;\n",
              "    }\n",
              "</style>\n",
              "<table border=\"1\" class=\"dataframe\">\n",
              "  <thead>\n",
              "    <tr style=\"text-align: right;\">\n",
              "      <th></th>\n",
              "      <th>address</th>\n",
              "      <th>prices</th>\n",
              "      <th>beds</th>\n",
              "      <th>baths</th>\n",
              "      <th>sq_feet</th>\n",
              "      <th>type</th>\n",
              "      <th>street_name</th>\n",
              "      <th>city</th>\n",
              "      <th>state_zip_code</th>\n",
              "    </tr>\n",
              "  </thead>\n",
              "  <tbody>\n",
              "    <tr>\n",
              "      <th>0</th>\n",
              "      <td>3088 Deep Canyon Dr, Beverly Hills, CA 90210</td>\n",
              "      <td>3,189,000</td>\n",
              "      <td>4</td>\n",
              "      <td>5</td>\n",
              "      <td>4,283</td>\n",
              "      <td>House</td>\n",
              "      <td>3088 Deep Canyon Dr</td>\n",
              "      <td>Beverly Hills</td>\n",
              "      <td>CA 90210</td>\n",
              "    </tr>\n",
              "    <tr>\n",
              "      <th>1</th>\n",
              "      <td>30 Beverly Park Ter, Beverly Hills, CA 90210</td>\n",
              "      <td>110,000,000</td>\n",
              "      <td>8</td>\n",
              "      <td>12</td>\n",
              "      <td>--</td>\n",
              "      <td>House</td>\n",
              "      <td>30 Beverly Park Ter</td>\n",
              "      <td>Beverly Hills</td>\n",
              "      <td>CA 90210</td>\n",
              "    </tr>\n",
              "    <tr>\n",
              "      <th>2</th>\n",
              "      <td>524 N Beverly Dr, Beverly Hills, CA 90210</td>\n",
              "      <td>21,495,000</td>\n",
              "      <td>8</td>\n",
              "      <td>12</td>\n",
              "      <td>10,750</td>\n",
              "      <td>House</td>\n",
              "      <td>524 N Beverly Dr</td>\n",
              "      <td>Beverly Hills</td>\n",
              "      <td>CA 90210</td>\n",
              "    </tr>\n",
              "    <tr>\n",
              "      <th>3</th>\n",
              "      <td>601 Mountain Dr, Beverly Hills, CA 90210</td>\n",
              "      <td>59,000,000</td>\n",
              "      <td>6</td>\n",
              "      <td>15</td>\n",
              "      <td>27,470</td>\n",
              "      <td>House</td>\n",
              "      <td>601 Mountain Dr</td>\n",
              "      <td>Beverly Hills</td>\n",
              "      <td>CA 90210</td>\n",
              "    </tr>\n",
              "    <tr>\n",
              "      <th>4</th>\n",
              "      <td>2571 Wallingford Dr, Beverly Hills, CA 90210</td>\n",
              "      <td>85,000,000</td>\n",
              "      <td>12</td>\n",
              "      <td>24</td>\n",
              "      <td>38,000</td>\n",
              "      <td>House</td>\n",
              "      <td>2571 Wallingford Dr</td>\n",
              "      <td>Beverly Hills</td>\n",
              "      <td>CA 90210</td>\n",
              "    </tr>\n",
              "  </tbody>\n",
              "</table>\n",
              "</div>"
            ],
            "text/plain": [
              "                                        address  ... state_zip_code\n",
              "0  3088 Deep Canyon Dr, Beverly Hills, CA 90210  ...       CA 90210\n",
              "1  30 Beverly Park Ter, Beverly Hills, CA 90210  ...       CA 90210\n",
              "2     524 N Beverly Dr, Beverly Hills, CA 90210  ...       CA 90210\n",
              "3      601 Mountain Dr, Beverly Hills, CA 90210  ...       CA 90210\n",
              "4  2571 Wallingford Dr, Beverly Hills, CA 90210  ...       CA 90210\n",
              "\n",
              "[5 rows x 9 columns]"
            ]
          },
          "metadata": {
            "tags": []
          },
          "execution_count": 23
        }
      ]
    },
    {
      "cell_type": "code",
      "metadata": {
        "id": "x4tqN_w2Z9pg"
      },
      "source": [
        "#beakup state_zip_code into state and zip code\n",
        "#df1['zip_code']=df1['state_zip_code'].apply(lambda x: x[3:])\n",
        "df1['zip_code'] = df1['state_zip_code'].replace('CA ','', regex=True)"
      ],
      "execution_count": 24,
      "outputs": []
    },
    {
      "cell_type": "code",
      "metadata": {
        "id": "OvXqcSolRipT"
      },
      "source": [
        "#df1['state']=df1['state_zip_code'].apply(lambda x:x[0:3])"
      ],
      "execution_count": 25,
      "outputs": []
    },
    {
      "cell_type": "code",
      "metadata": {
        "colab": {
          "base_uri": "https://localhost:8080/",
          "height": 97
        },
        "id": "QaCld9Mp8N3Q",
        "outputId": "6fee1143-2256-497f-e25d-f5bd4f2bc43f"
      },
      "source": [
        "df1.head(1)"
      ],
      "execution_count": 26,
      "outputs": [
        {
          "output_type": "execute_result",
          "data": {
            "text/html": [
              "<div>\n",
              "<style scoped>\n",
              "    .dataframe tbody tr th:only-of-type {\n",
              "        vertical-align: middle;\n",
              "    }\n",
              "\n",
              "    .dataframe tbody tr th {\n",
              "        vertical-align: top;\n",
              "    }\n",
              "\n",
              "    .dataframe thead th {\n",
              "        text-align: right;\n",
              "    }\n",
              "</style>\n",
              "<table border=\"1\" class=\"dataframe\">\n",
              "  <thead>\n",
              "    <tr style=\"text-align: right;\">\n",
              "      <th></th>\n",
              "      <th>address</th>\n",
              "      <th>prices</th>\n",
              "      <th>beds</th>\n",
              "      <th>baths</th>\n",
              "      <th>sq_feet</th>\n",
              "      <th>type</th>\n",
              "      <th>street_name</th>\n",
              "      <th>city</th>\n",
              "      <th>state_zip_code</th>\n",
              "      <th>zip_code</th>\n",
              "    </tr>\n",
              "  </thead>\n",
              "  <tbody>\n",
              "    <tr>\n",
              "      <th>0</th>\n",
              "      <td>3088 Deep Canyon Dr, Beverly Hills, CA 90210</td>\n",
              "      <td>3,189,000</td>\n",
              "      <td>4</td>\n",
              "      <td>5</td>\n",
              "      <td>4,283</td>\n",
              "      <td>House</td>\n",
              "      <td>3088 Deep Canyon Dr</td>\n",
              "      <td>Beverly Hills</td>\n",
              "      <td>CA 90210</td>\n",
              "      <td>90210</td>\n",
              "    </tr>\n",
              "  </tbody>\n",
              "</table>\n",
              "</div>"
            ],
            "text/plain": [
              "                                        address  ... zip_code\n",
              "0  3088 Deep Canyon Dr, Beverly Hills, CA 90210  ...    90210\n",
              "\n",
              "[1 rows x 10 columns]"
            ]
          },
          "metadata": {
            "tags": []
          },
          "execution_count": 26
        }
      ]
    },
    {
      "cell_type": "code",
      "metadata": {
        "id": "LA8HGcpvsazl"
      },
      "source": [
        "#reorder columns\n",
        "zillow_df = df1[['prices','beds','baths','sq_feet','type','address','street_name',\n",
        "       'city', 'zip_code']]"
      ],
      "execution_count": 27,
      "outputs": []
    },
    {
      "cell_type": "markdown",
      "metadata": {
        "id": "uNe06qT-qt1Y"
      },
      "source": [
        "# Final Dataset - zillow_df"
      ]
    },
    {
      "cell_type": "code",
      "metadata": {
        "colab": {
          "base_uri": "https://localhost:8080/",
          "height": 289
        },
        "id": "2lLjGR6U8pL5",
        "outputId": "d41c8bfc-d798-4292-d7ec-062f366fdb00"
      },
      "source": [
        "zillow_df.head()"
      ],
      "execution_count": 28,
      "outputs": [
        {
          "output_type": "execute_result",
          "data": {
            "text/html": [
              "<div>\n",
              "<style scoped>\n",
              "    .dataframe tbody tr th:only-of-type {\n",
              "        vertical-align: middle;\n",
              "    }\n",
              "\n",
              "    .dataframe tbody tr th {\n",
              "        vertical-align: top;\n",
              "    }\n",
              "\n",
              "    .dataframe thead th {\n",
              "        text-align: right;\n",
              "    }\n",
              "</style>\n",
              "<table border=\"1\" class=\"dataframe\">\n",
              "  <thead>\n",
              "    <tr style=\"text-align: right;\">\n",
              "      <th></th>\n",
              "      <th>prices</th>\n",
              "      <th>beds</th>\n",
              "      <th>baths</th>\n",
              "      <th>sq_feet</th>\n",
              "      <th>type</th>\n",
              "      <th>address</th>\n",
              "      <th>street_name</th>\n",
              "      <th>city</th>\n",
              "      <th>zip_code</th>\n",
              "    </tr>\n",
              "  </thead>\n",
              "  <tbody>\n",
              "    <tr>\n",
              "      <th>0</th>\n",
              "      <td>3,189,000</td>\n",
              "      <td>4</td>\n",
              "      <td>5</td>\n",
              "      <td>4,283</td>\n",
              "      <td>House</td>\n",
              "      <td>3088 Deep Canyon Dr, Beverly Hills, CA 90210</td>\n",
              "      <td>3088 Deep Canyon Dr</td>\n",
              "      <td>Beverly Hills</td>\n",
              "      <td>90210</td>\n",
              "    </tr>\n",
              "    <tr>\n",
              "      <th>1</th>\n",
              "      <td>110,000,000</td>\n",
              "      <td>8</td>\n",
              "      <td>12</td>\n",
              "      <td>--</td>\n",
              "      <td>House</td>\n",
              "      <td>30 Beverly Park Ter, Beverly Hills, CA 90210</td>\n",
              "      <td>30 Beverly Park Ter</td>\n",
              "      <td>Beverly Hills</td>\n",
              "      <td>90210</td>\n",
              "    </tr>\n",
              "    <tr>\n",
              "      <th>2</th>\n",
              "      <td>21,495,000</td>\n",
              "      <td>8</td>\n",
              "      <td>12</td>\n",
              "      <td>10,750</td>\n",
              "      <td>House</td>\n",
              "      <td>524 N Beverly Dr, Beverly Hills, CA 90210</td>\n",
              "      <td>524 N Beverly Dr</td>\n",
              "      <td>Beverly Hills</td>\n",
              "      <td>90210</td>\n",
              "    </tr>\n",
              "    <tr>\n",
              "      <th>3</th>\n",
              "      <td>59,000,000</td>\n",
              "      <td>6</td>\n",
              "      <td>15</td>\n",
              "      <td>27,470</td>\n",
              "      <td>House</td>\n",
              "      <td>601 Mountain Dr, Beverly Hills, CA 90210</td>\n",
              "      <td>601 Mountain Dr</td>\n",
              "      <td>Beverly Hills</td>\n",
              "      <td>90210</td>\n",
              "    </tr>\n",
              "    <tr>\n",
              "      <th>4</th>\n",
              "      <td>85,000,000</td>\n",
              "      <td>12</td>\n",
              "      <td>24</td>\n",
              "      <td>38,000</td>\n",
              "      <td>House</td>\n",
              "      <td>2571 Wallingford Dr, Beverly Hills, CA 90210</td>\n",
              "      <td>2571 Wallingford Dr</td>\n",
              "      <td>Beverly Hills</td>\n",
              "      <td>90210</td>\n",
              "    </tr>\n",
              "  </tbody>\n",
              "</table>\n",
              "</div>"
            ],
            "text/plain": [
              "        prices beds baths  ...          street_name            city zip_code\n",
              "0    3,189,000    4     5  ...  3088 Deep Canyon Dr   Beverly Hills    90210\n",
              "1  110,000,000    8    12  ...  30 Beverly Park Ter   Beverly Hills    90210\n",
              "2   21,495,000    8    12  ...     524 N Beverly Dr   Beverly Hills    90210\n",
              "3   59,000,000    6    15  ...      601 Mountain Dr   Beverly Hills    90210\n",
              "4   85,000,000   12    24  ...  2571 Wallingford Dr   Beverly Hills    90210\n",
              "\n",
              "[5 rows x 9 columns]"
            ]
          },
          "metadata": {
            "tags": []
          },
          "execution_count": 28
        }
      ]
    },
    {
      "cell_type": "code",
      "metadata": {
        "colab": {
          "base_uri": "https://localhost:8080/"
        },
        "id": "YPfuwl_-dmD3",
        "outputId": "454d3fca-f13e-48ee-a483-3d9972772e6a"
      },
      "source": [
        "zillow_df.shape"
      ],
      "execution_count": 29,
      "outputs": [
        {
          "output_type": "execute_result",
          "data": {
            "text/plain": [
              "(160, 9)"
            ]
          },
          "metadata": {
            "tags": []
          },
          "execution_count": 29
        }
      ]
    },
    {
      "cell_type": "code",
      "metadata": {
        "id": "i-TFJgxYqx8Y"
      },
      "source": [
        ""
      ],
      "execution_count": null,
      "outputs": []
    }
  ]
}